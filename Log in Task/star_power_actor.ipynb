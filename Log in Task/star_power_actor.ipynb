{
  "nbformat": 4,
  "nbformat_minor": 0,
  "metadata": {
    "kernelspec": {
      "display_name": "Python 3",
      "language": "python",
      "name": "python3"
    },
    "language_info": {
      "codemirror_mode": {
        "name": "ipython",
        "version": 3
      },
      "file_extension": ".py",
      "mimetype": "text/x-python",
      "name": "python",
      "nbconvert_exporter": "python",
      "pygments_lexer": "ipython3",
      "version": "3.7.3"
    },
    "colab": {
      "name": "StarPower_Actor_1004.ipynb",
      "provenance": [],
      "collapsed_sections": []
    }
  },
  "cells": [
    {
      "cell_type": "code",
      "metadata": {
        "id": "-66tp_yaWhm-",
        "colab_type": "code",
        "colab": {}
      },
      "source": [
        "from selenium import webdriver\n",
        "from selenium.webdriver.common.keys import Keys\n",
        "from selenium.webdriver.support import expected_conditions as EC\n",
        "import os\n",
        "import time\n",
        "import pandas as pd\n",
        "import re\n",
        "from datetime import datetime, timedelta\n",
        "\n",
        "Payload = {\"username\": \"secret\", \"password\": \"secret\"}"
      ],
      "execution_count": 0,
      "outputs": []
    },
    {
      "cell_type": "code",
      "metadata": {
        "id": "WKj4LHk4WhnB",
        "colab_type": "code",
        "outputId": "a11c87f8-7785-449e-9982-22f4d0733a44",
        "colab": {}
      },
      "source": [
        "set_top5 = pd.read_csv(\"Film-cast-top5.csv\")\n",
        "# add name_id to table\n",
        "set_top5[\"name_id\"] = set_top5['actorimdb'].str[25:34]\n",
        "\n",
        "print(set_top5.shape)\n",
        "set_top5.head(2)"
      ],
      "execution_count": 0,
      "outputs": [
        {
          "output_type": "stream",
          "text": [
            "(11751, 15)\n"
          ],
          "name": "stdout"
        },
        {
          "output_type": "execute_result",
          "data": {
            "text/html": [
              "<div>\n",
              "<style scoped>\n",
              "    .dataframe tbody tr th:only-of-type {\n",
              "        vertical-align: middle;\n",
              "    }\n",
              "\n",
              "    .dataframe tbody tr th {\n",
              "        vertical-align: top;\n",
              "    }\n",
              "\n",
              "    .dataframe thead th {\n",
              "        text-align: right;\n",
              "    }\n",
              "</style>\n",
              "<table border=\"1\" class=\"dataframe\">\n",
              "  <thead>\n",
              "    <tr style=\"text-align: right;\">\n",
              "      <th></th>\n",
              "      <th>bomfilmtitle</th>\n",
              "      <th>filmimdb</th>\n",
              "      <th>year</th>\n",
              "      <th>notsample</th>\n",
              "      <th>filmrank</th>\n",
              "      <th>castrank</th>\n",
              "      <th>filmrole</th>\n",
              "      <th>actorname</th>\n",
              "      <th>actorimdb</th>\n",
              "      <th>birthyear</th>\n",
              "      <th>gender</th>\n",
              "      <th>race</th>\n",
              "      <th>bomlink</th>\n",
              "      <th>starpower-actor</th>\n",
              "      <th>name_id</th>\n",
              "    </tr>\n",
              "  </thead>\n",
              "  <tbody>\n",
              "    <tr>\n",
              "      <th>0</th>\n",
              "      <td>13 Going on 30</td>\n",
              "      <td>http://www.imdb.com/title/tt0337563/</td>\n",
              "      <td>2004</td>\n",
              "      <td>0</td>\n",
              "      <td>4</td>\n",
              "      <td>1</td>\n",
              "      <td>Cast</td>\n",
              "      <td>Jennifer Garner</td>\n",
              "      <td>http://www.imdb.com/name/nm0004950/</td>\n",
              "      <td>1972.0</td>\n",
              "      <td>f</td>\n",
              "      <td>white</td>\n",
              "      <td>http://www.boxofficemojo.com/movies/?id=13goin...</td>\n",
              "      <td>NaN</td>\n",
              "      <td>nm0004950</td>\n",
              "    </tr>\n",
              "    <tr>\n",
              "      <th>1</th>\n",
              "      <td>13 Going on 30</td>\n",
              "      <td>http://www.imdb.com/title/tt0337563/</td>\n",
              "      <td>2004</td>\n",
              "      <td>0</td>\n",
              "      <td>5</td>\n",
              "      <td>2</td>\n",
              "      <td>Cast</td>\n",
              "      <td>Mark Ruffalo</td>\n",
              "      <td>http://www.imdb.com/name/nm0749263/</td>\n",
              "      <td>1967.0</td>\n",
              "      <td>m</td>\n",
              "      <td>white</td>\n",
              "      <td>http://www.boxofficemojo.com/movies/?id=13goin...</td>\n",
              "      <td>NaN</td>\n",
              "      <td>nm0749263</td>\n",
              "    </tr>\n",
              "  </tbody>\n",
              "</table>\n",
              "</div>"
            ],
            "text/plain": [
              "     bomfilmtitle                              filmimdb  year  notsample  \\\n",
              "0  13 Going on 30  http://www.imdb.com/title/tt0337563/  2004          0   \n",
              "1  13 Going on 30  http://www.imdb.com/title/tt0337563/  2004          0   \n",
              "\n",
              "   filmrank  castrank filmrole        actorname  \\\n",
              "0         4         1     Cast  Jennifer Garner   \n",
              "1         5         2     Cast     Mark Ruffalo   \n",
              "\n",
              "                             actorimdb  birthyear gender   race  \\\n",
              "0  http://www.imdb.com/name/nm0004950/     1972.0      f  white   \n",
              "1  http://www.imdb.com/name/nm0749263/     1967.0      m  white   \n",
              "\n",
              "                                             bomlink  starpower-actor  \\\n",
              "0  http://www.boxofficemojo.com/movies/?id=13goin...              NaN   \n",
              "1  http://www.boxofficemojo.com/movies/?id=13goin...              NaN   \n",
              "\n",
              "     name_id  \n",
              "0  nm0004950  \n",
              "1  nm0749263  "
            ]
          },
          "metadata": {
            "tags": []
          },
          "execution_count": 4
        }
      ]
    },
    {
      "cell_type": "code",
      "metadata": {
        "id": "obIlRGNYWhnE",
        "colab_type": "code",
        "outputId": "04eac998-75ea-46a3-8ed5-4f65620d9317",
        "colab": {}
      },
      "source": [
        "filled_date = pd.read_csv(\"Film-masterfile (from 'film-merge-8th.dta')-filled.csv\")\n",
        "# update releasedate with timestamp\n",
        "filled_date['releasedate'] =  pd.to_datetime(filled_date['releasedate'])\n",
        "\n",
        "# calculate the date for 10 weeks prior - releasedate\n",
        "Weeks = 10\n",
        "filled_date['prior10weeksDate'] = filled_date[\"releasedate\"] - timedelta(days=7*Weeks)\n",
        "filled_date_sub = filled_date[[\"bomtitle\", \"releasedate\", \"prior10weeksDate\"]]\n",
        "filled_date_sub.head(5)"
      ],
      "execution_count": 0,
      "outputs": [
        {
          "output_type": "execute_result",
          "data": {
            "text/html": [
              "<div>\n",
              "<style scoped>\n",
              "    .dataframe tbody tr th:only-of-type {\n",
              "        vertical-align: middle;\n",
              "    }\n",
              "\n",
              "    .dataframe tbody tr th {\n",
              "        vertical-align: top;\n",
              "    }\n",
              "\n",
              "    .dataframe thead th {\n",
              "        text-align: right;\n",
              "    }\n",
              "</style>\n",
              "<table border=\"1\" class=\"dataframe\">\n",
              "  <thead>\n",
              "    <tr style=\"text-align: right;\">\n",
              "      <th></th>\n",
              "      <th>bomtitle</th>\n",
              "      <th>releasedate</th>\n",
              "      <th>prior10weeksDate</th>\n",
              "    </tr>\n",
              "  </thead>\n",
              "  <tbody>\n",
              "    <tr>\n",
              "      <th>0</th>\n",
              "      <td>The Wizard of Oz (3D/IMAX)</td>\n",
              "      <td>2013-09-20</td>\n",
              "      <td>2013-07-12</td>\n",
              "    </tr>\n",
              "    <tr>\n",
              "      <th>1</th>\n",
              "      <td>Singin' In the Rain (2012 re-release)</td>\n",
              "      <td>2012-07-12</td>\n",
              "      <td>2012-05-03</td>\n",
              "    </tr>\n",
              "    <tr>\n",
              "      <th>2</th>\n",
              "      <td>Raiders of the Lost Ark (IMAX)</td>\n",
              "      <td>2012-09-07</td>\n",
              "      <td>2012-06-29</td>\n",
              "    </tr>\n",
              "    <tr>\n",
              "      <th>3</th>\n",
              "      <td>Ghostbusters (30th Anniversary re-release)</td>\n",
              "      <td>2014-08-29</td>\n",
              "      <td>2014-06-20</td>\n",
              "    </tr>\n",
              "    <tr>\n",
              "      <th>4</th>\n",
              "      <td>Back to the Future Day</td>\n",
              "      <td>2015-10-21</td>\n",
              "      <td>2015-08-12</td>\n",
              "    </tr>\n",
              "  </tbody>\n",
              "</table>\n",
              "</div>"
            ],
            "text/plain": [
              "                                     bomtitle releasedate prior10weeksDate\n",
              "0                  The Wizard of Oz (3D/IMAX)  2013-09-20       2013-07-12\n",
              "1       Singin' In the Rain (2012 re-release)  2012-07-12       2012-05-03\n",
              "2              Raiders of the Lost Ark (IMAX)  2012-09-07       2012-06-29\n",
              "3  Ghostbusters (30th Anniversary re-release)  2014-08-29       2014-06-20\n",
              "4                      Back to the Future Day  2015-10-21       2015-08-12"
            ]
          },
          "metadata": {
            "tags": []
          },
          "execution_count": 14
        }
      ]
    },
    {
      "cell_type": "code",
      "metadata": {
        "id": "zD21nHAZWhnG",
        "colab_type": "code",
        "outputId": "cf6905e3-545c-440f-c4ae-540377c40b36",
        "colab": {}
      },
      "source": [
        "# Merge filled_date table with part_filled_test\n",
        "print(set_top5.shape)\n",
        "full_columnSet = pd.merge(set_top5, filled_date_sub, how='left', left_on=[\"bomfilmtitle\"], right_on = [\"bomtitle\"])\n",
        "print(full_columnSet.shape)\n",
        "# check how many np.nan values we have\n",
        "print(\"Number of missing release date after merging: \", len(full_columnSet[full_columnSet['releasedate'].isna()]))\n",
        "full_columnSet.head(5)"
      ],
      "execution_count": 0,
      "outputs": [
        {
          "output_type": "stream",
          "text": [
            "(11751, 16)\n",
            "(11751, 19)\n",
            "Number of missing release date after merging:  19\n"
          ],
          "name": "stdout"
        },
        {
          "output_type": "execute_result",
          "data": {
            "text/html": [
              "<div>\n",
              "<style scoped>\n",
              "    .dataframe tbody tr th:only-of-type {\n",
              "        vertical-align: middle;\n",
              "    }\n",
              "\n",
              "    .dataframe tbody tr th {\n",
              "        vertical-align: top;\n",
              "    }\n",
              "\n",
              "    .dataframe thead th {\n",
              "        text-align: right;\n",
              "    }\n",
              "</style>\n",
              "<table border=\"1\" class=\"dataframe\">\n",
              "  <thead>\n",
              "    <tr style=\"text-align: right;\">\n",
              "      <th></th>\n",
              "      <th>bomfilmtitle</th>\n",
              "      <th>filmimdb</th>\n",
              "      <th>year</th>\n",
              "      <th>notsample</th>\n",
              "      <th>filmrank</th>\n",
              "      <th>castrank</th>\n",
              "      <th>filmrole</th>\n",
              "      <th>actorname</th>\n",
              "      <th>actorimdb</th>\n",
              "      <th>birthyear</th>\n",
              "      <th>gender</th>\n",
              "      <th>race</th>\n",
              "      <th>bomlink</th>\n",
              "      <th>starpower-actor</th>\n",
              "      <th>name_id</th>\n",
              "      <th>pageSource</th>\n",
              "      <th>bomtitle</th>\n",
              "      <th>releasedate</th>\n",
              "      <th>prior10weeksDate</th>\n",
              "    </tr>\n",
              "  </thead>\n",
              "  <tbody>\n",
              "    <tr>\n",
              "      <th>0</th>\n",
              "      <td>13 Going on 30</td>\n",
              "      <td>http://www.imdb.com/title/tt0337563/</td>\n",
              "      <td>2004</td>\n",
              "      <td>0</td>\n",
              "      <td>4</td>\n",
              "      <td>1</td>\n",
              "      <td>Cast</td>\n",
              "      <td>Jennifer Garner</td>\n",
              "      <td>http://www.imdb.com/name/nm0004950/</td>\n",
              "      <td>1972.0</td>\n",
              "      <td>f</td>\n",
              "      <td>white</td>\n",
              "      <td>http://www.boxofficemojo.com/movies/?id=13goin...</td>\n",
              "      <td>NaN</td>\n",
              "      <td>nm0004950</td>\n",
              "      <td>NaN</td>\n",
              "      <td>13 Going on 30</td>\n",
              "      <td>2004-04-23</td>\n",
              "      <td>2004-02-13</td>\n",
              "    </tr>\n",
              "    <tr>\n",
              "      <th>1</th>\n",
              "      <td>13 Going on 30</td>\n",
              "      <td>http://www.imdb.com/title/tt0337563/</td>\n",
              "      <td>2004</td>\n",
              "      <td>0</td>\n",
              "      <td>5</td>\n",
              "      <td>2</td>\n",
              "      <td>Cast</td>\n",
              "      <td>Mark Ruffalo</td>\n",
              "      <td>http://www.imdb.com/name/nm0749263/</td>\n",
              "      <td>1967.0</td>\n",
              "      <td>m</td>\n",
              "      <td>white</td>\n",
              "      <td>http://www.boxofficemojo.com/movies/?id=13goin...</td>\n",
              "      <td>NaN</td>\n",
              "      <td>nm0749263</td>\n",
              "      <td>NaN</td>\n",
              "      <td>13 Going on 30</td>\n",
              "      <td>2004-04-23</td>\n",
              "      <td>2004-02-13</td>\n",
              "    </tr>\n",
              "    <tr>\n",
              "      <th>2</th>\n",
              "      <td>13 Going on 30</td>\n",
              "      <td>http://www.imdb.com/title/tt0337563/</td>\n",
              "      <td>2004</td>\n",
              "      <td>0</td>\n",
              "      <td>6</td>\n",
              "      <td>3</td>\n",
              "      <td>Cast</td>\n",
              "      <td>Judy Greer</td>\n",
              "      <td>http://www.imdb.com/name/nm0339460/</td>\n",
              "      <td>1975.0</td>\n",
              "      <td>f</td>\n",
              "      <td>white</td>\n",
              "      <td>http://www.boxofficemojo.com/movies/?id=13goin...</td>\n",
              "      <td>NaN</td>\n",
              "      <td>nm0339460</td>\n",
              "      <td>NaN</td>\n",
              "      <td>13 Going on 30</td>\n",
              "      <td>2004-04-23</td>\n",
              "      <td>2004-02-13</td>\n",
              "    </tr>\n",
              "    <tr>\n",
              "      <th>3</th>\n",
              "      <td>13 Going on 30</td>\n",
              "      <td>http://www.imdb.com/title/tt0337563/</td>\n",
              "      <td>2004</td>\n",
              "      <td>0</td>\n",
              "      <td>7</td>\n",
              "      <td>4</td>\n",
              "      <td>Cast</td>\n",
              "      <td>Andy Serkis</td>\n",
              "      <td>http://www.imdb.com/name/nm0785227/</td>\n",
              "      <td>1964.0</td>\n",
              "      <td>m</td>\n",
              "      <td>white</td>\n",
              "      <td>http://www.boxofficemojo.com/movies/?id=13goin...</td>\n",
              "      <td>NaN</td>\n",
              "      <td>nm0785227</td>\n",
              "      <td>NaN</td>\n",
              "      <td>13 Going on 30</td>\n",
              "      <td>2004-04-23</td>\n",
              "      <td>2004-02-13</td>\n",
              "    </tr>\n",
              "    <tr>\n",
              "      <th>4</th>\n",
              "      <td>13 Going on 30</td>\n",
              "      <td>http://www.imdb.com/title/tt0337563/</td>\n",
              "      <td>2004</td>\n",
              "      <td>0</td>\n",
              "      <td>8</td>\n",
              "      <td>5</td>\n",
              "      <td>Cast</td>\n",
              "      <td>Kathy Baker</td>\n",
              "      <td>http://www.imdb.com/name/nm0000834/</td>\n",
              "      <td>1950.0</td>\n",
              "      <td>f</td>\n",
              "      <td>white</td>\n",
              "      <td>http://www.boxofficemojo.com/movies/?id=13goin...</td>\n",
              "      <td>NaN</td>\n",
              "      <td>nm0000834</td>\n",
              "      <td>NaN</td>\n",
              "      <td>13 Going on 30</td>\n",
              "      <td>2004-04-23</td>\n",
              "      <td>2004-02-13</td>\n",
              "    </tr>\n",
              "  </tbody>\n",
              "</table>\n",
              "</div>"
            ],
            "text/plain": [
              "     bomfilmtitle                              filmimdb  year  notsample  \\\n",
              "0  13 Going on 30  http://www.imdb.com/title/tt0337563/  2004          0   \n",
              "1  13 Going on 30  http://www.imdb.com/title/tt0337563/  2004          0   \n",
              "2  13 Going on 30  http://www.imdb.com/title/tt0337563/  2004          0   \n",
              "3  13 Going on 30  http://www.imdb.com/title/tt0337563/  2004          0   \n",
              "4  13 Going on 30  http://www.imdb.com/title/tt0337563/  2004          0   \n",
              "\n",
              "   filmrank  castrank filmrole        actorname  \\\n",
              "0         4         1     Cast  Jennifer Garner   \n",
              "1         5         2     Cast     Mark Ruffalo   \n",
              "2         6         3     Cast       Judy Greer   \n",
              "3         7         4     Cast      Andy Serkis   \n",
              "4         8         5     Cast      Kathy Baker   \n",
              "\n",
              "                             actorimdb  birthyear gender   race  \\\n",
              "0  http://www.imdb.com/name/nm0004950/     1972.0      f  white   \n",
              "1  http://www.imdb.com/name/nm0749263/     1967.0      m  white   \n",
              "2  http://www.imdb.com/name/nm0339460/     1975.0      f  white   \n",
              "3  http://www.imdb.com/name/nm0785227/     1964.0      m  white   \n",
              "4  http://www.imdb.com/name/nm0000834/     1950.0      f  white   \n",
              "\n",
              "                                             bomlink  starpower-actor  \\\n",
              "0  http://www.boxofficemojo.com/movies/?id=13goin...              NaN   \n",
              "1  http://www.boxofficemojo.com/movies/?id=13goin...              NaN   \n",
              "2  http://www.boxofficemojo.com/movies/?id=13goin...              NaN   \n",
              "3  http://www.boxofficemojo.com/movies/?id=13goin...              NaN   \n",
              "4  http://www.boxofficemojo.com/movies/?id=13goin...              NaN   \n",
              "\n",
              "     name_id pageSource        bomtitle releasedate prior10weeksDate  \n",
              "0  nm0004950        NaN  13 Going on 30  2004-04-23       2004-02-13  \n",
              "1  nm0749263        NaN  13 Going on 30  2004-04-23       2004-02-13  \n",
              "2  nm0339460        NaN  13 Going on 30  2004-04-23       2004-02-13  \n",
              "3  nm0785227        NaN  13 Going on 30  2004-04-23       2004-02-13  \n",
              "4  nm0000834        NaN  13 Going on 30  2004-04-23       2004-02-13  "
            ]
          },
          "metadata": {
            "tags": []
          },
          "execution_count": 15
        }
      ]
    },
    {
      "cell_type": "code",
      "metadata": {
        "id": "3Il7IM2RWhnI",
        "colab_type": "code",
        "colab": {}
      },
      "source": [
        "# Yield successive n-sized chunks from l. \n",
        "def divide_chunks(l, n): \n",
        "    # looping till length l \n",
        "    for i in range(0, len(l), n):  \n",
        "        yield l[i:i + n] \n",
        "        \n",
        "# modification for specific date extraction\n",
        "def divide_chunks_date(l, n): \n",
        "    # looping till length l \n",
        "    for i in range(0, len(l), n):  \n",
        "        yield [l[i:i+3], l[i+n-1]]"
      ],
      "execution_count": 0,
      "outputs": []
    },
    {
      "cell_type": "code",
      "metadata": {
        "id": "Zt3u8DJzWhnJ",
        "colab_type": "code",
        "colab": {}
      },
      "source": [
        "def searchForData(soup_, keywords_=\"var graphData\", length_=8):\n",
        "    sep = \"-\"\n",
        "    dic_ = {}\n",
        "    filter_ = soup_.findAll(\"script\")\n",
        "    for i in range(len(filter_)):\n",
        "        if keywords_ in filter_[i].text:\n",
        "            # we have fixed the location of graphData chunk\n",
        "            dateList = list(divide_chunks_date(re.findall(r'\\d+', filter_[i].text), length_))\n",
        "            for j in range(len(dateList)):\n",
        "                # turn the first list into timestamp\n",
        "                key_ = pd.to_datetime(sep.join(dateList[j][0]), format='%Y-%m-%d')\n",
        "                dic_[key_] = int(dateList[j][1])\n",
        "            return dic_\n",
        "    return dic_"
      ],
      "execution_count": 0,
      "outputs": []
    },
    {
      "cell_type": "code",
      "metadata": {
        "id": "xIyUbeWlWhnN",
        "colab_type": "code",
        "colab": {}
      },
      "source": [
        "def nearest(items, pivot):\n",
        "    return min(items, key=lambda x: abs(x - pivot))"
      ],
      "execution_count": 0,
      "outputs": []
    },
    {
      "cell_type": "code",
      "metadata": {
        "id": "h8LHVnbYWhnP",
        "colab_type": "code",
        "colab": {}
      },
      "source": [
        "# try to find the starPower value based on prior10weeksDate info\n",
        "def findClosestPower(timestampDic_, releasedate_):\n",
        "    if list(timestampDic_.keys()) == []:\n",
        "        return 0\n",
        "    if not bool(re.search(r'\\d', str(releasedate_))):\n",
        "        return 0\n",
        "    stamp_key = nearest(list(timestampDic_.keys()), releasedate_)\n",
        "    return timestampDic_[stamp_key]"
      ],
      "execution_count": 0,
      "outputs": []
    },
    {
      "cell_type": "code",
      "metadata": {
        "id": "w2ZMRxNuWhnR",
        "colab_type": "code",
        "colab": {}
      },
      "source": [
        "import requests\n",
        "import urllib\n",
        "import urllib.request\n",
        "import time\n",
        "import re\n",
        "from bs4 import BeautifulSoup\n",
        "from IPython.core.display import HTML\n",
        "\n",
        "import pandas as pd\n",
        "import numpy as np\n",
        "import warnings\n",
        "warnings.filterwarnings(\"ignore\")\n",
        "import copy\n",
        "import datetime \n",
        "from collections import Counter\n",
        "\n",
        "import selenium\n",
        "from IPython.display import clear_output\n",
        "import matplotlib.pyplot as plt\n",
        "%matplotlib inline"
      ],
      "execution_count": 0,
      "outputs": []
    },
    {
      "cell_type": "code",
      "metadata": {
        "id": "8pQ_stAKWhnU",
        "colab_type": "code",
        "colab": {}
      },
      "source": [
        "def launch_selenium(names_list):\n",
        "    from selenium.webdriver.common.by import By\n",
        "    # mv chrome driver from Downloads to Applications \n",
        "    # chromedriver = \"D:/chromedriver\"\n",
        "    chromedriver = \"Desktop/Data/chromedriver\"\n",
        "    os.environ[\"webdriver.chrome.driver\"] = chromedriver\n",
        "\n",
        "    url = 'https://pro-labs.imdb.com/name/' + names_list + '/'\n",
        "    opts = webdriver.ChromeOptions()\n",
        "    opts.add_argument(\"user-agent=[user-agent string]\")\n",
        "    opts.add_argument(\"Mozilla/5.0 (Windows NT 6.3; WOW64) AppleWebKit/537.36 (KHTML, like Gecko) Chrome/33.0.1750.117 Safari/537.36\")\n",
        "    driver = webdriver.Chrome(chromedriver, chrome_options=opts)\n",
        "    driver.get(url)\n",
        "    \n",
        "    loginButton = driver.find_element_by_xpath('//a[@class=\"a-size- a-align- a-link- log_in\"]')\n",
        "    loginButton.click()\n",
        "    \n",
        "    time.sleep(.2)\n",
        "    loginButton = driver.find_element_by_xpath(\".//a[contains(@href,'https://pro.imdb.com/login/auth?')]\")\n",
        "    # loginButton = driver.find_element_by_xpath('//a[contains(@href,\"https://pro.imdb.com/login/auth?\")')\n",
        "    # loginButton = driver.find_element(By.PARTIAL_LINK_TEXT, 'https://pro.imdb.com/login/auth?')\n",
        "    loginButton.click()\n",
        "    \n",
        "    time.sleep(.2)\n",
        "    username_form = driver.find_element_by_id(\"ap_email\")\n",
        "    username_form.send_keys(Payload[\"username\"])\n",
        "\n",
        "    password_form=driver.find_element_by_id('ap_password')\n",
        "    password_form.send_keys(Payload[\"password\"])\n",
        "    password_form.send_keys(Keys.RETURN)\n",
        "\n",
        "    return driver"
      ],
      "execution_count": 0,
      "outputs": []
    },
    {
      "cell_type": "code",
      "metadata": {
        "id": "KSuwK1FBWhnW",
        "colab_type": "code",
        "outputId": "c2ccf18c-a0b2-4a0d-f773-d571403cb003",
        "colab": {}
      },
      "source": [
        "# driver test\n",
        "string_start = set_top5[\"name_id\"][0]\n",
        "set_top5[\"pageSource\"] = np.nan\n",
        "print(string_start)\n",
        "# launch_selenium(string_start)"
      ],
      "execution_count": 0,
      "outputs": [
        {
          "output_type": "stream",
          "text": [
            "nm0004950\n"
          ],
          "name": "stdout"
        }
      ]
    },
    {
      "cell_type": "code",
      "metadata": {
        "id": "b5weAy15WhnY",
        "colab_type": "code",
        "colab": {}
      },
      "source": [
        "# run the function directly to get page source\n",
        "def get_actor_rankings(driver, min_index, max_index, dataset_, keywordDate_ = \"prior10weeksDate\"):\n",
        "    for i in range(min_index, max_index):\n",
        "        name_id = dataset_[\"name_id\"][i]\n",
        "        # contains that star table\n",
        "        url = 'https://pro.imdb.com/name/' + name_id + '?rf=cons_nm_meter&ref_=cons_nm_meter'\n",
        "        driver.get(url)\n",
        "        soup = BeautifulSoup(driver.page_source)\n",
        "        # find all script records\n",
        "        # soup = soup.findAll(\"script\")\n",
        "        temp_dic = searchForData(soup)\n",
        "        PriorReleaseDate = dataset_[keywordDate_][i]\n",
        "        starPower = findClosestPower(temp_dic, PriorReleaseDate)\n",
        "        dataset_[\"starpower-actor\"][i] = starPower\n",
        "        if i%100 == 0:\n",
        "            print(i)\n",
        "    driver.quit()\n",
        "    return dataset_"
      ],
      "execution_count": 0,
      "outputs": []
    },
    {
      "cell_type": "markdown",
      "metadata": {
        "id": "1dcQiL63XDd3",
        "colab_type": "text"
      },
      "source": [
        "#### Check the result for star power values between 500 and 510:"
      ]
    },
    {
      "cell_type": "code",
      "metadata": {
        "id": "nTfd3_04W49Z",
        "colab_type": "code",
        "colab": {}
      },
      "source": [
        "# set_top5.shape[0]\n",
        "set_top5_new_500_2nd = get_actor_rankings(launch_selenium(string_start), 500, 510, full_columnSet)"
      ],
      "execution_count": 0,
      "outputs": []
    },
    {
      "cell_type": "code",
      "metadata": {
        "id": "83d4R4P9XO03",
        "colab_type": "code",
        "colab": {}
      },
      "source": [
        ""
      ],
      "execution_count": 0,
      "outputs": []
    }
  ]
}