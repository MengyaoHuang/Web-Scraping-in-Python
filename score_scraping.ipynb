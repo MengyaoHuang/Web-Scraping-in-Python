{
 "cells": [
  {
   "cell_type": "markdown",
   "metadata": {},
   "source": [
    "## Score scraping"
   ]
  },
  {
   "cell_type": "code",
   "execution_count": 261,
   "metadata": {},
   "outputs": [],
   "source": [
    "# package use\n",
    "import requests\n",
    "import urllib\n",
    "import urllib.request\n",
    "import time\n",
    "import re\n",
    "import string\n",
    "import matplotlib.pyplot as plt\n",
    "import seaborn as sns\n",
    "from bs4 import BeautifulSoup\n",
    "from IPython.core.display import HTML\n",
    "\n",
    "import pandas as pd\n",
    "import numpy as np\n",
    "import warnings\n",
    "warnings.filterwarnings(\"ignore\")\n",
    "import copy\n",
    "from collections import Counter"
   ]
  },
  {
   "cell_type": "code",
   "execution_count": 26,
   "metadata": {},
   "outputs": [],
   "source": [
    "# read box office table first\n",
    "boxOffice = pd.read_csv(\"boxofficemojo-top200-2004-2015_complete.csv\", encoding='ISO-8859-1')\n",
    "# read director films table then\n",
    "directorFilm = pd.read_csv(\"imdb-director-films.csv\", encoding='ISO-8859-1')"
   ]
  },
  {
   "cell_type": "code",
   "execution_count": 27,
   "metadata": {},
   "outputs": [
    {
     "data": {
      "text/html": [
       "<div>\n",
       "<style scoped>\n",
       "    .dataframe tbody tr th:only-of-type {\n",
       "        vertical-align: middle;\n",
       "    }\n",
       "\n",
       "    .dataframe tbody tr th {\n",
       "        vertical-align: top;\n",
       "    }\n",
       "\n",
       "    .dataframe thead th {\n",
       "        text-align: right;\n",
       "    }\n",
       "</style>\n",
       "<table border=\"1\" class=\"dataframe\">\n",
       "  <thead>\n",
       "    <tr style=\"text-align: right;\">\n",
       "      <th></th>\n",
       "      <th>year</th>\n",
       "      <th>bomrank</th>\n",
       "      <th>remove</th>\n",
       "      <th>bomtitle</th>\n",
       "      <th>imdblink</th>\n",
       "      <th>bomlink</th>\n",
       "      <th>Unnamed: 6</th>\n",
       "      <th>studio</th>\n",
       "      <th>totalusgross$</th>\n",
       "      <th>totaltheater</th>\n",
       "      <th>openingusgross$</th>\n",
       "      <th>openingtheaters</th>\n",
       "      <th>opendate</th>\n",
       "      <th>closedate</th>\n",
       "      <th>critic ratings_avg</th>\n",
       "      <th>critic rating_var</th>\n",
       "      <th>user_avg</th>\n",
       "      <th>user_var</th>\n",
       "      <th>critic_ratings_comments</th>\n",
       "    </tr>\n",
       "  </thead>\n",
       "  <tbody>\n",
       "    <tr>\n",
       "      <th>0</th>\n",
       "      <td>2004.0</td>\n",
       "      <td>1.0</td>\n",
       "      <td>NaN</td>\n",
       "      <td>Shrek 2</td>\n",
       "      <td>http://www.imdb.com/title/tt0298148/</td>\n",
       "      <td>http://www.boxofficemojo.com/movies/?id=shrek2...</td>\n",
       "      <td>NaN</td>\n",
       "      <td>DW</td>\n",
       "      <td>441226247.0</td>\n",
       "      <td>4223.0</td>\n",
       "      <td>108037878.0</td>\n",
       "      <td>4163.0</td>\n",
       "      <td>5/19</td>\n",
       "      <td>11/25</td>\n",
       "      <td>NaN</td>\n",
       "      <td>NaN</td>\n",
       "      <td>NaN</td>\n",
       "      <td>NaN</td>\n",
       "      <td>NaN</td>\n",
       "    </tr>\n",
       "  </tbody>\n",
       "</table>\n",
       "</div>"
      ],
      "text/plain": [
       "     year  bomrank  remove bomtitle                              imdblink  \\\n",
       "0  2004.0      1.0     NaN  Shrek 2  http://www.imdb.com/title/tt0298148/   \n",
       "\n",
       "                                             bomlink  Unnamed: 6 studio  \\\n",
       "0  http://www.boxofficemojo.com/movies/?id=shrek2...         NaN     DW   \n",
       "\n",
       "   totalusgross$  totaltheater  openingusgross$  openingtheaters opendate  \\\n",
       "0    441226247.0        4223.0      108037878.0           4163.0     5/19   \n",
       "\n",
       "  closedate  critic ratings_avg  critic rating_var  user_avg  user_var  \\\n",
       "0     11/25                 NaN                NaN       NaN       NaN   \n",
       "\n",
       "   critic_ratings_comments  \n",
       "0                      NaN  "
      ]
     },
     "execution_count": 27,
     "metadata": {},
     "output_type": "execute_result"
    }
   ],
   "source": [
    "boxOffice.head(1)"
   ]
  },
  {
   "cell_type": "code",
   "execution_count": 28,
   "metadata": {},
   "outputs": [
    {
     "data": {
      "text/html": [
       "<div>\n",
       "<style scoped>\n",
       "    .dataframe tbody tr th:only-of-type {\n",
       "        vertical-align: middle;\n",
       "    }\n",
       "\n",
       "    .dataframe tbody tr th {\n",
       "        vertical-align: top;\n",
       "    }\n",
       "\n",
       "    .dataframe thead th {\n",
       "        text-align: right;\n",
       "    }\n",
       "</style>\n",
       "<table border=\"1\" class=\"dataframe\">\n",
       "  <thead>\n",
       "    <tr style=\"text-align: right;\">\n",
       "      <th></th>\n",
       "      <th>imdbcrewcastname</th>\n",
       "      <th>imdbcrewcastlink</th>\n",
       "      <th>year</th>\n",
       "      <th>imdbfilmtitle</th>\n",
       "      <th>role</th>\n",
       "      <th>imdbfilmlink</th>\n",
       "    </tr>\n",
       "  </thead>\n",
       "  <tbody>\n",
       "    <tr>\n",
       "      <th>0</th>\n",
       "      <td>A.R. Murugadoss</td>\n",
       "      <td>http://www.imdb.com/name/nm1436693/</td>\n",
       "      <td>2017.0</td>\n",
       "      <td>Spyder</td>\n",
       "      <td>Director</td>\n",
       "      <td>http://www.imdb.com/title/tt6522546/</td>\n",
       "    </tr>\n",
       "  </tbody>\n",
       "</table>\n",
       "</div>"
      ],
      "text/plain": [
       "  imdbcrewcastname                     imdbcrewcastlink    year imdbfilmtitle  \\\n",
       "0  A.R. Murugadoss  http://www.imdb.com/name/nm1436693/  2017.0        Spyder   \n",
       "\n",
       "       role                          imdbfilmlink  \n",
       "0  Director  http://www.imdb.com/title/tt6522546/  "
      ]
     },
     "execution_count": 28,
     "metadata": {},
     "output_type": "execute_result"
    }
   ],
   "source": [
    "directorFilm.head(1)"
   ]
  },
  {
   "cell_type": "markdown",
   "metadata": {},
   "source": [
    "### Take the first film as example to check user rating columns"
   ]
  },
  {
   "cell_type": "code",
   "execution_count": 29,
   "metadata": {},
   "outputs": [
    {
     "name": "stdout",
     "output_type": "stream",
     "text": [
      "http://www.imdb.com/title/tt0298148/ratings\n",
      "['378773', '7.2', '10']\n"
     ]
    }
   ],
   "source": [
    "# fill ratings and comments \n",
    "# add ratings string to return rating url for films\n",
    "url = boxOffice['imdblink'][0] + \"ratings\"\n",
    "print(url)\n",
    "response = requests.get(url)\n",
    "# analyze rating website information\n",
    "soup = BeautifulSoup(response.text, \"html.parser\")\n",
    "# find number of ratings and average score\n",
    "def find_avg_total(soup_):\n",
    "    string = soup_.findAll('div', {'class': \"allText\"})[0].text.replace(\",\", \"\")\n",
    "    return re.findall(r\"\\d+\\.?\\d*\", string)\n",
    "\n",
    "result_score = find_avg_total(soup)\n",
    "print(result_score)"
   ]
  },
  {
   "cell_type": "code",
   "execution_count": 30,
   "metadata": {},
   "outputs": [
    {
     "name": "stdout",
     "output_type": "stream",
     "text": [
      "['1010', '8.7%', '8.7%', '32971', '3297199', '10.1%', '10.1%', '38130', '3813088', '25.4%', '25.4%', '96027', '9602777', '32.4%', '32.4%', '122684', '12268466', '14.6%', '14.6%', '55448', '5544855', '4.9%', '4.9%', '18712', '1871244', '1.8%', '1.8%', '6909', '690933', '0.9%', '0.9%', '3249', '324922', '0.5%', '0.5%', '1803', '180311', '0.7%', '0.7%', '2840', '2840', '=', '7.3', '=', '7']\n",
      "45\n"
     ]
    }
   ],
   "source": [
    "text_html = soup.findAll('div', {'class': [\"allText\", \"leftAligned\", \"topAligned\", \"rightAligned\"]})\n",
    "# extract all numbers in the chart and return list\n",
    "def get_numList(text_html_):\n",
    "    text_string = \"\"\n",
    "    for i in range(1, len(text_html_)):\n",
    "        text_string = text_string + text_html_[i].text\n",
    "    text_string = text_string.replace(\",\", \"\").replace(\"\\n\", \" \").replace(\"\\xa0\", \"\")\n",
    "    text_string = re.sub(r'[A-z]', '', text_string).split()\n",
    "    return text_string\n",
    "\n",
    "result_list = get_numList(text_html)\n",
    "print(result_list)\n",
    "print(len(result_list))"
   ]
  },
  {
   "cell_type": "code",
   "execution_count": 31,
   "metadata": {},
   "outputs": [
    {
     "name": "stdout",
     "output_type": "stream",
     "text": [
      "{10: [0.087, 32971.0], 9: [0.10099999999999999, 38130.0], 8: [0.254, 96027.0], 7: [0.324, 122684.0], 6: [0.146, 55448.0], 5: [0.049, 18712.0], 4: [0.018000000000000002, 6909.0], 3: [0.009000000000000001, 3249.0], 2: [0.005, 1803.0], 1: [0.006999999999999999, 2840.0]}\n"
     ]
    }
   ],
   "source": [
    "def variance_dic(text_string_):\n",
    "    # set up blank dictionary first\n",
    "    dic = {}\n",
    "    # fill in next if all levels are included\n",
    "    if len(text_string_) == 45:\n",
    "        for i in range(10):\n",
    "            sub_string = text_string_[4*i:(4*i+4)]\n",
    "            dic[10-i] = [float(sub_string[1].strip(\"%\"))/100, float(sub_string[3])]\n",
    "    return dic\n",
    "result_dic = variance_dic(result_list)\n",
    "print(result_dic)"
   ]
  },
  {
   "cell_type": "markdown",
   "metadata": {},
   "source": [
    "### Calculate variance based on distribution\n",
    "* Formula: D(X)=sigma(pi*(xi-u)^2)"
   ]
  },
  {
   "cell_type": "code",
   "execution_count": 32,
   "metadata": {},
   "outputs": [
    {
     "data": {
      "text/plain": [
       "2.3796"
      ]
     },
     "execution_count": 32,
     "metadata": {},
     "output_type": "execute_result"
    }
   ],
   "source": [
    "# calculate variance based on the dictionary\n",
    "def variance_calculate(dic_):\n",
    "    # full dictionary to calculate variance\n",
    "    variance = np.nan\n",
    "    if len(dic_) == 10:\n",
    "        variance = 0\n",
    "        for index in range(len(dic_)):\n",
    "            mu = float(result_score[1])\n",
    "            variance = variance + result_dic[10-index][0]*(10-index-mu)*(10-index-mu)\n",
    "    return variance\n",
    "variance_calculate(result_dic)    "
   ]
  },
  {
   "cell_type": "markdown",
   "metadata": {},
   "source": [
    "### Now fill in the user_avg and user_var column"
   ]
  },
  {
   "cell_type": "code",
   "execution_count": null,
   "metadata": {},
   "outputs": [],
   "source": [
    "print(len(boxOffice))\n",
    "for l in range(len(boxOffice)):\n",
    "    # give the url address first\n",
    "    if \"http\" in str(boxOffice['imdblink'][l]):\n",
    "        url = boxOffice['imdblink'][l] + \"ratings\"\n",
    "        response = requests.get(url)\n",
    "        # analyze rating website information\n",
    "        soup = BeautifulSoup(response.text, \"html.parser\")\n",
    "        # find number of ratings and average score\n",
    "        result_score = find_avg_total(soup)\n",
    "\n",
    "        # return the second term as average\n",
    "        boxOffice['user_avg'][l] = float(result_score[1])\n",
    "        # calculate the variance\n",
    "        text_html = soup.findAll('div', {'class': [\"allText\", \"leftAligned\", \"topAligned\", \"rightAligned\"]})\n",
    "        # scores distribution list\n",
    "        result_list = get_numList(text_html)\n",
    "        # scores and their number of votes and percentage dictionary\n",
    "        result_dic = variance_dic(result_list)\n",
    "        score = variance_calculate(result_dic) \n",
    "        boxOffice['user_var'][l] = score\n",
    "    # check process\n",
    "    if l%200 == 0:\n",
    "        print(l)"
   ]
  },
  {
   "cell_type": "code",
   "execution_count": 71,
   "metadata": {},
   "outputs": [
    {
     "name": "stdout",
     "output_type": "stream",
     "text": [
      "[1194, 1597, 1799, 1941]\n"
     ]
    }
   ],
   "source": [
    "# deal with not full dictionary variance last\n",
    "# find those items first\n",
    "left_index = boxOffice[(boxOffice['user_avg'].notnull())& \n",
    "                       (boxOffice['user_var'].isnull())].index.values.astype(int).tolist()\n",
    "print(left_index)"
   ]
  },
  {
   "cell_type": "code",
   "execution_count": 70,
   "metadata": {},
   "outputs": [],
   "source": [
    "def variance_dic_notFull(text_string_):\n",
    "    # set up blank dictionary first\n",
    "    dic = {}\n",
    "    temp = copy.deepcopy(text_string_)\n",
    "    # fill in next if all levels are included\n",
    "    for i in range(10):\n",
    "        sub_string = temp[4*i:(4*i+4)]\n",
    "        if '0' in sub_string:\n",
    "            dic[10-i] = [0, 0]\n",
    "            temp = [0, 0] + temp\n",
    "        else:\n",
    "            dic[10-i] = [float(sub_string[1].strip(\"%\"))/100, float(sub_string[3])]\n",
    "    return dic"
   ]
  },
  {
   "cell_type": "code",
   "execution_count": 72,
   "metadata": {},
   "outputs": [],
   "source": [
    "for index in left_index:\n",
    "    url = boxOffice['imdblink'][index] + \"ratings\"\n",
    "    response = requests.get(url)\n",
    "    soup = BeautifulSoup(response.text, \"html.parser\")\n",
    "    result_score = find_avg_total(soup)\n",
    "    text_html = soup.findAll('div', {'class': [\"allText\", \"leftAligned\", \"topAligned\", \"rightAligned\"]})\n",
    "    result_list = get_numList(text_html)\n",
    "    result_dic = variance_dic_notFull(result_list)\n",
    "    score = variance_calculate(result_dic) \n",
    "    boxOffice['user_var'][index] = score"
   ]
  },
  {
   "cell_type": "code",
   "execution_count": 73,
   "metadata": {},
   "outputs": [],
   "source": [
    "# write boxOffice and store\n",
    "boxOffice.to_csv(\"boxOffice_userfilled.csv\")"
   ]
  },
  {
   "cell_type": "code",
   "execution_count": 87,
   "metadata": {},
   "outputs": [
    {
     "data": {
      "text/html": [
       "<div>\n",
       "<style scoped>\n",
       "    .dataframe tbody tr th:only-of-type {\n",
       "        vertical-align: middle;\n",
       "    }\n",
       "\n",
       "    .dataframe tbody tr th {\n",
       "        vertical-align: top;\n",
       "    }\n",
       "\n",
       "    .dataframe thead th {\n",
       "        text-align: right;\n",
       "    }\n",
       "</style>\n",
       "<table border=\"1\" class=\"dataframe\">\n",
       "  <thead>\n",
       "    <tr style=\"text-align: right;\">\n",
       "      <th></th>\n",
       "      <th>year</th>\n",
       "      <th>bomrank</th>\n",
       "      <th>remove</th>\n",
       "      <th>bomtitle</th>\n",
       "      <th>imdblink</th>\n",
       "      <th>bomlink</th>\n",
       "      <th>studio</th>\n",
       "      <th>totalusgross$</th>\n",
       "      <th>totaltheater</th>\n",
       "      <th>openingusgross$</th>\n",
       "      <th>openingtheaters</th>\n",
       "      <th>opendate</th>\n",
       "      <th>closedate</th>\n",
       "      <th>critic ratings_avg</th>\n",
       "      <th>critic rating_var</th>\n",
       "      <th>user_avg</th>\n",
       "      <th>user_var</th>\n",
       "      <th>critic_ratings_comments</th>\n",
       "    </tr>\n",
       "  </thead>\n",
       "  <tbody>\n",
       "    <tr>\n",
       "      <th>0</th>\n",
       "      <td>2004.0</td>\n",
       "      <td>1.0</td>\n",
       "      <td>NaN</td>\n",
       "      <td>Shrek 2</td>\n",
       "      <td>http://www.imdb.com/title/tt0298148/</td>\n",
       "      <td>http://www.boxofficemojo.com/movies/?id=shrek2...</td>\n",
       "      <td>DW</td>\n",
       "      <td>441226247.0</td>\n",
       "      <td>4223.0</td>\n",
       "      <td>108037878.0</td>\n",
       "      <td>4163.0</td>\n",
       "      <td>5/19</td>\n",
       "      <td>11/25</td>\n",
       "      <td>NaN</td>\n",
       "      <td>NaN</td>\n",
       "      <td>7.2</td>\n",
       "      <td>2.37960</td>\n",
       "      <td>NaN</td>\n",
       "    </tr>\n",
       "    <tr>\n",
       "      <th>1</th>\n",
       "      <td>2004.0</td>\n",
       "      <td>2.0</td>\n",
       "      <td>NaN</td>\n",
       "      <td>Spider-Man 2</td>\n",
       "      <td>http://www.imdb.com/title/tt0316654/</td>\n",
       "      <td>http://www.boxofficemojo.com/movies/?id=spider...</td>\n",
       "      <td>Sony</td>\n",
       "      <td>373585825.0</td>\n",
       "      <td>4166.0</td>\n",
       "      <td>88156227.0</td>\n",
       "      <td>4152.0</td>\n",
       "      <td>6/30</td>\n",
       "      <td>12/19</td>\n",
       "      <td>NaN</td>\n",
       "      <td>NaN</td>\n",
       "      <td>7.3</td>\n",
       "      <td>2.86249</td>\n",
       "      <td>NaN</td>\n",
       "    </tr>\n",
       "    <tr>\n",
       "      <th>2</th>\n",
       "      <td>2004.0</td>\n",
       "      <td>3.0</td>\n",
       "      <td>NaN</td>\n",
       "      <td>The Passion of the Christ</td>\n",
       "      <td>http://www.imdb.com/title/tt0335345/</td>\n",
       "      <td>http://www.boxofficemojo.com/movies/?id=passio...</td>\n",
       "      <td>NM</td>\n",
       "      <td>370274604.0</td>\n",
       "      <td>3408.0</td>\n",
       "      <td>83848082.0</td>\n",
       "      <td>3043.0</td>\n",
       "      <td>2/25</td>\n",
       "      <td>7/29</td>\n",
       "      <td>NaN</td>\n",
       "      <td>NaN</td>\n",
       "      <td>7.2</td>\n",
       "      <td>6.34920</td>\n",
       "      <td>NaN</td>\n",
       "    </tr>\n",
       "    <tr>\n",
       "      <th>3</th>\n",
       "      <td>2004.0</td>\n",
       "      <td>4.0</td>\n",
       "      <td>NaN</td>\n",
       "      <td>Meet the Fockers</td>\n",
       "      <td>http://www.imdb.com/title/tt0290002/</td>\n",
       "      <td>http://www.boxofficemojo.com/movies/?id=meetth...</td>\n",
       "      <td>Uni.</td>\n",
       "      <td>279261160.0</td>\n",
       "      <td>3554.0</td>\n",
       "      <td>46120980.0</td>\n",
       "      <td>3518.0</td>\n",
       "      <td>12/22</td>\n",
       "      <td>6/16</td>\n",
       "      <td>NaN</td>\n",
       "      <td>NaN</td>\n",
       "      <td>6.3</td>\n",
       "      <td>2.78720</td>\n",
       "      <td>NaN</td>\n",
       "    </tr>\n",
       "    <tr>\n",
       "      <th>4</th>\n",
       "      <td>2004.0</td>\n",
       "      <td>5.0</td>\n",
       "      <td>NaN</td>\n",
       "      <td>The Incredibles</td>\n",
       "      <td>http://www.imdb.com/title/tt0317705/</td>\n",
       "      <td>http://www.boxofficemojo.com/movies/?id=incred...</td>\n",
       "      <td>BV</td>\n",
       "      <td>261441092.0</td>\n",
       "      <td>3933.0</td>\n",
       "      <td>70467623.0</td>\n",
       "      <td>3933.0</td>\n",
       "      <td>11/5</td>\n",
       "      <td>4/14</td>\n",
       "      <td>NaN</td>\n",
       "      <td>NaN</td>\n",
       "      <td>8.0</td>\n",
       "      <td>2.39500</td>\n",
       "      <td>NaN</td>\n",
       "    </tr>\n",
       "  </tbody>\n",
       "</table>\n",
       "</div>"
      ],
      "text/plain": [
       "     year  bomrank  remove                   bomtitle  \\\n",
       "0  2004.0      1.0     NaN                    Shrek 2   \n",
       "1  2004.0      2.0     NaN               Spider-Man 2   \n",
       "2  2004.0      3.0     NaN  The Passion of the Christ   \n",
       "3  2004.0      4.0     NaN           Meet the Fockers   \n",
       "4  2004.0      5.0     NaN            The Incredibles   \n",
       "\n",
       "                               imdblink  \\\n",
       "0  http://www.imdb.com/title/tt0298148/   \n",
       "1  http://www.imdb.com/title/tt0316654/   \n",
       "2  http://www.imdb.com/title/tt0335345/   \n",
       "3  http://www.imdb.com/title/tt0290002/   \n",
       "4  http://www.imdb.com/title/tt0317705/   \n",
       "\n",
       "                                             bomlink studio  totalusgross$  \\\n",
       "0  http://www.boxofficemojo.com/movies/?id=shrek2...     DW    441226247.0   \n",
       "1  http://www.boxofficemojo.com/movies/?id=spider...   Sony    373585825.0   \n",
       "2  http://www.boxofficemojo.com/movies/?id=passio...     NM    370274604.0   \n",
       "3  http://www.boxofficemojo.com/movies/?id=meetth...   Uni.    279261160.0   \n",
       "4  http://www.boxofficemojo.com/movies/?id=incred...     BV    261441092.0   \n",
       "\n",
       "   totaltheater  openingusgross$  openingtheaters opendate closedate  \\\n",
       "0        4223.0      108037878.0           4163.0     5/19     11/25   \n",
       "1        4166.0       88156227.0           4152.0     6/30     12/19   \n",
       "2        3408.0       83848082.0           3043.0     2/25      7/29   \n",
       "3        3554.0       46120980.0           3518.0    12/22      6/16   \n",
       "4        3933.0       70467623.0           3933.0     11/5      4/14   \n",
       "\n",
       "   critic ratings_avg  critic rating_var  user_avg  user_var  \\\n",
       "0                 NaN                NaN       7.2   2.37960   \n",
       "1                 NaN                NaN       7.3   2.86249   \n",
       "2                 NaN                NaN       7.2   6.34920   \n",
       "3                 NaN                NaN       6.3   2.78720   \n",
       "4                 NaN                NaN       8.0   2.39500   \n",
       "\n",
       "   critic_ratings_comments  \n",
       "0                      NaN  \n",
       "1                      NaN  \n",
       "2                      NaN  \n",
       "3                      NaN  \n",
       "4                      NaN  "
      ]
     },
     "execution_count": 87,
     "metadata": {},
     "output_type": "execute_result"
    }
   ],
   "source": [
    "boxOffice = pd.read_csv(\"boxOffice_userfilled.csv\")\n",
    "Name_list = boxOffice.columns.tolist()\n",
    "Name_list = [item for item in Name_list if 'Unnamed' not in item]\n",
    "# kick out Unnamed columns for simplicity\n",
    "boxOffice = boxOffice[Name_list]\n",
    "boxOffice.head(5)"
   ]
  },
  {
   "cell_type": "code",
   "execution_count": 102,
   "metadata": {},
   "outputs": [
    {
     "name": "stdout",
     "output_type": "stream",
     "text": [
      "Num of blanks:  11\n"
     ]
    }
   ],
   "source": [
    "print('Num of blanks: ', len(boxOffice[(boxOffice['user_avg'].isnull())|(boxOffice['user_var'].isnull())]))"
   ]
  },
  {
   "cell_type": "code",
   "execution_count": 98,
   "metadata": {},
   "outputs": [
    {
     "name": "stdout",
     "output_type": "stream",
     "text": [
      "[[<matplotlib.axes._subplots.AxesSubplot object at 0x0000018330CE6320>\n",
      "  <matplotlib.axes._subplots.AxesSubplot object at 0x0000018330D1C438>]]\n"
     ]
    },
    {
     "data": {
      "image/png": "[encoded data removed]",
      "text/plain": [
       "<Figure size 864x432 with 2 Axes>"
      ]
     },
     "metadata": {},
     "output_type": "display_data"
    }
   ],
   "source": [
    "hist = boxOffice[['user_avg', 'user_var']].hist(bins=20, figsize=[12, 6])\n",
    "print(hist)"
   ]
  },
  {
   "cell_type": "markdown",
   "metadata": {},
   "source": [
    "### Take the first film as example to check critic ratings_avg and critic rating_var columns"
   ]
  },
  {
   "cell_type": "code",
   "execution_count": 196,
   "metadata": {},
   "outputs": [
    {
     "name": "stdout",
     "output_type": "stream",
     "text": [
      "http://www.imdb.com/title/tt0298148/criticreviews\n"
     ]
    }
   ],
   "source": [
    "url = boxOffice['imdblink'][0] + 'criticreviews'\n",
    "print(url)\n",
    "response = requests.get(url)\n",
    "# analyze rating website information\n",
    "soup = BeautifulSoup(response.text, \"html.parser\")"
   ]
  },
  {
   "cell_type": "code",
   "execution_count": 197,
   "metadata": {},
   "outputs": [
    {
     "name": "stdout",
     "output_type": "stream",
     "text": [
      "[90.0, 88.0, 80.0, 80.0, 80.0, 75.0, 75.0, 70.0, 60.0, 60.0]\n",
      "90.0||88.0||80.0||80.0||80.0||75.0||75.0||70.0||60.0||60.0\n",
      "['90.0', '88.0', '80.0', '80.0', '80.0', '75.0', '75.0', '70.0', '60.0', '60.0']\n"
     ]
    }
   ],
   "source": [
    "# find the criticl rating list \n",
    "# combine both the \"critscore critscore_mixed\" and \"critscore critscore_favorable\" \n",
    "# and \"critscore critscore_unfavorable\" scores\n",
    "def critic_scoreList_extract(soup_):\n",
    "    filter_list = soup_.findAll('div', {'class': [\"critscore critscore_favorable\", \n",
    "                                                  \"critscore critscore_mixed\", \n",
    "                                                  \"critscore critscore_unfavorable\"]})\n",
    "    score_list = []\n",
    "    for l in range(len(filter_list)):\n",
    "        # extract the critical score information\n",
    "        score = filter_list[l].text.replace('\\n','')\n",
    "        score_list.append(float(score))\n",
    "    return score_list\n",
    "result_score = critic_scorelist_extract(soup)\n",
    "# will return blank list if there are no meta score available\n",
    "\n",
    "# if the result_score is not blank\n",
    "# turn the list into string for storing later as well\n",
    "score_list_string = str(result_score[0])\n",
    "for num in result_score[1:]:\n",
    "    score_list_string = score_list_string + \"||\" + str(num)\n",
    "\n",
    "print(result_score)\n",
    "print(score_list_string)\n",
    "print(score_list_string.split(\"||\"))"
   ]
  },
  {
   "cell_type": "code",
   "execution_count": 198,
   "metadata": {},
   "outputs": [
    {
     "data": {
      "text/plain": [
       "75.0"
      ]
     },
     "execution_count": 198,
     "metadata": {},
     "output_type": "execute_result"
    }
   ],
   "source": [
    "# get meta final score if the result score list is not blank\n",
    "def critic_scoreMean_extract(soup_):\n",
    "    filter_score = soup.findAll('div', {'class': [\"metascore score_favorable\", \n",
    "                                                  \"metascore score_unfavorable\", \n",
    "                                                  \"metascore score_mixed\"]})\n",
    "    # there will be only one available category for each film\n",
    "    if len(filter_score) > 0:\n",
    "        score = float(filter_score[0].text.replace(\"\\n\", \"\"))\n",
    "    else:\n",
    "        score = np.nan\n",
    "    return score\n",
    "critic_scoreMean_extract(soup)"
   ]
  },
  {
   "cell_type": "code",
   "execution_count": 199,
   "metadata": {},
   "outputs": [
    {
     "name": "stdout",
     "output_type": "stream",
     "text": [
      " Lightning strikes twice, but not as brilliantly as before, in Shrek 2. The welcome sequel to the monster 2001 Oscar winner about an ogre's unlikely romance with a beautiful princess successfully recycles \n"
     ]
    }
   ],
   "source": [
    "# extract the comments and store as string corresponding to the score order \n",
    "# use \"||\" to separate different comments\n",
    "def comment_extract(soup_):\n",
    "    filter_comment = soup_.findAll('div', {'itemprop': \"reviewbody\"})\n",
    "    # if the result score is not blank as well\n",
    "    # then add the comments \n",
    "    comment = filter_comment[0].text.replace(\"\\n\", \"\")\n",
    "    for l in range(1, len(filter_comment)):\n",
    "        comment = comment + \"||\" + filter_comment[l].text.replace(\"\\n\", \"\")\n",
    "    return comment\n",
    "\n",
    "print(comment_extract(soup)[0:205])"
   ]
  },
  {
   "cell_type": "code",
   "execution_count": 200,
   "metadata": {},
   "outputs": [
    {
     "data": {
      "text/plain": [
       "94.4"
      ]
     },
     "execution_count": 200,
     "metadata": {},
     "output_type": "execute_result"
    }
   ],
   "source": [
    "# calculate the variance based on the avg score and meta score list\n",
    "def variance_calculate(avg_, list_):\n",
    "    variance = 0\n",
    "    for item in list_:\n",
    "        variance = variance + (item-avg_)*(item-avg_)\n",
    "    return variance/len(list_)\n",
    "variance_calculate(critic_scoreMean_extract(soup), result_score)"
   ]
  },
  {
   "cell_type": "markdown",
   "metadata": {},
   "source": [
    "### Now fill in the critic ratings_avg and critic rating_var columns/comments included"
   ]
  },
  {
   "cell_type": "code",
   "execution_count": 205,
   "metadata": {},
   "outputs": [],
   "source": [
    "# add critic_ratings_list to record score list\n",
    "boxOffice['critic_ratings_list'] = np.nan"
   ]
  },
  {
   "cell_type": "code",
   "execution_count": null,
   "metadata": {},
   "outputs": [],
   "source": [
    "for l in range(len(boxOffice)):\n",
    "    # make sure available url address to check\n",
    "    if \"http\" in str(boxOffice['imdblink'][l]):\n",
    "        url = boxOffice['imdblink'][l] + 'criticreviews'\n",
    "        response = requests.get(url)\n",
    "        soup = BeautifulSoup(response.text, \"html.parser\")\n",
    "        \n",
    "        # start to check meta score\n",
    "        # will return blank list if there are no meta score available\n",
    "        result_score = critic_scorelist_extract(soup)\n",
    "        # available many scores\n",
    "        if len(result_score) > 0:\n",
    "            # get score list string first and fill in\n",
    "            score_list_string = str(result_score[0])\n",
    "            for num in result_score[1:]:\n",
    "                score_list_string = score_list_string + \"||\" + str(num)\n",
    "            boxOffice['critic_ratings_list'][l] = score_list_string\n",
    "            # get critic average score and fill in\n",
    "            avg_score = critic_scoreMean_extract(soup)\n",
    "            boxOffice['critic ratings_avg'][l] = avg_score\n",
    "            # calculate variance for meta score and fill in\n",
    "            variance_score = variance_calculate(avg_score, result_score)\n",
    "            boxOffice['critic rating_var'][l] = variance_score\n",
    "            # get comment string and fill in\n",
    "            comment_str = comment_extract(soup)\n",
    "            boxOffice['critic_ratings_comments'][l] = comment_str\n",
    "        # no available scores and comments\n",
    "        else:\n",
    "            boxOffice['critic_ratings_list'][l] = np.nan\n",
    "            boxOffice['critic ratings_avg'][l] = np.nan\n",
    "            boxOffice['critic rating_var'][l] = np.nan\n",
    "            boxOffice['critic_ratings_comments'][l] = np.nan\n",
    "    # check process\n",
    "    if l%100 == 0:\n",
    "        print(l)"
   ]
  },
  {
   "cell_type": "code",
   "execution_count": 207,
   "metadata": {},
   "outputs": [],
   "source": [
    "# write boxOffice and store\n",
    "boxOffice.to_csv(\"boxOffice_Allfilled.csv\")"
   ]
  },
  {
   "cell_type": "code",
   "execution_count": 215,
   "metadata": {},
   "outputs": [
    {
     "data": {
      "text/html": [
       "<div>\n",
       "<style scoped>\n",
       "    .dataframe tbody tr th:only-of-type {\n",
       "        vertical-align: middle;\n",
       "    }\n",
       "\n",
       "    .dataframe tbody tr th {\n",
       "        vertical-align: top;\n",
       "    }\n",
       "\n",
       "    .dataframe thead th {\n",
       "        text-align: right;\n",
       "    }\n",
       "</style>\n",
       "<table border=\"1\" class=\"dataframe\">\n",
       "  <thead>\n",
       "    <tr style=\"text-align: right;\">\n",
       "      <th></th>\n",
       "      <th>year</th>\n",
       "      <th>bomrank</th>\n",
       "      <th>remove</th>\n",
       "      <th>bomtitle</th>\n",
       "      <th>imdblink</th>\n",
       "      <th>bomlink</th>\n",
       "      <th>studio</th>\n",
       "      <th>totalusgross$</th>\n",
       "      <th>totaltheater</th>\n",
       "      <th>openingusgross$</th>\n",
       "      <th>openingtheaters</th>\n",
       "      <th>opendate</th>\n",
       "      <th>closedate</th>\n",
       "      <th>critic ratings_avg</th>\n",
       "      <th>critic rating_var</th>\n",
       "      <th>user_avg</th>\n",
       "      <th>user_var</th>\n",
       "      <th>critic_ratings_comments</th>\n",
       "      <th>critic_ratings_list</th>\n",
       "    </tr>\n",
       "  </thead>\n",
       "  <tbody>\n",
       "    <tr>\n",
       "      <th>0</th>\n",
       "      <td>2004.0</td>\n",
       "      <td>1.0</td>\n",
       "      <td>NaN</td>\n",
       "      <td>Shrek 2</td>\n",
       "      <td>http://www.imdb.com/title/tt0298148/</td>\n",
       "      <td>http://www.boxofficemojo.com/movies/?id=shrek2...</td>\n",
       "      <td>DW</td>\n",
       "      <td>441226247.0</td>\n",
       "      <td>4223.0</td>\n",
       "      <td>108037878.0</td>\n",
       "      <td>4163.0</td>\n",
       "      <td>5/19</td>\n",
       "      <td>11/25</td>\n",
       "      <td>75.0</td>\n",
       "      <td>94.4</td>\n",
       "      <td>7.2</td>\n",
       "      <td>2.37960</td>\n",
       "      <td>Lightning strikes twice, but not as brilliant...</td>\n",
       "      <td>90.0||88.0||80.0||80.0||80.0||75.0||75.0||70.0...</td>\n",
       "    </tr>\n",
       "    <tr>\n",
       "      <th>1</th>\n",
       "      <td>2004.0</td>\n",
       "      <td>2.0</td>\n",
       "      <td>NaN</td>\n",
       "      <td>Spider-Man 2</td>\n",
       "      <td>http://www.imdb.com/title/tt0316654/</td>\n",
       "      <td>http://www.boxofficemojo.com/movies/?id=spider...</td>\n",
       "      <td>Sony</td>\n",
       "      <td>373585825.0</td>\n",
       "      <td>4166.0</td>\n",
       "      <td>88156227.0</td>\n",
       "      <td>4152.0</td>\n",
       "      <td>6/30</td>\n",
       "      <td>12/19</td>\n",
       "      <td>83.0</td>\n",
       "      <td>115.2</td>\n",
       "      <td>7.3</td>\n",
       "      <td>2.86249</td>\n",
       "      <td>The pleasure is doubled in Spider-Man 2. Crac...</td>\n",
       "      <td>100.0||100.0||100.0||91.0||90.0||90.0||88.0||8...</td>\n",
       "    </tr>\n",
       "    <tr>\n",
       "      <th>2</th>\n",
       "      <td>2004.0</td>\n",
       "      <td>3.0</td>\n",
       "      <td>NaN</td>\n",
       "      <td>The Passion of the Christ</td>\n",
       "      <td>http://www.imdb.com/title/tt0335345/</td>\n",
       "      <td>http://www.boxofficemojo.com/movies/?id=passio...</td>\n",
       "      <td>NM</td>\n",
       "      <td>370274604.0</td>\n",
       "      <td>3408.0</td>\n",
       "      <td>83848082.0</td>\n",
       "      <td>3043.0</td>\n",
       "      <td>2/25</td>\n",
       "      <td>7/29</td>\n",
       "      <td>47.0</td>\n",
       "      <td>663.9</td>\n",
       "      <td>7.2</td>\n",
       "      <td>6.34920</td>\n",
       "      <td>This is not a sermon or a homily, but a visua...</td>\n",
       "      <td>100.0||80.0||80.0||75.0||63.0||63.0||50.0||50....</td>\n",
       "    </tr>\n",
       "    <tr>\n",
       "      <th>3</th>\n",
       "      <td>2004.0</td>\n",
       "      <td>4.0</td>\n",
       "      <td>NaN</td>\n",
       "      <td>Meet the Fockers</td>\n",
       "      <td>http://www.imdb.com/title/tt0290002/</td>\n",
       "      <td>http://www.boxofficemojo.com/movies/?id=meetth...</td>\n",
       "      <td>Uni.</td>\n",
       "      <td>279261160.0</td>\n",
       "      <td>3554.0</td>\n",
       "      <td>46120980.0</td>\n",
       "      <td>3518.0</td>\n",
       "      <td>12/22</td>\n",
       "      <td>6/16</td>\n",
       "      <td>41.0</td>\n",
       "      <td>298.8</td>\n",
       "      <td>6.3</td>\n",
       "      <td>2.78720</td>\n",
       "      <td>One of those relatively rare comedies that's ...</td>\n",
       "      <td>70.0||63.0||60.0||60.0||50.0||50.0||50.0||40.0...</td>\n",
       "    </tr>\n",
       "    <tr>\n",
       "      <th>4</th>\n",
       "      <td>2004.0</td>\n",
       "      <td>5.0</td>\n",
       "      <td>NaN</td>\n",
       "      <td>The Incredibles</td>\n",
       "      <td>http://www.imdb.com/title/tt0317705/</td>\n",
       "      <td>http://www.boxofficemojo.com/movies/?id=incred...</td>\n",
       "      <td>BV</td>\n",
       "      <td>261441092.0</td>\n",
       "      <td>3933.0</td>\n",
       "      <td>70467623.0</td>\n",
       "      <td>3933.0</td>\n",
       "      <td>11/5</td>\n",
       "      <td>4/14</td>\n",
       "      <td>90.0</td>\n",
       "      <td>100.0</td>\n",
       "      <td>8.0</td>\n",
       "      <td>2.39500</td>\n",
       "      <td>Pixar again hitches top-notch storytelling to...</td>\n",
       "      <td>100.0||100.0||100.0||100.0||100.0||90.0||90.0|...</td>\n",
       "    </tr>\n",
       "  </tbody>\n",
       "</table>\n",
       "</div>"
      ],
      "text/plain": [
       "     year  bomrank  remove                   bomtitle  \\\n",
       "0  2004.0      1.0     NaN                    Shrek 2   \n",
       "1  2004.0      2.0     NaN               Spider-Man 2   \n",
       "2  2004.0      3.0     NaN  The Passion of the Christ   \n",
       "3  2004.0      4.0     NaN           Meet the Fockers   \n",
       "4  2004.0      5.0     NaN            The Incredibles   \n",
       "\n",
       "                               imdblink  \\\n",
       "0  http://www.imdb.com/title/tt0298148/   \n",
       "1  http://www.imdb.com/title/tt0316654/   \n",
       "2  http://www.imdb.com/title/tt0335345/   \n",
       "3  http://www.imdb.com/title/tt0290002/   \n",
       "4  http://www.imdb.com/title/tt0317705/   \n",
       "\n",
       "                                             bomlink studio  totalusgross$  \\\n",
       "0  http://www.boxofficemojo.com/movies/?id=shrek2...     DW    441226247.0   \n",
       "1  http://www.boxofficemojo.com/movies/?id=spider...   Sony    373585825.0   \n",
       "2  http://www.boxofficemojo.com/movies/?id=passio...     NM    370274604.0   \n",
       "3  http://www.boxofficemojo.com/movies/?id=meetth...   Uni.    279261160.0   \n",
       "4  http://www.boxofficemojo.com/movies/?id=incred...     BV    261441092.0   \n",
       "\n",
       "   totaltheater  openingusgross$  openingtheaters opendate closedate  \\\n",
       "0        4223.0      108037878.0           4163.0     5/19     11/25   \n",
       "1        4166.0       88156227.0           4152.0     6/30     12/19   \n",
       "2        3408.0       83848082.0           3043.0     2/25      7/29   \n",
       "3        3554.0       46120980.0           3518.0    12/22      6/16   \n",
       "4        3933.0       70467623.0           3933.0     11/5      4/14   \n",
       "\n",
       "   critic ratings_avg  critic rating_var  user_avg  user_var  \\\n",
       "0                75.0               94.4       7.2   2.37960   \n",
       "1                83.0              115.2       7.3   2.86249   \n",
       "2                47.0              663.9       7.2   6.34920   \n",
       "3                41.0              298.8       6.3   2.78720   \n",
       "4                90.0              100.0       8.0   2.39500   \n",
       "\n",
       "                             critic_ratings_comments  \\\n",
       "0   Lightning strikes twice, but not as brilliant...   \n",
       "1   The pleasure is doubled in Spider-Man 2. Crac...   \n",
       "2   This is not a sermon or a homily, but a visua...   \n",
       "3   One of those relatively rare comedies that's ...   \n",
       "4   Pixar again hitches top-notch storytelling to...   \n",
       "\n",
       "                                 critic_ratings_list  \n",
       "0  90.0||88.0||80.0||80.0||80.0||75.0||75.0||70.0...  \n",
       "1  100.0||100.0||100.0||91.0||90.0||90.0||88.0||8...  \n",
       "2  100.0||80.0||80.0||75.0||63.0||63.0||50.0||50....  \n",
       "3  70.0||63.0||60.0||60.0||50.0||50.0||50.0||40.0...  \n",
       "4  100.0||100.0||100.0||100.0||100.0||90.0||90.0|...  "
      ]
     },
     "execution_count": 215,
     "metadata": {},
     "output_type": "execute_result"
    }
   ],
   "source": [
    "boxOffice_Allfilled = pd.read_csv(\"boxOffice_Allfilled.csv\")\n",
    "Name_list = boxOffice_Allfilled.columns.tolist()\n",
    "Name_list = [item for item in Name_list if 'Unnamed' not in item]\n",
    "# kick out Unnamed columns for simplicity\n",
    "boxOffice_Allfilled = boxOffice_Allfilled[Name_list]\n",
    "boxOffice_Allfilled.head(5)"
   ]
  },
  {
   "cell_type": "code",
   "execution_count": 216,
   "metadata": {},
   "outputs": [
    {
     "name": "stdout",
     "output_type": "stream",
     "text": [
      "Num of blanks:  100\n"
     ]
    }
   ],
   "source": [
    "print('Num of blanks: ', len(boxOffice_Allfilled[boxOffice_Allfilled['critic ratings_avg'].isnull()]))"
   ]
  },
  {
   "cell_type": "code",
   "execution_count": 217,
   "metadata": {},
   "outputs": [
    {
     "name": "stdout",
     "output_type": "stream",
     "text": [
      "[[<matplotlib.axes._subplots.AxesSubplot object at 0x0000018333DC2C18>\n",
      "  <matplotlib.axes._subplots.AxesSubplot object at 0x0000018333E61278>]]\n"
     ]
    },
    {
     "data": {
      "image/png": "[encoded data removed]",
      "text/plain": [
       "<Figure size 864x432 with 2 Axes>"
      ]
     },
     "metadata": {},
     "output_type": "display_data"
    }
   ],
   "source": [
    "hist_Allfilled = boxOffice_Allfilled[['critic ratings_avg',\n",
    "                                      'critic rating_var']].hist(bins=20, figsize=[12, 6])\n",
    "print(hist_Allfilled)"
   ]
  },
  {
   "cell_type": "code",
   "execution_count": 259,
   "metadata": {},
   "outputs": [
    {
     "data": {
      "text/plain": [
       "Text(0.5, 1.0, \"User ratings'average vs.variance distribution\")"
      ]
     },
     "execution_count": 259,
     "metadata": {},
     "output_type": "execute_result"
    },
    {
     "data": {
      "image/png": "[encoded data removed]",
      "text/plain": [
       "<Figure size 432x288 with 1 Axes>"
      ]
     },
     "metadata": {},
     "output_type": "display_data"
    }
   ],
   "source": [
    "plot_Allfilled = boxOffice_Allfilled[(boxOffice_Allfilled['user_var'].notnull())&\n",
    "                                     (boxOffice_Allfilled['user_avg'].notnull())].reset_index(drop=True)\n",
    "user_avg = plot_Allfilled['user_avg'].values.tolist()\n",
    "user_var = plot_Allfilled['user_var'].values.tolist()\n",
    "critic_avg = plot_Allfilled['critic ratings_avg'].values.tolist()\n",
    "critic_var =plot_Allfilled['critic rating_var'].values.tolist()\n",
    "year =plot_Allfilled['year'].values.tolist()\n",
    "\n",
    "# plot\n",
    "plt.scatter(user_avg, user_var)\n",
    "plt.xlabel(\"user average score\")\n",
    "plt.ylabel(\"user variance\")\n",
    "plt.title(\"User ratings'average vs.variance distribution\")"
   ]
  },
  {
   "cell_type": "code",
   "execution_count": 258,
   "metadata": {},
   "outputs": [
    {
     "data": {
      "text/plain": [
       "Text(0.5, 1.0, \"Critic ratings'average vs.variance distribution\")"
      ]
     },
     "execution_count": 258,
     "metadata": {},
     "output_type": "execute_result"
    },
    {
     "data": {
      "image/png": "[encoded data removed]",
      "text/plain": [
       "<Figure size 432x288 with 1 Axes>"
      ]
     },
     "metadata": {},
     "output_type": "display_data"
    }
   ],
   "source": [
    "# plot\n",
    "plt.scatter(critic_avg, critic_var)\n",
    "plt.xlabel(\"critic average score\")\n",
    "plt.ylabel(\"critic variance\")\n",
    "plt.title(\"Critic ratings'average vs.variance distribution\")"
   ]
  },
  {
   "cell_type": "code",
   "execution_count": 262,
   "metadata": {},
   "outputs": [
    {
     "data": {
      "image/png": "[encoded data removed]",
      "text/plain": [
       "<Figure size 432x288 with 2 Axes>"
      ]
     },
     "metadata": {},
     "output_type": "display_data"
    }
   ],
   "source": [
    "# one example for further visualization\n",
    "# heatmap plot samples\n",
    "flights = sns.load_dataset(\"flights\")\n",
    "flights = flights.pivot(\"month\", \"year\", \"passengers\")\n",
    "ax = sns.heatmap(flights)"
   ]
  },
  {
   "cell_type": "code",
   "execution_count": null,
   "metadata": {},
   "outputs": [],
   "source": []
  }
 ],
 "metadata": {
  "kernelspec": {
   "display_name": "Python 3",
   "language": "python",
   "name": "python3"
  },
  "language_info": {
   "codemirror_mode": {
    "name": "ipython",
    "version": 3
   },
   "file_extension": ".py",
   "mimetype": "text/x-python",
   "name": "python",
   "nbconvert_exporter": "python",
   "pygments_lexer": "ipython3",
   "version": "3.6.5"
  }
 },
 "nbformat": 4,
 "nbformat_minor": 2
}
