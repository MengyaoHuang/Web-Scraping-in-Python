{
  "nbformat": 4,
  "nbformat_minor": 0,
  "metadata": {
    "colab": {
      "name": "seasonality_score_scraping_boxOffice.ipynb",
      "provenance": [],
      "collapsed_sections": []
    },
    "kernelspec": {
      "name": "python3",
      "display_name": "Python 3"
    }
  },
  "cells": [
    {
      "cell_type": "markdown",
      "metadata": {
        "id": "3jCNw2jKxfw9",
        "colab_type": "text"
      },
      "source": [
        "## Extract Seasonality variables from boxoffice website"
      ]
    },
    {
      "cell_type": "code",
      "metadata": {
        "id": "6dlDp-6IpG9s",
        "colab_type": "code",
        "colab": {
          "base_uri": "https://localhost:8080/",
          "height": 141
        },
        "outputId": "5e01d537-e726-4ba4-924c-d4562891d7d7"
      },
      "source": [
        "!pip install Selenium"
      ],
      "execution_count": 2,
      "outputs": [
        {
          "output_type": "stream",
          "text": [
            "Collecting Selenium\n",
            "\u001b[?25l  Downloading https://files.pythonhosted.org/packages/80/d6/4294f0b4bce4de0abf13e17190289f9d0613b0a44e5dd6a7f5ca98459853/selenium-3.141.0-py2.py3-none-any.whl (904kB)\n",
            "\u001b[K     |████████████████████████████████| 911kB 3.6MB/s \n",
            "\u001b[?25hRequirement already satisfied: urllib3 in /usr/local/lib/python3.6/dist-packages (from Selenium) (1.24.3)\n",
            "Installing collected packages: Selenium\n",
            "Successfully installed Selenium-3.141.0\n"
          ],
          "name": "stdout"
        }
      ]
    },
    {
      "cell_type": "code",
      "metadata": {
        "id": "OXT39iZKgyXK",
        "colab_type": "code",
        "colab": {}
      },
      "source": [
        "from selenium import webdriver\n",
        "from selenium.webdriver.common.keys import Keys\n",
        "from selenium.webdriver.support import expected_conditions as EC\n",
        "import os\n",
        "import time\n",
        "import pandas as pd\n",
        "import re\n",
        "from datetime import datetime, timedelta"
      ],
      "execution_count": 0,
      "outputs": []
    },
    {
      "cell_type": "code",
      "metadata": {
        "id": "8ekMPaNtg88G",
        "colab_type": "code",
        "colab": {}
      },
      "source": [
        "import requests\n",
        "import urllib\n",
        "import urllib.request\n",
        "import time\n",
        "import re\n",
        "from bs4 import BeautifulSoup\n",
        "from IPython.core.display import HTML\n",
        "\n",
        "import pandas as pd\n",
        "import numpy as np\n",
        "import warnings\n",
        "warnings.filterwarnings(\"ignore\")\n",
        "import copy\n",
        "import datetime \n",
        "from collections import Counter\n",
        "\n",
        "import selenium\n",
        "from IPython.display import clear_output\n",
        "import matplotlib.pyplot as plt\n",
        "%matplotlib inline"
      ],
      "execution_count": 0,
      "outputs": []
    },
    {
      "cell_type": "code",
      "metadata": {
        "id": "DxJAqt1om_e_",
        "colab_type": "code",
        "colab": {}
      },
      "source": [
        "def cutGrossNum(string_check, start_ = \"$\", end_=[\"+\", \"-\"]):\n",
        "  gross = \"\"\n",
        "  loc = string_check.find(start_) + 1\n",
        "  for j in range(loc, len(string_check)):\n",
        "    if string_check[j] in end_:\n",
        "      gross = gross.replace(\",\", \"\")\n",
        "      return int(gross)\n",
        "    else:\n",
        "      gross = gross + string_check[j]\n",
        "  # return none value find\n",
        "  return np.nan"
      ],
      "execution_count": 0,
      "outputs": []
    },
    {
      "cell_type": "code",
      "metadata": {
        "id": "HYaA4jMotcgb",
        "colab_type": "code",
        "colab": {
          "base_uri": "https://localhost:8080/",
          "height": 121
        },
        "outputId": "85421a6e-3bc9-4e34-ec6e-14c67d6d0d3a"
      },
      "source": [
        "filled_set = pd.read_csv(\"Film-masterfile (from 'film-merge-8th.dta')-filled.csv\")\n",
        "filled_set['releasedate'] =  pd.to_datetime(filled_set['releasedate'])\n",
        "filled_set['releasedate'].head(5)"
      ],
      "execution_count": 35,
      "outputs": [
        {
          "output_type": "execute_result",
          "data": {
            "text/plain": [
              "0   2013-09-20\n",
              "1   2012-07-12\n",
              "2   2012-09-07\n",
              "3   2014-08-29\n",
              "4   2015-10-21\n",
              "Name: releasedate, dtype: datetime64[ns]"
            ]
          },
          "metadata": {
            "tags": []
          },
          "execution_count": 35
        }
      ]
    },
    {
      "cell_type": "code",
      "metadata": {
        "id": "ypz2_zlcrjl6",
        "colab_type": "code",
        "colab": {
          "base_uri": "https://localhost:8080/",
          "height": 86
        },
        "outputId": "fa04315b-04b5-433d-a27e-43881ff017d5"
      },
      "source": [
        "# simple test to exact date info extraction\n",
        "print(filled_set['releasedate'].min())\n",
        "print(filled_set['releasedate'].min().year)\n",
        "print(filled_set['releasedate'].min().month)\n",
        "print(filled_set['releasedate'].max())"
      ],
      "execution_count": 38,
      "outputs": [
        {
          "output_type": "stream",
          "text": [
            "2004-01-09 00:00:00\n",
            "2004\n",
            "1\n",
            "2015-12-30 00:00:00\n"
          ],
          "name": "stdout"
        }
      ]
    },
    {
      "cell_type": "code",
      "metadata": {
        "id": "eyAaeYOVncw1",
        "colab_type": "code",
        "colab": {
          "base_uri": "https://localhost:8080/",
          "height": 215
        },
        "outputId": "d8443e78-b7eb-45fd-a1e1-e5c71ae05d4c"
      },
      "source": [
        "# create a dataframe to record all info from boxoffice \n",
        "# initialization a single year dataset\n",
        "WEEKS = 52\n",
        "YEAR_START = 2002\n",
        "YEAR_END = 2015\n",
        "columns_name = [ 'year' , 'week', 'boxOfficeUrl', 'dateString',\n",
        "                'startDate', 'endDate', 'gross', 'totalMovies']\n",
        "dataframe_boxoffice_year = pd.DataFrame(index=np.arange(WEEKS), columns=columns_name)\n",
        "# initialize the dateframe for all years collected\n",
        "dataframe_boxoffice = pd.DataFrame()\n",
        "for index_ in range(YEAR_START, YEAR_END+1):\n",
        "  dataframe_boxoffice_year['year'] = index_\n",
        "  dataframe_boxoffice_year['week'] = range(1, WEEKS+1)\n",
        "  dataframe_boxoffice = dataframe_boxoffice.append(dataframe_boxoffice_year)\n",
        "# reset_index\n",
        "dataframe_boxoffice = dataframe_boxoffice.reset_index(drop=True)\n",
        "\n",
        "# check shape \n",
        "print(dataframe_boxoffice.shape)\n",
        "dataframe_boxoffice.head(5)"
      ],
      "execution_count": 190,
      "outputs": [
        {
          "output_type": "stream",
          "text": [
            "(728, 8)\n"
          ],
          "name": "stdout"
        },
        {
          "output_type": "execute_result",
          "data": {
            "text/html": [
              "<div>\n",
              "<style scoped>\n",
              "    .dataframe tbody tr th:only-of-type {\n",
              "        vertical-align: middle;\n",
              "    }\n",
              "\n",
              "    .dataframe tbody tr th {\n",
              "        vertical-align: top;\n",
              "    }\n",
              "\n",
              "    .dataframe thead th {\n",
              "        text-align: right;\n",
              "    }\n",
              "</style>\n",
              "<table border=\"1\" class=\"dataframe\">\n",
              "  <thead>\n",
              "    <tr style=\"text-align: right;\">\n",
              "      <th></th>\n",
              "      <th>year</th>\n",
              "      <th>week</th>\n",
              "      <th>boxOfficeUrl</th>\n",
              "      <th>dateString</th>\n",
              "      <th>startDate</th>\n",
              "      <th>endDate</th>\n",
              "      <th>gross</th>\n",
              "      <th>totalMovies</th>\n",
              "    </tr>\n",
              "  </thead>\n",
              "  <tbody>\n",
              "    <tr>\n",
              "      <th>0</th>\n",
              "      <td>2002</td>\n",
              "      <td>1</td>\n",
              "      <td>NaN</td>\n",
              "      <td>NaN</td>\n",
              "      <td>NaN</td>\n",
              "      <td>NaN</td>\n",
              "      <td>NaN</td>\n",
              "      <td>NaN</td>\n",
              "    </tr>\n",
              "    <tr>\n",
              "      <th>1</th>\n",
              "      <td>2002</td>\n",
              "      <td>2</td>\n",
              "      <td>NaN</td>\n",
              "      <td>NaN</td>\n",
              "      <td>NaN</td>\n",
              "      <td>NaN</td>\n",
              "      <td>NaN</td>\n",
              "      <td>NaN</td>\n",
              "    </tr>\n",
              "    <tr>\n",
              "      <th>2</th>\n",
              "      <td>2002</td>\n",
              "      <td>3</td>\n",
              "      <td>NaN</td>\n",
              "      <td>NaN</td>\n",
              "      <td>NaN</td>\n",
              "      <td>NaN</td>\n",
              "      <td>NaN</td>\n",
              "      <td>NaN</td>\n",
              "    </tr>\n",
              "    <tr>\n",
              "      <th>3</th>\n",
              "      <td>2002</td>\n",
              "      <td>4</td>\n",
              "      <td>NaN</td>\n",
              "      <td>NaN</td>\n",
              "      <td>NaN</td>\n",
              "      <td>NaN</td>\n",
              "      <td>NaN</td>\n",
              "      <td>NaN</td>\n",
              "    </tr>\n",
              "    <tr>\n",
              "      <th>4</th>\n",
              "      <td>2002</td>\n",
              "      <td>5</td>\n",
              "      <td>NaN</td>\n",
              "      <td>NaN</td>\n",
              "      <td>NaN</td>\n",
              "      <td>NaN</td>\n",
              "      <td>NaN</td>\n",
              "      <td>NaN</td>\n",
              "    </tr>\n",
              "  </tbody>\n",
              "</table>\n",
              "</div>"
            ],
            "text/plain": [
              "   year  week boxOfficeUrl dateString startDate endDate gross totalMovies\n",
              "0  2002     1          NaN        NaN       NaN     NaN   NaN         NaN\n",
              "1  2002     2          NaN        NaN       NaN     NaN   NaN         NaN\n",
              "2  2002     3          NaN        NaN       NaN     NaN   NaN         NaN\n",
              "3  2002     4          NaN        NaN       NaN     NaN   NaN         NaN\n",
              "4  2002     5          NaN        NaN       NaN     NaN   NaN         NaN"
            ]
          },
          "metadata": {
            "tags": []
          },
          "execution_count": 190
        }
      ]
    },
    {
      "cell_type": "code",
      "metadata": {
        "id": "Klmf966KyWXl",
        "colab_type": "code",
        "colab": {
          "base_uri": "https://localhost:8080/",
          "height": 215
        },
        "outputId": "6a9d98e8-f539-4ed0-fe39-c9ccc013bd28"
      },
      "source": [
        "# fill in the url column by year and week column\n",
        "dataframe_boxoffice['year'] = dataframe_boxoffice['year'].apply(str)\n",
        "dataframe_boxoffice['week'] = dataframe_boxoffice['week'].apply(str)\n",
        "dataframe_boxoffice['boxOfficeUrl'] = \"https://www.boxofficemojo.com/weekly/chart/?yr=\" + \\\n",
        "                                       dataframe_boxoffice['year'] + \"&wk=\" + \\\n",
        "                                       dataframe_boxoffice['week'] + \"&p=.htm\"\n",
        "print(dataframe_boxoffice['boxOfficeUrl'][100])\n",
        "dataframe_boxoffice.head(5)"
      ],
      "execution_count": 191,
      "outputs": [
        {
          "output_type": "stream",
          "text": [
            "https://www.boxofficemojo.com/weekly/chart/?yr=2003&wk=49&p=.htm\n"
          ],
          "name": "stdout"
        },
        {
          "output_type": "execute_result",
          "data": {
            "text/html": [
              "<div>\n",
              "<style scoped>\n",
              "    .dataframe tbody tr th:only-of-type {\n",
              "        vertical-align: middle;\n",
              "    }\n",
              "\n",
              "    .dataframe tbody tr th {\n",
              "        vertical-align: top;\n",
              "    }\n",
              "\n",
              "    .dataframe thead th {\n",
              "        text-align: right;\n",
              "    }\n",
              "</style>\n",
              "<table border=\"1\" class=\"dataframe\">\n",
              "  <thead>\n",
              "    <tr style=\"text-align: right;\">\n",
              "      <th></th>\n",
              "      <th>year</th>\n",
              "      <th>week</th>\n",
              "      <th>boxOfficeUrl</th>\n",
              "      <th>dateString</th>\n",
              "      <th>startDate</th>\n",
              "      <th>endDate</th>\n",
              "      <th>gross</th>\n",
              "      <th>totalMovies</th>\n",
              "    </tr>\n",
              "  </thead>\n",
              "  <tbody>\n",
              "    <tr>\n",
              "      <th>0</th>\n",
              "      <td>2002</td>\n",
              "      <td>1</td>\n",
              "      <td>https://www.boxofficemojo.com/weekly/chart/?yr...</td>\n",
              "      <td>NaN</td>\n",
              "      <td>NaN</td>\n",
              "      <td>NaN</td>\n",
              "      <td>NaN</td>\n",
              "      <td>NaN</td>\n",
              "    </tr>\n",
              "    <tr>\n",
              "      <th>1</th>\n",
              "      <td>2002</td>\n",
              "      <td>2</td>\n",
              "      <td>https://www.boxofficemojo.com/weekly/chart/?yr...</td>\n",
              "      <td>NaN</td>\n",
              "      <td>NaN</td>\n",
              "      <td>NaN</td>\n",
              "      <td>NaN</td>\n",
              "      <td>NaN</td>\n",
              "    </tr>\n",
              "    <tr>\n",
              "      <th>2</th>\n",
              "      <td>2002</td>\n",
              "      <td>3</td>\n",
              "      <td>https://www.boxofficemojo.com/weekly/chart/?yr...</td>\n",
              "      <td>NaN</td>\n",
              "      <td>NaN</td>\n",
              "      <td>NaN</td>\n",
              "      <td>NaN</td>\n",
              "      <td>NaN</td>\n",
              "    </tr>\n",
              "    <tr>\n",
              "      <th>3</th>\n",
              "      <td>2002</td>\n",
              "      <td>4</td>\n",
              "      <td>https://www.boxofficemojo.com/weekly/chart/?yr...</td>\n",
              "      <td>NaN</td>\n",
              "      <td>NaN</td>\n",
              "      <td>NaN</td>\n",
              "      <td>NaN</td>\n",
              "      <td>NaN</td>\n",
              "    </tr>\n",
              "    <tr>\n",
              "      <th>4</th>\n",
              "      <td>2002</td>\n",
              "      <td>5</td>\n",
              "      <td>https://www.boxofficemojo.com/weekly/chart/?yr...</td>\n",
              "      <td>NaN</td>\n",
              "      <td>NaN</td>\n",
              "      <td>NaN</td>\n",
              "      <td>NaN</td>\n",
              "      <td>NaN</td>\n",
              "    </tr>\n",
              "  </tbody>\n",
              "</table>\n",
              "</div>"
            ],
            "text/plain": [
              "   year week  ... gross totalMovies\n",
              "0  2002    1  ...   NaN         NaN\n",
              "1  2002    2  ...   NaN         NaN\n",
              "2  2002    3  ...   NaN         NaN\n",
              "3  2002    4  ...   NaN         NaN\n",
              "4  2002    5  ...   NaN         NaN\n",
              "\n",
              "[5 rows x 8 columns]"
            ]
          },
          "metadata": {
            "tags": []
          },
          "execution_count": 191
        }
      ]
    },
    {
      "cell_type": "code",
      "metadata": {
        "id": "f6zFIiVf6ItS",
        "colab_type": "code",
        "colab": {
          "base_uri": "https://localhost:8080/",
          "height": 155
        },
        "outputId": "ef377305-a056-4ce5-dfab-8b4c0d7bb010"
      },
      "source": [
        "# Now fill in the dateString and gross and totalMovies column\n",
        "keywords = \"TOTAL\"\n",
        "for ii in range(dataframe_boxoffice.shape[0]):\n",
        "  # extract url address\n",
        "  boxOffice_ = dataframe_boxoffice['boxOfficeUrl'][ii]\n",
        "  # extract page source for each url address\n",
        "  response = requests.get(boxOffice_)\n",
        "  soup = BeautifulSoup(response.text, \"html.parser\")\n",
        "\n",
        "  # fill in dateString\n",
        "  dataframe_boxoffice['dateString'][ii] = soup.find(\"title\").text\n",
        "  # fill in gross and total number of movies \n",
        "  filter_string = soup.find_all(\"tr\", attrs={\"bgcolor\":\"#dcdcdc\"})\n",
        "  for jj in range(len(filter_string)):\n",
        "    if keywords in filter_string[jj].text:\n",
        "      # cut movie number here\n",
        "      dataframe_boxoffice['totalMovies'][ii] = int(filter_string[jj].text.split(\" \")[1][1:])\n",
        "      dataframe_boxoffice['gross'][ii] = cutGrossNum(filter_string[jj].text)\n",
        "      break\n",
        "  # process\n",
        "  if ii%100 == 0:\n",
        "    print(ii)"
      ],
      "execution_count": 192,
      "outputs": [
        {
          "output_type": "stream",
          "text": [
            "0\n",
            "100\n",
            "200\n",
            "300\n",
            "400\n",
            "500\n",
            "600\n",
            "700\n"
          ],
          "name": "stdout"
        }
      ]
    },
    {
      "cell_type": "code",
      "metadata": {
        "id": "0ybS6PWL6IpP",
        "colab_type": "code",
        "colab": {
          "base_uri": "https://localhost:8080/",
          "height": 198
        },
        "outputId": "e16b973b-907c-4947-93b7-6631b338e6f4"
      },
      "source": [
        "# fill in start date and end date\n",
        "dataframe_boxoffice.head(5)"
      ],
      "execution_count": 193,
      "outputs": [
        {
          "output_type": "execute_result",
          "data": {
            "text/html": [
              "<div>\n",
              "<style scoped>\n",
              "    .dataframe tbody tr th:only-of-type {\n",
              "        vertical-align: middle;\n",
              "    }\n",
              "\n",
              "    .dataframe tbody tr th {\n",
              "        vertical-align: top;\n",
              "    }\n",
              "\n",
              "    .dataframe thead th {\n",
              "        text-align: right;\n",
              "    }\n",
              "</style>\n",
              "<table border=\"1\" class=\"dataframe\">\n",
              "  <thead>\n",
              "    <tr style=\"text-align: right;\">\n",
              "      <th></th>\n",
              "      <th>year</th>\n",
              "      <th>week</th>\n",
              "      <th>boxOfficeUrl</th>\n",
              "      <th>dateString</th>\n",
              "      <th>startDate</th>\n",
              "      <th>endDate</th>\n",
              "      <th>gross</th>\n",
              "      <th>totalMovies</th>\n",
              "    </tr>\n",
              "  </thead>\n",
              "  <tbody>\n",
              "    <tr>\n",
              "      <th>0</th>\n",
              "      <td>2002</td>\n",
              "      <td>1</td>\n",
              "      <td>https://www.boxofficemojo.com/weekly/chart/?yr...</td>\n",
              "      <td>Weekly Box Office Results for January 4-10, 20...</td>\n",
              "      <td>NaN</td>\n",
              "      <td>NaN</td>\n",
              "      <td>160260760</td>\n",
              "      <td>54</td>\n",
              "    </tr>\n",
              "    <tr>\n",
              "      <th>1</th>\n",
              "      <td>2002</td>\n",
              "      <td>2</td>\n",
              "      <td>https://www.boxofficemojo.com/weekly/chart/?yr...</td>\n",
              "      <td>Weekly Box Office Results for January 11-17, 2...</td>\n",
              "      <td>NaN</td>\n",
              "      <td>NaN</td>\n",
              "      <td>138189002</td>\n",
              "      <td>54</td>\n",
              "    </tr>\n",
              "    <tr>\n",
              "      <th>2</th>\n",
              "      <td>2002</td>\n",
              "      <td>3</td>\n",
              "      <td>https://www.boxofficemojo.com/weekly/chart/?yr...</td>\n",
              "      <td>Weekly Box Office Results for January 18-24, 2...</td>\n",
              "      <td>NaN</td>\n",
              "      <td>NaN</td>\n",
              "      <td>176703388</td>\n",
              "      <td>48</td>\n",
              "    </tr>\n",
              "    <tr>\n",
              "      <th>3</th>\n",
              "      <td>2002</td>\n",
              "      <td>4</td>\n",
              "      <td>https://www.boxofficemojo.com/weekly/chart/?yr...</td>\n",
              "      <td>Weekly Box Office Results for January 25-31, 2...</td>\n",
              "      <td>NaN</td>\n",
              "      <td>NaN</td>\n",
              "      <td>164197937</td>\n",
              "      <td>55</td>\n",
              "    </tr>\n",
              "    <tr>\n",
              "      <th>4</th>\n",
              "      <td>2002</td>\n",
              "      <td>5</td>\n",
              "      <td>https://www.boxofficemojo.com/weekly/chart/?yr...</td>\n",
              "      <td>Weekly Box Office Results for February 1-7, 20...</td>\n",
              "      <td>NaN</td>\n",
              "      <td>NaN</td>\n",
              "      <td>125959322</td>\n",
              "      <td>56</td>\n",
              "    </tr>\n",
              "  </tbody>\n",
              "</table>\n",
              "</div>"
            ],
            "text/plain": [
              "   year week  ...      gross totalMovies\n",
              "0  2002    1  ...  160260760          54\n",
              "1  2002    2  ...  138189002          54\n",
              "2  2002    3  ...  176703388          48\n",
              "3  2002    4  ...  164197937          55\n",
              "4  2002    5  ...  125959322          56\n",
              "\n",
              "[5 rows x 8 columns]"
            ]
          },
          "metadata": {
            "tags": []
          },
          "execution_count": 193
        }
      ]
    },
    {
      "cell_type": "code",
      "metadata": {
        "id": "sEMSVHyqJ2na",
        "colab_type": "code",
        "colab": {
          "base_uri": "https://localhost:8080/",
          "height": 48
        },
        "outputId": "764c7a11-144e-408a-a72f-29a34c7401d1"
      },
      "source": [
        "# check if all dateString contains date info\n",
        "dataframe_boxoffice[~dataframe_boxoffice['dateString'].str.contains('\\d', regex=True)]"
      ],
      "execution_count": 194,
      "outputs": [
        {
          "output_type": "execute_result",
          "data": {
            "text/html": [
              "<div>\n",
              "<style scoped>\n",
              "    .dataframe tbody tr th:only-of-type {\n",
              "        vertical-align: middle;\n",
              "    }\n",
              "\n",
              "    .dataframe tbody tr th {\n",
              "        vertical-align: top;\n",
              "    }\n",
              "\n",
              "    .dataframe thead th {\n",
              "        text-align: right;\n",
              "    }\n",
              "</style>\n",
              "<table border=\"1\" class=\"dataframe\">\n",
              "  <thead>\n",
              "    <tr style=\"text-align: right;\">\n",
              "      <th></th>\n",
              "      <th>year</th>\n",
              "      <th>week</th>\n",
              "      <th>boxOfficeUrl</th>\n",
              "      <th>dateString</th>\n",
              "      <th>startDate</th>\n",
              "      <th>endDate</th>\n",
              "      <th>gross</th>\n",
              "      <th>totalMovies</th>\n",
              "    </tr>\n",
              "  </thead>\n",
              "  <tbody>\n",
              "  </tbody>\n",
              "</table>\n",
              "</div>"
            ],
            "text/plain": [
              "Empty DataFrame\n",
              "Columns: [year, week, boxOfficeUrl, dateString, startDate, endDate, gross, totalMovies]\n",
              "Index: []"
            ]
          },
          "metadata": {
            "tags": []
          },
          "execution_count": 194
        }
      ]
    },
    {
      "cell_type": "code",
      "metadata": {
        "id": "wCPy2vspJoJw",
        "colab_type": "code",
        "colab": {}
      },
      "source": [
        "# deal with dateString column function\n",
        "def timeBoundExtract(dateString_, length_ = 4, keywords_ = \"December\"):\n",
        "  string = dateString_.replace(\"Weekly Box Office Results for \", \"\").replace(\" - Box Office Mojo\", \"\")\n",
        "  # separate year and month-date info\n",
        "  year_string = string[-4:]\n",
        "  month_date_string = string[:-6]\n",
        "  temp_list = month_date_string.split(\"-\")\n",
        "\n",
        "  if len(temp_list[1]) >= length_:\n",
        "    # this type contains both month name in two elements\n",
        "    if keywords_ in temp_list[0]:\n",
        "      # here means across the year\n",
        "      temp_list[1] = temp_list[1] + \" \" + year_string\n",
        "      temp_list[0] = temp_list[0] + \" \" + str(int(year_string)-1)\n",
        "    else:\n",
        "      # here means simply across the month\n",
        "      temp_list[0] = temp_list[0] + \" \" + year_string\n",
        "      temp_list[1] = temp_list[1] + \" \" + year_string\n",
        "  else:\n",
        "    # week simply within same month-year\n",
        "    month_string = temp_list[0].split(\" \")[0]\n",
        "    temp_list[0] = temp_list[0] + \" \" + year_string\n",
        "    temp_list[1] = month_string + \" \" + temp_list[1] + \" \" + year_string\n",
        "  # turn temp_list into timestamp finally\n",
        "  temp_list[0] = pd.to_datetime(temp_list[0], infer_datetime_format=True)\n",
        "  temp_list[1] = pd.to_datetime(temp_list[1], infer_datetime_format=True)\n",
        "  return temp_list"
      ],
      "execution_count": 0,
      "outputs": []
    },
    {
      "cell_type": "code",
      "metadata": {
        "id": "lvHA41gYQX50",
        "colab_type": "code",
        "colab": {
          "base_uri": "https://localhost:8080/",
          "height": 155
        },
        "outputId": "66a53efd-9c49-4aa6-e50c-7de03e39d76b"
      },
      "source": [
        "for ii in range(dataframe_boxoffice.shape[0]):\n",
        "  content = dataframe_boxoffice['dateString'][ii]\n",
        "  time_list = timeBoundExtract(content)\n",
        "  dataframe_boxoffice['startDate'][ii] = time_list[0]\n",
        "  dataframe_boxoffice['endDate'][ii] = time_list[1]\n",
        "  # process\n",
        "  if ii%100 == 0:\n",
        "    print(ii)"
      ],
      "execution_count": 196,
      "outputs": [
        {
          "output_type": "stream",
          "text": [
            "0\n",
            "100\n",
            "200\n",
            "300\n",
            "400\n",
            "500\n",
            "600\n",
            "700\n"
          ],
          "name": "stdout"
        }
      ]
    },
    {
      "cell_type": "code",
      "metadata": {
        "id": "wcn6NroRQX3h",
        "colab_type": "code",
        "colab": {
          "base_uri": "https://localhost:8080/",
          "height": 648
        },
        "outputId": "bcd56e08-b284-4ff1-a346-c824d55a5efa"
      },
      "source": [
        "dataframe_boxoffice.head(20)"
      ],
      "execution_count": 197,
      "outputs": [
        {
          "output_type": "execute_result",
          "data": {
            "text/html": [
              "<div>\n",
              "<style scoped>\n",
              "    .dataframe tbody tr th:only-of-type {\n",
              "        vertical-align: middle;\n",
              "    }\n",
              "\n",
              "    .dataframe tbody tr th {\n",
              "        vertical-align: top;\n",
              "    }\n",
              "\n",
              "    .dataframe thead th {\n",
              "        text-align: right;\n",
              "    }\n",
              "</style>\n",
              "<table border=\"1\" class=\"dataframe\">\n",
              "  <thead>\n",
              "    <tr style=\"text-align: right;\">\n",
              "      <th></th>\n",
              "      <th>year</th>\n",
              "      <th>week</th>\n",
              "      <th>boxOfficeUrl</th>\n",
              "      <th>dateString</th>\n",
              "      <th>startDate</th>\n",
              "      <th>endDate</th>\n",
              "      <th>gross</th>\n",
              "      <th>totalMovies</th>\n",
              "    </tr>\n",
              "  </thead>\n",
              "  <tbody>\n",
              "    <tr>\n",
              "      <th>0</th>\n",
              "      <td>2002</td>\n",
              "      <td>1</td>\n",
              "      <td>https://www.boxofficemojo.com/weekly/chart/?yr...</td>\n",
              "      <td>Weekly Box Office Results for January 4-10, 20...</td>\n",
              "      <td>2002-01-04 00:00:00</td>\n",
              "      <td>2002-01-10 00:00:00</td>\n",
              "      <td>160260760</td>\n",
              "      <td>54</td>\n",
              "    </tr>\n",
              "    <tr>\n",
              "      <th>1</th>\n",
              "      <td>2002</td>\n",
              "      <td>2</td>\n",
              "      <td>https://www.boxofficemojo.com/weekly/chart/?yr...</td>\n",
              "      <td>Weekly Box Office Results for January 11-17, 2...</td>\n",
              "      <td>2002-01-11 00:00:00</td>\n",
              "      <td>2002-01-17 00:00:00</td>\n",
              "      <td>138189002</td>\n",
              "      <td>54</td>\n",
              "    </tr>\n",
              "    <tr>\n",
              "      <th>2</th>\n",
              "      <td>2002</td>\n",
              "      <td>3</td>\n",
              "      <td>https://www.boxofficemojo.com/weekly/chart/?yr...</td>\n",
              "      <td>Weekly Box Office Results for January 18-24, 2...</td>\n",
              "      <td>2002-01-18 00:00:00</td>\n",
              "      <td>2002-01-24 00:00:00</td>\n",
              "      <td>176703388</td>\n",
              "      <td>48</td>\n",
              "    </tr>\n",
              "    <tr>\n",
              "      <th>3</th>\n",
              "      <td>2002</td>\n",
              "      <td>4</td>\n",
              "      <td>https://www.boxofficemojo.com/weekly/chart/?yr...</td>\n",
              "      <td>Weekly Box Office Results for January 25-31, 2...</td>\n",
              "      <td>2002-01-25 00:00:00</td>\n",
              "      <td>2002-01-31 00:00:00</td>\n",
              "      <td>164197937</td>\n",
              "      <td>55</td>\n",
              "    </tr>\n",
              "    <tr>\n",
              "      <th>4</th>\n",
              "      <td>2002</td>\n",
              "      <td>5</td>\n",
              "      <td>https://www.boxofficemojo.com/weekly/chart/?yr...</td>\n",
              "      <td>Weekly Box Office Results for February 1-7, 20...</td>\n",
              "      <td>2002-02-01 00:00:00</td>\n",
              "      <td>2002-02-07 00:00:00</td>\n",
              "      <td>125959322</td>\n",
              "      <td>56</td>\n",
              "    </tr>\n",
              "    <tr>\n",
              "      <th>5</th>\n",
              "      <td>2002</td>\n",
              "      <td>6</td>\n",
              "      <td>https://www.boxofficemojo.com/weekly/chart/?yr...</td>\n",
              "      <td>Weekly Box Office Results for February 8-14, 2...</td>\n",
              "      <td>2002-02-08 00:00:00</td>\n",
              "      <td>2002-02-14 00:00:00</td>\n",
              "      <td>135636421</td>\n",
              "      <td>57</td>\n",
              "    </tr>\n",
              "    <tr>\n",
              "      <th>6</th>\n",
              "      <td>2002</td>\n",
              "      <td>7</td>\n",
              "      <td>https://www.boxofficemojo.com/weekly/chart/?yr...</td>\n",
              "      <td>Weekly Box Office Results for February 15-21, ...</td>\n",
              "      <td>2002-02-15 00:00:00</td>\n",
              "      <td>2002-02-21 00:00:00</td>\n",
              "      <td>192176483</td>\n",
              "      <td>56</td>\n",
              "    </tr>\n",
              "    <tr>\n",
              "      <th>7</th>\n",
              "      <td>2002</td>\n",
              "      <td>8</td>\n",
              "      <td>https://www.boxofficemojo.com/weekly/chart/?yr...</td>\n",
              "      <td>Weekly Box Office Results for February 22-28, ...</td>\n",
              "      <td>2002-02-22 00:00:00</td>\n",
              "      <td>2002-02-28 00:00:00</td>\n",
              "      <td>135869548</td>\n",
              "      <td>58</td>\n",
              "    </tr>\n",
              "    <tr>\n",
              "      <th>8</th>\n",
              "      <td>2002</td>\n",
              "      <td>9</td>\n",
              "      <td>https://www.boxofficemojo.com/weekly/chart/?yr...</td>\n",
              "      <td>Weekly Box Office Results for March 1-7, 2002 ...</td>\n",
              "      <td>2002-03-01 00:00:00</td>\n",
              "      <td>2002-03-07 00:00:00</td>\n",
              "      <td>133835495</td>\n",
              "      <td>60</td>\n",
              "    </tr>\n",
              "    <tr>\n",
              "      <th>9</th>\n",
              "      <td>2002</td>\n",
              "      <td>10</td>\n",
              "      <td>https://www.boxofficemojo.com/weekly/chart/?yr...</td>\n",
              "      <td>Weekly Box Office Results for March 8-14, 2002...</td>\n",
              "      <td>2002-03-08 00:00:00</td>\n",
              "      <td>2002-03-14 00:00:00</td>\n",
              "      <td>138475523</td>\n",
              "      <td>61</td>\n",
              "    </tr>\n",
              "    <tr>\n",
              "      <th>10</th>\n",
              "      <td>2002</td>\n",
              "      <td>11</td>\n",
              "      <td>https://www.boxofficemojo.com/weekly/chart/?yr...</td>\n",
              "      <td>Weekly Box Office Results for March 15-21, 200...</td>\n",
              "      <td>2002-03-15 00:00:00</td>\n",
              "      <td>2002-03-21 00:00:00</td>\n",
              "      <td>176533038</td>\n",
              "      <td>60</td>\n",
              "    </tr>\n",
              "    <tr>\n",
              "      <th>11</th>\n",
              "      <td>2002</td>\n",
              "      <td>12</td>\n",
              "      <td>https://www.boxofficemojo.com/weekly/chart/?yr...</td>\n",
              "      <td>Weekly Box Office Results for March 22-28, 200...</td>\n",
              "      <td>2002-03-22 00:00:00</td>\n",
              "      <td>2002-03-28 00:00:00</td>\n",
              "      <td>185534613</td>\n",
              "      <td>63</td>\n",
              "    </tr>\n",
              "    <tr>\n",
              "      <th>12</th>\n",
              "      <td>2002</td>\n",
              "      <td>13</td>\n",
              "      <td>https://www.boxofficemojo.com/weekly/chart/?yr...</td>\n",
              "      <td>Weekly Box Office Results for March 29-April 4...</td>\n",
              "      <td>2002-03-29 00:00:00</td>\n",
              "      <td>2002-04-04 00:00:00</td>\n",
              "      <td>189211706</td>\n",
              "      <td>64</td>\n",
              "    </tr>\n",
              "    <tr>\n",
              "      <th>13</th>\n",
              "      <td>2002</td>\n",
              "      <td>14</td>\n",
              "      <td>https://www.boxofficemojo.com/weekly/chart/?yr...</td>\n",
              "      <td>Weekly Box Office Results for April 5-11, 2002...</td>\n",
              "      <td>2002-04-05 00:00:00</td>\n",
              "      <td>2002-04-11 00:00:00</td>\n",
              "      <td>136942038</td>\n",
              "      <td>63</td>\n",
              "    </tr>\n",
              "    <tr>\n",
              "      <th>14</th>\n",
              "      <td>2002</td>\n",
              "      <td>15</td>\n",
              "      <td>https://www.boxofficemojo.com/weekly/chart/?yr...</td>\n",
              "      <td>Weekly Box Office Results for April 12-18, 200...</td>\n",
              "      <td>2002-04-12 00:00:00</td>\n",
              "      <td>2002-04-18 00:00:00</td>\n",
              "      <td>123685270</td>\n",
              "      <td>68</td>\n",
              "    </tr>\n",
              "    <tr>\n",
              "      <th>15</th>\n",
              "      <td>2002</td>\n",
              "      <td>16</td>\n",
              "      <td>https://www.boxofficemojo.com/weekly/chart/?yr...</td>\n",
              "      <td>Weekly Box Office Results for April 19-25, 200...</td>\n",
              "      <td>2002-04-19 00:00:00</td>\n",
              "      <td>2002-04-25 00:00:00</td>\n",
              "      <td>132713023</td>\n",
              "      <td>72</td>\n",
              "    </tr>\n",
              "    <tr>\n",
              "      <th>16</th>\n",
              "      <td>2002</td>\n",
              "      <td>17</td>\n",
              "      <td>https://www.boxofficemojo.com/weekly/chart/?yr...</td>\n",
              "      <td>Weekly Box Office Results for April 26-May 2, ...</td>\n",
              "      <td>2002-04-26 00:00:00</td>\n",
              "      <td>2002-05-02 00:00:00</td>\n",
              "      <td>107627233</td>\n",
              "      <td>76</td>\n",
              "    </tr>\n",
              "    <tr>\n",
              "      <th>17</th>\n",
              "      <td>2002</td>\n",
              "      <td>18</td>\n",
              "      <td>https://www.boxofficemojo.com/weekly/chart/?yr...</td>\n",
              "      <td>Weekly Box Office Results for May 3-9, 2002 - ...</td>\n",
              "      <td>2002-05-03 00:00:00</td>\n",
              "      <td>2002-05-09 00:00:00</td>\n",
              "      <td>214320992</td>\n",
              "      <td>73</td>\n",
              "    </tr>\n",
              "    <tr>\n",
              "      <th>18</th>\n",
              "      <td>2002</td>\n",
              "      <td>19</td>\n",
              "      <td>https://www.boxofficemojo.com/weekly/chart/?yr...</td>\n",
              "      <td>Weekly Box Office Results for May 10-16, 2002 ...</td>\n",
              "      <td>2002-05-10 00:00:00</td>\n",
              "      <td>2002-05-16 00:00:00</td>\n",
              "      <td>191389423</td>\n",
              "      <td>77</td>\n",
              "    </tr>\n",
              "    <tr>\n",
              "      <th>19</th>\n",
              "      <td>2002</td>\n",
              "      <td>20</td>\n",
              "      <td>https://www.boxofficemojo.com/weekly/chart/?yr...</td>\n",
              "      <td>Weekly Box Office Results for May 17-23, 2002 ...</td>\n",
              "      <td>2002-05-17 00:00:00</td>\n",
              "      <td>2002-05-23 00:00:00</td>\n",
              "      <td>229723801</td>\n",
              "      <td>72</td>\n",
              "    </tr>\n",
              "  </tbody>\n",
              "</table>\n",
              "</div>"
            ],
            "text/plain": [
              "    year week  ...      gross totalMovies\n",
              "0   2002    1  ...  160260760          54\n",
              "1   2002    2  ...  138189002          54\n",
              "2   2002    3  ...  176703388          48\n",
              "3   2002    4  ...  164197937          55\n",
              "4   2002    5  ...  125959322          56\n",
              "5   2002    6  ...  135636421          57\n",
              "6   2002    7  ...  192176483          56\n",
              "7   2002    8  ...  135869548          58\n",
              "8   2002    9  ...  133835495          60\n",
              "9   2002   10  ...  138475523          61\n",
              "10  2002   11  ...  176533038          60\n",
              "11  2002   12  ...  185534613          63\n",
              "12  2002   13  ...  189211706          64\n",
              "13  2002   14  ...  136942038          63\n",
              "14  2002   15  ...  123685270          68\n",
              "15  2002   16  ...  132713023          72\n",
              "16  2002   17  ...  107627233          76\n",
              "17  2002   18  ...  214320992          73\n",
              "18  2002   19  ...  191389423          77\n",
              "19  2002   20  ...  229723801          72\n",
              "\n",
              "[20 rows x 8 columns]"
            ]
          },
          "metadata": {
            "tags": []
          },
          "execution_count": 197
        }
      ]
    },
    {
      "cell_type": "code",
      "metadata": {
        "id": "E4hWtyLjQXxZ",
        "colab_type": "code",
        "colab": {}
      },
      "source": [
        "dataframe_boxoffice.to_csv(\"boxoffice_weekly_gross_movie.csv\")"
      ],
      "execution_count": 0,
      "outputs": []
    },
    {
      "cell_type": "code",
      "metadata": {
        "id": "iZNosi3iQXu8",
        "colab_type": "code",
        "colab": {}
      },
      "source": [
        ""
      ],
      "execution_count": 0,
      "outputs": []
    }
  ]
}