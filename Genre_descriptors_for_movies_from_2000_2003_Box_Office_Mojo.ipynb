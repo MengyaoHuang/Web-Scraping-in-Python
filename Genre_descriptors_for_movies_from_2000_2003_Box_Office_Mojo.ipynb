{
  "nbformat": 4,
  "nbformat_minor": 0,
  "metadata": {
    "colab": {
      "name": "Genre descriptors for movies from 2000-2003 Box Office Mojo.ipynb",
      "provenance": [],
      "collapsed_sections": []
    },
    "kernelspec": {
      "name": "python3",
      "display_name": "Python 3"
    }
  },
  "cells": [
    {
      "cell_type": "markdown",
      "metadata": {
        "id": "1PQQYbFq152K",
        "colab_type": "text"
      },
      "source": [
        "#### **Genre descriptors for movies from 2000-2003 Box Office Mojo**\n"
      ]
    },
    {
      "cell_type": "code",
      "metadata": {
        "id": "E4dHTF3K2RSS",
        "colab_type": "code",
        "colab": {}
      },
      "source": [
        "# make some preparation for packages\n",
        "# package use\n",
        "import requests\n",
        "import urllib\n",
        "import urllib.request\n",
        "import time\n",
        "import re\n",
        "from bs4 import BeautifulSoup\n",
        "from IPython.core.display import HTML\n",
        "\n",
        "import pandas as pd\n",
        "import numpy as np\n",
        "import warnings\n",
        "warnings.filterwarnings(\"ignore\")\n",
        "import copy\n",
        "import datetime \n",
        "from collections import Counter"
      ],
      "execution_count": 0,
      "outputs": []
    },
    {
      "cell_type": "code",
      "metadata": {
        "id": "j1RW5MjQ1rYX",
        "colab_type": "code",
        "colab": {}
      },
      "source": [
        "# Box Office MOJO links year 2000-2003\n",
        "year2000_link = \"https://www.boxofficemojo.com/year/2000/?ref_=bo_yl_table_21\"\n",
        "year2001_link = \"https://www.boxofficemojo.com/year/2001/?ref_=bo_yl_table_21\" \n",
        "year2002_link = \"https://www.boxofficemojo.com/year/2002/?ref_=bo_yl_table_21\"\n",
        "year2003_link = \"https://www.boxofficemojo.com/year/2003/?ref_=bo_yl_table_21\""
      ],
      "execution_count": 0,
      "outputs": []
    },
    {
      "cell_type": "code",
      "metadata": {
        "id": "69HSZkw69Hxc",
        "colab_type": "code",
        "colab": {}
      },
      "source": [
        "# set up dataframe to record\n",
        "def read_boxOffice(year_link, num_movies=200):\n",
        "  # set up return frame\n",
        "  dataframe = pd.DataFrame()\n",
        "  dataframe['Name'] = ['']*num_movies\n",
        "  # scraping\n",
        "  response = requests.get(year_link)\n",
        "  soup = BeautifulSoup(response.text, \"html.parser\")\n",
        "  # extract names of the top 200 movies\n",
        "  filter_ = soup.find_all(\"a\", href=re.compile(\"/release/\"))\n",
        "  for i in range(num_movies):\n",
        "    # fill in top num_movies rows\n",
        "    dataframe['Name'][i] = filter_[i].get_text().replace('\\n','')\n",
        "  return dataframe"
      ],
      "execution_count": 0,
      "outputs": []
    },
    {
      "cell_type": "code",
      "metadata": {
        "id": "AidNM9l7-in3",
        "colab_type": "code",
        "colab": {
          "base_uri": "https://localhost:8080/",
          "height": 204
        },
        "outputId": "56d66aab-8951-45bb-e26d-c79a7597726f"
      },
      "source": [
        "year2000_frame = read_boxOffice(year2000_link)\n",
        "year2001_frame = read_boxOffice(year2001_link)\n",
        "year2002_frame = read_boxOffice(year2002_link)\n",
        "year2003_frame = read_boxOffice(year2003_link)\n",
        "year2003_frame.head(5)"
      ],
      "execution_count": 44,
      "outputs": [
        {
          "output_type": "execute_result",
          "data": {
            "text/html": [
              "<div>\n",
              "<style scoped>\n",
              "    .dataframe tbody tr th:only-of-type {\n",
              "        vertical-align: middle;\n",
              "    }\n",
              "\n",
              "    .dataframe tbody tr th {\n",
              "        vertical-align: top;\n",
              "    }\n",
              "\n",
              "    .dataframe thead th {\n",
              "        text-align: right;\n",
              "    }\n",
              "</style>\n",
              "<table border=\"1\" class=\"dataframe\">\n",
              "  <thead>\n",
              "    <tr style=\"text-align: right;\">\n",
              "      <th></th>\n",
              "      <th>Name</th>\n",
              "    </tr>\n",
              "  </thead>\n",
              "  <tbody>\n",
              "    <tr>\n",
              "      <th>0</th>\n",
              "      <td>Finding Nemo</td>\n",
              "    </tr>\n",
              "    <tr>\n",
              "      <th>1</th>\n",
              "      <td>Pirates of the Caribbean: The Curse of the Bla...</td>\n",
              "    </tr>\n",
              "    <tr>\n",
              "      <th>2</th>\n",
              "      <td>The Matrix Reloaded</td>\n",
              "    </tr>\n",
              "    <tr>\n",
              "      <th>3</th>\n",
              "      <td>The Lord of the Rings: The Return of the King</td>\n",
              "    </tr>\n",
              "    <tr>\n",
              "      <th>4</th>\n",
              "      <td>Bruce Almighty</td>\n",
              "    </tr>\n",
              "  </tbody>\n",
              "</table>\n",
              "</div>"
            ],
            "text/plain": [
              "                                                Name\n",
              "0                                       Finding Nemo\n",
              "1  Pirates of the Caribbean: The Curse of the Bla...\n",
              "2                                The Matrix Reloaded\n",
              "3      The Lord of the Rings: The Return of the King\n",
              "4                                     Bruce Almighty"
            ]
          },
          "metadata": {
            "tags": []
          },
          "execution_count": 44
        }
      ]
    },
    {
      "cell_type": "markdown",
      "metadata": {
        "id": "45HguYJz_vB5",
        "colab_type": "text"
      },
      "source": [
        "##### **GOOGLE SEARCH: Required Function and its parameters**\n",
        "\n",
        "search(query, tld='com', lang='en', num=10, start=0, stop=None, pause=2.0)\n",
        "- query : query string that we want to search for.\n",
        "- tld : tld stands for top level domain which means we want to search our result on google.com or google.in or some other domain.\n",
        "- lang : lang stands for language.\n",
        "- num : Number of results we want.\n",
        "- start : First result to retrieve.\n",
        "- stop : Last result to retrieve. Use None to keep searching forever.\n",
        "- pause : Lapse to wait between HTTP requests. Lapse too short may cause Google to block your IP. Keeping significant lapse will make your program slow but its safe and better option.\n",
        "- Return : Generator (iterator) that yields found URLs. If the stop parameter is None the iterator will loop forever.\n"
      ]
    },
    {
      "cell_type": "code",
      "metadata": {
        "id": "wZc_B6ViATRg",
        "colab_type": "code",
        "colab": {
          "base_uri": "https://localhost:8080/",
          "height": 34
        },
        "outputId": "b326617e-919a-4d96-8285-b9454560f89a"
      },
      "source": [
        "# google search find IMDB pages \n",
        "from googlesearch import search \n",
        "def search_link(name_string):\n",
        "  # search for IMDB website\n",
        "  search_string = name_string + \" \" + \"IMDB\"\n",
        "  for j in search(search_string, tld=\"co.in\", num=5, stop=1, pause=2):\n",
        "    # if found imdb title - break\n",
        "    if \"www.imdb.com/title/\" in j:\n",
        "      return j\n",
        "  return np.nan\n",
        "search_link(\"How the Grinch Stole Christmas\")"
      ],
      "execution_count": 60,
      "outputs": [
        {
          "output_type": "execute_result",
          "data": {
            "text/plain": [
              "'https://www.imdb.com/title/tt0170016/'"
            ]
          },
          "metadata": {
            "tags": []
          },
          "execution_count": 60
        }
      ]
    },
    {
      "cell_type": "code",
      "metadata": {
        "id": "cTr2eEI8B5x5",
        "colab_type": "code",
        "colab": {}
      },
      "source": [
        "# fillin IMDB address\n",
        "def IMDB_fillin(frame_tofill):\n",
        "  # set up initial columns\n",
        "  frame_tofill['IMDB_link'] = np.nan\n",
        "  for i in range(len(frame_tofill)):\n",
        "    frame_tofill['IMDB_link'][i] = search_link(frame_tofill['Name'][i])\n",
        "    # check progress\n",
        "    if i%20 == 0:\n",
        "      print(i)\n",
        "  return frame_tofill\n",
        "# year 2000\n",
        "year2000_fill = IMDB_fillin(year2000_frame)"
      ],
      "execution_count": 0,
      "outputs": []
    },
    {
      "cell_type": "code",
      "metadata": {
        "id": "uWgmzSY6B5wk",
        "colab_type": "code",
        "colab": {}
      },
      "source": [
        "# year 2001 to 2003\n",
        "year2001_fill = IMDB_fillin(year2001_frame)\n",
        "year2002_fill = IMDB_fillin(year2002_frame)\n",
        "year2003_fill = IMDB_fillin(year2003_frame)"
      ],
      "execution_count": 0,
      "outputs": []
    },
    {
      "cell_type": "code",
      "metadata": {
        "id": "G2IIzzB0Flie",
        "colab_type": "code",
        "colab": {
          "base_uri": "https://localhost:8080/",
          "height": 85
        },
        "outputId": "e34ff37f-b672-4653-81f0-f0c5d0bde5f5"
      },
      "source": [
        "# check blank process \n",
        "print(\"year 2000 blanks: \", len(year2000_fill[year2000_fill['IMDB_link'].isna()]))\n",
        "print(\"year 2001 blanks: \", len(year2001_fill[year2001_fill['IMDB_link'].isna()]))\n",
        "print(\"year 2002 blanks: \", len(year2002_fill[year2002_fill['IMDB_link'].isna()]))\n",
        "print(\"year 2003 blanks: \", len(year2003_fill[year2003_fill['IMDB_link'].isna()]))"
      ],
      "execution_count": 73,
      "outputs": [
        {
          "output_type": "stream",
          "text": [
            "year 2000 blanks:  1\n",
            "year 2001 blanks:  0\n",
            "year 2002 blanks:  0\n",
            "year 2003 blanks:  0\n"
          ],
          "name": "stdout"
        }
      ]
    },
    {
      "cell_type": "code",
      "metadata": {
        "id": "zKtk-ShDLUF7",
        "colab_type": "code",
        "colab": {
          "base_uri": "https://localhost:8080/",
          "height": 204
        },
        "outputId": "608d33de-9a5a-4d4b-fd78-61b20205dc30"
      },
      "source": [
        "year2000_fill.head(5)"
      ],
      "execution_count": 76,
      "outputs": [
        {
          "output_type": "execute_result",
          "data": {
            "text/html": [
              "<div>\n",
              "<style scoped>\n",
              "    .dataframe tbody tr th:only-of-type {\n",
              "        vertical-align: middle;\n",
              "    }\n",
              "\n",
              "    .dataframe tbody tr th {\n",
              "        vertical-align: top;\n",
              "    }\n",
              "\n",
              "    .dataframe thead th {\n",
              "        text-align: right;\n",
              "    }\n",
              "</style>\n",
              "<table border=\"1\" class=\"dataframe\">\n",
              "  <thead>\n",
              "    <tr style=\"text-align: right;\">\n",
              "      <th></th>\n",
              "      <th>Name</th>\n",
              "      <th>IMDB_link</th>\n",
              "    </tr>\n",
              "  </thead>\n",
              "  <tbody>\n",
              "    <tr>\n",
              "      <th>0</th>\n",
              "      <td>How the Grinch Stole Christmas</td>\n",
              "      <td>https://www.imdb.com/title/tt0170016/</td>\n",
              "    </tr>\n",
              "    <tr>\n",
              "      <th>1</th>\n",
              "      <td>Mission: Impossible II</td>\n",
              "      <td>https://www.imdb.com/title/tt0120755/</td>\n",
              "    </tr>\n",
              "    <tr>\n",
              "      <th>2</th>\n",
              "      <td>Gladiator</td>\n",
              "      <td>https://www.imdb.com/title/tt0172495/</td>\n",
              "    </tr>\n",
              "    <tr>\n",
              "      <th>3</th>\n",
              "      <td>The Perfect Storm</td>\n",
              "      <td>https://www.imdb.com/title/tt0177971/</td>\n",
              "    </tr>\n",
              "    <tr>\n",
              "      <th>4</th>\n",
              "      <td>Meet the Parents</td>\n",
              "      <td>https://www.imdb.com/title/tt0212338/</td>\n",
              "    </tr>\n",
              "  </tbody>\n",
              "</table>\n",
              "</div>"
            ],
            "text/plain": [
              "                             Name                              IMDB_link\n",
              "0  How the Grinch Stole Christmas  https://www.imdb.com/title/tt0170016/\n",
              "1          Mission: Impossible II  https://www.imdb.com/title/tt0120755/\n",
              "2                       Gladiator  https://www.imdb.com/title/tt0172495/\n",
              "3               The Perfect Storm  https://www.imdb.com/title/tt0177971/\n",
              "4                Meet the Parents  https://www.imdb.com/title/tt0212338/"
            ]
          },
          "metadata": {
            "tags": []
          },
          "execution_count": 76
        }
      ]
    },
    {
      "cell_type": "code",
      "metadata": {
        "id": "1kvqTcudMvtj",
        "colab_type": "code",
        "colab": {}
      },
      "source": [
        "# fillin that blank\n",
        "year2000_fill[year2000_fill['IMDB_link'].isna()]['IMDB_link'] = \"https://www.imdb.com/title/tt0193925/\""
      ],
      "execution_count": 0,
      "outputs": []
    },
    {
      "cell_type": "code",
      "metadata": {
        "id": "f-dAEH5ILXvr",
        "colab_type": "code",
        "colab": {
          "base_uri": "https://localhost:8080/",
          "height": 204
        },
        "outputId": "8e877a5d-b51b-46b0-8cd8-dc2f33020b78"
      },
      "source": [
        "year2001_fill.head(5)"
      ],
      "execution_count": 77,
      "outputs": [
        {
          "output_type": "execute_result",
          "data": {
            "text/html": [
              "<div>\n",
              "<style scoped>\n",
              "    .dataframe tbody tr th:only-of-type {\n",
              "        vertical-align: middle;\n",
              "    }\n",
              "\n",
              "    .dataframe tbody tr th {\n",
              "        vertical-align: top;\n",
              "    }\n",
              "\n",
              "    .dataframe thead th {\n",
              "        text-align: right;\n",
              "    }\n",
              "</style>\n",
              "<table border=\"1\" class=\"dataframe\">\n",
              "  <thead>\n",
              "    <tr style=\"text-align: right;\">\n",
              "      <th></th>\n",
              "      <th>Name</th>\n",
              "      <th>IMDB_link</th>\n",
              "    </tr>\n",
              "  </thead>\n",
              "  <tbody>\n",
              "    <tr>\n",
              "      <th>0</th>\n",
              "      <td>Harry Potter and the Sorcerer's Stone</td>\n",
              "      <td>https://www.imdb.com/title/tt0241527/</td>\n",
              "    </tr>\n",
              "    <tr>\n",
              "      <th>1</th>\n",
              "      <td>Shrek</td>\n",
              "      <td>https://www.imdb.com/title/tt0126029/</td>\n",
              "    </tr>\n",
              "    <tr>\n",
              "      <th>2</th>\n",
              "      <td>Monsters, Inc.</td>\n",
              "      <td>https://www.imdb.com/title/tt0198781/</td>\n",
              "    </tr>\n",
              "    <tr>\n",
              "      <th>3</th>\n",
              "      <td>Rush Hour 2</td>\n",
              "      <td>https://www.imdb.com/title/tt0266915/</td>\n",
              "    </tr>\n",
              "    <tr>\n",
              "      <th>4</th>\n",
              "      <td>The Mummy Returns</td>\n",
              "      <td>https://www.imdb.com/title/tt0209163/</td>\n",
              "    </tr>\n",
              "  </tbody>\n",
              "</table>\n",
              "</div>"
            ],
            "text/plain": [
              "                                    Name                              IMDB_link\n",
              "0  Harry Potter and the Sorcerer's Stone  https://www.imdb.com/title/tt0241527/\n",
              "1                                  Shrek  https://www.imdb.com/title/tt0126029/\n",
              "2                         Monsters, Inc.  https://www.imdb.com/title/tt0198781/\n",
              "3                            Rush Hour 2  https://www.imdb.com/title/tt0266915/\n",
              "4                      The Mummy Returns  https://www.imdb.com/title/tt0209163/"
            ]
          },
          "metadata": {
            "tags": []
          },
          "execution_count": 77
        }
      ]
    },
    {
      "cell_type": "code",
      "metadata": {
        "id": "pUJ_jwD-LXhz",
        "colab_type": "code",
        "colab": {
          "base_uri": "https://localhost:8080/",
          "height": 204
        },
        "outputId": "1bc4c46d-4476-4f44-9688-a8491620d6c3"
      },
      "source": [
        "year2002_fill.head(5)"
      ],
      "execution_count": 78,
      "outputs": [
        {
          "output_type": "execute_result",
          "data": {
            "text/html": [
              "<div>\n",
              "<style scoped>\n",
              "    .dataframe tbody tr th:only-of-type {\n",
              "        vertical-align: middle;\n",
              "    }\n",
              "\n",
              "    .dataframe tbody tr th {\n",
              "        vertical-align: top;\n",
              "    }\n",
              "\n",
              "    .dataframe thead th {\n",
              "        text-align: right;\n",
              "    }\n",
              "</style>\n",
              "<table border=\"1\" class=\"dataframe\">\n",
              "  <thead>\n",
              "    <tr style=\"text-align: right;\">\n",
              "      <th></th>\n",
              "      <th>Name</th>\n",
              "      <th>IMDB_link</th>\n",
              "    </tr>\n",
              "  </thead>\n",
              "  <tbody>\n",
              "    <tr>\n",
              "      <th>0</th>\n",
              "      <td>Spider-Man</td>\n",
              "      <td>https://www.imdb.com/title/tt0145487/</td>\n",
              "    </tr>\n",
              "    <tr>\n",
              "      <th>1</th>\n",
              "      <td>Star Wars: Episode II - Attack of the Clones</td>\n",
              "      <td>https://www.imdb.com/title/tt0121765/</td>\n",
              "    </tr>\n",
              "    <tr>\n",
              "      <th>2</th>\n",
              "      <td>Harry Potter and the Chamber of Secrets</td>\n",
              "      <td>https://www.imdb.com/title/tt0295297/</td>\n",
              "    </tr>\n",
              "    <tr>\n",
              "      <th>3</th>\n",
              "      <td>Signs</td>\n",
              "      <td>https://www.imdb.com/title/tt0286106/</td>\n",
              "    </tr>\n",
              "    <tr>\n",
              "      <th>4</th>\n",
              "      <td>My Big Fat Greek Wedding</td>\n",
              "      <td>https://www.imdb.com/title/tt0259446/</td>\n",
              "    </tr>\n",
              "  </tbody>\n",
              "</table>\n",
              "</div>"
            ],
            "text/plain": [
              "                                           Name                              IMDB_link\n",
              "0                                    Spider-Man  https://www.imdb.com/title/tt0145487/\n",
              "1  Star Wars: Episode II - Attack of the Clones  https://www.imdb.com/title/tt0121765/\n",
              "2       Harry Potter and the Chamber of Secrets  https://www.imdb.com/title/tt0295297/\n",
              "3                                         Signs  https://www.imdb.com/title/tt0286106/\n",
              "4                      My Big Fat Greek Wedding  https://www.imdb.com/title/tt0259446/"
            ]
          },
          "metadata": {
            "tags": []
          },
          "execution_count": 78
        }
      ]
    },
    {
      "cell_type": "code",
      "metadata": {
        "id": "oVVzU-KKLd5c",
        "colab_type": "code",
        "colab": {
          "base_uri": "https://localhost:8080/",
          "height": 204
        },
        "outputId": "70dac67d-3076-4d42-9c66-b7f3489995f7"
      },
      "source": [
        "year2003_fill.head(5)"
      ],
      "execution_count": 79,
      "outputs": [
        {
          "output_type": "execute_result",
          "data": {
            "text/html": [
              "<div>\n",
              "<style scoped>\n",
              "    .dataframe tbody tr th:only-of-type {\n",
              "        vertical-align: middle;\n",
              "    }\n",
              "\n",
              "    .dataframe tbody tr th {\n",
              "        vertical-align: top;\n",
              "    }\n",
              "\n",
              "    .dataframe thead th {\n",
              "        text-align: right;\n",
              "    }\n",
              "</style>\n",
              "<table border=\"1\" class=\"dataframe\">\n",
              "  <thead>\n",
              "    <tr style=\"text-align: right;\">\n",
              "      <th></th>\n",
              "      <th>Name</th>\n",
              "      <th>IMDB_link</th>\n",
              "    </tr>\n",
              "  </thead>\n",
              "  <tbody>\n",
              "    <tr>\n",
              "      <th>0</th>\n",
              "      <td>Finding Nemo</td>\n",
              "      <td>https://www.imdb.com/title/tt0266543/</td>\n",
              "    </tr>\n",
              "    <tr>\n",
              "      <th>1</th>\n",
              "      <td>Pirates of the Caribbean: The Curse of the Bla...</td>\n",
              "      <td>https://www.imdb.com/title/tt0325980/</td>\n",
              "    </tr>\n",
              "    <tr>\n",
              "      <th>2</th>\n",
              "      <td>The Matrix Reloaded</td>\n",
              "      <td>https://www.imdb.com/title/tt0234215/</td>\n",
              "    </tr>\n",
              "    <tr>\n",
              "      <th>3</th>\n",
              "      <td>The Lord of the Rings: The Return of the King</td>\n",
              "      <td>https://www.imdb.com/title/tt0167260/</td>\n",
              "    </tr>\n",
              "    <tr>\n",
              "      <th>4</th>\n",
              "      <td>Bruce Almighty</td>\n",
              "      <td>https://www.imdb.com/title/tt0315327/</td>\n",
              "    </tr>\n",
              "  </tbody>\n",
              "</table>\n",
              "</div>"
            ],
            "text/plain": [
              "                                                Name                              IMDB_link\n",
              "0                                       Finding Nemo  https://www.imdb.com/title/tt0266543/\n",
              "1  Pirates of the Caribbean: The Curse of the Bla...  https://www.imdb.com/title/tt0325980/\n",
              "2                                The Matrix Reloaded  https://www.imdb.com/title/tt0234215/\n",
              "3      The Lord of the Rings: The Return of the King  https://www.imdb.com/title/tt0167260/\n",
              "4                                     Bruce Almighty  https://www.imdb.com/title/tt0315327/"
            ]
          },
          "metadata": {
            "tags": []
          },
          "execution_count": 79
        }
      ]
    },
    {
      "cell_type": "code",
      "metadata": {
        "id": "-flnb67R2QY1",
        "colab_type": "code",
        "colab": {}
      },
      "source": [
        "# fillin descriptors for movies each year\n",
        "import pandas as pd\n",
        "import pickle\n",
        "import glob\n",
        "import numpy as np\n",
        "\n",
        "import warnings\n",
        "warnings.filterwarnings(\"ignore\")\n",
        "\n",
        "from collections import Counter\n",
        "import requests\n",
        "import urllib\n",
        "import urllib.request\n",
        "import time\n",
        "import re\n",
        "import string\n",
        "import matplotlib.pyplot as plt\n",
        "import seaborn as sns\n",
        "from bs4 import BeautifulSoup\n",
        "from IPython.core.display import HTML\n",
        "import copy\n",
        "from collections import Counter"
      ],
      "execution_count": 0,
      "outputs": []
    },
    {
      "cell_type": "code",
      "metadata": {
        "id": "Qj7nRPfU2QP3",
        "colab_type": "code",
        "colab": {}
      },
      "source": [
        "# check if link available before scraping\n",
        "def descriptor_fillin(frame_tofill):\n",
        "  # initialization\n",
        "  frame_tofill['descriptor1'] = np.nan\n",
        "  frame_tofill['descriptor2'] = np.nan\n",
        "  frame_tofill['descriptor3'] = np.nan\n",
        "  # fill in\n",
        "  for idx in range(len(frame_tofill)):\n",
        "    url = frame_tofill['IMDB_link'][idx]\n",
        "    # check if url available\n",
        "    try:\n",
        "      response = requests.get(url)\n",
        "      soup = BeautifulSoup(response.text, \"html.parser\")\n",
        "      select = soup.find_all(\"div\", {\"class\": \"subtext\"})[0]\n",
        "      filter_ = re.findall(r'genres=(.*?)&amp', str(select))\n",
        "      # find available descriptors to fill\n",
        "      if len(filter_) > 0:\n",
        "        for i in range(len(filter_)):\n",
        "          frame_tofill['descriptor'+str(i+1)][idx] = filter_[i]\n",
        "    except:\n",
        "      pass\n",
        "    # check progress\n",
        "    if idx%50 == 0:\n",
        "      print(idx)\n",
        "  return frame_tofill"
      ],
      "execution_count": 0,
      "outputs": []
    },
    {
      "cell_type": "code",
      "metadata": {
        "id": "3prMOKBTHX0e",
        "colab_type": "code",
        "colab": {}
      },
      "source": [
        "year2001_done = descriptor_fillin(year2001_fill)\n",
        "year2002_done = descriptor_fillin(year2002_fill)\n",
        "year2003_done = descriptor_fillin(year2003_fill)"
      ],
      "execution_count": 0,
      "outputs": []
    },
    {
      "cell_type": "code",
      "metadata": {
        "id": "KTq0QwJs2QM3",
        "colab_type": "code",
        "colab": {
          "base_uri": "https://localhost:8080/",
          "height": 85
        },
        "outputId": "29deee0d-0684-4e21-935f-c5521564bd6e"
      },
      "source": [
        "year2000_done = descriptor_fillin(year2000_fill)"
      ],
      "execution_count": 96,
      "outputs": [
        {
          "output_type": "stream",
          "text": [
            "0\n",
            "50\n",
            "100\n",
            "150\n"
          ],
          "name": "stdout"
        }
      ]
    },
    {
      "cell_type": "code",
      "metadata": {
        "id": "XpixoErXSDG6",
        "colab_type": "code",
        "colab": {}
      },
      "source": [
        "# fillin that blank\n",
        "year2000_done[year2000_done['IMDB_link'].isna()]['IMDB_link'] = \"https://www.imdb.com/title/tt0193925/\""
      ],
      "execution_count": 0,
      "outputs": []
    },
    {
      "cell_type": "code",
      "metadata": {
        "id": "4742okKmL9vZ",
        "colab_type": "code",
        "colab": {
          "base_uri": "https://localhost:8080/",
          "height": 359
        },
        "outputId": "2db271a2-b20a-4ed3-8013-aff77f4a02f1"
      },
      "source": [
        "year2000_done.to_csv(\"year2000.csv\")\n",
        "year2000_done.head(10)"
      ],
      "execution_count": 101,
      "outputs": [
        {
          "output_type": "execute_result",
          "data": {
            "text/html": [
              "<div>\n",
              "<style scoped>\n",
              "    .dataframe tbody tr th:only-of-type {\n",
              "        vertical-align: middle;\n",
              "    }\n",
              "\n",
              "    .dataframe tbody tr th {\n",
              "        vertical-align: top;\n",
              "    }\n",
              "\n",
              "    .dataframe thead th {\n",
              "        text-align: right;\n",
              "    }\n",
              "</style>\n",
              "<table border=\"1\" class=\"dataframe\">\n",
              "  <thead>\n",
              "    <tr style=\"text-align: right;\">\n",
              "      <th></th>\n",
              "      <th>Name</th>\n",
              "      <th>IMDB_link</th>\n",
              "      <th>descriptor1</th>\n",
              "      <th>descriptor2</th>\n",
              "      <th>descriptor3</th>\n",
              "    </tr>\n",
              "  </thead>\n",
              "  <tbody>\n",
              "    <tr>\n",
              "      <th>0</th>\n",
              "      <td>How the Grinch Stole Christmas</td>\n",
              "      <td>https://www.imdb.com/title/tt0170016/</td>\n",
              "      <td>comedy</td>\n",
              "      <td>family</td>\n",
              "      <td>fantasy</td>\n",
              "    </tr>\n",
              "    <tr>\n",
              "      <th>1</th>\n",
              "      <td>Mission: Impossible II</td>\n",
              "      <td>https://www.imdb.com/title/tt0120755/</td>\n",
              "      <td>action</td>\n",
              "      <td>adventure</td>\n",
              "      <td>thriller</td>\n",
              "    </tr>\n",
              "    <tr>\n",
              "      <th>2</th>\n",
              "      <td>Gladiator</td>\n",
              "      <td>https://www.imdb.com/title/tt0172495/</td>\n",
              "      <td>action</td>\n",
              "      <td>adventure</td>\n",
              "      <td>drama</td>\n",
              "    </tr>\n",
              "    <tr>\n",
              "      <th>3</th>\n",
              "      <td>The Perfect Storm</td>\n",
              "      <td>https://www.imdb.com/title/tt0177971/</td>\n",
              "      <td>action</td>\n",
              "      <td>adventure</td>\n",
              "      <td>drama</td>\n",
              "    </tr>\n",
              "    <tr>\n",
              "      <th>4</th>\n",
              "      <td>Meet the Parents</td>\n",
              "      <td>https://www.imdb.com/title/tt0212338/</td>\n",
              "      <td>comedy</td>\n",
              "      <td>romance</td>\n",
              "      <td>NaN</td>\n",
              "    </tr>\n",
              "    <tr>\n",
              "      <th>5</th>\n",
              "      <td>X-Men</td>\n",
              "      <td>https://www.imdb.com/title/tt0120903/</td>\n",
              "      <td>action</td>\n",
              "      <td>adventure</td>\n",
              "      <td>sci-fi</td>\n",
              "    </tr>\n",
              "    <tr>\n",
              "      <th>6</th>\n",
              "      <td>Scary Movie</td>\n",
              "      <td>https://www.imdb.com/title/tt0175142/</td>\n",
              "      <td>comedy</td>\n",
              "      <td>NaN</td>\n",
              "      <td>NaN</td>\n",
              "    </tr>\n",
              "    <tr>\n",
              "      <th>7</th>\n",
              "      <td>What Lies Beneath</td>\n",
              "      <td>https://www.imdb.com/title/tt0161081/</td>\n",
              "      <td>drama</td>\n",
              "      <td>fantasy</td>\n",
              "      <td>horror</td>\n",
              "    </tr>\n",
              "    <tr>\n",
              "      <th>8</th>\n",
              "      <td>Dinosaur</td>\n",
              "      <td>https://www.imdb.com/title/tt0130623/</td>\n",
              "      <td>animation</td>\n",
              "      <td>adventure</td>\n",
              "      <td>family</td>\n",
              "    </tr>\n",
              "    <tr>\n",
              "      <th>9</th>\n",
              "      <td>Erin Brockovich</td>\n",
              "      <td>https://www.imdb.com/title/tt0195685/</td>\n",
              "      <td>biography</td>\n",
              "      <td>drama</td>\n",
              "      <td>NaN</td>\n",
              "    </tr>\n",
              "  </tbody>\n",
              "</table>\n",
              "</div>"
            ],
            "text/plain": [
              "                             Name  ... descriptor3\n",
              "0  How the Grinch Stole Christmas  ...     fantasy\n",
              "1          Mission: Impossible II  ...    thriller\n",
              "2                       Gladiator  ...       drama\n",
              "3               The Perfect Storm  ...       drama\n",
              "4                Meet the Parents  ...         NaN\n",
              "5                           X-Men  ...      sci-fi\n",
              "6                     Scary Movie  ...         NaN\n",
              "7               What Lies Beneath  ...      horror\n",
              "8                        Dinosaur  ...      family\n",
              "9                 Erin Brockovich  ...         NaN\n",
              "\n",
              "[10 rows x 5 columns]"
            ]
          },
          "metadata": {
            "tags": []
          },
          "execution_count": 101
        }
      ]
    },
    {
      "cell_type": "code",
      "metadata": {
        "id": "X2qPPeIyHXse",
        "colab_type": "code",
        "colab": {}
      },
      "source": [
        "year2001_done.to_csv(\"year2001.csv\")\n",
        "year2002_done.to_csv(\"year2002.csv\")\n",
        "year2003_done.to_csv(\"year2003.csv\")"
      ],
      "execution_count": 0,
      "outputs": []
    }
  ]
}