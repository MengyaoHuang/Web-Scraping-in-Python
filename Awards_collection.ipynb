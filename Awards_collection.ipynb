{
  "nbformat": 4,
  "nbformat_minor": 0,
  "metadata": {
    "colab": {
      "name": "Awards collection.ipynb",
      "provenance": [],
      "collapsed_sections": [],
      "toc_visible": true
    },
    "kernelspec": {
      "name": "python3",
      "display_name": "Python 3"
    }
  },
  "cells": [
    {
      "cell_type": "markdown",
      "metadata": {
        "id": "lWjfinAjRE7S",
        "colab_type": "text"
      },
      "source": [
        "#### **Awards collection**\n",
        "- Go through this list of movies (243 movies in total) and document the awards that a director in each movie has won"
      ]
    },
    {
      "cell_type": "code",
      "metadata": {
        "id": "a14eFqxVRBP3",
        "colab_type": "code",
        "colab": {}
      },
      "source": [
        "# make some preparation for packages\n",
        "# package use\n",
        "import requests\n",
        "import urllib\n",
        "import urllib.request\n",
        "import time\n",
        "import re\n",
        "from bs4 import BeautifulSoup\n",
        "from IPython.core.display import HTML\n",
        "\n",
        "import pandas as pd\n",
        "import numpy as np\n",
        "import warnings\n",
        "warnings.filterwarnings(\"ignore\")\n",
        "import copy\n",
        "import datetime \n",
        "from collections import Counter\n",
        "import json"
      ],
      "execution_count": 0,
      "outputs": []
    },
    {
      "cell_type": "code",
      "metadata": {
        "id": "cZpAgM8nRU5U",
        "colab_type": "code",
        "outputId": "76db5fcd-6656-4e6e-f37d-e6666f1b8083",
        "colab": {
          "base_uri": "https://localhost:8080/",
          "height": 201
        }
      },
      "source": [
        "dataset = pd.read_csv(\"Test_Award_Director.csv\")\n",
        "dataset.head(5)"
      ],
      "execution_count": 3,
      "outputs": [
        {
          "output_type": "execute_result",
          "data": {
            "text/html": [
              "<div>\n",
              "<style scoped>\n",
              "    .dataframe tbody tr th:only-of-type {\n",
              "        vertical-align: middle;\n",
              "    }\n",
              "\n",
              "    .dataframe tbody tr th {\n",
              "        vertical-align: top;\n",
              "    }\n",
              "\n",
              "    .dataframe thead th {\n",
              "        text-align: right;\n",
              "    }\n",
              "</style>\n",
              "<table border=\"1\" class=\"dataframe\">\n",
              "  <thead>\n",
              "    <tr style=\"text-align: right;\">\n",
              "      <th></th>\n",
              "      <th>year</th>\n",
              "      <th>bomtitle</th>\n",
              "      <th>imdblink</th>\n",
              "    </tr>\n",
              "  </thead>\n",
              "  <tbody>\n",
              "    <tr>\n",
              "      <th>0</th>\n",
              "      <td>2005.0</td>\n",
              "      <td>Fantastic Four (2005)</td>\n",
              "      <td>http://www.imdb.com/title/tt0120667/</td>\n",
              "    </tr>\n",
              "    <tr>\n",
              "      <th>1</th>\n",
              "      <td>2007.0</td>\n",
              "      <td>Awake</td>\n",
              "      <td>http://www.imdb.com/title/tt0211933/</td>\n",
              "    </tr>\n",
              "    <tr>\n",
              "      <th>2</th>\n",
              "      <td>2004.0</td>\n",
              "      <td>Therese: The Story of Saint Therese of Lisieux</td>\n",
              "      <td>http://www.imdb.com/title/tt0286218/</td>\n",
              "    </tr>\n",
              "    <tr>\n",
              "      <th>3</th>\n",
              "      <td>2007.0</td>\n",
              "      <td>Happily N'Ever After</td>\n",
              "      <td>http://www.imdb.com/title/tt0308353/</td>\n",
              "    </tr>\n",
              "    <tr>\n",
              "      <th>4</th>\n",
              "      <td>2004.0</td>\n",
              "      <td>Resident Evil: Apocalypse</td>\n",
              "      <td>http://www.imdb.com/title/tt0318627/</td>\n",
              "    </tr>\n",
              "  </tbody>\n",
              "</table>\n",
              "</div>"
            ],
            "text/plain": [
              "     year  ...                              imdblink\n",
              "0  2005.0  ...  http://www.imdb.com/title/tt0120667/\n",
              "1  2007.0  ...  http://www.imdb.com/title/tt0211933/\n",
              "2  2004.0  ...  http://www.imdb.com/title/tt0286218/\n",
              "3  2007.0  ...  http://www.imdb.com/title/tt0308353/\n",
              "4  2004.0  ...  http://www.imdb.com/title/tt0318627/\n",
              "\n",
              "[5 rows x 3 columns]"
            ]
          },
          "metadata": {
            "tags": []
          },
          "execution_count": 3
        }
      ]
    },
    {
      "cell_type": "code",
      "metadata": {
        "id": "wCg3xPD7Z1Bq",
        "colab_type": "code",
        "outputId": "ffbfcd42-6a37-4312-c864-4b368a17dc74",
        "colab": {
          "base_uri": "https://localhost:8080/",
          "height": 34
        }
      },
      "source": [
        "# first scrape directors' personal IMDb page\n",
        "dataset['director'] = np.nan\n",
        "dataset['director_link'] = np.nan\n",
        "\n",
        "# filter script[type=application/ld+json] contents\n",
        "def find_director_link(url_):\n",
        "  name = np.nan\n",
        "  link = np.nan\n",
        "  source_code = requests.get(url_)\n",
        "  plain_text = source_code.text\n",
        "  soup = BeautifulSoup(plain_text, 'html.parser')\n",
        "  js = json.loads(soup.select_one(\"script[type=application/ld+json]\").text)\n",
        "  try:\n",
        "    if isinstance(js['director'], dict):\n",
        "      # single \n",
        "      dictionary = js['director']\n",
        "    else:\n",
        "      # may multiple or nothing\n",
        "      dictionary = js['director'][0]\n",
        "    name = dictionary['name']\n",
        "    link = \"https://www.imdb.com\" + dictionary['url']\n",
        "  except:\n",
        "    pass\n",
        "  return name, link\n",
        "# test\n",
        "find_director_link(dataset['imdblink'][0])"
      ],
      "execution_count": 4,
      "outputs": [
        {
          "output_type": "execute_result",
          "data": {
            "text/plain": [
              "('Tim Story', 'https://www.imdb.com/name/nm1103162/')"
            ]
          },
          "metadata": {
            "tags": []
          },
          "execution_count": 4
        }
      ]
    },
    {
      "cell_type": "code",
      "metadata": {
        "id": "1Pi1-C89cAnm",
        "colab_type": "code",
        "colab": {}
      },
      "source": [
        "for i in range(len(dataset)):\n",
        "  dataset['director'][i], dataset['director_link'][i] = find_director_link(dataset['imdblink'][i])\n",
        "  # processing\n",
        "  if i%30 == 0:\n",
        "    print(i)"
      ],
      "execution_count": 0,
      "outputs": []
    },
    {
      "cell_type": "code",
      "metadata": {
        "id": "NIkDwXKEcAhb",
        "colab_type": "code",
        "outputId": "3b2d3783-b975-4202-d682-022d43b53e54",
        "colab": {
          "base_uri": "https://localhost:8080/",
          "height": 218
        }
      },
      "source": [
        "# check any blanks\n",
        "print(len(dataset[dataset['director'].isna()]))\n",
        "# they are movies without any directors content\n",
        "dataset[dataset['director'].isna()]"
      ],
      "execution_count": 6,
      "outputs": [
        {
          "output_type": "stream",
          "text": [
            "5\n"
          ],
          "name": "stdout"
        },
        {
          "output_type": "execute_result",
          "data": {
            "text/html": [
              "<div>\n",
              "<style scoped>\n",
              "    .dataframe tbody tr th:only-of-type {\n",
              "        vertical-align: middle;\n",
              "    }\n",
              "\n",
              "    .dataframe tbody tr th {\n",
              "        vertical-align: top;\n",
              "    }\n",
              "\n",
              "    .dataframe thead th {\n",
              "        text-align: right;\n",
              "    }\n",
              "</style>\n",
              "<table border=\"1\" class=\"dataframe\">\n",
              "  <thead>\n",
              "    <tr style=\"text-align: right;\">\n",
              "      <th></th>\n",
              "      <th>year</th>\n",
              "      <th>bomtitle</th>\n",
              "      <th>imdblink</th>\n",
              "      <th>director</th>\n",
              "      <th>director_link</th>\n",
              "    </tr>\n",
              "  </thead>\n",
              "  <tbody>\n",
              "    <tr>\n",
              "      <th>58</th>\n",
              "      <td>NaN</td>\n",
              "      <td>Batman Begins (2012 re-release)</td>\n",
              "      <td>http://www.imdb.com/title/tt0450392/</td>\n",
              "      <td>NaN</td>\n",
              "      <td>NaN</td>\n",
              "    </tr>\n",
              "    <tr>\n",
              "      <th>63</th>\n",
              "      <td>NaN</td>\n",
              "      <td>Star Wars: The Clone Wars</td>\n",
              "      <td>http://www.imdb.com/title/tt0458290/</td>\n",
              "      <td>NaN</td>\n",
              "      <td>NaN</td>\n",
              "    </tr>\n",
              "    <tr>\n",
              "      <th>89</th>\n",
              "      <td>NaN</td>\n",
              "      <td>Primeval</td>\n",
              "      <td>http://www.imdb.com/title/tt0808096/</td>\n",
              "      <td>NaN</td>\n",
              "      <td>NaN</td>\n",
              "    </tr>\n",
              "    <tr>\n",
              "      <th>201</th>\n",
              "      <td>NaN</td>\n",
              "      <td>The Fall</td>\n",
              "      <td>http://www.imdb.com/title/tt2294189/</td>\n",
              "      <td>NaN</td>\n",
              "      <td>NaN</td>\n",
              "    </tr>\n",
              "    <tr>\n",
              "      <th>209</th>\n",
              "      <td>NaN</td>\n",
              "      <td>2011 Oscar Shorts</td>\n",
              "      <td>http://www.imdb.com/title/tt2447024/</td>\n",
              "      <td>NaN</td>\n",
              "      <td>NaN</td>\n",
              "    </tr>\n",
              "  </tbody>\n",
              "</table>\n",
              "</div>"
            ],
            "text/plain": [
              "     year                         bomtitle  ... director director_link\n",
              "58    NaN  Batman Begins (2012 re-release)  ...      NaN           NaN\n",
              "63    NaN        Star Wars: The Clone Wars  ...      NaN           NaN\n",
              "89    NaN                         Primeval  ...      NaN           NaN\n",
              "201   NaN                         The Fall  ...      NaN           NaN\n",
              "209   NaN                2011 Oscar Shorts  ...      NaN           NaN\n",
              "\n",
              "[5 rows x 5 columns]"
            ]
          },
          "metadata": {
            "tags": []
          },
          "execution_count": 6
        }
      ]
    },
    {
      "cell_type": "code",
      "metadata": {
        "id": "T-P_UdFapXBY",
        "colab_type": "code",
        "colab": {}
      },
      "source": [
        "def awards_blurb_extraction(url_):\n",
        "  result = np.nan\n",
        "  # check if url nan\n",
        "  try:\n",
        "    source_code = requests.get(url_)\n",
        "    plain_text = source_code.text\n",
        "    soup = BeautifulSoup(plain_text, 'html.parser')\n",
        "    filter_ = soup.find_all(\"span\", {\"class\":\"awards-blurb\"})\n",
        "    result = filter_[0].get_text().replace(\"\\n\",\"\").replace(\" \", \"\")\n",
        "  except:\n",
        "    pass\n",
        "  return result"
      ],
      "execution_count": 0,
      "outputs": []
    },
    {
      "cell_type": "code",
      "metadata": {
        "id": "IYlEaZbdRU0g",
        "colab_type": "code",
        "colab": {}
      },
      "source": [
        "# Go into personal page for awards link\n",
        "# and find number of awards and nomination\n",
        "# initialization\n",
        "dataset['awards_blurb'] = np.nan\n",
        "for i in range(len(dataset)):\n",
        "  dataset['awards_blurb'][i] = awards_blurb_extraction(dataset['director_link'][i])\n",
        "  # process\n",
        "  if i%50 == 0:\n",
        "    print(i)"
      ],
      "execution_count": 0,
      "outputs": []
    },
    {
      "cell_type": "code",
      "metadata": {
        "id": "2YtGjw-bsADz",
        "colab_type": "code",
        "colab": {
          "base_uri": "https://localhost:8080/",
          "height": 34
        },
        "outputId": "d936aa96-7d03-4f1e-a4e2-229f62a40c58"
      },
      "source": [
        "# check any blanks\n",
        "print(len(dataset[dataset['awards_blurb'].isna()]))"
      ],
      "execution_count": 36,
      "outputs": [
        {
          "output_type": "stream",
          "text": [
            "143\n"
          ],
          "name": "stdout"
        }
      ]
    },
    {
      "cell_type": "code",
      "metadata": {
        "id": "-fHUFTMqkxgC",
        "colab_type": "code",
        "colab": {}
      },
      "source": [
        "# set up nominations and awards column\n",
        "dataset['nominations'] = np.nan\n",
        "dataset['awards'] = np.nan\n",
        "\n",
        "# separate records from awards_blurb strings\n",
        "# there are several possible formats\n",
        "# Won/Nominated for ...\n",
        "# Nominations/wins/win/Normation\n",
        "def award_nomination_count(string_):\n",
        "  awards = 0\n",
        "  nomination = 0\n",
        "  # first check either Won or Nominated\n",
        "  string_ = str(string_)\n",
        "  if \"Nominated\" in string_:\n",
        "    temp = re.findall(r'\\d+', string_)\n",
        "    nomination = int(temp[0])\n",
        "  if \"Won\" in string_:\n",
        "    temp = re.findall(r'\\d+', string_)\n",
        "    awards = int(temp[0])\n",
        "\n",
        "  # check either nomination/win/both\n",
        "  nomination_find = False\n",
        "  win_find = False\n",
        "  if \"nomination\" in string_:\n",
        "    temp = re.findall(r'\\d+', string_)\n",
        "    if \"win\" in string_: # both\n",
        "      awards = int(temp[0])\n",
        "      nomination = int(temp[1])\n",
        "    else: # only nomination\n",
        "      nomination = int(temp[0])\n",
        "  elif \"win\" in string_:\n",
        "    temp = re.findall(r'\\d+', string_)\n",
        "    awards = int(temp[0])\n",
        "  return awards, nomination"
      ],
      "execution_count": 0,
      "outputs": []
    },
    {
      "cell_type": "code",
      "metadata": {
        "id": "ZBu6744exy7k",
        "colab_type": "code",
        "colab": {}
      },
      "source": [
        "for i in range(len(dataset)):\n",
        "  str_content = dataset['awards_blurb'][i]\n",
        "  dataset['awards'][i], dataset['nominations'][i] = award_nomination_count(str_content)"
      ],
      "execution_count": 0,
      "outputs": []
    },
    {
      "cell_type": "code",
      "metadata": {
        "id": "BRP2lYC3y7R3",
        "colab_type": "code",
        "colab": {}
      },
      "source": [
        "dataset.to_csv(\"Test_Award_Director_result.csv\")"
      ],
      "execution_count": 0,
      "outputs": []
    }
  ]
}