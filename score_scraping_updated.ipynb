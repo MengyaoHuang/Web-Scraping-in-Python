{
  "nbformat": 4,
  "nbformat_minor": 0,
  "metadata": {
    "kernelspec": {
      "display_name": "Python 3",
      "language": "python",
      "name": "python3"
    },
    "language_info": {
      "codemirror_mode": {
        "name": "ipython",
        "version": 3
      },
      "file_extension": ".py",
      "mimetype": "text/x-python",
      "name": "python",
      "nbconvert_exporter": "python",
      "pygments_lexer": "ipython3",
      "version": "3.6.5"
    },
    "colab": {
      "name": "score_scraping.ipynb",
      "provenance": [],
      "collapsed_sections": [],
      "toc_visible": true
    }
  },
  "cells": [
    {
      "cell_type": "markdown",
      "metadata": {
        "id": "XW8VHQPofmJk",
        "colab_type": "text"
      },
      "source": [
        "## Score scraping"
      ]
    },
    {
      "cell_type": "code",
      "metadata": {
        "id": "VTLfHo2nfmJn",
        "colab_type": "code",
        "colab": {}
      },
      "source": [
        "# package use\n",
        "import requests\n",
        "import urllib\n",
        "import urllib.request\n",
        "import time\n",
        "import re\n",
        "import string\n",
        "import matplotlib.pyplot as plt\n",
        "import seaborn as sns\n",
        "from bs4 import BeautifulSoup\n",
        "from IPython.core.display import HTML\n",
        "\n",
        "import pandas as pd\n",
        "import numpy as np\n",
        "import warnings\n",
        "warnings.filterwarnings(\"ignore\")\n",
        "import copy\n",
        "from collections import Counter"
      ],
      "execution_count": 0,
      "outputs": []
    },
    {
      "cell_type": "code",
      "metadata": {
        "id": "YcPxIlV3gPDp",
        "colab_type": "code",
        "outputId": "0465529d-b0d2-47de-98d9-c58ee77769b3",
        "colab": {
          "base_uri": "https://localhost:8080/",
          "height": 35
        }
      },
      "source": [
        "# read box office table first\n",
        "boxOffice = pd.read_csv(\"boxOffice_Allfilled.csv\", encoding='ISO-8859-1')\n",
        "print(boxOffice.shape)"
      ],
      "execution_count": 2,
      "outputs": [
        {
          "output_type": "stream",
          "text": [
            "(2400, 24)\n"
          ],
          "name": "stdout"
        }
      ]
    },
    {
      "cell_type": "code",
      "metadata": {
        "id": "D2R_zZglCskn",
        "colab_type": "code",
        "outputId": "0f4ec65c-8e33-42e6-8153-c7f35b2a5fb3",
        "colab": {
          "base_uri": "https://localhost:8080/",
          "height": 134
        }
      },
      "source": [
        "boxOffice = boxOffice.loc[:, ~boxOffice.columns.str.contains('^Unnamed')]\n",
        "boxOffice.head(1)"
      ],
      "execution_count": 3,
      "outputs": [
        {
          "output_type": "execute_result",
          "data": {
            "text/html": [
              "<div>\n",
              "<style scoped>\n",
              "    .dataframe tbody tr th:only-of-type {\n",
              "        vertical-align: middle;\n",
              "    }\n",
              "\n",
              "    .dataframe tbody tr th {\n",
              "        vertical-align: top;\n",
              "    }\n",
              "\n",
              "    .dataframe thead th {\n",
              "        text-align: right;\n",
              "    }\n",
              "</style>\n",
              "<table border=\"1\" class=\"dataframe\">\n",
              "  <thead>\n",
              "    <tr style=\"text-align: right;\">\n",
              "      <th></th>\n",
              "      <th>year</th>\n",
              "      <th>bomrank</th>\n",
              "      <th>remove</th>\n",
              "      <th>bomtitle</th>\n",
              "      <th>imdblink</th>\n",
              "      <th>bomlink</th>\n",
              "      <th>studio</th>\n",
              "      <th>totalusgross$</th>\n",
              "      <th>totaltheater</th>\n",
              "      <th>openingusgross$</th>\n",
              "      <th>openingtheaters</th>\n",
              "      <th>opendate</th>\n",
              "      <th>closedate</th>\n",
              "      <th>critic ratings_avg</th>\n",
              "      <th>critic rating_var</th>\n",
              "      <th>user_avg</th>\n",
              "      <th>user_var</th>\n",
              "      <th>critic_ratings_comments</th>\n",
              "      <th>critic_ratings_list</th>\n",
              "      <th>ALL_numCritics</th>\n",
              "      <th>ALL_meanCritics</th>\n",
              "      <th>ALL_varCritics</th>\n",
              "      <th>ALL_listCritics</th>\n",
              "    </tr>\n",
              "  </thead>\n",
              "  <tbody>\n",
              "    <tr>\n",
              "      <th>0</th>\n",
              "      <td>2004</td>\n",
              "      <td>1</td>\n",
              "      <td>NaN</td>\n",
              "      <td>Shrek 2</td>\n",
              "      <td>http://www.imdb.com/title/tt0298148/</td>\n",
              "      <td>http://www.boxofficemojo.com/movies/?id=shrek2...</td>\n",
              "      <td>DW</td>\n",
              "      <td>441226247</td>\n",
              "      <td>4223.0</td>\n",
              "      <td>108037878.0</td>\n",
              "      <td>4163.0</td>\n",
              "      <td>19-May</td>\n",
              "      <td>25-Nov</td>\n",
              "      <td>75.0</td>\n",
              "      <td>94.4</td>\n",
              "      <td>7.2</td>\n",
              "      <td>2.3698</td>\n",
              "      <td>Lightning strikes twice, but not as brilliant...</td>\n",
              "      <td>90.0||88.0||80.0||80.0||80.0||75.0||75.0||70.0...</td>\n",
              "      <td>40</td>\n",
              "      <td>76.625</td>\n",
              "      <td>215.084375</td>\n",
              "      <td>100||100||91||91||90||90||90||90||90||88||88||...</td>\n",
              "    </tr>\n",
              "  </tbody>\n",
              "</table>\n",
              "</div>"
            ],
            "text/plain": [
              "   year  ...                                    ALL_listCritics\n",
              "0  2004  ...  100||100||91||91||90||90||90||90||90||88||88||...\n",
              "\n",
              "[1 rows x 23 columns]"
            ]
          },
          "metadata": {
            "tags": []
          },
          "execution_count": 3
        }
      ]
    },
    {
      "cell_type": "markdown",
      "metadata": {
        "id": "3yY96vEhfmJw",
        "colab_type": "text"
      },
      "source": [
        "### Take the first film as example to check user rating columns"
      ]
    },
    {
      "cell_type": "code",
      "metadata": {
        "id": "QUgeFunCfmJx",
        "colab_type": "code",
        "outputId": "f6e184b5-9306-47dc-fd3b-bf5f12484ef7",
        "colab": {
          "base_uri": "https://localhost:8080/",
          "height": 53
        }
      },
      "source": [
        "# fill ratings and comments \n",
        "# add ratings string to return rating url for films\n",
        "url = boxOffice['imdblink'][0] + \"ratings\"\n",
        "print(url)\n",
        "response = requests.get(url)\n",
        "# analyze rating website information\n",
        "soup = BeautifulSoup(response.text, \"html.parser\")\n",
        "# find number of ratings and average score\n",
        "def find_avg_total(soup_):\n",
        "    string = soup_.findAll('div', {'class': \"allText\"})[0].text.replace(\",\", \"\")\n",
        "    return re.findall(r\"\\d+\\.?\\d*\", string)\n",
        "\n",
        "result_score = find_avg_total(soup)\n",
        "print(result_score)"
      ],
      "execution_count": 0,
      "outputs": [
        {
          "output_type": "stream",
          "text": [
            "http://www.imdb.com/title/tt0298148/ratings\n",
            "['390714', '7.2', '10']\n"
          ],
          "name": "stdout"
        }
      ]
    },
    {
      "cell_type": "code",
      "metadata": {
        "id": "HQmbj5BmfmJz",
        "colab_type": "code",
        "outputId": "bd1f26e0-8e48-4cd8-ca3b-5c994903bb28",
        "colab": {
          "base_uri": "https://localhost:8080/",
          "height": 73
        }
      },
      "source": [
        "text_html = soup.findAll('div', {'class': [\"allText\", \"leftAligned\", \"topAligned\", \"rightAligned\"]})\n",
        "# extract all numbers in the chart and return list\n",
        "def get_numList(text_html_):\n",
        "    text_string = \"\"\n",
        "    for i in range(1, len(text_html_)):\n",
        "        text_string = text_string + text_html_[i].text\n",
        "    text_string = text_string.replace(\",\", \"\").replace(\"\\n\", \" \").replace(\"\\xa0\", \"\")\n",
        "    text_string = re.sub(r'[A-z]', '', text_string).split()\n",
        "    return text_string\n",
        "\n",
        "result_list = get_numList(text_html)\n",
        "print(result_list)\n",
        "print(len(result_list))"
      ],
      "execution_count": 0,
      "outputs": [
        {
          "output_type": "stream",
          "text": [
            "['1010', '8.8%', '8.8%', '34279', '3427999', '10.1%', '10.1%', '39406', '3940688', '25.4%', '25.4%', '99159', '9915977', '32.4%', '32.4%', '126734', '12673466', '14.6%', '14.6%', '56996', '5699655', '4.9%', '4.9%', '19100', '1910044', '1.8%', '1.8%', '7035', '703533', '0.8%', '0.8%', '3296', '329622', '0.5%', '0.5%', '1841', '184111', '0.7%', '0.7%', '2868', '2868', '=', '7.3', '=', '7']\n",
            "45\n"
          ],
          "name": "stdout"
        }
      ]
    },
    {
      "cell_type": "code",
      "metadata": {
        "id": "LpfCuI2kfmJ1",
        "colab_type": "code",
        "outputId": "0282e3f0-2543-4506-8304-f138f21dc671",
        "colab": {
          "base_uri": "https://localhost:8080/",
          "height": 55
        }
      },
      "source": [
        "def variance_dic(text_string_):\n",
        "    # set up blank dictionary first\n",
        "    dic = {}\n",
        "    # fill in next if all levels are included\n",
        "    if len(text_string_) == 45:\n",
        "        for i in range(10):\n",
        "            sub_string = text_string_[4*i:(4*i+4)]\n",
        "            dic[10-i] = [float(sub_string[1].strip(\"%\"))/100, float(sub_string[3])]\n",
        "    return dic\n",
        "result_dic = variance_dic(result_list)\n",
        "print(result_dic)"
      ],
      "execution_count": 0,
      "outputs": [
        {
          "output_type": "stream",
          "text": [
            "{10: [0.08800000000000001, 34279.0], 9: [0.10099999999999999, 39406.0], 8: [0.254, 99159.0], 7: [0.324, 126734.0], 6: [0.146, 56996.0], 5: [0.049, 19100.0], 4: [0.018000000000000002, 7035.0], 3: [0.008, 3296.0], 2: [0.005, 1841.0], 1: [0.006999999999999999, 2868.0]}\n"
          ],
          "name": "stdout"
        }
      ]
    },
    {
      "cell_type": "markdown",
      "metadata": {
        "id": "ND6tZjjKfmJ3",
        "colab_type": "text"
      },
      "source": [
        "### Calculate variance based on distribution\n",
        "* Formula: D(X)=sigma(pi*(xi-u)^2)"
      ]
    },
    {
      "cell_type": "code",
      "metadata": {
        "id": "vAMb5pOGfmJ3",
        "colab_type": "code",
        "outputId": "4d791263-f85e-464c-e8ef-f9f906e39ffc",
        "colab": {
          "base_uri": "https://localhost:8080/",
          "height": 35
        }
      },
      "source": [
        "# calculate variance based on the dictionary\n",
        "def variance_calculate(dic_):\n",
        "    # full dictionary to calculate variance\n",
        "    variance = np.nan\n",
        "    if len(dic_) == 10:\n",
        "        variance = 0\n",
        "        for index in range(len(dic_)):\n",
        "            mu = float(result_score[1])\n",
        "            variance = variance + result_dic[10-index][0]*(10-index-mu)*(10-index-mu)\n",
        "    return variance\n",
        "variance_calculate(result_dic)    "
      ],
      "execution_count": 0,
      "outputs": [
        {
          "output_type": "execute_result",
          "data": {
            "text/plain": [
              "2.3697999999999997"
            ]
          },
          "metadata": {
            "tags": []
          },
          "execution_count": 7
        }
      ]
    },
    {
      "cell_type": "markdown",
      "metadata": {
        "id": "UUsz9WFNfmJ5",
        "colab_type": "text"
      },
      "source": [
        "### Now fill in the user_avg and user_var column"
      ]
    },
    {
      "cell_type": "code",
      "metadata": {
        "id": "UljmPAMwfmJ7",
        "colab_type": "code",
        "colab": {}
      },
      "source": [
        "print(len(boxOffice))\n",
        "for l in range(1150, len(boxOffice)):\n",
        "    # give the url address first\n",
        "    if \"http\" in str(boxOffice['imdblink'][l]):\n",
        "        url = boxOffice['imdblink'][l] + \"ratings\"\n",
        "        response = requests.get(url)\n",
        "        # analyze rating website information\n",
        "        soup = BeautifulSoup(response.text, \"html.parser\")\n",
        "        # find number of ratings and average score\n",
        "        result_score = find_avg_total(soup)\n",
        "\n",
        "        # return the second term as average\n",
        "        boxOffice['user_avg'][l] = float(result_score[1])\n",
        "        # calculate the variance\n",
        "        text_html = soup.findAll('div', {'class': [\"allText\", \"leftAligned\", \"topAligned\", \"rightAligned\"]})\n",
        "        # scores distribution list\n",
        "        result_list = get_numList(text_html)\n",
        "        # scores and their number of votes and percentage dictionary\n",
        "        result_dic = variance_dic(result_list)\n",
        "        score = variance_calculate(result_dic) \n",
        "        boxOffice['user_var'][l] = score\n",
        "    # check process\n",
        "    if l%200 == 0:\n",
        "        print(l)"
      ],
      "execution_count": 0,
      "outputs": []
    },
    {
      "cell_type": "code",
      "metadata": {
        "id": "1_EoG9hvfmJ9",
        "colab_type": "code",
        "outputId": "cb05e5c6-db63-4e82-981c-5ad473ab02ed",
        "colab": {
          "base_uri": "https://localhost:8080/",
          "height": 35
        }
      },
      "source": [
        "# deal with not full dictionary variance last\n",
        "# find those items first\n",
        "left_index = boxOffice[(boxOffice['user_avg'].notnull())&(boxOffice['user_var'].isnull())].index.values.astype(int).tolist()\n",
        "print(left_index)"
      ],
      "execution_count": 0,
      "outputs": [
        {
          "output_type": "stream",
          "text": [
            "[1194, 1597, 1799, 1941]\n"
          ],
          "name": "stdout"
        }
      ]
    },
    {
      "cell_type": "code",
      "metadata": {
        "id": "zxFEyWRIfmJ_",
        "colab_type": "code",
        "colab": {}
      },
      "source": [
        "def variance_dic_notFull(text_string_):\n",
        "    # set up blank dictionary first\n",
        "    dic = {}\n",
        "    temp = copy.deepcopy(text_string_)\n",
        "    # fill in next if all levels are included\n",
        "    for i in range(10):\n",
        "        sub_string = temp[4*i:(4*i+4)]\n",
        "        if '0' in sub_string:\n",
        "            dic[10-i] = [0, 0]\n",
        "            temp = [0, 0] + temp\n",
        "        else:\n",
        "            dic[10-i] = [float(sub_string[1].strip(\"%\"))/100, float(sub_string[3])]\n",
        "    return dic"
      ],
      "execution_count": 0,
      "outputs": []
    },
    {
      "cell_type": "code",
      "metadata": {
        "id": "XHXnvLSygYYj",
        "colab_type": "code",
        "outputId": "101ad5f6-a4f7-4e8f-ae7a-6e2f05e9ceed",
        "colab": {
          "base_uri": "https://localhost:8080/",
          "height": 35
        }
      },
      "source": [
        "boxOffice['imdblink'][left_index[0]]"
      ],
      "execution_count": 0,
      "outputs": [
        {
          "output_type": "execute_result",
          "data": {
            "text/plain": [
              "'http://www.imdb.com/title/tt1334479/'"
            ]
          },
          "metadata": {
            "tags": []
          },
          "execution_count": 13
        }
      ]
    },
    {
      "cell_type": "code",
      "metadata": {
        "id": "ejyqwKrgfmKA",
        "colab_type": "code",
        "colab": {}
      },
      "source": [
        "for index in left_index:\n",
        "    url = boxOffice['imdblink'][index] + \"ratings\"\n",
        "    response = requests.get(url)\n",
        "    soup = BeautifulSoup(response.text, \"html.parser\")\n",
        "    result_score = find_avg_total(soup)\n",
        "    text_html = soup.findAll('div', {'class': [\"allText\", \"leftAligned\", \"topAligned\", \"rightAligned\"]})\n",
        "    result_list = get_numList(text_html)\n",
        "    result_dic = variance_dic_notFull(result_list)\n",
        "    score = variance_calculate(result_dic) \n",
        "    boxOffice['user_var'][index] = score"
      ],
      "execution_count": 0,
      "outputs": []
    },
    {
      "cell_type": "code",
      "metadata": {
        "id": "yKnOVnDefmKG",
        "colab_type": "code",
        "outputId": "09c71abd-ebfa-4559-da9c-64faafae66e8",
        "colab": {
          "base_uri": "https://localhost:8080/",
          "height": 35
        }
      },
      "source": [
        "print('Num of blanks: ', len(boxOffice[(boxOffice['user_avg'].isnull())|(boxOffice['user_var'].isnull())]))"
      ],
      "execution_count": 0,
      "outputs": [
        {
          "output_type": "stream",
          "text": [
            "Num of blanks:  9\n"
          ],
          "name": "stdout"
        }
      ]
    },
    {
      "cell_type": "code",
      "metadata": {
        "id": "XeRsMKiqfmKI",
        "colab_type": "code",
        "outputId": "4012bc79-5f90-4679-c151-599e3f501c56",
        "colab": {
          "base_uri": "https://localhost:8080/",
          "height": 426
        }
      },
      "source": [
        "hist = boxOffice[['user_avg', 'user_var']].hist(bins=20, figsize=[12, 6])\n",
        "print(hist)"
      ],
      "execution_count": 0,
      "outputs": [
        {
          "output_type": "stream",
          "text": [
            "[[<matplotlib.axes._subplots.AxesSubplot object at 0x7fe56d196860>\n",
            "  <matplotlib.axes._subplots.AxesSubplot object at 0x7fe56ce83ac8>]]\n"
          ],
          "name": "stdout"
        },
        {
          "output_type": "display_data",
          "data": {
            "image/png": "[encoded data removed]",
            "text/plain": [
              "<Figure size 864x432 with 2 Axes>"
            ]
          },
          "metadata": {
            "tags": []
          }
        }
      ]
    },
    {
      "cell_type": "code",
      "metadata": {
        "id": "3I_MS-gJfmKC",
        "colab_type": "code",
        "colab": {}
      },
      "source": [
        "# write boxOffice and store\n",
        "boxOffice.to_csv(\"boxOffice_userfilled.csv\")"
      ],
      "execution_count": 0,
      "outputs": []
    },
    {
      "cell_type": "code",
      "metadata": {
        "id": "EzjxBVlogYT9",
        "colab_type": "code",
        "outputId": "90f059c4-9c7a-4401-daab-b73a0592b58b",
        "colab": {
          "base_uri": "https://localhost:8080/",
          "height": 343
        }
      },
      "source": [
        "boxOffice = pd.read_csv(\"boxOffice_userfilled.csv\", encoding='ISO-8859-1')\n",
        "boxOffice.head(5)"
      ],
      "execution_count": 0,
      "outputs": [
        {
          "output_type": "execute_result",
          "data": {
            "text/html": [
              "<div>\n",
              "<style scoped>\n",
              "    .dataframe tbody tr th:only-of-type {\n",
              "        vertical-align: middle;\n",
              "    }\n",
              "\n",
              "    .dataframe tbody tr th {\n",
              "        vertical-align: top;\n",
              "    }\n",
              "\n",
              "    .dataframe thead th {\n",
              "        text-align: right;\n",
              "    }\n",
              "</style>\n",
              "<table border=\"1\" class=\"dataframe\">\n",
              "  <thead>\n",
              "    <tr style=\"text-align: right;\">\n",
              "      <th></th>\n",
              "      <th>year</th>\n",
              "      <th>bomrank</th>\n",
              "      <th>remove</th>\n",
              "      <th>bomtitle</th>\n",
              "      <th>imdblink</th>\n",
              "      <th>bomlink</th>\n",
              "      <th>studio</th>\n",
              "      <th>totalusgross$</th>\n",
              "      <th>totaltheater</th>\n",
              "      <th>openingusgross$</th>\n",
              "      <th>openingtheaters</th>\n",
              "      <th>opendate</th>\n",
              "      <th>closedate</th>\n",
              "      <th>critic ratings_avg</th>\n",
              "      <th>critic rating_var</th>\n",
              "      <th>user_avg</th>\n",
              "      <th>user_var</th>\n",
              "      <th>critic_ratings_comments</th>\n",
              "      <th>critic_ratings_list</th>\n",
              "    </tr>\n",
              "  </thead>\n",
              "  <tbody>\n",
              "    <tr>\n",
              "      <th>0</th>\n",
              "      <td>2004</td>\n",
              "      <td>1</td>\n",
              "      <td>NaN</td>\n",
              "      <td>Shrek 2</td>\n",
              "      <td>http://www.imdb.com/title/tt0298148/</td>\n",
              "      <td>http://www.boxofficemojo.com/movies/?id=shrek2...</td>\n",
              "      <td>DW</td>\n",
              "      <td>441226247</td>\n",
              "      <td>4223.0</td>\n",
              "      <td>108037878.0</td>\n",
              "      <td>4163.0</td>\n",
              "      <td>19-May</td>\n",
              "      <td>25-Nov</td>\n",
              "      <td>75.0</td>\n",
              "      <td>94.4</td>\n",
              "      <td>7.2</td>\n",
              "      <td>2.36980</td>\n",
              "      <td>Lightning strikes twice, but not as brilliant...</td>\n",
              "      <td>90.0||88.0||80.0||80.0||80.0||75.0||75.0||70.0...</td>\n",
              "    </tr>\n",
              "    <tr>\n",
              "      <th>1</th>\n",
              "      <td>2004</td>\n",
              "      <td>2</td>\n",
              "      <td>NaN</td>\n",
              "      <td>Spider-Man 2</td>\n",
              "      <td>http://www.imdb.com/title/tt0316654/</td>\n",
              "      <td>http://www.boxofficemojo.com/movies/?id=spider...</td>\n",
              "      <td>Sony</td>\n",
              "      <td>373585825</td>\n",
              "      <td>4166.0</td>\n",
              "      <td>88156227.0</td>\n",
              "      <td>4152.0</td>\n",
              "      <td>30-Jun</td>\n",
              "      <td>19-Dec</td>\n",
              "      <td>83.0</td>\n",
              "      <td>115.2</td>\n",
              "      <td>7.3</td>\n",
              "      <td>2.84631</td>\n",
              "      <td>The pleasure is doubled in Spider-Man 2. Crac...</td>\n",
              "      <td>100.0||100.0||100.0||91.0||90.0||90.0||88.0||8...</td>\n",
              "    </tr>\n",
              "    <tr>\n",
              "      <th>2</th>\n",
              "      <td>2004</td>\n",
              "      <td>3</td>\n",
              "      <td>NaN</td>\n",
              "      <td>The Passion of the Christ</td>\n",
              "      <td>http://www.imdb.com/title/tt0335345/</td>\n",
              "      <td>http://www.boxofficemojo.com/movies/?id=passio...</td>\n",
              "      <td>NM</td>\n",
              "      <td>370274604</td>\n",
              "      <td>3408.0</td>\n",
              "      <td>83848082.0</td>\n",
              "      <td>3043.0</td>\n",
              "      <td>25-Feb</td>\n",
              "      <td>29-Jul</td>\n",
              "      <td>47.0</td>\n",
              "      <td>663.9</td>\n",
              "      <td>7.1</td>\n",
              "      <td>6.33320</td>\n",
              "      <td>This is not a sermon or a homily, but a visua...</td>\n",
              "      <td>100.0||80.0||80.0||75.0||63.0||63.0||50.0||50....</td>\n",
              "    </tr>\n",
              "    <tr>\n",
              "      <th>3</th>\n",
              "      <td>2004</td>\n",
              "      <td>4</td>\n",
              "      <td>NaN</td>\n",
              "      <td>Meet the Fockers</td>\n",
              "      <td>http://www.imdb.com/title/tt0290002/</td>\n",
              "      <td>http://www.boxofficemojo.com/movies/?id=meetth...</td>\n",
              "      <td>Uni.</td>\n",
              "      <td>279261160</td>\n",
              "      <td>3554.0</td>\n",
              "      <td>46120980.0</td>\n",
              "      <td>3518.0</td>\n",
              "      <td>22-Dec</td>\n",
              "      <td>16-Jun</td>\n",
              "      <td>41.0</td>\n",
              "      <td>298.8</td>\n",
              "      <td>6.3</td>\n",
              "      <td>2.76880</td>\n",
              "      <td>One of those relatively rare comedies that's ...</td>\n",
              "      <td>70.0||63.0||60.0||60.0||50.0||50.0||50.0||40.0...</td>\n",
              "    </tr>\n",
              "    <tr>\n",
              "      <th>4</th>\n",
              "      <td>2004</td>\n",
              "      <td>5</td>\n",
              "      <td>NaN</td>\n",
              "      <td>The Incredibles</td>\n",
              "      <td>http://www.imdb.com/title/tt0317705/</td>\n",
              "      <td>http://www.boxofficemojo.com/movies/?id=incred...</td>\n",
              "      <td>BV</td>\n",
              "      <td>261441092</td>\n",
              "      <td>3933.0</td>\n",
              "      <td>70467623.0</td>\n",
              "      <td>3933.0</td>\n",
              "      <td>5-Nov</td>\n",
              "      <td>14-Apr</td>\n",
              "      <td>90.0</td>\n",
              "      <td>100.0</td>\n",
              "      <td>8.0</td>\n",
              "      <td>2.37800</td>\n",
              "      <td>Pixar again hitches top-notch storytelling to...</td>\n",
              "      <td>100.0||100.0||100.0||100.0||100.0||90.0||90.0|...</td>\n",
              "    </tr>\n",
              "  </tbody>\n",
              "</table>\n",
              "</div>"
            ],
            "text/plain": [
              "   year  ...                                critic_ratings_list\n",
              "0  2004  ...  90.0||88.0||80.0||80.0||80.0||75.0||75.0||70.0...\n",
              "1  2004  ...  100.0||100.0||100.0||91.0||90.0||90.0||88.0||8...\n",
              "2  2004  ...  100.0||80.0||80.0||75.0||63.0||63.0||50.0||50....\n",
              "3  2004  ...  70.0||63.0||60.0||60.0||50.0||50.0||50.0||40.0...\n",
              "4  2004  ...  100.0||100.0||100.0||100.0||100.0||90.0||90.0|...\n",
              "\n",
              "[5 rows x 19 columns]"
            ]
          },
          "metadata": {
            "tags": []
          },
          "execution_count": 3
        }
      ]
    },
    {
      "cell_type": "markdown",
      "metadata": {
        "id": "7Ypo_UkVfmKK",
        "colab_type": "text"
      },
      "source": [
        "### Take the first film as example to check critic ratings_avg and critic rating_var columns"
      ]
    },
    {
      "cell_type": "code",
      "metadata": {
        "id": "1cECp8a9fmKL",
        "colab_type": "code",
        "outputId": "67e322d8-add9-49c0-cfb2-2f036e210e7a",
        "colab": {
          "base_uri": "https://localhost:8080/",
          "height": 35
        }
      },
      "source": [
        "url = boxOffice['imdblink'][0] + 'criticreviews'\n",
        "print(url)\n",
        "response = requests.get(url)\n",
        "# analyze rating website information\n",
        "soup = BeautifulSoup(response.text, \"html.parser\")"
      ],
      "execution_count": 0,
      "outputs": [
        {
          "output_type": "stream",
          "text": [
            "http://www.imdb.com/title/tt0298148/criticreviews\n"
          ],
          "name": "stdout"
        }
      ]
    },
    {
      "cell_type": "markdown",
      "metadata": {
        "id": "AkFZvzY2bmsd",
        "colab_type": "text"
      },
      "source": [
        "## Based on only IMDb shown\n",
        "- find the criticl rating list - combine both the \"critscore critscore_mixed\" and \"critscore critscore_favorable\" and \"critscore critscore_unfavorable\" scores"
      ]
    },
    {
      "cell_type": "code",
      "metadata": {
        "id": "mVxxpNKJfmKM",
        "colab_type": "code",
        "outputId": "1afdfb29-4f0f-4d87-d45c-a08122cb2f6a",
        "colab": {
          "base_uri": "https://localhost:8080/",
          "height": 71
        }
      },
      "source": [
        "def critic_scoreList_extract(soup_):\n",
        "    filter_list = soup_.findAll('div', {'class': [\"critscore critscore_favorable\", \"critscore critscore_mixed\", \n",
        "                             \"critscore critscore_unfavorable\"]})\n",
        "    score_list = []\n",
        "    for l in range(len(filter_list)):\n",
        "        # extract the critical score information\n",
        "        score = filter_list[l].text.replace('\\n','')\n",
        "        score_list.append(float(score))\n",
        "    return score_list\n",
        "# return blank list if there are no meta score available\n",
        "result_score = critic_scoreList_extract(soup)\n",
        "\n",
        "# if the result_score is not blank\n",
        "# turn the list into string for storing later as well\n",
        "score_list_string = str(result_score[0])\n",
        "for num in result_score[1:]:\n",
        "    score_list_string = score_list_string + \"||\" + str(num)\n",
        "\n",
        "print(result_score)\n",
        "print(score_list_string)\n",
        "print(score_list_string.split(\"||\"))"
      ],
      "execution_count": 0,
      "outputs": [
        {
          "output_type": "stream",
          "text": [
            "[90.0, 88.0, 80.0, 80.0, 80.0, 75.0, 75.0, 70.0, 60.0, 60.0]\n",
            "90.0||88.0||80.0||80.0||80.0||75.0||75.0||70.0||60.0||60.0\n",
            "['90.0', '88.0', '80.0', '80.0', '80.0', '75.0', '75.0', '70.0', '60.0', '60.0']\n"
          ],
          "name": "stdout"
        }
      ]
    },
    {
      "cell_type": "code",
      "metadata": {
        "id": "v5q3f0tcfmKO",
        "colab_type": "code",
        "outputId": "fa3e1594-1a51-4b95-982e-0027e58d7abb",
        "colab": {
          "base_uri": "https://localhost:8080/",
          "height": 35
        }
      },
      "source": [
        "# get meta final score if the result score list is not blank\n",
        "def critic_scoreMean_extract(soup_):\n",
        "    filter_score = soup.findAll('div', {'class': [\"metascore score_favorable\", \"metascore score_unfavorable\", \n",
        "                             \"metascore score_mixed\"]})\n",
        "    # there will be only one available category for each film\n",
        "    if len(filter_score) > 0:\n",
        "        score = float(filter_score[0].text.replace(\"\\n\", \"\"))\n",
        "    else:\n",
        "        score = np.nan\n",
        "    return score\n",
        "critic_scoreMean_extract(soup)"
      ],
      "execution_count": 0,
      "outputs": [
        {
          "output_type": "execute_result",
          "data": {
            "text/plain": [
              "75.0"
            ]
          },
          "metadata": {
            "tags": []
          },
          "execution_count": 73
        }
      ]
    },
    {
      "cell_type": "code",
      "metadata": {
        "id": "tyWMwgkVfmKS",
        "colab_type": "code",
        "outputId": "a2b752d4-b745-4b64-b3a3-33402b354f19",
        "colab": {
          "base_uri": "https://localhost:8080/",
          "height": 55
        }
      },
      "source": [
        "# extract the comments and store as string corresponding to the score order \n",
        "# use \"||\" to separate different comments\n",
        "def comment_extract(soup_):\n",
        "    filter_comment = soup_.findAll('div', {'itemprop': \"reviewbody\"})\n",
        "    # if the result score is not blank as well\n",
        "    # then add the comments \n",
        "    comment = filter_comment[0].text.replace(\"\\n\", \"\")\n",
        "    for l in range(1, len(filter_comment)):\n",
        "        comment = comment + \"||\" + filter_comment[l].text.replace(\"\\n\", \"\")\n",
        "    return comment\n",
        "\n",
        "print(comment_extract(soup)[0:205])"
      ],
      "execution_count": 0,
      "outputs": [
        {
          "output_type": "stream",
          "text": [
            " Lightning strikes twice, but not as brilliantly as before, in Shrek 2. The welcome sequel to the monster 2001 Oscar winner about an ogre's unlikely romance with a beautiful princess successfully recycles \n"
          ],
          "name": "stdout"
        }
      ]
    },
    {
      "cell_type": "markdown",
      "metadata": {
        "id": "o0U7Gn2jfmKX",
        "colab_type": "text"
      },
      "source": [
        "### Now fill in the critic ratings_avg and critic rating_var columns/comments included"
      ]
    },
    {
      "cell_type": "code",
      "metadata": {
        "id": "YIaweSVwfmKV",
        "colab_type": "code",
        "outputId": "e442cf41-69d9-444c-97b3-010109c1c523",
        "colab": {
          "base_uri": "https://localhost:8080/",
          "height": 35
        }
      },
      "source": [
        "# calculate the variance based on the avg score and meta score list\n",
        "def variance_calculate(avg_, list_):\n",
        "    variance = 0\n",
        "    for item in list_:\n",
        "        variance = variance + (item-avg_)*(item-avg_)\n",
        "    return variance/len(list_)\n",
        "variance_calculate(critic_scoreMean_extract(soup), result_score)"
      ],
      "execution_count": 0,
      "outputs": [
        {
          "output_type": "execute_result",
          "data": {
            "text/plain": [
              "94.4"
            ]
          },
          "metadata": {
            "tags": []
          },
          "execution_count": 75
        }
      ]
    },
    {
      "cell_type": "code",
      "metadata": {
        "id": "MBSRT2oPfmKY",
        "colab_type": "code",
        "colab": {}
      },
      "source": [
        "# add critic_ratings_list to record score list\n",
        "boxOffice['critic_ratings_list'] = np.nan"
      ],
      "execution_count": 0,
      "outputs": []
    },
    {
      "cell_type": "code",
      "metadata": {
        "id": "QQqCxKrbfmKZ",
        "colab_type": "code",
        "colab": {}
      },
      "source": [
        "for l in range(len(boxOffice)):\n",
        "    # make sure available url address to check\n",
        "    if \"http\" in str(boxOffice['imdblink'][l]):\n",
        "        url = boxOffice['imdblink'][l] + 'criticreviews'\n",
        "        response = requests.get(url)\n",
        "        soup = BeautifulSoup(response.text, \"html.parser\")\n",
        "        \n",
        "        # start to check meta score\n",
        "        # will return blank list if there are no meta score available\n",
        "        result_score = critic_scoreList_extract(soup)\n",
        "        # available many scores\n",
        "        if len(result_score) > 0:\n",
        "            # get score list string first and fill in\n",
        "            score_list_string = str(result_score[0])\n",
        "            for num in result_score[1:]:\n",
        "                score_list_string = score_list_string + \"||\" + str(num)\n",
        "            boxOffice['critic_ratings_list'][l] = score_list_string\n",
        "            # get critic average score and fill in\n",
        "            avg_score = critic_scoreMean_extract(soup)\n",
        "            boxOffice['critic ratings_avg'][l] = avg_score\n",
        "            # calculate variance for meta score and fill in\n",
        "            variance_score = variance_calculate(avg_score, result_score)\n",
        "            boxOffice['critic rating_var'][l] = variance_score\n",
        "            # get comment string and fill in\n",
        "            comment_str = comment_extract(soup)\n",
        "            boxOffice['critic_ratings_comments'][l] = comment_str\n",
        "        # no available scores and comments\n",
        "        else:\n",
        "            boxOffice['critic_ratings_list'][l] = np.nan\n",
        "            boxOffice['critic ratings_avg'][l] = np.nan\n",
        "            boxOffice['critic rating_var'][l] = np.nan\n",
        "            boxOffice['critic_ratings_comments'][l] = np.nan\n",
        "    # check process\n",
        "    if l%100 == 0:\n",
        "        print(l)"
      ],
      "execution_count": 0,
      "outputs": []
    },
    {
      "cell_type": "code",
      "metadata": {
        "id": "tOLPJolwfmKg",
        "colab_type": "code",
        "outputId": "2f7fe844-151a-4d45-fc31-e83dc5600531",
        "colab": {
          "base_uri": "https://localhost:8080/",
          "height": 444
        }
      },
      "source": [
        "boxOffice[['critic ratings_avg','critic rating_var']].hist(bins=20, figsize=[12, 6])"
      ],
      "execution_count": 0,
      "outputs": [
        {
          "output_type": "execute_result",
          "data": {
            "text/plain": [
              "array([[<matplotlib.axes._subplots.AxesSubplot object at 0x7f74618ad198>,\n",
              "        <matplotlib.axes._subplots.AxesSubplot object at 0x7f74618078d0>]],\n",
              "      dtype=object)"
            ]
          },
          "metadata": {
            "tags": []
          },
          "execution_count": 79
        },
        {
          "output_type": "display_data",
          "data": {
            "image/png": "[encoded data removed]",
            "text/plain": [
              "<Figure size 864x432 with 2 Axes>"
            ]
          },
          "metadata": {
            "tags": []
          }
        }
      ]
    },
    {
      "cell_type": "code",
      "metadata": {
        "id": "IcRYdSWNfmKi",
        "colab_type": "code",
        "outputId": "3632228e-be5b-46b7-9b10-96c2636a6f59",
        "colab": {
          "base_uri": "https://localhost:8080/",
          "height": 313
        }
      },
      "source": [
        "plot_Allfilled = boxOffice[(boxOffice['user_var'].notnull())&(boxOffice['user_avg'].notnull())].reset_index(drop=True)\n",
        "user_avg = plot_Allfilled['user_avg'].values.tolist()\n",
        "user_var = plot_Allfilled['user_var'].values.tolist()\n",
        "critic_avg = plot_Allfilled['critic ratings_avg'].values.tolist()\n",
        "critic_var = plot_Allfilled['critic rating_var'].values.tolist()\n",
        "year = plot_Allfilled['year'].values.tolist()\n",
        "# plot\n",
        "plt.scatter(user_avg, user_var)\n",
        "plt.xlabel(\"user average score\")\n",
        "plt.ylabel(\"user variance\")\n",
        "plt.title(\"User ratings'average vs.variance distribution\")"
      ],
      "execution_count": 0,
      "outputs": [
        {
          "output_type": "execute_result",
          "data": {
            "text/plain": [
              "Text(0.5, 1.0, \"User ratings'average vs.variance distribution\")"
            ]
          },
          "metadata": {
            "tags": []
          },
          "execution_count": 80
        },
        {
          "output_type": "display_data",
          "data": {
            "image/png": "[encoded data removed]",
            "text/plain": [
              "<Figure size 432x288 with 1 Axes>"
            ]
          },
          "metadata": {
            "tags": []
          }
        }
      ]
    },
    {
      "cell_type": "code",
      "metadata": {
        "id": "PEI_je5vfmKk",
        "colab_type": "code",
        "outputId": "d1fd19a3-7e0c-4808-d76c-9aa918cad99e",
        "colab": {
          "base_uri": "https://localhost:8080/",
          "height": 313
        }
      },
      "source": [
        "# plot\n",
        "plt.scatter(critic_avg, critic_var)\n",
        "plt.xlabel(\"critic average score\")\n",
        "plt.ylabel(\"critic variance\")\n",
        "plt.title(\"Critic ratings'average vs.variance distribution\")"
      ],
      "execution_count": 0,
      "outputs": [
        {
          "output_type": "execute_result",
          "data": {
            "text/plain": [
              "Text(0.5, 1.0, \"Critic ratings'average vs.variance distribution\")"
            ]
          },
          "metadata": {
            "tags": []
          },
          "execution_count": 81
        },
        {
          "output_type": "display_data",
          "data": {
            "image/png": "[encoded data removed]",
            "text/plain": [
              "<Figure size 432x288 with 1 Axes>"
            ]
          },
          "metadata": {
            "tags": []
          }
        }
      ]
    },
    {
      "cell_type": "markdown",
      "metadata": {
        "id": "VshRSYWgi_1h",
        "colab_type": "text"
      },
      "source": [
        "## Based on all the critics from Metacritic"
      ]
    },
    {
      "cell_type": "code",
      "metadata": {
        "id": "-JmVafNjDESG",
        "colab_type": "code",
        "colab": {}
      },
      "source": [
        "boxOffice['ALL_numCritics'] = np.nan\n",
        "boxOffice['ALL_meanCritics'] = np.nan\n",
        "boxOffice['ALL_varCritics'] = np.nan\n",
        "boxOffice['ALL_listCritics'] = np.nan"
      ],
      "execution_count": 0,
      "outputs": []
    },
    {
      "cell_type": "code",
      "metadata": {
        "id": "k9sbK6w6DA66",
        "colab_type": "code",
        "colab": {}
      },
      "source": [
        "class_list = [\"metascore_w large movie positive indiv\", \n",
        "        \"metascore_w large movie positive indiv perfect\",\n",
        "        \"metascore_w large movie mixed indiv\"]"
      ],
      "execution_count": 0,
      "outputs": []
    },
    {
      "cell_type": "code",
      "metadata": {
        "id": "LVxAWlkpuwG8",
        "colab_type": "code",
        "colab": {}
      },
      "source": [
        "headers = {'user-agent': 'Mozilla/5.0 (Windows NT 10.0; Win64; x64) AppleWebKit/537.36 (KHTML, like Gecko) Chrome/65.0.3325.181 Safari/537.36'}\n",
        "headers_simple = {\"User-Agent\": \"Mozilla/5.0\"}\n",
        "headers1 = {\"User-Agent\": \"Mozilla/3.10\"}\n",
        "\n",
        "for l in range(2393, len(boxOffice)):\n",
        "    # make sure available url address to check\n",
        "    if \"http\" in str(boxOffice['imdblink'][l]):\n",
        "      url = boxOffice['imdblink'][l] + 'criticreviews'\n",
        "      response = requests.get(url)\n",
        "      # analyze rating website information\n",
        "      soup = BeautifulSoup(response.text, \"html.parser\")\n",
        "      see_more_link = soup.find('div', {'class': 'see-more'}).find('a')['href']\n",
        "      # check filtered out link is available or not\n",
        "      if \"http\" in see_more_link:\n",
        "        response = requests.get(see_more_link, headers=headers1)\n",
        "        soup = BeautifulSoup(response.text, \"html.parser\")\n",
        "        see_all_link = soup.find('div', {'class': 'see_all'}).find('a')['href']\n",
        "        see_all_link = \"https://www.metacritic.com\" + see_all_link\n",
        "        # get complete scores info \n",
        "        response = requests.get(see_all_link, headers=headers1)\n",
        "        soup = BeautifulSoup(response.text, \"html.parser\")\n",
        "        cri_list = soup.findAll('div', {'class': class_list})\n",
        "        number_cri = len(cri_list)\n",
        "        score_cri = [int(cri_list[i].text) for i in range(number_cri)]\n",
        "        if len(score_cri)>0:\n",
        "          score_list_string = str(score_cri[0])\n",
        "          for num in score_cri[1:]:\n",
        "            score_list_string = score_list_string + \"||\" + str(num)\n",
        "          mean_cri = np.mean(score_cri)\n",
        "          var_cri = np.var(score_cri)\n",
        "          boxOffice['ALL_numCritics'][l] = number_cri\n",
        "          boxOffice['ALL_listCritics'][l] = score_list_string\n",
        "          boxOffice['ALL_meanCritics'][l] = mean_cri\n",
        "          boxOffice['ALL_varCritics'][l] = var_cri\n",
        "    # time.sleep(5)\n",
        "    # check process\n",
        "    if l%100 == 0:\n",
        "        print(l)"
      ],
      "execution_count": 0,
      "outputs": []
    },
    {
      "cell_type": "code",
      "metadata": {
        "id": "76pOGd2ouv6m",
        "colab_type": "code",
        "colab": {}
      },
      "source": [
        "boxOffice.to_csv(\"temp.csv\")"
      ],
      "execution_count": 0,
      "outputs": []
    }
  ]
}