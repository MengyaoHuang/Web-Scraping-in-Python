{
  "nbformat": 4,
  "nbformat_minor": 0,
  "metadata": {
    "colab": {
      "name": "Others unconventionality collection.ipynb",
      "provenance": []
    },
    "kernelspec": {
      "name": "python3",
      "display_name": "Python 3"
    }
  },
  "cells": [
    {
      "cell_type": "markdown",
      "metadata": {
        "id": "uwweAJGCM7op",
        "colab_type": "text"
      },
      "source": [
        "#### **Others unconventionality collection**"
      ]
    },
    {
      "cell_type": "code",
      "metadata": {
        "id": "Abi3Tu24Mnmh",
        "colab_type": "code",
        "colab": {}
      },
      "source": [
        "import pandas as pd\n",
        "import pickle\n",
        "import glob\n",
        "import numpy as np\n",
        "\n",
        "import warnings\n",
        "warnings.filterwarnings(\"ignore\")\n",
        "from collections import Counter"
      ],
      "execution_count": 0,
      "outputs": []
    },
    {
      "cell_type": "markdown",
      "metadata": {
        "id": "-DfXdy-JNKgP",
        "colab_type": "text"
      },
      "source": [
        "### **1. Read Tables**"
      ]
    },
    {
      "cell_type": "code",
      "metadata": {
        "id": "_ThM7pMuNIQJ",
        "colab_type": "code",
        "colab": {
          "base_uri": "https://localhost:8080/",
          "height": 147
        },
        "outputId": "97a5caa4-88a5-4936-d977-577f8749c503"
      },
      "source": [
        "unconventional_set = pd.read_csv(\"own unconventionality.csv\", encoding=\"iso-8859-1\")\n",
        "unconventional_set.head(1)"
      ],
      "execution_count": 3,
      "outputs": [
        {
          "output_type": "execute_result",
          "data": {
            "text/html": [
              "<div>\n",
              "<style scoped>\n",
              "    .dataframe tbody tr th:only-of-type {\n",
              "        vertical-align: middle;\n",
              "    }\n",
              "\n",
              "    .dataframe tbody tr th {\n",
              "        vertical-align: top;\n",
              "    }\n",
              "\n",
              "    .dataframe thead th {\n",
              "        text-align: right;\n",
              "    }\n",
              "</style>\n",
              "<table border=\"1\" class=\"dataframe\">\n",
              "  <thead>\n",
              "    <tr style=\"text-align: right;\">\n",
              "      <th></th>\n",
              "      <th>year</th>\n",
              "      <th>imdbcrewcastlink</th>\n",
              "      <th>imdbfilmtitle</th>\n",
              "      <th>imdbfilmlink</th>\n",
              "      <th>bomtitle</th>\n",
              "      <th>bomlink</th>\n",
              "      <th>descriptor1</th>\n",
              "      <th>descriptor2</th>\n",
              "      <th>descriptor3</th>\n",
              "      <th>NumOwnFilms(past five years)</th>\n",
              "      <th>NumOfTwoCommonCategoriesOwnFilms(past five years)</th>\n",
              "    </tr>\n",
              "  </thead>\n",
              "  <tbody>\n",
              "    <tr>\n",
              "      <th>0</th>\n",
              "      <td>2005</td>\n",
              "      <td>http://www.imdb.com/name/nm4588077/</td>\n",
              "      <td>Fantastic Four</td>\n",
              "      <td>http://www.imdb.com/title/tt0120667/</td>\n",
              "      <td>Fantastic Four (2005)</td>\n",
              "      <td>http://www.boxofficemojo.com/movies/?id=fantas...</td>\n",
              "      <td>action</td>\n",
              "      <td>adventure</td>\n",
              "      <td>fantasy</td>\n",
              "      <td>3</td>\n",
              "      <td>1</td>\n",
              "    </tr>\n",
              "  </tbody>\n",
              "</table>\n",
              "</div>"
            ],
            "text/plain": [
              "   year  ... NumOfTwoCommonCategoriesOwnFilms(past five years)\n",
              "0  2005  ...                                                 1\n",
              "\n",
              "[1 rows x 11 columns]"
            ]
          },
          "metadata": {
            "tags": []
          },
          "execution_count": 3
        }
      ]
    },
    {
      "cell_type": "markdown",
      "metadata": {
        "id": "QZ7JVH9ARygv",
        "colab_type": "text"
      },
      "source": [
        "### **2. Yearly feature films collection**"
      ]
    },
    {
      "cell_type": "markdown",
      "metadata": {
        "id": "xP4Dz2N4Ouv5",
        "colab_type": "text"
      },
      "source": [
        "**Sample address for IMDb link modification:**\n",
        "- Feature Film, Released between 2000-01-01 and 2005-12-31 (Sorted by Popularity Ascending)\n",
        "- https://www.imdb.com/search/title/?title_type=feature&year=2000-01-01,2005-12-31&view=advanced \n",
        "- Starts from certain number: \n",
        "- https://www.imdb.com/search/title/?title_type=feature&year=2005-01-01,2005-12-31&start=1&ref_=adv_nxt\n"
      ]
    },
    {
      "cell_type": "code",
      "metadata": {
        "id": "iI2Sgqi6N2Lx",
        "colab_type": "code",
        "colab": {}
      },
      "source": [
        "# collect yearly feature films descriptors \n",
        "# and stored in the dictionary for further comparison\n",
        "\n",
        "# package use\n",
        "import requests\n",
        "import urllib\n",
        "import urllib.request\n",
        "import time\n",
        "import re\n",
        "import string\n",
        "import matplotlib.pyplot as plt\n",
        "import seaborn as sns\n",
        "from bs4 import BeautifulSoup\n",
        "from IPython.core.display import HTML\n",
        "\n",
        "import pandas as pd\n",
        "import numpy as np\n",
        "import warnings\n",
        "warnings.filterwarnings(\"ignore\")\n",
        "import copy\n",
        "from collections import Counter"
      ],
      "execution_count": 0,
      "outputs": []
    },
    {
      "cell_type": "code",
      "metadata": {
        "id": "g7sVD879N1uC",
        "colab_type": "code",
        "colab": {}
      },
      "source": [
        "headers = [\"descriptor1\", \"descriptor2\", \"descriptor3\"]\n",
        "\n",
        "# now collection all the films record within certain years range\n",
        "def yearly_film_collection(year_par, start_record_par = 1, stopping = True, headers_par = headers):\n",
        "  # initialization for yearly_set based on first page\n",
        "  url = \"https://www.imdb.com/search/title/?title_type=feature&year=\" + str(year_par) + \"-01-01,\" + str(year_par) + \"-12-31&start=\" + str(start_record_par) + \"&ref_=adv_nxt\"\n",
        "  response = requests.get(url)\n",
        "  soup = BeautifulSoup(response.text, \"html.parser\")\n",
        "  filter_out = soup.find_all(\"span\", {\"class\": \"genre\"})\n",
        "  list_ = [filter_out[i].text.strip().split(\", \") for i in range(len(filter_out))]\n",
        "  yearly_set = pd.DataFrame(list_, columns=headers_par)\n",
        "\n",
        "  # continue append \n",
        "  while stopping:\n",
        "    start_record_par += 50\n",
        "    print(start_record_par)\n",
        "    url = \"https://www.imdb.com/search/title/?title_type=feature&year=\" + str(year_par) + \"-01-01,\" + str(year_par) + \"-12-31&start=\" + str(start_record_par) + \"&ref_=adv_nxt\"\n",
        "    response = requests.get(url)\n",
        "    soup = BeautifulSoup(response.text, \"html.parser\")\n",
        "    filter_out = soup.find_all(\"span\", {\"class\": \"genre\"})\n",
        "    # update list_ based on current page searching result\n",
        "    list_ = [filter_out[i].text.strip().split(\", \") for i in range(len(filter_out))]\n",
        "    if len(list_) == 0:\n",
        "      stopping = False\n",
        "    else:\n",
        "      sub_length = max(len(l) for l in list_)\n",
        "      if sub_length < 3:\n",
        "        # fill in the first sub_length column\n",
        "        temp_set = pd.DataFrame(list_, columns=headers_par[0:sub_length])\n",
        "        # other columns set to none\n",
        "        for col in headers_par[sub_length:]:\n",
        "          temp_set[col] = np.nan\n",
        "      else:\n",
        "        temp_set = pd.DataFrame(list_, columns=headers_par)\n",
        "      yearly_set = yearly_set.append(temp_set)\n",
        "  # add year information\n",
        "  yearly_set['year'] = year_par\n",
        "  yearly_set = yearly_set.reset_index(drop=True)\n",
        "  yearly_set.to_csv(str(year_par) + \".csv\")\n",
        "  return True"
      ],
      "execution_count": 0,
      "outputs": []
    },
    {
      "cell_type": "code",
      "metadata": {
        "id": "Fc9VlumMN1mD",
        "colab_type": "code",
        "colab": {}
      },
      "source": [
        "# an example \n",
        "yearly_film_collection(2015)"
      ],
      "execution_count": 0,
      "outputs": []
    },
    {
      "cell_type": "markdown",
      "metadata": {
        "id": "-JWPujQuvsKg",
        "colab_type": "text"
      },
      "source": [
        "### **3. Count others unconventionality**"
      ]
    },
    {
      "cell_type": "code",
      "metadata": {
        "id": "himnX-9hN1jT",
        "colab_type": "code",
        "colab": {}
      },
      "source": [
        "import re\n",
        "# count number of movies each has\n",
        "unconventional_set['NumFeatureMovies(past five years)'] = np.nan\n",
        "unconventional_set['NumCommonFeatureMovies(past five years)'] = np.nan"
      ],
      "execution_count": 0,
      "outputs": []
    },
    {
      "cell_type": "code",
      "metadata": {
        "id": "vEH9CFwwza0E",
        "colab_type": "code",
        "colab": {
          "base_uri": "https://localhost:8080/",
          "height": 95
        },
        "outputId": "acac28bf-7cc0-4294-d94f-47114cb73861"
      },
      "source": [
        "total_set = pd.read_csv(\"2000.csv\")\n",
        "for i in range(2001, 2016):\n",
        "  temp = pd.read_csv(str(i) + \".csv\")\n",
        "  total_set = total_set.append(temp)\n",
        "print(len(total_set))\n",
        "total_set = total_set.reset_index(drop=True)\n",
        "total_set = total_set.apply(lambda x: x.astype(str).str.lower())\n",
        "total_set['year'] = total_set['year'].astype(int)\n",
        "total_set.head(1)"
      ],
      "execution_count": 75,
      "outputs": [
        {
          "output_type": "stream",
          "text": [
            "95843\n"
          ],
          "name": "stdout"
        },
        {
          "output_type": "execute_result",
          "data": {
            "text/html": [
              "<div>\n",
              "<style scoped>\n",
              "    .dataframe tbody tr th:only-of-type {\n",
              "        vertical-align: middle;\n",
              "    }\n",
              "\n",
              "    .dataframe tbody tr th {\n",
              "        vertical-align: top;\n",
              "    }\n",
              "\n",
              "    .dataframe thead th {\n",
              "        text-align: right;\n",
              "    }\n",
              "</style>\n",
              "<table border=\"1\" class=\"dataframe\">\n",
              "  <thead>\n",
              "    <tr style=\"text-align: right;\">\n",
              "      <th></th>\n",
              "      <th>Unnamed: 0</th>\n",
              "      <th>descriptor1</th>\n",
              "      <th>descriptor2</th>\n",
              "      <th>descriptor3</th>\n",
              "      <th>year</th>\n",
              "    </tr>\n",
              "  </thead>\n",
              "  <tbody>\n",
              "    <tr>\n",
              "      <th>0</th>\n",
              "      <td>0</td>\n",
              "      <td>action</td>\n",
              "      <td>adventure</td>\n",
              "      <td>comedy</td>\n",
              "      <td>2000</td>\n",
              "    </tr>\n",
              "  </tbody>\n",
              "</table>\n",
              "</div>"
            ],
            "text/plain": [
              "  Unnamed: 0 descriptor1 descriptor2 descriptor3  year\n",
              "0          0      action   adventure      comedy  2000"
            ]
          },
          "metadata": {
            "tags": []
          },
          "execution_count": 75
        }
      ]
    },
    {
      "cell_type": "code",
      "metadata": {
        "id": "Bs-KF1SZvgp9",
        "colab_type": "code",
        "colab": {
          "base_uri": "https://localhost:8080/",
          "height": 247
        },
        "outputId": "a8e473b0-56d5-4c46-c436-51f97000712c"
      },
      "source": [
        "upper_bound = len(unconventional_set)\n",
        "for idx in range(upper_bound):\n",
        "  # set up year constraints\n",
        "  year = unconventional_set['year'][idx]\n",
        "  sub_total_set = total_set[(total_set['year'] >= (year-4)) & (total_set['year'] <= year)]\n",
        "  unconventional_set['NumFeatureMovies(past five years)'][idx] = len(sub_total_set)\n",
        "  descriptor1 = str(unconventional_set['descriptor1'][idx])\n",
        "  descriptor2 = str(unconventional_set['descriptor2'][idx])\n",
        "  # count not null common films\n",
        "  if descriptor1 != \"nan\" and descriptor2 != \"nan\":\n",
        "    temp = sub_total_set[(sub_total_set['descriptor1'] == descriptor1) & (sub_total_set['descriptor2'] == descriptor2)]\n",
        "    unconventional_set['NumCommonFeatureMovies(past five years)'][idx] = len(temp)\n",
        "  if idx%200 == 0:\n",
        "    print(idx)"
      ],
      "execution_count": 76,
      "outputs": [
        {
          "output_type": "stream",
          "text": [
            "0\n",
            "200\n",
            "400\n",
            "600\n",
            "800\n",
            "1000\n",
            "1200\n",
            "1400\n",
            "1600\n",
            "1800\n",
            "2000\n",
            "2200\n",
            "2400\n"
          ],
          "name": "stdout"
        }
      ]
    },
    {
      "cell_type": "code",
      "metadata": {
        "id": "1v7TGAre9itY",
        "colab_type": "code",
        "colab": {}
      },
      "source": [
        "unconventional_set.to_csv(\"result.csv\")"
      ],
      "execution_count": 0,
      "outputs": []
    }
  ]
}