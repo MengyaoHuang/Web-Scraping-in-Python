{
  "nbformat": 4,
  "nbformat_minor": 0,
  "metadata": {
    "colab": {
      "name": "Feature Movies Genres collection BoxOfficeMojo.ipynb",
      "provenance": []
    },
    "kernelspec": {
      "name": "python3",
      "display_name": "Python 3"
    }
  },
  "cells": [
    {
      "cell_type": "markdown",
      "metadata": {
        "id": "lTsHccdta-ks",
        "colab_type": "text"
      },
      "source": [
        "### **Feature Movies Genres collection BoxOfficeMojo**"
      ]
    },
    {
      "cell_type": "code",
      "metadata": {
        "id": "vlW8mCDdafo6",
        "colab_type": "code",
        "colab": {}
      },
      "source": [
        "# package use\n",
        "import pandas as pd\n",
        "import pickle\n",
        "import glob\n",
        "import numpy as np\n",
        "\n",
        "import warnings\n",
        "warnings.filterwarnings(\"ignore\")\n",
        "from collections import Counter\n",
        "\n",
        "import requests\n",
        "import urllib\n",
        "import urllib.request\n",
        "import time\n",
        "import re\n",
        "import string\n",
        "import matplotlib.pyplot as plt\n",
        "import seaborn as sns\n",
        "from bs4 import BeautifulSoup\n",
        "from IPython.core.display import HTML"
      ],
      "execution_count": 0,
      "outputs": []
    },
    {
      "cell_type": "code",
      "metadata": {
        "id": "gk1UUw2MbF6Z",
        "colab_type": "code",
        "colab": {
          "base_uri": "https://localhost:8080/",
          "height": 97
        },
        "outputId": "a66b8629-39e9-4a8c-c6e9-b9ff7fc198d2"
      },
      "source": [
        "# read table\n",
        "Boxofficemojo_genre =  pd.read_csv(\"Boxofficemojo_genre.csv\", encoding=\"iso-8859-1\")\n",
        "print(len(Boxofficemojo_genre))\n",
        "Boxofficemojo_genre.head(1)"
      ],
      "execution_count": 3,
      "outputs": [
        {
          "output_type": "stream",
          "text": [
            "2400\n"
          ],
          "name": "stdout"
        },
        {
          "output_type": "execute_result",
          "data": {
            "text/html": [
              "<div>\n",
              "<style scoped>\n",
              "    .dataframe tbody tr th:only-of-type {\n",
              "        vertical-align: middle;\n",
              "    }\n",
              "\n",
              "    .dataframe tbody tr th {\n",
              "        vertical-align: top;\n",
              "    }\n",
              "\n",
              "    .dataframe thead th {\n",
              "        text-align: right;\n",
              "    }\n",
              "</style>\n",
              "<table border=\"1\" class=\"dataframe\">\n",
              "  <thead>\n",
              "    <tr style=\"text-align: right;\">\n",
              "      <th></th>\n",
              "      <th>year</th>\n",
              "      <th>bomrank</th>\n",
              "      <th>bomtitle</th>\n",
              "      <th>imdblink</th>\n",
              "      <th>bomlink</th>\n",
              "    </tr>\n",
              "  </thead>\n",
              "  <tbody>\n",
              "    <tr>\n",
              "      <th>0</th>\n",
              "      <td>2004</td>\n",
              "      <td>1</td>\n",
              "      <td>Shrek 2</td>\n",
              "      <td>http://www.imdb.com/title/tt0298148/</td>\n",
              "      <td>http://www.boxofficemojo.com/movies/?id=shrek2...</td>\n",
              "    </tr>\n",
              "  </tbody>\n",
              "</table>\n",
              "</div>"
            ],
            "text/plain": [
              "   year  ...                                            bomlink\n",
              "0  2004  ...  http://www.boxofficemojo.com/movies/?id=shrek2...\n",
              "\n",
              "[1 rows x 5 columns]"
            ]
          },
          "metadata": {
            "tags": []
          },
          "execution_count": 3
        }
      ]
    },
    {
      "cell_type": "markdown",
      "metadata": {
        "id": "2cgOuVzM0MC_",
        "colab_type": "text"
      },
      "source": [
        "#### **Collect from year 2004 to 2015**"
      ]
    },
    {
      "cell_type": "code",
      "metadata": {
        "id": "wX5FDP7ObF4A",
        "colab_type": "code",
        "colab": {}
      },
      "source": [
        "# fillin genres text using bomlink\n",
        "Boxofficemojo_genre['genre_text'] = np.nan\n",
        "\n",
        "# extraction function\n",
        "def bomlink_extraction(url_):\n",
        "  response = requests.get(url_)\n",
        "  soup = BeautifulSoup(response.text, \"html.parser\")\n",
        "  filter_out = soup.find_all(\"div\", {\"class\": \"a-section a-spacing-none\"})\n",
        "  filter_out_textList = [filter_out[i].text.strip().split(\", \")[0] for i in range(len(filter_out))]\n",
        "  # split and return a list of genres\n",
        "  split_genre_text_str = np.nan\n",
        "  for i in range(len(filter_out_textList)):\n",
        "    if \"Genres\" in filter_out_textList[i]:\n",
        "      genre_text_str = filter_out_textList[i]\n",
        "      split_genre_text_str = genre_text_str.replace(\"\\n\", \"\")[6:].split(\" \")\n",
        "      split_genre_text_str = [str_genre for str_genre in split_genre_text_str if str_genre != \"\"]\n",
        "      break\n",
        "  return split_genre_text_str\n",
        "# test\n",
        "print(bomlink_extraction(Boxofficemojo_genre['bomlink'][0]))\n",
        "\n",
        "# list collection\n",
        "for i in range(len(Boxofficemojo_genre)):\n",
        "  Boxofficemojo_genre['genre_text'][i] = bomlink_extraction(Boxofficemojo_genre['bomlink'][i])\n",
        "  # process\n",
        "  if i%200 == 0:\n",
        "    print(i)"
      ],
      "execution_count": 0,
      "outputs": []
    },
    {
      "cell_type": "code",
      "metadata": {
        "id": "r3H9993Lg2qO",
        "colab_type": "code",
        "colab": {
          "base_uri": "https://localhost:8080/",
          "height": 289
        },
        "outputId": "2092b8c5-24d9-436d-9406-cd882f9b5d4a"
      },
      "source": [
        "Boxofficemojo_genre.head(5)"
      ],
      "execution_count": 36,
      "outputs": [
        {
          "output_type": "execute_result",
          "data": {
            "text/html": [
              "<div>\n",
              "<style scoped>\n",
              "    .dataframe tbody tr th:only-of-type {\n",
              "        vertical-align: middle;\n",
              "    }\n",
              "\n",
              "    .dataframe tbody tr th {\n",
              "        vertical-align: top;\n",
              "    }\n",
              "\n",
              "    .dataframe thead th {\n",
              "        text-align: right;\n",
              "    }\n",
              "</style>\n",
              "<table border=\"1\" class=\"dataframe\">\n",
              "  <thead>\n",
              "    <tr style=\"text-align: right;\">\n",
              "      <th></th>\n",
              "      <th>year</th>\n",
              "      <th>bomrank</th>\n",
              "      <th>bomtitle</th>\n",
              "      <th>imdblink</th>\n",
              "      <th>bomlink</th>\n",
              "      <th>genre_text</th>\n",
              "    </tr>\n",
              "  </thead>\n",
              "  <tbody>\n",
              "    <tr>\n",
              "      <th>0</th>\n",
              "      <td>2004</td>\n",
              "      <td>1</td>\n",
              "      <td>Shrek 2</td>\n",
              "      <td>http://www.imdb.com/title/tt0298148/</td>\n",
              "      <td>http://www.boxofficemojo.com/movies/?id=shrek2...</td>\n",
              "      <td>[Adventure, Animation, Comedy, Family, Fantasy...</td>\n",
              "    </tr>\n",
              "    <tr>\n",
              "      <th>1</th>\n",
              "      <td>2004</td>\n",
              "      <td>2</td>\n",
              "      <td>Spider-Man 2</td>\n",
              "      <td>http://www.imdb.com/title/tt0316654/</td>\n",
              "      <td>http://www.boxofficemojo.com/movies/?id=spider...</td>\n",
              "      <td>[Action, Adventure, Sci-Fi]</td>\n",
              "    </tr>\n",
              "    <tr>\n",
              "      <th>2</th>\n",
              "      <td>2004</td>\n",
              "      <td>3</td>\n",
              "      <td>The Passion of the Christ</td>\n",
              "      <td>http://www.imdb.com/title/tt0335345/</td>\n",
              "      <td>http://www.boxofficemojo.com/movies/?id=passio...</td>\n",
              "      <td>[Drama]</td>\n",
              "    </tr>\n",
              "    <tr>\n",
              "      <th>3</th>\n",
              "      <td>2004</td>\n",
              "      <td>4</td>\n",
              "      <td>Meet the Fockers</td>\n",
              "      <td>http://www.imdb.com/title/tt0290002/</td>\n",
              "      <td>http://www.boxofficemojo.com/movies/?id=meetth...</td>\n",
              "      <td>[Comedy, Romance]</td>\n",
              "    </tr>\n",
              "    <tr>\n",
              "      <th>4</th>\n",
              "      <td>2004</td>\n",
              "      <td>5</td>\n",
              "      <td>The Incredibles</td>\n",
              "      <td>http://www.imdb.com/title/tt0317705/</td>\n",
              "      <td>http://www.boxofficemojo.com/movies/?id=incred...</td>\n",
              "      <td>[Action, Adventure, Animation, Family]</td>\n",
              "    </tr>\n",
              "  </tbody>\n",
              "</table>\n",
              "</div>"
            ],
            "text/plain": [
              "   year  ...                                         genre_text\n",
              "0  2004  ...  [Adventure, Animation, Comedy, Family, Fantasy...\n",
              "1  2004  ...                        [Action, Adventure, Sci-Fi]\n",
              "2  2004  ...                                            [Drama]\n",
              "3  2004  ...                                  [Comedy, Romance]\n",
              "4  2004  ...             [Action, Adventure, Animation, Family]\n",
              "\n",
              "[5 rows x 6 columns]"
            ]
          },
          "metadata": {
            "tags": []
          },
          "execution_count": 36
        }
      ]
    },
    {
      "cell_type": "code",
      "metadata": {
        "id": "X51JR0nAg2sY",
        "colab_type": "code",
        "colab": {
          "base_uri": "https://localhost:8080/",
          "height": 168
        },
        "outputId": "a6c411ae-9675-473d-b6d0-7e813b7399a5"
      },
      "source": [
        "# split column of lists into multiple columns \n",
        "# https://stackoverflow.com/questions/44663903/pandas-split-column-of-lists-of-unequal-length-into-multiple-columns\n",
        "genre_df = Boxofficemojo_genre.genre_text.apply(pd.Series).add_prefix('Genre_')\n",
        "result = pd.concat([Boxofficemojo_genre, genre_df], axis=1, sort=False)\n",
        "result.head(1)"
      ],
      "execution_count": 40,
      "outputs": [
        {
          "output_type": "execute_result",
          "data": {
            "text/html": [
              "<div>\n",
              "<style scoped>\n",
              "    .dataframe tbody tr th:only-of-type {\n",
              "        vertical-align: middle;\n",
              "    }\n",
              "\n",
              "    .dataframe tbody tr th {\n",
              "        vertical-align: top;\n",
              "    }\n",
              "\n",
              "    .dataframe thead th {\n",
              "        text-align: right;\n",
              "    }\n",
              "</style>\n",
              "<table border=\"1\" class=\"dataframe\">\n",
              "  <thead>\n",
              "    <tr style=\"text-align: right;\">\n",
              "      <th></th>\n",
              "      <th>year</th>\n",
              "      <th>bomrank</th>\n",
              "      <th>bomtitle</th>\n",
              "      <th>imdblink</th>\n",
              "      <th>bomlink</th>\n",
              "      <th>genre_text</th>\n",
              "      <th>Genre_0</th>\n",
              "      <th>Genre_1</th>\n",
              "      <th>Genre_2</th>\n",
              "      <th>Genre_3</th>\n",
              "      <th>Genre_4</th>\n",
              "      <th>Genre_5</th>\n",
              "      <th>Genre_6</th>\n",
              "      <th>Genre_7</th>\n",
              "    </tr>\n",
              "  </thead>\n",
              "  <tbody>\n",
              "    <tr>\n",
              "      <th>0</th>\n",
              "      <td>2004</td>\n",
              "      <td>1</td>\n",
              "      <td>Shrek 2</td>\n",
              "      <td>http://www.imdb.com/title/tt0298148/</td>\n",
              "      <td>http://www.boxofficemojo.com/movies/?id=shrek2...</td>\n",
              "      <td>[Adventure, Animation, Comedy, Family, Fantasy...</td>\n",
              "      <td>Adventure</td>\n",
              "      <td>Animation</td>\n",
              "      <td>Comedy</td>\n",
              "      <td>Family</td>\n",
              "      <td>Fantasy</td>\n",
              "      <td>Romance</td>\n",
              "      <td>NaN</td>\n",
              "      <td>NaN</td>\n",
              "    </tr>\n",
              "  </tbody>\n",
              "</table>\n",
              "</div>"
            ],
            "text/plain": [
              "   year  bomrank bomtitle  ...  Genre_5 Genre_6 Genre_7\n",
              "0  2004        1  Shrek 2  ...  Romance     NaN     NaN\n",
              "\n",
              "[1 rows x 14 columns]"
            ]
          },
          "metadata": {
            "tags": []
          },
          "execution_count": 40
        }
      ]
    },
    {
      "cell_type": "code",
      "metadata": {
        "id": "e7sZmZXw7AB7",
        "colab_type": "code",
        "colab": {}
      },
      "source": [
        "result.to_csv(\"Boxofficemojo_genre_2004_2015.csv\")"
      ],
      "execution_count": 0,
      "outputs": []
    },
    {
      "cell_type": "markdown",
      "metadata": {
        "id": "dwXbkflU0xYI",
        "colab_type": "text"
      },
      "source": [
        "#### **Collect from year 2004 to 2015**"
      ]
    },
    {
      "cell_type": "code",
      "metadata": {
        "id": "dNWaBbtZbFxZ",
        "colab_type": "code",
        "colab": {}
      },
      "source": [
        "# collection Top 200 from website below\n",
        "bl_2000 = \"https://www.boxofficemojo.com/year/2000/?ref_=bo_yl_table_21\"\n",
        "bl_2001 = \"https://www.boxofficemojo.com/year/2001/?ref_=bo_yl_table_21\" \n",
        "bl_2002 = \"https://www.boxofficemojo.com/year/2002/?ref_=bo_yl_table_21\"\n",
        "bl_2003 = \"https://www.boxofficemojo.com/year/2003/?ref_=bo_yl_table_21\""
      ],
      "execution_count": 0,
      "outputs": []
    },
    {
      "cell_type": "code",
      "metadata": {
        "id": "krUmwx9C4SsX",
        "colab_type": "code",
        "colab": {
          "base_uri": "https://localhost:8080/",
          "height": 153
        },
        "outputId": "7afb7a21-6f9f-43b4-f939-e49d0d3fe4ee"
      },
      "source": [
        "# create dictionary for movie name and BoxOfficeMojo link\n",
        "def movie_link_dictionary(url_, numberOfMovies=200):\n",
        "  result_dic = {}\n",
        "  response = requests.get(url_)\n",
        "  soup = BeautifulSoup(response.text, \"html.parser\")\n",
        "  # filter and extract \n",
        "  table_list = soup.select(\"a[href*=/?ref_=bo_yld_table_]\")\n",
        "  for i in range(numberOfMovies):\n",
        "    movie_name = table_list[i].text\n",
        "    # check if existing name\n",
        "    if movie_name in result_dic:\n",
        "      movie_name = movie_name + \" other version\"\n",
        "    result_dic[movie_name] = \"https://www.boxofficemojo.com\" + table_list[i]['href']\n",
        "  print(\"dictionary successfully generate!\")\n",
        "  return result_dic\n",
        "\n",
        "# collection and dataframe formation\n",
        "def dic_to_frame(url_, year):\n",
        "  temp_dic = movie_link_dictionary(url_)\n",
        "  temp_frame = pd.DataFrame(temp_dic.items(), columns=['bomtitle', 'bomlink'])\n",
        "  temp_frame['year'] = year\n",
        "  return temp_frame \n",
        "\n",
        "Boxofficemojo_genre_2000 = dic_to_frame(bl_2000, 2000)\n",
        "print(len(Boxofficemojo_genre_2000))\n",
        "Boxofficemojo_genre_2001 = dic_to_frame(bl_2001, 2001)\n",
        "print(len(Boxofficemojo_genre_2001))\n",
        "Boxofficemojo_genre_2002 = dic_to_frame(bl_2002, 2002)\n",
        "print(len(Boxofficemojo_genre_2002))\n",
        "Boxofficemojo_genre_2003 = dic_to_frame(bl_2003, 2003)\n",
        "print(len(Boxofficemojo_genre_2003))"
      ],
      "execution_count": 74,
      "outputs": [
        {
          "output_type": "stream",
          "text": [
            "dictionary successfully generate!\n",
            "200\n",
            "dictionary successfully generate!\n",
            "200\n",
            "dictionary successfully generate!\n",
            "200\n",
            "dictionary successfully generate!\n",
            "200\n"
          ],
          "name": "stdout"
        }
      ]
    },
    {
      "cell_type": "code",
      "metadata": {
        "id": "1xYAtY7x7-2E",
        "colab_type": "code",
        "colab": {
          "base_uri": "https://localhost:8080/",
          "height": 221
        },
        "outputId": "c4bfbcc4-3862-42be-c0f6-1879ebcbb9bd"
      },
      "source": [
        "# Append and merge\n",
        "Boxofficemojo_genre_2000_2003 = Boxofficemojo_genre_2000.append(Boxofficemojo_genre_2001, ignore_index = True)\n",
        "Boxofficemojo_genre_2000_2003 = Boxofficemojo_genre_2000_2003.append(Boxofficemojo_genre_2002, ignore_index = True)\n",
        "Boxofficemojo_genre_2000_2003 = Boxofficemojo_genre_2000_2003.append(Boxofficemojo_genre_2003, ignore_index = True)\n",
        "print(len(Boxofficemojo_genre_2000_2003))\n",
        "Boxofficemojo_genre_2000_2003.head(5)"
      ],
      "execution_count": 81,
      "outputs": [
        {
          "output_type": "stream",
          "text": [
            "800\n"
          ],
          "name": "stdout"
        },
        {
          "output_type": "execute_result",
          "data": {
            "text/html": [
              "<div>\n",
              "<style scoped>\n",
              "    .dataframe tbody tr th:only-of-type {\n",
              "        vertical-align: middle;\n",
              "    }\n",
              "\n",
              "    .dataframe tbody tr th {\n",
              "        vertical-align: top;\n",
              "    }\n",
              "\n",
              "    .dataframe thead th {\n",
              "        text-align: right;\n",
              "    }\n",
              "</style>\n",
              "<table border=\"1\" class=\"dataframe\">\n",
              "  <thead>\n",
              "    <tr style=\"text-align: right;\">\n",
              "      <th></th>\n",
              "      <th>bomtitle</th>\n",
              "      <th>bomlink</th>\n",
              "      <th>year</th>\n",
              "    </tr>\n",
              "  </thead>\n",
              "  <tbody>\n",
              "    <tr>\n",
              "      <th>0</th>\n",
              "      <td>How the Grinch Stole Christmas</td>\n",
              "      <td>https://www.boxofficemojo.com/release/rl305918...</td>\n",
              "      <td>2000</td>\n",
              "    </tr>\n",
              "    <tr>\n",
              "      <th>1</th>\n",
              "      <td>Mission: Impossible II</td>\n",
              "      <td>https://www.boxofficemojo.com/release/rl160029...</td>\n",
              "      <td>2000</td>\n",
              "    </tr>\n",
              "    <tr>\n",
              "      <th>2</th>\n",
              "      <td>Gladiator</td>\n",
              "      <td>https://www.boxofficemojo.com/release/rl213624...</td>\n",
              "      <td>2000</td>\n",
              "    </tr>\n",
              "    <tr>\n",
              "      <th>3</th>\n",
              "      <td>The Perfect Storm</td>\n",
              "      <td>https://www.boxofficemojo.com/release/rl661161...</td>\n",
              "      <td>2000</td>\n",
              "    </tr>\n",
              "    <tr>\n",
              "      <th>4</th>\n",
              "      <td>Meet the Parents</td>\n",
              "      <td>https://www.boxofficemojo.com/release/rl677545...</td>\n",
              "      <td>2000</td>\n",
              "    </tr>\n",
              "  </tbody>\n",
              "</table>\n",
              "</div>"
            ],
            "text/plain": [
              "                         bomtitle  ...  year\n",
              "0  How the Grinch Stole Christmas  ...  2000\n",
              "1          Mission: Impossible II  ...  2000\n",
              "2                       Gladiator  ...  2000\n",
              "3               The Perfect Storm  ...  2000\n",
              "4                Meet the Parents  ...  2000\n",
              "\n",
              "[5 rows x 3 columns]"
            ]
          },
          "metadata": {
            "tags": []
          },
          "execution_count": 81
        }
      ]
    },
    {
      "cell_type": "code",
      "metadata": {
        "id": "nMrdDwmX4SxO",
        "colab_type": "code",
        "colab": {
          "base_uri": "https://localhost:8080/",
          "height": 153
        },
        "outputId": "136281b2-1a1f-4e5b-b6c7-68f3fb824f56"
      },
      "source": [
        "# call bomlink_extraction and fulfill collection\n",
        "Boxofficemojo_genre_2000_2003['genre_text'] = np.nan\n",
        "for i in range(len(Boxofficemojo_genre_2000_2003)):\n",
        "  Boxofficemojo_genre_2000_2003['genre_text'][i] = bomlink_extraction(Boxofficemojo_genre_2000_2003['bomlink'][i])\n",
        "  # process\n",
        "  if i%100 == 0:\n",
        "    print(i)"
      ],
      "execution_count": 83,
      "outputs": [
        {
          "output_type": "stream",
          "text": [
            "0\n",
            "100\n",
            "200\n",
            "300\n",
            "400\n",
            "500\n",
            "600\n",
            "700\n"
          ],
          "name": "stdout"
        }
      ]
    },
    {
      "cell_type": "code",
      "metadata": {
        "id": "e5wdGYzSDPpl",
        "colab_type": "code",
        "colab": {
          "base_uri": "https://localhost:8080/",
          "height": 204
        },
        "outputId": "e31e3f10-737e-4ec1-afbe-08a5e7f60fa0"
      },
      "source": [
        "Boxofficemojo_genre_2000_2003.head(5)"
      ],
      "execution_count": 84,
      "outputs": [
        {
          "output_type": "execute_result",
          "data": {
            "text/html": [
              "<div>\n",
              "<style scoped>\n",
              "    .dataframe tbody tr th:only-of-type {\n",
              "        vertical-align: middle;\n",
              "    }\n",
              "\n",
              "    .dataframe tbody tr th {\n",
              "        vertical-align: top;\n",
              "    }\n",
              "\n",
              "    .dataframe thead th {\n",
              "        text-align: right;\n",
              "    }\n",
              "</style>\n",
              "<table border=\"1\" class=\"dataframe\">\n",
              "  <thead>\n",
              "    <tr style=\"text-align: right;\">\n",
              "      <th></th>\n",
              "      <th>bomtitle</th>\n",
              "      <th>bomlink</th>\n",
              "      <th>year</th>\n",
              "      <th>genre_text</th>\n",
              "    </tr>\n",
              "  </thead>\n",
              "  <tbody>\n",
              "    <tr>\n",
              "      <th>0</th>\n",
              "      <td>How the Grinch Stole Christmas</td>\n",
              "      <td>https://www.boxofficemojo.com/release/rl305918...</td>\n",
              "      <td>2000</td>\n",
              "      <td>[Comedy, Family, Fantasy]</td>\n",
              "    </tr>\n",
              "    <tr>\n",
              "      <th>1</th>\n",
              "      <td>Mission: Impossible II</td>\n",
              "      <td>https://www.boxofficemojo.com/release/rl160029...</td>\n",
              "      <td>2000</td>\n",
              "      <td>[Action, Adventure, Thriller]</td>\n",
              "    </tr>\n",
              "    <tr>\n",
              "      <th>2</th>\n",
              "      <td>Gladiator</td>\n",
              "      <td>https://www.boxofficemojo.com/release/rl213624...</td>\n",
              "      <td>2000</td>\n",
              "      <td>[Action, Adventure, Drama]</td>\n",
              "    </tr>\n",
              "    <tr>\n",
              "      <th>3</th>\n",
              "      <td>The Perfect Storm</td>\n",
              "      <td>https://www.boxofficemojo.com/release/rl661161...</td>\n",
              "      <td>2000</td>\n",
              "      <td>[Action, Adventure, Drama, Thriller]</td>\n",
              "    </tr>\n",
              "    <tr>\n",
              "      <th>4</th>\n",
              "      <td>Meet the Parents</td>\n",
              "      <td>https://www.boxofficemojo.com/release/rl677545...</td>\n",
              "      <td>2000</td>\n",
              "      <td>[Comedy, Romance]</td>\n",
              "    </tr>\n",
              "  </tbody>\n",
              "</table>\n",
              "</div>"
            ],
            "text/plain": [
              "                         bomtitle  ...                            genre_text\n",
              "0  How the Grinch Stole Christmas  ...             [Comedy, Family, Fantasy]\n",
              "1          Mission: Impossible II  ...         [Action, Adventure, Thriller]\n",
              "2                       Gladiator  ...            [Action, Adventure, Drama]\n",
              "3               The Perfect Storm  ...  [Action, Adventure, Drama, Thriller]\n",
              "4                Meet the Parents  ...                     [Comedy, Romance]\n",
              "\n",
              "[5 rows x 4 columns]"
            ]
          },
          "metadata": {
            "tags": []
          },
          "execution_count": 84
        }
      ]
    },
    {
      "cell_type": "code",
      "metadata": {
        "id": "rokiMpb44NWc",
        "colab_type": "code",
        "colab": {
          "base_uri": "https://localhost:8080/",
          "height": 151
        },
        "outputId": "ed3760f3-5a5b-4159-ef72-d9626ff4df1a"
      },
      "source": [
        "# split\n",
        "genre_df_2000_2003 = Boxofficemojo_genre_2000_2003.genre_text.apply(pd.Series).add_prefix('Genre_')\n",
        "result_2000_2003 = pd.concat([Boxofficemojo_genre_2000_2003, genre_df_2000_2003], axis=1, sort=False)\n",
        "result_2000_2003.head(1)"
      ],
      "execution_count": 85,
      "outputs": [
        {
          "output_type": "execute_result",
          "data": {
            "text/html": [
              "<div>\n",
              "<style scoped>\n",
              "    .dataframe tbody tr th:only-of-type {\n",
              "        vertical-align: middle;\n",
              "    }\n",
              "\n",
              "    .dataframe tbody tr th {\n",
              "        vertical-align: top;\n",
              "    }\n",
              "\n",
              "    .dataframe thead th {\n",
              "        text-align: right;\n",
              "    }\n",
              "</style>\n",
              "<table border=\"1\" class=\"dataframe\">\n",
              "  <thead>\n",
              "    <tr style=\"text-align: right;\">\n",
              "      <th></th>\n",
              "      <th>bomtitle</th>\n",
              "      <th>bomlink</th>\n",
              "      <th>year</th>\n",
              "      <th>genre_text</th>\n",
              "      <th>Genre_0</th>\n",
              "      <th>Genre_1</th>\n",
              "      <th>Genre_2</th>\n",
              "      <th>Genre_3</th>\n",
              "      <th>Genre_4</th>\n",
              "      <th>Genre_5</th>\n",
              "      <th>Genre_6</th>\n",
              "      <th>Genre_7</th>\n",
              "    </tr>\n",
              "  </thead>\n",
              "  <tbody>\n",
              "    <tr>\n",
              "      <th>0</th>\n",
              "      <td>How the Grinch Stole Christmas</td>\n",
              "      <td>https://www.boxofficemojo.com/release/rl305918...</td>\n",
              "      <td>2000</td>\n",
              "      <td>[Comedy, Family, Fantasy]</td>\n",
              "      <td>Comedy</td>\n",
              "      <td>Family</td>\n",
              "      <td>Fantasy</td>\n",
              "      <td>NaN</td>\n",
              "      <td>NaN</td>\n",
              "      <td>NaN</td>\n",
              "      <td>NaN</td>\n",
              "      <td>NaN</td>\n",
              "    </tr>\n",
              "  </tbody>\n",
              "</table>\n",
              "</div>"
            ],
            "text/plain": [
              "                         bomtitle  ... Genre_7\n",
              "0  How the Grinch Stole Christmas  ...     NaN\n",
              "\n",
              "[1 rows x 12 columns]"
            ]
          },
          "metadata": {
            "tags": []
          },
          "execution_count": 85
        }
      ]
    },
    {
      "cell_type": "code",
      "metadata": {
        "id": "WNQa9PoXFEae",
        "colab_type": "code",
        "colab": {}
      },
      "source": [
        "result_2000_2003.to_csv(\"Boxofficemojo_genre_2000_2003.csv\")"
      ],
      "execution_count": 0,
      "outputs": []
    }
  ]
}