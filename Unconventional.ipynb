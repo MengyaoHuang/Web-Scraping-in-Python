{
  "nbformat": 4,
  "nbformat_minor": 0,
  "metadata": {
    "colab": {
      "name": "Unconventional.ipynb",
      "provenance": [],
      "collapsed_sections": []
    },
    "kernelspec": {
      "name": "python3",
      "display_name": "Python 3"
    }
  },
  "cells": [
    {
      "cell_type": "markdown",
      "metadata": {
        "id": "oTw3cVzgEZ1j",
        "colab_type": "text"
      },
      "source": [
        "#### **Unconventionality Measure (own / others)**"
      ]
    },
    {
      "cell_type": "code",
      "metadata": {
        "id": "BivjbRmCEALD",
        "colab_type": "code",
        "colab": {}
      },
      "source": [
        "import pandas as pd\n",
        "import pickle\n",
        "import glob\n",
        "import numpy as np\n",
        "\n",
        "import warnings\n",
        "warnings.filterwarnings(\"ignore\")\n",
        "\n",
        "from collections import Counter"
      ],
      "execution_count": 0,
      "outputs": []
    },
    {
      "cell_type": "markdown",
      "metadata": {
        "id": "qQqN6qUdIUv5",
        "colab_type": "text"
      },
      "source": [
        "#### **1. Read tables and merging**"
      ]
    },
    {
      "cell_type": "code",
      "metadata": {
        "id": "t2vocAFwEm6F",
        "colab_type": "code",
        "outputId": "edda7219-d593-4731-fecf-c883c7cbd0da",
        "colab": {
          "base_uri": "https://localhost:8080/",
          "height": 197
        }
      },
      "source": [
        "director_films = pd.read_csv(\"imdb-director-films.csv\", encoding=\"iso-8859-1\")\n",
        "scraping = pd.read_csv(\"scraping.csv\", encoding=\"iso-8859-1\")\n",
        "director_films.head(5)"
      ],
      "execution_count": 3,
      "outputs": [
        {
          "output_type": "execute_result",
          "data": {
            "text/html": [
              "<div>\n",
              "<style scoped>\n",
              "    .dataframe tbody tr th:only-of-type {\n",
              "        vertical-align: middle;\n",
              "    }\n",
              "\n",
              "    .dataframe tbody tr th {\n",
              "        vertical-align: top;\n",
              "    }\n",
              "\n",
              "    .dataframe thead th {\n",
              "        text-align: right;\n",
              "    }\n",
              "</style>\n",
              "<table border=\"1\" class=\"dataframe\">\n",
              "  <thead>\n",
              "    <tr style=\"text-align: right;\">\n",
              "      <th></th>\n",
              "      <th>imdbcrewcastname</th>\n",
              "      <th>imdbcrewcastlink</th>\n",
              "      <th>year</th>\n",
              "      <th>imdbfilmtitle</th>\n",
              "      <th>role</th>\n",
              "      <th>imdbfilmlink</th>\n",
              "    </tr>\n",
              "  </thead>\n",
              "  <tbody>\n",
              "    <tr>\n",
              "      <th>0</th>\n",
              "      <td>A.R. Murugadoss</td>\n",
              "      <td>http://www.imdb.com/name/nm1436693/</td>\n",
              "      <td>2017.0</td>\n",
              "      <td>Spyder</td>\n",
              "      <td>Director</td>\n",
              "      <td>http://www.imdb.com/title/tt6522546/</td>\n",
              "    </tr>\n",
              "    <tr>\n",
              "      <th>1</th>\n",
              "      <td>A.R. Murugadoss</td>\n",
              "      <td>http://www.imdb.com/name/nm1436693/</td>\n",
              "      <td>2001.0</td>\n",
              "      <td>Dheena</td>\n",
              "      <td>Director</td>\n",
              "      <td>http://www.imdb.com/title/tt0807944/</td>\n",
              "    </tr>\n",
              "    <tr>\n",
              "      <th>2</th>\n",
              "      <td>A.R. Murugadoss</td>\n",
              "      <td>http://www.imdb.com/name/nm1436693/</td>\n",
              "      <td>2005.0</td>\n",
              "      <td>Ghajini</td>\n",
              "      <td>Director</td>\n",
              "      <td>http://www.imdb.com/title/tt0449951/</td>\n",
              "    </tr>\n",
              "    <tr>\n",
              "      <th>3</th>\n",
              "      <td>A.R. Murugadoss</td>\n",
              "      <td>http://www.imdb.com/name/nm1436693/</td>\n",
              "      <td>2006.0</td>\n",
              "      <td>Stalin: Man for the Society</td>\n",
              "      <td>Director</td>\n",
              "      <td>http://www.imdb.com/title/tt0366180/</td>\n",
              "    </tr>\n",
              "    <tr>\n",
              "      <th>4</th>\n",
              "      <td>A.R. Murugadoss</td>\n",
              "      <td>http://www.imdb.com/name/nm1436693/</td>\n",
              "      <td>2008.0</td>\n",
              "      <td>Ghajini</td>\n",
              "      <td>Director</td>\n",
              "      <td>http://www.imdb.com/title/tt1166100/</td>\n",
              "    </tr>\n",
              "  </tbody>\n",
              "</table>\n",
              "</div>"
            ],
            "text/plain": [
              "  imdbcrewcastname  ...                          imdbfilmlink\n",
              "0  A.R. Murugadoss  ...  http://www.imdb.com/title/tt6522546/\n",
              "1  A.R. Murugadoss  ...  http://www.imdb.com/title/tt0807944/\n",
              "2  A.R. Murugadoss  ...  http://www.imdb.com/title/tt0449951/\n",
              "3  A.R. Murugadoss  ...  http://www.imdb.com/title/tt0366180/\n",
              "4  A.R. Murugadoss  ...  http://www.imdb.com/title/tt1166100/\n",
              "\n",
              "[5 rows x 6 columns]"
            ]
          },
          "metadata": {
            "tags": []
          },
          "execution_count": 3
        }
      ]
    },
    {
      "cell_type": "code",
      "metadata": {
        "id": "teTHA07fKDgm",
        "colab_type": "code",
        "colab": {}
      },
      "source": [
        "director_films = director_films[director_films['role'] == \"Director\"]"
      ],
      "execution_count": 0,
      "outputs": []
    },
    {
      "cell_type": "code",
      "metadata": {
        "id": "qOKeDR1RJYp3",
        "colab_type": "code",
        "outputId": "4d7cdd8e-6f59-4f6c-c04c-509163970fe4",
        "colab": {
          "base_uri": "https://localhost:8080/",
          "height": 141
        }
      },
      "source": [
        "scraping.columns"
      ],
      "execution_count": 5,
      "outputs": [
        {
          "output_type": "execute_result",
          "data": {
            "text/plain": [
              "Index(['Unnamed: 0', 'year', 'bomrank', 'remove', 'bomtitle', 'imdblink',\n",
              "       'bomlink', 'studio', 'totalusgross$', 'totaltheater', 'openingusgross$',\n",
              "       'openingtheaters', 'opendate', 'closedate', 'critic ratings_avg',\n",
              "       'critic rating_var', 'user_avg', 'user_var', 'critic_ratings_comments',\n",
              "       'critic_ratings_list', 'ALL_numCritics', 'ALL_meanCritics',\n",
              "       'ALL_varCritics', 'ALL_listCritics'],\n",
              "      dtype='object')"
            ]
          },
          "metadata": {
            "tags": []
          },
          "execution_count": 5
        }
      ]
    },
    {
      "cell_type": "code",
      "metadata": {
        "id": "54Tlb8IjJg4Q",
        "colab_type": "code",
        "outputId": "f4f6d5c4-3374-4d4b-ceaa-93f1a29830a2",
        "colab": {
          "base_uri": "https://localhost:8080/",
          "height": 233
        }
      },
      "source": [
        "result_set = scraping[['year', 'bomtitle', 'imdblink', 'bomlink', \n",
        "                      'opendate', 'closedate']]\n",
        "# change column name to match\n",
        "result_set = result_set.rename(columns={\"bomtitle\": \"imdbfilmtitle\"})\n",
        "print(result_set.shape)\n",
        "print(len(result_set['imdbfilmtitle'].unique()))\n",
        "result_set.head(5)"
      ],
      "execution_count": 6,
      "outputs": [
        {
          "output_type": "stream",
          "text": [
            "(2400, 6)\n",
            "2400\n"
          ],
          "name": "stdout"
        },
        {
          "output_type": "execute_result",
          "data": {
            "text/html": [
              "<div>\n",
              "<style scoped>\n",
              "    .dataframe tbody tr th:only-of-type {\n",
              "        vertical-align: middle;\n",
              "    }\n",
              "\n",
              "    .dataframe tbody tr th {\n",
              "        vertical-align: top;\n",
              "    }\n",
              "\n",
              "    .dataframe thead th {\n",
              "        text-align: right;\n",
              "    }\n",
              "</style>\n",
              "<table border=\"1\" class=\"dataframe\">\n",
              "  <thead>\n",
              "    <tr style=\"text-align: right;\">\n",
              "      <th></th>\n",
              "      <th>year</th>\n",
              "      <th>imdbfilmtitle</th>\n",
              "      <th>imdblink</th>\n",
              "      <th>bomlink</th>\n",
              "      <th>opendate</th>\n",
              "      <th>closedate</th>\n",
              "    </tr>\n",
              "  </thead>\n",
              "  <tbody>\n",
              "    <tr>\n",
              "      <th>0</th>\n",
              "      <td>2004</td>\n",
              "      <td>Shrek 2</td>\n",
              "      <td>http://www.imdb.com/title/tt0298148/</td>\n",
              "      <td>http://www.boxofficemojo.com/movies/?id=shrek2...</td>\n",
              "      <td>19-May</td>\n",
              "      <td>25-Nov</td>\n",
              "    </tr>\n",
              "    <tr>\n",
              "      <th>1</th>\n",
              "      <td>2004</td>\n",
              "      <td>Spider-Man 2</td>\n",
              "      <td>http://www.imdb.com/title/tt0316654/</td>\n",
              "      <td>http://www.boxofficemojo.com/movies/?id=spider...</td>\n",
              "      <td>30-Jun</td>\n",
              "      <td>19-Dec</td>\n",
              "    </tr>\n",
              "    <tr>\n",
              "      <th>2</th>\n",
              "      <td>2004</td>\n",
              "      <td>The Passion of the Christ</td>\n",
              "      <td>http://www.imdb.com/title/tt0335345/</td>\n",
              "      <td>http://www.boxofficemojo.com/movies/?id=passio...</td>\n",
              "      <td>25-Feb</td>\n",
              "      <td>29-Jul</td>\n",
              "    </tr>\n",
              "    <tr>\n",
              "      <th>3</th>\n",
              "      <td>2004</td>\n",
              "      <td>Meet the Fockers</td>\n",
              "      <td>http://www.imdb.com/title/tt0290002/</td>\n",
              "      <td>http://www.boxofficemojo.com/movies/?id=meetth...</td>\n",
              "      <td>22-Dec</td>\n",
              "      <td>16-Jun</td>\n",
              "    </tr>\n",
              "    <tr>\n",
              "      <th>4</th>\n",
              "      <td>2004</td>\n",
              "      <td>The Incredibles</td>\n",
              "      <td>http://www.imdb.com/title/tt0317705/</td>\n",
              "      <td>http://www.boxofficemojo.com/movies/?id=incred...</td>\n",
              "      <td>5-Nov</td>\n",
              "      <td>14-Apr</td>\n",
              "    </tr>\n",
              "  </tbody>\n",
              "</table>\n",
              "</div>"
            ],
            "text/plain": [
              "   year              imdbfilmtitle  ... opendate closedate\n",
              "0  2004                    Shrek 2  ...   19-May    25-Nov\n",
              "1  2004               Spider-Man 2  ...   30-Jun    19-Dec\n",
              "2  2004  The Passion of the Christ  ...   25-Feb    29-Jul\n",
              "3  2004           Meet the Fockers  ...   22-Dec    16-Jun\n",
              "4  2004            The Incredibles  ...    5-Nov    14-Apr\n",
              "\n",
              "[5 rows x 6 columns]"
            ]
          },
          "metadata": {
            "tags": []
          },
          "execution_count": 6
        }
      ]
    },
    {
      "cell_type": "code",
      "metadata": {
        "id": "Z1ZP1S9FKMoH",
        "colab_type": "code",
        "outputId": "4de62a2a-307d-4215-b034-1d3d6b024a58",
        "colab": {
          "base_uri": "https://localhost:8080/",
          "height": 251
        }
      },
      "source": [
        "result_set = pd.merge(result_set, director_films[[\"imdbfilmtitle\", \"imdbcrewcastname\"]], on=\"imdbfilmtitle\")\n",
        "print(\"Unique available movies: \", len(result_set['imdbfilmtitle'].unique()))\n",
        "print(\"Unique directors: \", len(result_set['imdbcrewcastname'].unique()))\n",
        "print(len(result_set))\n",
        "result_set.head(5)"
      ],
      "execution_count": 7,
      "outputs": [
        {
          "output_type": "stream",
          "text": [
            "Unique available movies:  1961\n",
            "Unique directors:  1255\n",
            "2359\n"
          ],
          "name": "stdout"
        },
        {
          "output_type": "execute_result",
          "data": {
            "text/html": [
              "<div>\n",
              "<style scoped>\n",
              "    .dataframe tbody tr th:only-of-type {\n",
              "        vertical-align: middle;\n",
              "    }\n",
              "\n",
              "    .dataframe tbody tr th {\n",
              "        vertical-align: top;\n",
              "    }\n",
              "\n",
              "    .dataframe thead th {\n",
              "        text-align: right;\n",
              "    }\n",
              "</style>\n",
              "<table border=\"1\" class=\"dataframe\">\n",
              "  <thead>\n",
              "    <tr style=\"text-align: right;\">\n",
              "      <th></th>\n",
              "      <th>year</th>\n",
              "      <th>imdbfilmtitle</th>\n",
              "      <th>imdblink</th>\n",
              "      <th>bomlink</th>\n",
              "      <th>opendate</th>\n",
              "      <th>closedate</th>\n",
              "      <th>imdbcrewcastname</th>\n",
              "    </tr>\n",
              "  </thead>\n",
              "  <tbody>\n",
              "    <tr>\n",
              "      <th>0</th>\n",
              "      <td>2004</td>\n",
              "      <td>Shrek 2</td>\n",
              "      <td>http://www.imdb.com/title/tt0298148/</td>\n",
              "      <td>http://www.boxofficemojo.com/movies/?id=shrek2...</td>\n",
              "      <td>19-May</td>\n",
              "      <td>25-Nov</td>\n",
              "      <td>Andrew Adamson</td>\n",
              "    </tr>\n",
              "    <tr>\n",
              "      <th>1</th>\n",
              "      <td>2004</td>\n",
              "      <td>Shrek 2</td>\n",
              "      <td>http://www.imdb.com/title/tt0298148/</td>\n",
              "      <td>http://www.boxofficemojo.com/movies/?id=shrek2...</td>\n",
              "      <td>19-May</td>\n",
              "      <td>25-Nov</td>\n",
              "      <td>Conrad Vernon</td>\n",
              "    </tr>\n",
              "    <tr>\n",
              "      <th>2</th>\n",
              "      <td>2004</td>\n",
              "      <td>Shrek 2</td>\n",
              "      <td>http://www.imdb.com/title/tt0298148/</td>\n",
              "      <td>http://www.boxofficemojo.com/movies/?id=shrek2...</td>\n",
              "      <td>19-May</td>\n",
              "      <td>25-Nov</td>\n",
              "      <td>Kelly Asbury</td>\n",
              "    </tr>\n",
              "    <tr>\n",
              "      <th>3</th>\n",
              "      <td>2004</td>\n",
              "      <td>Spider-Man 2</td>\n",
              "      <td>http://www.imdb.com/title/tt0316654/</td>\n",
              "      <td>http://www.boxofficemojo.com/movies/?id=spider...</td>\n",
              "      <td>30-Jun</td>\n",
              "      <td>19-Dec</td>\n",
              "      <td>Sam Raimi</td>\n",
              "    </tr>\n",
              "    <tr>\n",
              "      <th>4</th>\n",
              "      <td>2004</td>\n",
              "      <td>The Passion of the Christ</td>\n",
              "      <td>http://www.imdb.com/title/tt0335345/</td>\n",
              "      <td>http://www.boxofficemojo.com/movies/?id=passio...</td>\n",
              "      <td>25-Feb</td>\n",
              "      <td>29-Jul</td>\n",
              "      <td>Mel Gibson</td>\n",
              "    </tr>\n",
              "  </tbody>\n",
              "</table>\n",
              "</div>"
            ],
            "text/plain": [
              "   year              imdbfilmtitle  ... closedate imdbcrewcastname\n",
              "0  2004                    Shrek 2  ...    25-Nov   Andrew Adamson\n",
              "1  2004                    Shrek 2  ...    25-Nov    Conrad Vernon\n",
              "2  2004                    Shrek 2  ...    25-Nov     Kelly Asbury\n",
              "3  2004               Spider-Man 2  ...    19-Dec        Sam Raimi\n",
              "4  2004  The Passion of the Christ  ...    29-Jul       Mel Gibson\n",
              "\n",
              "[5 rows x 7 columns]"
            ]
          },
          "metadata": {
            "tags": []
          },
          "execution_count": 7
        }
      ]
    },
    {
      "cell_type": "markdown",
      "metadata": {
        "id": "wQ4bwHAiNB-9",
        "colab_type": "text"
      },
      "source": [
        "#### **2. Start collecting descriptors info**"
      ]
    },
    {
      "cell_type": "code",
      "metadata": {
        "id": "B3uX3p3fQf1V",
        "colab_type": "code",
        "colab": {}
      },
      "source": [
        "# package use\n",
        "import requests\n",
        "import urllib\n",
        "import urllib.request\n",
        "import time\n",
        "import re\n",
        "import string\n",
        "import matplotlib.pyplot as plt\n",
        "import seaborn as sns\n",
        "from bs4 import BeautifulSoup\n",
        "from IPython.core.display import HTML\n",
        "\n",
        "import pandas as pd\n",
        "import numpy as np\n",
        "import warnings\n",
        "warnings.filterwarnings(\"ignore\")\n",
        "import copy\n",
        "from collections import Counter"
      ],
      "execution_count": 0,
      "outputs": []
    },
    {
      "cell_type": "code",
      "metadata": {
        "id": "U2-PoamD9Vql",
        "colab_type": "code",
        "outputId": "760d3a4d-b5ba-48ad-be00-4c325c23d85f",
        "colab": {
          "base_uri": "https://localhost:8080/",
          "height": 298
        }
      },
      "source": [
        "result_set = pd.read_csv(\"Film-director(sample only).csv\")\n",
        "result_set = result_set[['year', 'imdbcrewcastlink', 'imdbfilmtitle', 'imdbfilmlink', 'bomtitle', 'bomlink']]\n",
        "result_set = result_set[result_set['year'] >= 2004].reset_index(drop=True)\n",
        "print(result_set.shape)\n",
        "result_set.head(5)"
      ],
      "execution_count": 9,
      "outputs": [
        {
          "output_type": "stream",
          "text": [
            "(2597, 6)\n"
          ],
          "name": "stdout"
        },
        {
          "output_type": "execute_result",
          "data": {
            "text/html": [
              "<div>\n",
              "<style scoped>\n",
              "    .dataframe tbody tr th:only-of-type {\n",
              "        vertical-align: middle;\n",
              "    }\n",
              "\n",
              "    .dataframe tbody tr th {\n",
              "        vertical-align: top;\n",
              "    }\n",
              "\n",
              "    .dataframe thead th {\n",
              "        text-align: right;\n",
              "    }\n",
              "</style>\n",
              "<table border=\"1\" class=\"dataframe\">\n",
              "  <thead>\n",
              "    <tr style=\"text-align: right;\">\n",
              "      <th></th>\n",
              "      <th>year</th>\n",
              "      <th>imdbcrewcastlink</th>\n",
              "      <th>imdbfilmtitle</th>\n",
              "      <th>imdbfilmlink</th>\n",
              "      <th>bomtitle</th>\n",
              "      <th>bomlink</th>\n",
              "    </tr>\n",
              "  </thead>\n",
              "  <tbody>\n",
              "    <tr>\n",
              "      <th>0</th>\n",
              "      <td>2005</td>\n",
              "      <td>http://www.imdb.com/name/nm4588077/</td>\n",
              "      <td>Fantastic Four</td>\n",
              "      <td>http://www.imdb.com/title/tt0120667/</td>\n",
              "      <td>Fantastic Four (2005)</td>\n",
              "      <td>http://www.boxofficemojo.com/movies/?id=fantas...</td>\n",
              "    </tr>\n",
              "    <tr>\n",
              "      <th>1</th>\n",
              "      <td>2005</td>\n",
              "      <td>http://www.imdb.com/name/nm1103162/</td>\n",
              "      <td>Fantastic Four</td>\n",
              "      <td>http://www.imdb.com/title/tt0120667/</td>\n",
              "      <td>Fantastic Four (2005)</td>\n",
              "      <td>http://www.boxofficemojo.com/movies/?id=fantas...</td>\n",
              "    </tr>\n",
              "    <tr>\n",
              "      <th>2</th>\n",
              "      <td>2005</td>\n",
              "      <td>http://www.imdb.com/name/nm0425843/</td>\n",
              "      <td>Corpse Bride</td>\n",
              "      <td>http://www.imdb.com/title/tt0121164/</td>\n",
              "      <td>Tim Burton's Corpse Bride</td>\n",
              "      <td>http://www.boxofficemojo.com/movies/?id=corpse...</td>\n",
              "    </tr>\n",
              "    <tr>\n",
              "      <th>3</th>\n",
              "      <td>2005</td>\n",
              "      <td>http://www.imdb.com/name/nm0000318/</td>\n",
              "      <td>Corpse Bride</td>\n",
              "      <td>http://www.imdb.com/title/tt0121164/</td>\n",
              "      <td>Tim Burton's Corpse Bride</td>\n",
              "      <td>http://www.boxofficemojo.com/movies/?id=corpse...</td>\n",
              "    </tr>\n",
              "    <tr>\n",
              "      <th>4</th>\n",
              "      <td>2005</td>\n",
              "      <td>http://www.imdb.com/name/nm0000184/</td>\n",
              "      <td>Star Wars: Episode III - Revenge of the Sith</td>\n",
              "      <td>http://www.imdb.com/title/tt0121766/</td>\n",
              "      <td>Star Wars: Episode III - Revenge of the Sith</td>\n",
              "      <td>http://www.boxofficemojo.com/movies/?id=starwa...</td>\n",
              "    </tr>\n",
              "  </tbody>\n",
              "</table>\n",
              "</div>"
            ],
            "text/plain": [
              "   year  ...                                            bomlink\n",
              "0  2005  ...  http://www.boxofficemojo.com/movies/?id=fantas...\n",
              "1  2005  ...  http://www.boxofficemojo.com/movies/?id=fantas...\n",
              "2  2005  ...  http://www.boxofficemojo.com/movies/?id=corpse...\n",
              "3  2005  ...  http://www.boxofficemojo.com/movies/?id=corpse...\n",
              "4  2005  ...  http://www.boxofficemojo.com/movies/?id=starwa...\n",
              "\n",
              "[5 rows x 6 columns]"
            ]
          },
          "metadata": {
            "tags": []
          },
          "execution_count": 9
        }
      ]
    },
    {
      "cell_type": "code",
      "metadata": {
        "id": "RAAnn3dRRCaD",
        "colab_type": "code",
        "outputId": "106c8bdf-6195-4ea2-d80e-96244681cdc3",
        "colab": {
          "base_uri": "https://localhost:8080/",
          "height": 94
        }
      },
      "source": [
        "result_set['descriptor1'] = np.nan\n",
        "result_set['descriptor2'] = np.nan\n",
        "result_set['descriptor3'] = np.nan\n",
        "result_set = result_set.reset_index(drop=True)\n",
        "result_set.head(1)"
      ],
      "execution_count": 10,
      "outputs": [
        {
          "output_type": "execute_result",
          "data": {
            "text/html": [
              "<div>\n",
              "<style scoped>\n",
              "    .dataframe tbody tr th:only-of-type {\n",
              "        vertical-align: middle;\n",
              "    }\n",
              "\n",
              "    .dataframe tbody tr th {\n",
              "        vertical-align: top;\n",
              "    }\n",
              "\n",
              "    .dataframe thead th {\n",
              "        text-align: right;\n",
              "    }\n",
              "</style>\n",
              "<table border=\"1\" class=\"dataframe\">\n",
              "  <thead>\n",
              "    <tr style=\"text-align: right;\">\n",
              "      <th></th>\n",
              "      <th>year</th>\n",
              "      <th>imdbcrewcastlink</th>\n",
              "      <th>imdbfilmtitle</th>\n",
              "      <th>imdbfilmlink</th>\n",
              "      <th>bomtitle</th>\n",
              "      <th>bomlink</th>\n",
              "      <th>descriptor1</th>\n",
              "      <th>descriptor2</th>\n",
              "      <th>descriptor3</th>\n",
              "    </tr>\n",
              "  </thead>\n",
              "  <tbody>\n",
              "    <tr>\n",
              "      <th>0</th>\n",
              "      <td>2005</td>\n",
              "      <td>http://www.imdb.com/name/nm4588077/</td>\n",
              "      <td>Fantastic Four</td>\n",
              "      <td>http://www.imdb.com/title/tt0120667/</td>\n",
              "      <td>Fantastic Four (2005)</td>\n",
              "      <td>http://www.boxofficemojo.com/movies/?id=fantas...</td>\n",
              "      <td>NaN</td>\n",
              "      <td>NaN</td>\n",
              "      <td>NaN</td>\n",
              "    </tr>\n",
              "  </tbody>\n",
              "</table>\n",
              "</div>"
            ],
            "text/plain": [
              "   year                     imdbcrewcastlink  ... descriptor2 descriptor3\n",
              "0  2005  http://www.imdb.com/name/nm4588077/  ...         NaN         NaN\n",
              "\n",
              "[1 rows x 9 columns]"
            ]
          },
          "metadata": {
            "tags": []
          },
          "execution_count": 10
        }
      ]
    },
    {
      "cell_type": "code",
      "metadata": {
        "id": "KEO3qea4ZN4V",
        "colab_type": "code",
        "colab": {}
      },
      "source": [
        "# fill in descriptors \n",
        "for idx in range(len(result_set)):\n",
        "  url = result_set['imdbfilmlink'][idx]\n",
        "  response = requests.get(url)\n",
        "  soup = BeautifulSoup(response.text, \"html.parser\")\n",
        "  select = soup.find_all(\"div\", {\"class\": \"subtext\"})[0]\n",
        "  filter_ = re.findall(r'genres=(.*?)&amp', str(select))\n",
        "  # find available descriptors to fill\n",
        "  if len(filter_) > 0:\n",
        "    for i in range(len(filter_)):\n",
        "      result_set['descriptor'+str(i+1)][idx] = filter_[i]\n",
        "  if idx%200 == 0:\n",
        "    print(idx)"
      ],
      "execution_count": 0,
      "outputs": []
    },
    {
      "cell_type": "code",
      "metadata": {
        "id": "OVt0nhntktWB",
        "colab_type": "code",
        "colab": {}
      },
      "source": [
        "result_set.to_csv(\"result_set_descriptor.csv\")"
      ],
      "execution_count": 0,
      "outputs": []
    },
    {
      "cell_type": "code",
      "metadata": {
        "id": "hW_ZTlmplUBk",
        "colab_type": "code",
        "outputId": "6d5d52be-9b7c-463b-b9d5-50d795e16840",
        "colab": {
          "base_uri": "https://localhost:8080/",
          "height": 289
        }
      },
      "source": [
        "result_set.head(5)"
      ],
      "execution_count": 0,
      "outputs": [
        {
          "output_type": "execute_result",
          "data": {
            "text/html": [
              "<div>\n",
              "<style scoped>\n",
              "    .dataframe tbody tr th:only-of-type {\n",
              "        vertical-align: middle;\n",
              "    }\n",
              "\n",
              "    .dataframe tbody tr th {\n",
              "        vertical-align: top;\n",
              "    }\n",
              "\n",
              "    .dataframe thead th {\n",
              "        text-align: right;\n",
              "    }\n",
              "</style>\n",
              "<table border=\"1\" class=\"dataframe\">\n",
              "  <thead>\n",
              "    <tr style=\"text-align: right;\">\n",
              "      <th></th>\n",
              "      <th>year</th>\n",
              "      <th>imdbcrewcastlink</th>\n",
              "      <th>imdbfilmtitle</th>\n",
              "      <th>imdbfilmlink</th>\n",
              "      <th>bomtitle</th>\n",
              "      <th>bomlink</th>\n",
              "      <th>descriptor1</th>\n",
              "      <th>descriptor2</th>\n",
              "      <th>descriptor3</th>\n",
              "    </tr>\n",
              "  </thead>\n",
              "  <tbody>\n",
              "    <tr>\n",
              "      <th>0</th>\n",
              "      <td>2005</td>\n",
              "      <td>http://www.imdb.com/name/nm4588077/</td>\n",
              "      <td>Fantastic Four</td>\n",
              "      <td>http://www.imdb.com/title/tt0120667/</td>\n",
              "      <td>Fantastic Four (2005)</td>\n",
              "      <td>http://www.boxofficemojo.com/movies/?id=fantas...</td>\n",
              "      <td>action</td>\n",
              "      <td>adventure</td>\n",
              "      <td>fantasy</td>\n",
              "    </tr>\n",
              "    <tr>\n",
              "      <th>1</th>\n",
              "      <td>2005</td>\n",
              "      <td>http://www.imdb.com/name/nm1103162/</td>\n",
              "      <td>Fantastic Four</td>\n",
              "      <td>http://www.imdb.com/title/tt0120667/</td>\n",
              "      <td>Fantastic Four (2005)</td>\n",
              "      <td>http://www.boxofficemojo.com/movies/?id=fantas...</td>\n",
              "      <td>action</td>\n",
              "      <td>adventure</td>\n",
              "      <td>fantasy</td>\n",
              "    </tr>\n",
              "    <tr>\n",
              "      <th>2</th>\n",
              "      <td>2005</td>\n",
              "      <td>http://www.imdb.com/name/nm0425843/</td>\n",
              "      <td>Corpse Bride</td>\n",
              "      <td>http://www.imdb.com/title/tt0121164/</td>\n",
              "      <td>Tim Burton's Corpse Bride</td>\n",
              "      <td>http://www.boxofficemojo.com/movies/?id=corpse...</td>\n",
              "      <td>animation</td>\n",
              "      <td>drama</td>\n",
              "      <td>family</td>\n",
              "    </tr>\n",
              "    <tr>\n",
              "      <th>3</th>\n",
              "      <td>2005</td>\n",
              "      <td>http://www.imdb.com/name/nm0000318/</td>\n",
              "      <td>Corpse Bride</td>\n",
              "      <td>http://www.imdb.com/title/tt0121164/</td>\n",
              "      <td>Tim Burton's Corpse Bride</td>\n",
              "      <td>http://www.boxofficemojo.com/movies/?id=corpse...</td>\n",
              "      <td>animation</td>\n",
              "      <td>drama</td>\n",
              "      <td>family</td>\n",
              "    </tr>\n",
              "    <tr>\n",
              "      <th>4</th>\n",
              "      <td>2005</td>\n",
              "      <td>http://www.imdb.com/name/nm0000184/</td>\n",
              "      <td>Star Wars: Episode III - Revenge of the Sith</td>\n",
              "      <td>http://www.imdb.com/title/tt0121766/</td>\n",
              "      <td>Star Wars: Episode III - Revenge of the Sith</td>\n",
              "      <td>http://www.boxofficemojo.com/movies/?id=starwa...</td>\n",
              "      <td>action</td>\n",
              "      <td>adventure</td>\n",
              "      <td>fantasy</td>\n",
              "    </tr>\n",
              "  </tbody>\n",
              "</table>\n",
              "</div>"
            ],
            "text/plain": [
              "   year                     imdbcrewcastlink  ... descriptor2 descriptor3\n",
              "0  2005  http://www.imdb.com/name/nm4588077/  ...   adventure     fantasy\n",
              "1  2005  http://www.imdb.com/name/nm1103162/  ...   adventure     fantasy\n",
              "2  2005  http://www.imdb.com/name/nm0425843/  ...       drama      family\n",
              "3  2005  http://www.imdb.com/name/nm0000318/  ...       drama      family\n",
              "4  2005  http://www.imdb.com/name/nm0000184/  ...   adventure     fantasy\n",
              "\n",
              "[5 rows x 9 columns]"
            ]
          },
          "metadata": {
            "tags": []
          },
          "execution_count": 61
        }
      ]
    },
    {
      "cell_type": "code",
      "metadata": {
        "id": "DpJZGAgtRVod",
        "colab_type": "code",
        "outputId": "d7a11975-869a-4a60-e70c-4d369db935a6",
        "colab": {
          "base_uri": "https://localhost:8080/",
          "height": 94
        }
      },
      "source": [
        "result_set = pd.read_csv(\"result_set_descriptor.csv\")\n",
        "result_set.head(1)"
      ],
      "execution_count": 11,
      "outputs": [
        {
          "output_type": "execute_result",
          "data": {
            "text/html": [
              "<div>\n",
              "<style scoped>\n",
              "    .dataframe tbody tr th:only-of-type {\n",
              "        vertical-align: middle;\n",
              "    }\n",
              "\n",
              "    .dataframe tbody tr th {\n",
              "        vertical-align: top;\n",
              "    }\n",
              "\n",
              "    .dataframe thead th {\n",
              "        text-align: right;\n",
              "    }\n",
              "</style>\n",
              "<table border=\"1\" class=\"dataframe\">\n",
              "  <thead>\n",
              "    <tr style=\"text-align: right;\">\n",
              "      <th></th>\n",
              "      <th>year</th>\n",
              "      <th>imdbcrewcastlink</th>\n",
              "      <th>imdbfilmtitle</th>\n",
              "      <th>imdbfilmlink</th>\n",
              "      <th>bomtitle</th>\n",
              "      <th>bomlink</th>\n",
              "      <th>descriptor1</th>\n",
              "      <th>descriptor2</th>\n",
              "      <th>descriptor3</th>\n",
              "    </tr>\n",
              "  </thead>\n",
              "  <tbody>\n",
              "    <tr>\n",
              "      <th>0</th>\n",
              "      <td>2005</td>\n",
              "      <td>http://www.imdb.com/name/nm4588077/</td>\n",
              "      <td>Fantastic Four</td>\n",
              "      <td>http://www.imdb.com/title/tt0120667/</td>\n",
              "      <td>Fantastic Four (2005)</td>\n",
              "      <td>http://www.boxofficemojo.com/movies/?id=fantas...</td>\n",
              "      <td>action</td>\n",
              "      <td>adventure</td>\n",
              "      <td>fantasy</td>\n",
              "    </tr>\n",
              "  </tbody>\n",
              "</table>\n",
              "</div>"
            ],
            "text/plain": [
              "   year                     imdbcrewcastlink  ... descriptor2 descriptor3\n",
              "0  2005  http://www.imdb.com/name/nm4588077/  ...   adventure     fantasy\n",
              "\n",
              "[1 rows x 9 columns]"
            ]
          },
          "metadata": {
            "tags": []
          },
          "execution_count": 11
        }
      ]
    },
    {
      "cell_type": "markdown",
      "metadata": {
        "id": "0Xu9e0sIldy5",
        "colab_type": "text"
      },
      "source": [
        "#### **3. Count unconventionality**"
      ]
    },
    {
      "cell_type": "code",
      "metadata": {
        "id": "eJnzvZo_tXeb",
        "colab_type": "code",
        "colab": {}
      },
      "source": [
        "import re\n",
        "# count number of movies each has\n",
        "result_set['NumOwnFilms(past five years)'] = np.nan\n",
        "result_set['NumOfTwoCommonCategoriesOwnFilms(past five years)'] = np.nan"
      ],
      "execution_count": 0,
      "outputs": []
    },
    {
      "cell_type": "code",
      "metadata": {
        "id": "o9stn9YKRjKC",
        "colab_type": "code",
        "colab": {}
      },
      "source": [
        "result_set = pd.read_csv(\"count.csv\")"
      ],
      "execution_count": 0,
      "outputs": []
    },
    {
      "cell_type": "code",
      "metadata": {
        "id": "vsKPj4tltZDL",
        "colab_type": "code",
        "colab": {}
      },
      "source": [
        "upper_bound = len(result_set)\n",
        "for idx in range(1310, upper_bound):\n",
        "  url = result_set['imdbcrewcastlink'][idx]\n",
        "  # set up year constraints\n",
        "  year = result_set['year'][idx]\n",
        "  year_limit = [str(year-i) for i in range(5)]\n",
        "  descriptor_limit = [result_set['descriptor1'][idx], result_set['descriptor2'][idx], result_set['descriptor3'][idx]]\n",
        "\n",
        "  # filter all own films\n",
        "  response = requests.get(url)\n",
        "  soup = BeautifulSoup(response.text, \"html.parser\")\n",
        "  filter_ = soup.find_all(\"div\", id=re.compile(\"director\"))\n",
        "  number_own_movies = 0 # count recent five years movies\n",
        "  number_own_movies_common = 0 # count two common descriptors movies\n",
        "  for item in filter_:\n",
        "    temp_list = re.findall(r'2[0-9][0-9][0-9]', item.text)\n",
        "    # count recent five years movies and operate\n",
        "    if len(temp_list) > 0 and temp_list[0] in year_limit:\n",
        "      number_own_movies += 1\n",
        "      # find its url address to extract descriptor\n",
        "      url_additional = \"http://www.imdb.com\" + re.search(r'href=\"(.*?)\"', str(item)).group(1)\n",
        "      response_additional = requests.get(url_additional)\n",
        "      soup_additional = BeautifulSoup(response_additional.text, \"html.parser\")\n",
        "      select_additional = soup_additional.find_all(\"div\", {\"class\": \"subtext\"})[0]\n",
        "      filter_additional = re.findall(r'genres=(.*?)&amp', str(select_additional))\n",
        "      descriptor_count = 0 # count common descriptor for each film\n",
        "      if len(filter_additional) > 0:\n",
        "        for i in range(len(filter_additional)):\n",
        "          if filter_additional[i] in descriptor_limit:\n",
        "            descriptor_count += 1\n",
        "      if descriptor_count >= 2:\n",
        "        number_own_movies_common += 1\n",
        "  # update info in result_set\n",
        "  result_set['NumOwnFilms(past five years)'][idx] = number_own_movies\n",
        "  result_set['NumOfTwoCommonCategoriesOwnFilms(past five years)'][idx] = number_own_movies_common\n",
        "\n",
        "  if idx%10 == 0:\n",
        "    print(idx)"
      ],
      "execution_count": 0,
      "outputs": []
    },
    {
      "cell_type": "code",
      "metadata": {
        "id": "h1o_tey6r4b7",
        "colab_type": "code",
        "outputId": "4ae20e0a-5a26-4ba0-9159-611371a1d324",
        "colab": {
          "base_uri": "https://localhost:8080/",
          "height": 584
        }
      },
      "source": [
        "result_set.head(10)"
      ],
      "execution_count": 15,
      "outputs": [
        {
          "output_type": "execute_result",
          "data": {
            "text/html": [
              "<div>\n",
              "<style scoped>\n",
              "    .dataframe tbody tr th:only-of-type {\n",
              "        vertical-align: middle;\n",
              "    }\n",
              "\n",
              "    .dataframe tbody tr th {\n",
              "        vertical-align: top;\n",
              "    }\n",
              "\n",
              "    .dataframe thead th {\n",
              "        text-align: right;\n",
              "    }\n",
              "</style>\n",
              "<table border=\"1\" class=\"dataframe\">\n",
              "  <thead>\n",
              "    <tr style=\"text-align: right;\">\n",
              "      <th></th>\n",
              "      <th>year</th>\n",
              "      <th>imdbcrewcastlink</th>\n",
              "      <th>imdbfilmtitle</th>\n",
              "      <th>imdbfilmlink</th>\n",
              "      <th>bomtitle</th>\n",
              "      <th>bomlink</th>\n",
              "      <th>descriptor1</th>\n",
              "      <th>descriptor2</th>\n",
              "      <th>descriptor3</th>\n",
              "      <th>NumOwnFilms(past five years)</th>\n",
              "      <th>NumOfTwoCommonCategoriesOwnFilms(past five years)</th>\n",
              "    </tr>\n",
              "  </thead>\n",
              "  <tbody>\n",
              "    <tr>\n",
              "      <th>0</th>\n",
              "      <td>2005</td>\n",
              "      <td>http://www.imdb.com/name/nm4588077/</td>\n",
              "      <td>Fantastic Four</td>\n",
              "      <td>http://www.imdb.com/title/tt0120667/</td>\n",
              "      <td>Fantastic Four (2005)</td>\n",
              "      <td>http://www.boxofficemojo.com/movies/?id=fantas...</td>\n",
              "      <td>action</td>\n",
              "      <td>adventure</td>\n",
              "      <td>fantasy</td>\n",
              "      <td>3.0</td>\n",
              "      <td>1.0</td>\n",
              "    </tr>\n",
              "    <tr>\n",
              "      <th>1</th>\n",
              "      <td>2005</td>\n",
              "      <td>http://www.imdb.com/name/nm1103162/</td>\n",
              "      <td>Fantastic Four</td>\n",
              "      <td>http://www.imdb.com/title/tt0120667/</td>\n",
              "      <td>Fantastic Four (2005)</td>\n",
              "      <td>http://www.boxofficemojo.com/movies/?id=fantas...</td>\n",
              "      <td>action</td>\n",
              "      <td>adventure</td>\n",
              "      <td>fantasy</td>\n",
              "      <td>3.0</td>\n",
              "      <td>1.0</td>\n",
              "    </tr>\n",
              "    <tr>\n",
              "      <th>2</th>\n",
              "      <td>2005</td>\n",
              "      <td>http://www.imdb.com/name/nm0425843/</td>\n",
              "      <td>Corpse Bride</td>\n",
              "      <td>http://www.imdb.com/title/tt0121164/</td>\n",
              "      <td>Tim Burton's Corpse Bride</td>\n",
              "      <td>http://www.boxofficemojo.com/movies/?id=corpse...</td>\n",
              "      <td>animation</td>\n",
              "      <td>drama</td>\n",
              "      <td>family</td>\n",
              "      <td>1.0</td>\n",
              "      <td>1.0</td>\n",
              "    </tr>\n",
              "    <tr>\n",
              "      <th>3</th>\n",
              "      <td>2005</td>\n",
              "      <td>http://www.imdb.com/name/nm0000318/</td>\n",
              "      <td>Corpse Bride</td>\n",
              "      <td>http://www.imdb.com/title/tt0121164/</td>\n",
              "      <td>Tim Burton's Corpse Bride</td>\n",
              "      <td>http://www.boxofficemojo.com/movies/?id=corpse...</td>\n",
              "      <td>animation</td>\n",
              "      <td>drama</td>\n",
              "      <td>family</td>\n",
              "      <td>4.0</td>\n",
              "      <td>1.0</td>\n",
              "    </tr>\n",
              "    <tr>\n",
              "      <th>4</th>\n",
              "      <td>2005</td>\n",
              "      <td>http://www.imdb.com/name/nm0000184/</td>\n",
              "      <td>Star Wars: Episode III - Revenge of the Sith</td>\n",
              "      <td>http://www.imdb.com/title/tt0121766/</td>\n",
              "      <td>Star Wars: Episode III - Revenge of the Sith</td>\n",
              "      <td>http://www.boxofficemojo.com/movies/?id=starwa...</td>\n",
              "      <td>action</td>\n",
              "      <td>adventure</td>\n",
              "      <td>fantasy</td>\n",
              "      <td>2.0</td>\n",
              "      <td>2.0</td>\n",
              "    </tr>\n",
              "    <tr>\n",
              "      <th>5</th>\n",
              "      <td>2004</td>\n",
              "      <td>http://www.imdb.com/name/nm0868219/</td>\n",
              "      <td>Hellboy</td>\n",
              "      <td>http://www.imdb.com/title/tt0167190/</td>\n",
              "      <td>Hellboy</td>\n",
              "      <td>http://www.boxofficemojo.com/movies/?id=hellbo...</td>\n",
              "      <td>action</td>\n",
              "      <td>adventure</td>\n",
              "      <td>fantasy</td>\n",
              "      <td>3.0</td>\n",
              "      <td>1.0</td>\n",
              "    </tr>\n",
              "    <tr>\n",
              "      <th>6</th>\n",
              "      <td>2004</td>\n",
              "      <td>http://www.imdb.com/name/nm0000408/</td>\n",
              "      <td>Thunderbirds</td>\n",
              "      <td>http://www.imdb.com/title/tt0167456/</td>\n",
              "      <td>Thunderbirds</td>\n",
              "      <td>http://www.boxofficemojo.com/movies/?id=thunde...</td>\n",
              "      <td>action</td>\n",
              "      <td>adventure</td>\n",
              "      <td>comedy</td>\n",
              "      <td>5.0</td>\n",
              "      <td>2.0</td>\n",
              "    </tr>\n",
              "    <tr>\n",
              "      <th>7</th>\n",
              "      <td>2008</td>\n",
              "      <td>http://www.imdb.com/name/nm0002044/</td>\n",
              "      <td>The Bank Job</td>\n",
              "      <td>http://www.imdb.com/title/tt0200465/</td>\n",
              "      <td>The Bank Job</td>\n",
              "      <td>http://www.boxofficemojo.com/movies/?id=bankjo...</td>\n",
              "      <td>crime</td>\n",
              "      <td>thriller</td>\n",
              "      <td>NaN</td>\n",
              "      <td>2.0</td>\n",
              "      <td>1.0</td>\n",
              "    </tr>\n",
              "    <tr>\n",
              "      <th>8</th>\n",
              "      <td>2004</td>\n",
              "      <td>http://www.imdb.com/name/nm0001317/</td>\n",
              "      <td>Exorcist: The Beginning</td>\n",
              "      <td>http://www.imdb.com/title/tt0204313/</td>\n",
              "      <td>Exorcist: The Beginning</td>\n",
              "      <td>http://www.boxofficemojo.com/movies/?id=exorci...</td>\n",
              "      <td>horror</td>\n",
              "      <td>mystery</td>\n",
              "      <td>thriller</td>\n",
              "      <td>4.0</td>\n",
              "      <td>2.0</td>\n",
              "    </tr>\n",
              "    <tr>\n",
              "      <th>9</th>\n",
              "      <td>2006</td>\n",
              "      <td>http://www.imdb.com/name/nm0190859/</td>\n",
              "      <td>Children of Men</td>\n",
              "      <td>http://www.imdb.com/title/tt0206634/</td>\n",
              "      <td>Children of Men</td>\n",
              "      <td>http://www.boxofficemojo.com/movies/?id=childr...</td>\n",
              "      <td>drama</td>\n",
              "      <td>thriller</td>\n",
              "      <td>NaN</td>\n",
              "      <td>3.0</td>\n",
              "      <td>1.0</td>\n",
              "    </tr>\n",
              "  </tbody>\n",
              "</table>\n",
              "</div>"
            ],
            "text/plain": [
              "   year  ... NumOfTwoCommonCategoriesOwnFilms(past five years)\n",
              "0  2005  ...                                               1.0\n",
              "1  2005  ...                                               1.0\n",
              "2  2005  ...                                               1.0\n",
              "3  2005  ...                                               1.0\n",
              "4  2005  ...                                               2.0\n",
              "5  2004  ...                                               1.0\n",
              "6  2004  ...                                               2.0\n",
              "7  2008  ...                                               1.0\n",
              "8  2004  ...                                               2.0\n",
              "9  2006  ...                                               1.0\n",
              "\n",
              "[10 rows x 11 columns]"
            ]
          },
          "metadata": {
            "tags": []
          },
          "execution_count": 15
        }
      ]
    },
    {
      "cell_type": "code",
      "metadata": {
        "id": "cUAeJ3Ek5YJq",
        "colab_type": "code",
        "colab": {}
      },
      "source": [
        "result_set.to_csv(\"temp.csv\")"
      ],
      "execution_count": 0,
      "outputs": []
    },
    {
      "cell_type": "code",
      "metadata": {
        "id": "jlbF6VEPr4X6",
        "colab_type": "code",
        "colab": {}
      },
      "source": [
        "# have to filter out current movie by minus 1 from common films count column\n",
        "# have to count if there is only one available descriptor as reference"
      ],
      "execution_count": 0,
      "outputs": []
    }
  ]
}