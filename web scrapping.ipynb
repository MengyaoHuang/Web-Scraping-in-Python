{
 "cells": [
  {
   "cell_type": "markdown",
   "metadata": {},
   "source": [
    "## Web Scrapping Example"
   ]
  },
  {
   "cell_type": "code",
   "execution_count": 2,
   "metadata": {},
   "outputs": [],
   "source": [
    "# package use\n",
    "import requests\n",
    "import urllib\n",
    "import urllib.request\n",
    "import time\n",
    "import re\n",
    "from bs4 import BeautifulSoup\n",
    "from IPython.core.display import HTML\n",
    "\n",
    "import pandas as pd\n",
    "import numpy as np\n",
    "import warnings\n",
    "warnings.filterwarnings(\"ignore\")\n",
    "import copy\n",
    "from collections import Counter"
   ]
  },
  {
   "cell_type": "code",
   "execution_count": 2,
   "metadata": {},
   "outputs": [
    {
     "data": {
      "text/plain": [
       "<Response [200]>"
      ]
     },
     "execution_count": 2,
     "metadata": {},
     "output_type": "execute_result"
    }
   ],
   "source": [
    "# set the url to the website and access the site with our requests library\n",
    "url = 'http://web.mta.info/developers/turnstile.html'\n",
    "response = requests.get(url)\n",
    "response"
   ]
  },
  {
   "cell_type": "code",
   "execution_count": 3,
   "metadata": {},
   "outputs": [],
   "source": [
    "# Next we parse the html with BeautifulSoup so that we can work with a nicer, nested BeautifulSoup data structure\n",
    "soup = BeautifulSoup(response.text, \"html.parser\")\n",
    "# print soup to show the nested data structure\n",
    "# soup"
   ]
  },
  {
   "cell_type": "code",
   "execution_count": 4,
   "metadata": {},
   "outputs": [
    {
     "data": {
      "text/plain": [
       "[<a href=\"http://www.mta.info\"><img alt=\"Go to MTA homepage\" src=\"/template/images/mta_info.gif\"/></a>,\n",
       " <a href=\"/accessibility\">Accessibility</a>,\n",
       " <a href=\"http://assistive.usablenet.com/tt/http://www.mta.info\">Text-only</a>,\n",
       " <a href=\"/selfserve\">Customer Self-Service</a>,\n",
       " <a href=\"/mta/employment/\">Employment</a>,\n",
       " <a href=\"/faqs.htm\">FAQs/Contact Us</a>,\n",
       " <a href=\"http://www.mta.info\" style=\"padding-left:18px;\">Home</a>,\n",
       " <a href=\"http://www.mta.info\">MTA Home</a>,\n",
       " <a href=\"http://www.mta.info/nyct\">NYC Subways and Buses</a>]"
      ]
     },
     "execution_count": 4,
     "metadata": {},
     "output_type": "execute_result"
    }
   ],
   "source": [
    "# We use the method .findAll to locate all of our <a> tags for the first one to ten records\n",
    "soup.findAll('a')[1:10]"
   ]
  },
  {
   "cell_type": "markdown",
   "metadata": {},
   "source": [
    "### Explanation for the tag records above:\n",
    "- Explanation: This code gives us every line of code that has an <a> tag. \n",
    "- The information that we are interested in starts on line 36. Not all links are relevant to what we want, but most of it is, so we can easily slice from line 36."
   ]
  },
  {
   "cell_type": "code",
   "execution_count": 5,
   "metadata": {},
   "outputs": [
    {
     "name": "stdout",
     "output_type": "stream",
     "text": [
      "<a href=\"data/nyct/turnstile/turnstile_190330.txt\">Saturday, March 30, 2019</a>\n"
     ]
    }
   ],
   "source": [
    "# let’s extract the actual link that we want. Let’s test out the first link\n",
    "# Notice that all the .txt files are inside the <a> tag following the line above\n",
    "one_a_tag = soup.findAll('a')[36]\n",
    "print(one_a_tag)\n",
    "# extract the address of txt\n",
    "link = one_a_tag['href']"
   ]
  },
  {
   "cell_type": "markdown",
   "metadata": {},
   "source": [
    "### Explanation for operations above:\n",
    "- This code saves ‘data/nyct/turnstile/turnstile_190316.txt’ to our variable link. The full url to download the data is actually ‘http://web.mta.info/developers/data/nyct/turnstile/turnstile_190316.txt’ which I discovered by clicking on the first data file on the website as a test.\n",
    "- We can use our urllib.request library to download this file path to our computer. We provide request.urlretrieve with two parameters: file url and the filename. For my files, I named them “turnstile_180922.txt”, “turnstile_180901”, etc."
   ]
  },
  {
   "cell_type": "code",
   "execution_count": 6,
   "metadata": {},
   "outputs": [
    {
     "data": {
      "text/plain": [
       "('./turnstile_190330.txt', <http.client.HTTPMessage at 0x187f5673550>)"
      ]
     },
     "execution_count": 6,
     "metadata": {},
     "output_type": "execute_result"
    }
   ],
   "source": [
    "# create full download url string\n",
    "download_url = 'http://web.mta.info/developers/'+ link\n",
    "urllib.request.urlretrieve(download_url,'./'+link[link.find('/turnstile_')+1:]) "
   ]
  },
  {
   "cell_type": "code",
   "execution_count": 7,
   "metadata": {},
   "outputs": [],
   "source": [
    "# Last but not least, we should include this line of code \n",
    "# so that we can pause our code for a second \n",
    "# so that we are not spamming the website with requests.\n",
    "# This helps us avoid getting flagged as a spammer\n",
    "time.sleep(1)"
   ]
  },
  {
   "cell_type": "markdown",
   "metadata": {},
   "source": [
    "## Read Table"
   ]
  },
  {
   "cell_type": "markdown",
   "metadata": {},
   "source": [
    "- useful tutorial websites: \n",
    "\n",
    "https://www.dataquest.io/blog/web-scraping-tutorial-python/\n",
    "\n",
    "https://stackoverflow.com/questions/46015006/how-to-scrape-the-first-n-paragraphs-from-a-url\n",
    "\n",
    "https://cfss.uchicago.edu/webdata005_scraping.html"
   ]
  },
  {
   "cell_type": "code",
   "execution_count": 2,
   "metadata": {},
   "outputs": [
    {
     "data": {
      "text/html": [
       "<div>\n",
       "<style scoped>\n",
       "    .dataframe tbody tr th:only-of-type {\n",
       "        vertical-align: middle;\n",
       "    }\n",
       "\n",
       "    .dataframe tbody tr th {\n",
       "        vertical-align: top;\n",
       "    }\n",
       "\n",
       "    .dataframe thead th {\n",
       "        text-align: right;\n",
       "    }\n",
       "</style>\n",
       "<table border=\"1\" class=\"dataframe\">\n",
       "  <thead>\n",
       "    <tr style=\"text-align: right;\">\n",
       "      <th></th>\n",
       "      <th>photoimage</th>\n",
       "      <th>actorname</th>\n",
       "      <th>actorimdb</th>\n",
       "      <th>dateofbirth</th>\n",
       "      <th>placeofbirth</th>\n",
       "      <th>minibio</th>\n",
       "      <th>trivia</th>\n",
       "      <th>race</th>\n",
       "      <th>gender</th>\n",
       "      <th>Domestic</th>\n",
       "      <th>bio_url</th>\n",
       "    </tr>\n",
       "  </thead>\n",
       "  <tbody>\n",
       "    <tr>\n",
       "      <th>0</th>\n",
       "      <td>NaN</td>\n",
       "      <td>A.R. Murugadoss</td>\n",
       "      <td>http://www.imdb.com/name/nm1436693/</td>\n",
       "      <td>NaN</td>\n",
       "      <td>NaN</td>\n",
       "      <td>NaN</td>\n",
       "      <td>NaN</td>\n",
       "      <td>NaN</td>\n",
       "      <td>NaN</td>\n",
       "      <td>0</td>\n",
       "      <td>NaN</td>\n",
       "    </tr>\n",
       "    <tr>\n",
       "      <th>1</th>\n",
       "      <td>NaN</td>\n",
       "      <td>Aanand Rai</td>\n",
       "      <td>http://www.imdb.com/name/nm2399862/</td>\n",
       "      <td>NaN</td>\n",
       "      <td>NaN</td>\n",
       "      <td>NaN</td>\n",
       "      <td>NaN</td>\n",
       "      <td>NaN</td>\n",
       "      <td>NaN</td>\n",
       "      <td>0</td>\n",
       "      <td>NaN</td>\n",
       "    </tr>\n",
       "    <tr>\n",
       "      <th>2</th>\n",
       "      <td>NaN</td>\n",
       "      <td>Aaron Schneider</td>\n",
       "      <td>http://www.imdb.com/name/nm0773689/</td>\n",
       "      <td>NaN</td>\n",
       "      <td>NaN</td>\n",
       "      <td>NaN</td>\n",
       "      <td>NaN</td>\n",
       "      <td>NaN</td>\n",
       "      <td>NaN</td>\n",
       "      <td>1</td>\n",
       "      <td>NaN</td>\n",
       "    </tr>\n",
       "  </tbody>\n",
       "</table>\n",
       "</div>"
      ],
      "text/plain": [
       "   photoimage        actorname                            actorimdb  \\\n",
       "0         NaN  A.R. Murugadoss  http://www.imdb.com/name/nm1436693/   \n",
       "1         NaN       Aanand Rai  http://www.imdb.com/name/nm2399862/   \n",
       "2         NaN  Aaron Schneider  http://www.imdb.com/name/nm0773689/   \n",
       "\n",
       "   dateofbirth  placeofbirth  minibio  trivia  race  gender  Domestic  bio_url  \n",
       "0          NaN           NaN      NaN     NaN   NaN     NaN         0      NaN  \n",
       "1          NaN           NaN      NaN     NaN   NaN     NaN         0      NaN  \n",
       "2          NaN           NaN      NaN     NaN   NaN     NaN         1      NaN  "
      ]
     },
     "execution_count": 2,
     "metadata": {},
     "output_type": "execute_result"
    }
   ],
   "source": [
    "# read table and show the first five lines\n",
    "director_table = pd.read_csv('director table.csv', encoding='ISO-8859-1')\n",
    "director_table['bio_url'] = np.nan\n",
    "director_table.head(3)"
   ]
  },
  {
   "cell_type": "markdown",
   "metadata": {},
   "source": [
    "### gender-guesser package\n",
    "This package uses the underlying data from the program “gender” by Jorg Michael (described here). \n",
    "Its use is pretty straightforward.\n",
    "\n",
    "https://pypi.org/project/gender-guesser/"
   ]
  },
  {
   "cell_type": "markdown",
   "metadata": {},
   "source": [
    "## Some hint on how to extract those information\n",
    "- dateofbirth: extract from the profile\n",
    "- placeofbirth: extract from the profie\n",
    "- minibio: extract from the \"view more bio\" link\n",
    "- trivia: extract from the \"vie more bio\" link\n",
    "- race: depends\n",
    "- gender: deduce from the mini_bio by detecting him or her & otherwise use gender-guesser package"
   ]
  },
  {
   "cell_type": "code",
   "execution_count": 3,
   "metadata": {},
   "outputs": [],
   "source": [
    "# detect whether people have \"view more bio\" or not and record\n",
    "def detect_bio_link(url):\n",
    "    response = requests.get(url)\n",
    "    # form the txt\n",
    "    # call BeautifulSoup data structure to work\n",
    "    soup = BeautifulSoup(response.text, \"html.parser\")\n",
    "    \n",
    "    mini_bio_url_num = 0\n",
    "    # Find all the links on the page\n",
    "    for link in soup.find_all('a', href=True):\n",
    "        # find the mini_bio page\n",
    "        if \"bio_sm\" in link['href']:\n",
    "            # calculate how many it finds\n",
    "            mini_bio_url_num += 1\n",
    "            mini_bio_url = link['href']\n",
    "            mini_bio_url = \"https://www.imdb.com\" + mini_bio_url\n",
    "    # check\n",
    "    if mini_bio_url_num == 1:\n",
    "        return True, mini_bio_url\n",
    "    else:\n",
    "        mini_bio_url = \" \"\n",
    "        return False, mini_bio_url"
   ]
  },
  {
   "cell_type": "code",
   "execution_count": null,
   "metadata": {},
   "outputs": [],
   "source": [
    "# decide number of directors to scrap\n",
    "length = len(director_table)\n",
    "# make a copy to modify the original table\n",
    "director_table_bioAdd = copy.deepcopy(director_table)\n",
    "\n",
    "# update and fill the new table\n",
    "for i in range(length):\n",
    "    judge, mini_bio_url_add = detect_bio_link(director_table['actorimdb'][i])\n",
    "    if judge:\n",
    "        director_table_bioAdd['bio_url'][i] = mini_bio_url_add\n",
    "    # keep track of process\n",
    "    if i%200 == 0:\n",
    "        print(i)\n",
    "# write csv to store fist\n",
    "director_table_bioAdd.to_csv('bio_url.csv')"
   ]
  },
  {
   "cell_type": "code",
   "execution_count": 3,
   "metadata": {},
   "outputs": [],
   "source": [
    "director_table_bioAdd = pd.read_csv('bio_url.csv')"
   ]
  },
  {
   "cell_type": "code",
   "execution_count": 4,
   "metadata": {},
   "outputs": [
    {
     "data": {
      "text/html": [
       "<div>\n",
       "<style scoped>\n",
       "    .dataframe tbody tr th:only-of-type {\n",
       "        vertical-align: middle;\n",
       "    }\n",
       "\n",
       "    .dataframe tbody tr th {\n",
       "        vertical-align: top;\n",
       "    }\n",
       "\n",
       "    .dataframe thead th {\n",
       "        text-align: right;\n",
       "    }\n",
       "</style>\n",
       "<table border=\"1\" class=\"dataframe\">\n",
       "  <thead>\n",
       "    <tr style=\"text-align: right;\">\n",
       "      <th></th>\n",
       "      <th>photoimage</th>\n",
       "      <th>actorname</th>\n",
       "      <th>actorimdb</th>\n",
       "      <th>dateofbirth</th>\n",
       "      <th>placeofbirth</th>\n",
       "      <th>minibio</th>\n",
       "      <th>trivia</th>\n",
       "      <th>race</th>\n",
       "      <th>gender</th>\n",
       "      <th>Domestic</th>\n",
       "      <th>bio_url</th>\n",
       "    </tr>\n",
       "  </thead>\n",
       "  <tbody>\n",
       "    <tr>\n",
       "      <th>0</th>\n",
       "      <td>NaN</td>\n",
       "      <td>A.R. Murugadoss</td>\n",
       "      <td>http://www.imdb.com/name/nm1436693/</td>\n",
       "      <td>NaN</td>\n",
       "      <td>NaN</td>\n",
       "      <td>NaN</td>\n",
       "      <td>NaN</td>\n",
       "      <td>NaN</td>\n",
       "      <td>NaN</td>\n",
       "      <td>0</td>\n",
       "      <td>https://www.imdb.com/name/nm1436693/bio?ref_=n...</td>\n",
       "    </tr>\n",
       "    <tr>\n",
       "      <th>1</th>\n",
       "      <td>NaN</td>\n",
       "      <td>Aanand Rai</td>\n",
       "      <td>http://www.imdb.com/name/nm2399862/</td>\n",
       "      <td>NaN</td>\n",
       "      <td>NaN</td>\n",
       "      <td>NaN</td>\n",
       "      <td>NaN</td>\n",
       "      <td>NaN</td>\n",
       "      <td>NaN</td>\n",
       "      <td>0</td>\n",
       "      <td>https://www.imdb.com/name/nm2399862/bio?ref_=n...</td>\n",
       "    </tr>\n",
       "    <tr>\n",
       "      <th>2</th>\n",
       "      <td>NaN</td>\n",
       "      <td>Aaron Schneider</td>\n",
       "      <td>http://www.imdb.com/name/nm0773689/</td>\n",
       "      <td>NaN</td>\n",
       "      <td>NaN</td>\n",
       "      <td>NaN</td>\n",
       "      <td>NaN</td>\n",
       "      <td>NaN</td>\n",
       "      <td>NaN</td>\n",
       "      <td>1</td>\n",
       "      <td>https://www.imdb.com/name/nm0773689/bio?ref_=n...</td>\n",
       "    </tr>\n",
       "  </tbody>\n",
       "</table>\n",
       "</div>"
      ],
      "text/plain": [
       "   photoimage        actorname                            actorimdb  \\\n",
       "0         NaN  A.R. Murugadoss  http://www.imdb.com/name/nm1436693/   \n",
       "1         NaN       Aanand Rai  http://www.imdb.com/name/nm2399862/   \n",
       "2         NaN  Aaron Schneider  http://www.imdb.com/name/nm0773689/   \n",
       "\n",
       "   dateofbirth  placeofbirth  minibio  trivia  race  gender  Domestic  \\\n",
       "0          NaN           NaN      NaN     NaN   NaN     NaN         0   \n",
       "1          NaN           NaN      NaN     NaN   NaN     NaN         0   \n",
       "2          NaN           NaN      NaN     NaN   NaN     NaN         1   \n",
       "\n",
       "                                             bio_url  \n",
       "0  https://www.imdb.com/name/nm1436693/bio?ref_=n...  \n",
       "1  https://www.imdb.com/name/nm2399862/bio?ref_=n...  \n",
       "2  https://www.imdb.com/name/nm0773689/bio?ref_=n...  "
      ]
     },
     "execution_count": 4,
     "metadata": {},
     "output_type": "execute_result"
    }
   ],
   "source": [
    "# after check\n",
    "director_table_bioAdd.head(3)"
   ]
  },
  {
   "cell_type": "markdown",
   "metadata": {},
   "source": [
    "## Operation on director with bio urls first"
   ]
  },
  {
   "cell_type": "code",
   "execution_count": 5,
   "metadata": {},
   "outputs": [
    {
     "data": {
      "text/html": [
       "<div>\n",
       "<style scoped>\n",
       "    .dataframe tbody tr th:only-of-type {\n",
       "        vertical-align: middle;\n",
       "    }\n",
       "\n",
       "    .dataframe tbody tr th {\n",
       "        vertical-align: top;\n",
       "    }\n",
       "\n",
       "    .dataframe thead th {\n",
       "        text-align: right;\n",
       "    }\n",
       "</style>\n",
       "<table border=\"1\" class=\"dataframe\">\n",
       "  <thead>\n",
       "    <tr style=\"text-align: right;\">\n",
       "      <th></th>\n",
       "      <th>photoimage</th>\n",
       "      <th>actorname</th>\n",
       "      <th>actorimdb</th>\n",
       "      <th>dateofbirth</th>\n",
       "      <th>placeofbirth</th>\n",
       "      <th>minibio</th>\n",
       "      <th>trivia</th>\n",
       "      <th>race</th>\n",
       "      <th>gender</th>\n",
       "      <th>Domestic</th>\n",
       "      <th>bio_url</th>\n",
       "    </tr>\n",
       "  </thead>\n",
       "  <tbody>\n",
       "    <tr>\n",
       "      <th>0</th>\n",
       "      <td>NaN</td>\n",
       "      <td>A.R. Murugadoss</td>\n",
       "      <td>http://www.imdb.com/name/nm1436693/</td>\n",
       "      <td>NaN</td>\n",
       "      <td>NaN</td>\n",
       "      <td>NaN</td>\n",
       "      <td>NaN</td>\n",
       "      <td>NaN</td>\n",
       "      <td>NaN</td>\n",
       "      <td>0</td>\n",
       "      <td>https://www.imdb.com/name/nm1436693/bio?ref_=n...</td>\n",
       "    </tr>\n",
       "    <tr>\n",
       "      <th>1</th>\n",
       "      <td>NaN</td>\n",
       "      <td>Aanand Rai</td>\n",
       "      <td>http://www.imdb.com/name/nm2399862/</td>\n",
       "      <td>NaN</td>\n",
       "      <td>NaN</td>\n",
       "      <td>NaN</td>\n",
       "      <td>NaN</td>\n",
       "      <td>NaN</td>\n",
       "      <td>NaN</td>\n",
       "      <td>0</td>\n",
       "      <td>https://www.imdb.com/name/nm2399862/bio?ref_=n...</td>\n",
       "    </tr>\n",
       "    <tr>\n",
       "      <th>2</th>\n",
       "      <td>NaN</td>\n",
       "      <td>Aaron Schneider</td>\n",
       "      <td>http://www.imdb.com/name/nm0773689/</td>\n",
       "      <td>NaN</td>\n",
       "      <td>NaN</td>\n",
       "      <td>NaN</td>\n",
       "      <td>NaN</td>\n",
       "      <td>NaN</td>\n",
       "      <td>NaN</td>\n",
       "      <td>1</td>\n",
       "      <td>https://www.imdb.com/name/nm0773689/bio?ref_=n...</td>\n",
       "    </tr>\n",
       "  </tbody>\n",
       "</table>\n",
       "</div>"
      ],
      "text/plain": [
       "   photoimage        actorname                            actorimdb  \\\n",
       "0         NaN  A.R. Murugadoss  http://www.imdb.com/name/nm1436693/   \n",
       "1         NaN       Aanand Rai  http://www.imdb.com/name/nm2399862/   \n",
       "2         NaN  Aaron Schneider  http://www.imdb.com/name/nm0773689/   \n",
       "\n",
       "   dateofbirth  placeofbirth  minibio  trivia  race  gender  Domestic  \\\n",
       "0          NaN           NaN      NaN     NaN   NaN     NaN         0   \n",
       "1          NaN           NaN      NaN     NaN   NaN     NaN         0   \n",
       "2          NaN           NaN      NaN     NaN   NaN     NaN         1   \n",
       "\n",
       "                                             bio_url  \n",
       "0  https://www.imdb.com/name/nm1436693/bio?ref_=n...  \n",
       "1  https://www.imdb.com/name/nm2399862/bio?ref_=n...  \n",
       "2  https://www.imdb.com/name/nm0773689/bio?ref_=n...  "
      ]
     },
     "execution_count": 5,
     "metadata": {},
     "output_type": "execute_result"
    }
   ],
   "source": [
    "bio_url_fill = director_table_bioAdd[director_table_bioAdd['bio_url'].notnull()]\n",
    "bio_url_fill = bio_url_fill.reset_index(drop=True)\n",
    "\n",
    "bio_url_notfill = director_table_bioAdd.append(bio_url_fill).drop_duplicates(keep=False)\n",
    "bio_url_notfill = bio_url_notfill.reset_index(drop=True)\n",
    "bio_url_fill.head(3)"
   ]
  },
  {
   "cell_type": "markdown",
   "metadata": {},
   "source": [
    "## Extract dateofbirth and placeofbirth information"
   ]
  },
  {
   "cell_type": "code",
   "execution_count": 6,
   "metadata": {},
   "outputs": [
    {
     "name": "stdout",
     "output_type": "stream",
     "text": [
      "length of bio url filled data set:  1362\n"
     ]
    }
   ],
   "source": [
    "print(\"length of bio url filled data set: \", len(bio_url_fill))"
   ]
  },
  {
   "cell_type": "code",
   "execution_count": 8,
   "metadata": {},
   "outputs": [],
   "source": [
    "# extract birth date & place at least\n",
    "# and minibio and trivia information\n",
    "def extract_info(url):\n",
    "    response_mini = requests.get(url)\n",
    "    # still form the text\n",
    "    soup_mini = BeautifulSoup(response_mini.text, \"html.parser\")\n",
    "    \n",
    "    # extract birth date and place first\n",
    "    birth_monthday = \" \"\n",
    "    birth_year = \" \"\n",
    "    placeofbirth = \" \"\n",
    "    for link in soup_mini.find_all('a', href=True):\n",
    "        if \"birth_monthday\" in link['href']:\n",
    "            birth_monthday = link.string\n",
    "        if \"birth_year\" in link['href']:\n",
    "            birth_year = link.string\n",
    "        if \"birth_place\" in link['href']:\n",
    "            placeofbirth = link.string\n",
    "    # form date of birth string\n",
    "    dateofbirth = birth_monthday+\" \"+birth_year\n",
    "    \n",
    "    # extract all relevant information -- topics and content\n",
    "    # soda odd and soda even for content, li_group for title\n",
    "    table = soup_mini.find_all(True, {\"class\": {\"soda odd\", \"soda even\", \"li_group\"}})\n",
    "    # extract all the text first\n",
    "    table_text = []\n",
    "    for i in range(len(table)):\n",
    "        table_text.append(table[i].get_text(strip=True))\n",
    "    \n",
    "    # extract mini_bio and trivia now\n",
    "    mini_trivia_para = [\" \", \" \"]\n",
    "    search_title = [\"Mini Bio\", \"Trivia\"]\n",
    "    for j in range(len(search_title)):\n",
    "        for i in range(len(table_text)):\n",
    "            if search_title[j] in table_text[i]:\n",
    "                # extract the number of records to append after\n",
    "                numOfRecord = re.sub(\"\\D\", \"\", table_text[i])\n",
    "                # fill in the information\n",
    "                mini_trivia_para[j] = '/'.join(table_text[(i+1):(i+1+int(numOfRecord))])\n",
    "                break\n",
    "                \n",
    "    return dateofbirth, placeofbirth, mini_trivia_para[0], mini_trivia_para[1]"
   ]
  },
  {
   "cell_type": "code",
   "execution_count": null,
   "metadata": {},
   "outputs": [],
   "source": [
    "# fill the information now\n",
    "length = len(bio_url_fill)\n",
    "for count in range(length):\n",
    "    url = bio_url_fill['bio_url'][count]\n",
    "    birthday_fill, place_fill, mini_fill, trivia_fill = extract_info(url)\n",
    "    bio_url_fill['dateofbirth'][count] = birthday_fill\n",
    "    bio_url_fill['placeofbirth'][count] = place_fill\n",
    "    bio_url_fill['minibio'][count] = mini_fill\n",
    "    bio_url_fill['trivia'][count] = trivia_fill\n",
    "    if count % 100 == 0:\n",
    "        print(count)\n",
    "# write to csv\n",
    "bio_url_fill.to_csv(\"bio_url_fill.csv\")"
   ]
  },
  {
   "cell_type": "code",
   "execution_count": 7,
   "metadata": {},
   "outputs": [],
   "source": [
    "bio_url_fill = pd.read_csv('bio_url_fill.csv')"
   ]
  },
  {
   "cell_type": "markdown",
   "metadata": {},
   "source": [
    "## Operation on director without bio urls now\n",
    "\n",
    "- Since they have no bio urls, minibio and trivia information would be absent\n",
    "- Try to extract their birthplace and birthday information if possible"
   ]
  },
  {
   "cell_type": "code",
   "execution_count": 8,
   "metadata": {},
   "outputs": [
    {
     "name": "stdout",
     "output_type": "stream",
     "text": [
      "length of bio url not filled data set:  75\n"
     ]
    }
   ],
   "source": [
    "print(\"length of bio url not filled data set: \", len(bio_url_notfill))"
   ]
  },
  {
   "cell_type": "code",
   "execution_count": 9,
   "metadata": {},
   "outputs": [
    {
     "data": {
      "text/html": [
       "<div>\n",
       "<style scoped>\n",
       "    .dataframe tbody tr th:only-of-type {\n",
       "        vertical-align: middle;\n",
       "    }\n",
       "\n",
       "    .dataframe tbody tr th {\n",
       "        vertical-align: top;\n",
       "    }\n",
       "\n",
       "    .dataframe thead th {\n",
       "        text-align: right;\n",
       "    }\n",
       "</style>\n",
       "<table border=\"1\" class=\"dataframe\">\n",
       "  <thead>\n",
       "    <tr style=\"text-align: right;\">\n",
       "      <th></th>\n",
       "      <th>photoimage</th>\n",
       "      <th>actorname</th>\n",
       "      <th>actorimdb</th>\n",
       "      <th>dateofbirth</th>\n",
       "      <th>placeofbirth</th>\n",
       "      <th>minibio</th>\n",
       "      <th>trivia</th>\n",
       "      <th>race</th>\n",
       "      <th>gender</th>\n",
       "      <th>Domestic</th>\n",
       "      <th>bio_url</th>\n",
       "    </tr>\n",
       "  </thead>\n",
       "  <tbody>\n",
       "    <tr>\n",
       "      <th>0</th>\n",
       "      <td>NaN</td>\n",
       "      <td>Aaron Seltzer</td>\n",
       "      <td>http://www.imdb.com/name/nm0783536/</td>\n",
       "      <td>NaN</td>\n",
       "      <td>NaN</td>\n",
       "      <td>NaN</td>\n",
       "      <td>NaN</td>\n",
       "      <td>NaN</td>\n",
       "      <td>NaN</td>\n",
       "      <td>1</td>\n",
       "      <td>NaN</td>\n",
       "    </tr>\n",
       "    <tr>\n",
       "      <th>1</th>\n",
       "      <td>NaN</td>\n",
       "      <td>Abhishek Varman</td>\n",
       "      <td>http://www.imdb.com/name/nm2831530/</td>\n",
       "      <td>NaN</td>\n",
       "      <td>NaN</td>\n",
       "      <td>NaN</td>\n",
       "      <td>NaN</td>\n",
       "      <td>NaN</td>\n",
       "      <td>NaN</td>\n",
       "      <td>0</td>\n",
       "      <td>NaN</td>\n",
       "    </tr>\n",
       "    <tr>\n",
       "      <th>2</th>\n",
       "      <td>NaN</td>\n",
       "      <td>Adam Chapman</td>\n",
       "      <td>http://www.imdb.com/name/nm7920865/</td>\n",
       "      <td>NaN</td>\n",
       "      <td>NaN</td>\n",
       "      <td>NaN</td>\n",
       "      <td>NaN</td>\n",
       "      <td>NaN</td>\n",
       "      <td>NaN</td>\n",
       "      <td>1</td>\n",
       "      <td>NaN</td>\n",
       "    </tr>\n",
       "  </tbody>\n",
       "</table>\n",
       "</div>"
      ],
      "text/plain": [
       "   photoimage        actorname                            actorimdb  \\\n",
       "0         NaN    Aaron Seltzer  http://www.imdb.com/name/nm0783536/   \n",
       "1         NaN  Abhishek Varman  http://www.imdb.com/name/nm2831530/   \n",
       "2         NaN     Adam Chapman  http://www.imdb.com/name/nm7920865/   \n",
       "\n",
       "   dateofbirth  placeofbirth  minibio  trivia  race  gender  Domestic bio_url  \n",
       "0          NaN           NaN      NaN     NaN   NaN     NaN         1     NaN  \n",
       "1          NaN           NaN      NaN     NaN   NaN     NaN         0     NaN  \n",
       "2          NaN           NaN      NaN     NaN   NaN     NaN         1     NaN  "
      ]
     },
     "execution_count": 9,
     "metadata": {},
     "output_type": "execute_result"
    }
   ],
   "source": [
    "bio_url_notfill.head(3)"
   ]
  },
  {
   "cell_type": "code",
   "execution_count": 12,
   "metadata": {},
   "outputs": [],
   "source": [
    "# extract birth information for notfill data set--function\n",
    "def extract_birth_notfill(url):\n",
    "    response_mini = requests.get(url)\n",
    "    # still form the text\n",
    "    soup_mini = BeautifulSoup(response_mini.text, \"html.parser\")\n",
    "\n",
    "    birth_monthday = \" \"\n",
    "    birth_year = \" \"\n",
    "    placeofbirth = \" \"\n",
    "    for link in soup_mini.find_all('a', href=True):\n",
    "        if \"birth_monthday\" in link['href']:\n",
    "            birth_monthday = link.string\n",
    "        if \"birth_year\" in link['href']:\n",
    "            birth_year = link.string\n",
    "        if \"birth_place\" in link['href']:\n",
    "            placeofbirth = link.string\n",
    "    # form date of birth string\n",
    "    dateofbirth = birth_monthday+\" \"+birth_year\n",
    "    \n",
    "    return dateofbirth, placeofbirth"
   ]
  },
  {
   "cell_type": "code",
   "execution_count": null,
   "metadata": {},
   "outputs": [],
   "source": [
    "# extract birth information for notfill data set\n",
    "length_notfill = len(bio_url_notfill)\n",
    "for i in range(length_notfill):\n",
    "    date, place = extract_birth_notfill(bio_url_notfill['actorimdb'][i])\n",
    "    bio_url_notfill['dateofbirth'][i] = date\n",
    "    bio_url_notfill['placeofbirth'][i] = place"
   ]
  },
  {
   "cell_type": "code",
   "execution_count": 10,
   "metadata": {},
   "outputs": [],
   "source": [
    "# combine the total information\n",
    "bio_url_total = bio_url_fill.append(bio_url_notfill, ignore_index=True)\n",
    "# clean messy string \"Born Today\"\n",
    "bio_url_total['dateofbirth'] = bio_url_total['dateofbirth'].str.replace(\"Born Today\", \"\")\n",
    "# write to csv\n",
    "bio_url_total.to_csv(\"bio_url_total.csv\", index=False)"
   ]
  },
  {
   "cell_type": "code",
   "execution_count": 10,
   "metadata": {},
   "outputs": [
    {
     "data": {
      "text/html": [
       "<div>\n",
       "<style scoped>\n",
       "    .dataframe tbody tr th:only-of-type {\n",
       "        vertical-align: middle;\n",
       "    }\n",
       "\n",
       "    .dataframe tbody tr th {\n",
       "        vertical-align: top;\n",
       "    }\n",
       "\n",
       "    .dataframe thead th {\n",
       "        text-align: right;\n",
       "    }\n",
       "</style>\n",
       "<table border=\"1\" class=\"dataframe\">\n",
       "  <thead>\n",
       "    <tr style=\"text-align: right;\">\n",
       "      <th></th>\n",
       "      <th>photoimage</th>\n",
       "      <th>actorname</th>\n",
       "      <th>actorimdb</th>\n",
       "      <th>dateofbirth</th>\n",
       "      <th>placeofbirth</th>\n",
       "      <th>minibio</th>\n",
       "      <th>trivia</th>\n",
       "      <th>race</th>\n",
       "      <th>gender</th>\n",
       "      <th>Domestic</th>\n",
       "      <th>bio_url</th>\n",
       "      <th>tell_gender_fromText</th>\n",
       "      <th>gender2</th>\n",
       "    </tr>\n",
       "  </thead>\n",
       "  <tbody>\n",
       "    <tr>\n",
       "      <th>0</th>\n",
       "      <td>NaN</td>\n",
       "      <td>A.R. Murugadoss</td>\n",
       "      <td>http://www.imdb.com/name/nm1436693/</td>\n",
       "      <td></td>\n",
       "      <td></td>\n",
       "      <td>A.R. Murugadoss is a writer and director, know...</td>\n",
       "      <td></td>\n",
       "      <td>NaN</td>\n",
       "      <td>NaN</td>\n",
       "      <td>0</td>\n",
       "      <td>https://www.imdb.com/name/nm1436693/bio?ref_=n...</td>\n",
       "      <td>0</td>\n",
       "      <td>NaN</td>\n",
       "    </tr>\n",
       "    <tr>\n",
       "      <th>1</th>\n",
       "      <td>NaN</td>\n",
       "      <td>Aanand Rai</td>\n",
       "      <td>http://www.imdb.com/name/nm2399862/</td>\n",
       "      <td></td>\n",
       "      <td></td>\n",
       "      <td>Aanand L. Rai is a Hindi film director and pro...</td>\n",
       "      <td></td>\n",
       "      <td>NaN</td>\n",
       "      <td>male</td>\n",
       "      <td>0</td>\n",
       "      <td>https://www.imdb.com/name/nm2399862/bio?ref_=n...</td>\n",
       "      <td>1</td>\n",
       "      <td>male</td>\n",
       "    </tr>\n",
       "    <tr>\n",
       "      <th>2</th>\n",
       "      <td>NaN</td>\n",
       "      <td>Aaron Schneider</td>\n",
       "      <td>http://www.imdb.com/name/nm0773689/</td>\n",
       "      <td></td>\n",
       "      <td></td>\n",
       "      <td>Aaron Schneider is known for his work onTwo So...</td>\n",
       "      <td>Member of the American Society of Cinematograp...</td>\n",
       "      <td>NaN</td>\n",
       "      <td>male</td>\n",
       "      <td>1</td>\n",
       "      <td>https://www.imdb.com/name/nm0773689/bio?ref_=n...</td>\n",
       "      <td>1</td>\n",
       "      <td>male</td>\n",
       "    </tr>\n",
       "    <tr>\n",
       "      <th>3</th>\n",
       "      <td>NaN</td>\n",
       "      <td>Abbas Alibhai Burmawalla</td>\n",
       "      <td>http://www.imdb.com/name/nm0122216/</td>\n",
       "      <td></td>\n",
       "      <td></td>\n",
       "      <td>Abbas Alibhai Burmawalla is a director and pro...</td>\n",
       "      <td>The name Abbas-Mastan is used for films co-dir...</td>\n",
       "      <td>NaN</td>\n",
       "      <td>male</td>\n",
       "      <td>0</td>\n",
       "      <td>https://www.imdb.com/name/nm0122216/bio?ref_=n...</td>\n",
       "      <td>1</td>\n",
       "      <td>male</td>\n",
       "    </tr>\n",
       "    <tr>\n",
       "      <th>4</th>\n",
       "      <td>NaN</td>\n",
       "      <td>Abbas Kiarostami</td>\n",
       "      <td>http://www.imdb.com/name/nm0452102/</td>\n",
       "      <td>June 22 1940</td>\n",
       "      <td>Tehran, Iran</td>\n",
       "      <td>Abbas Kiarostami was born in Tehran, Iran, in ...</td>\n",
       "      <td>Received the UNESCO Fellini-Medal in Gold for ...</td>\n",
       "      <td>NaN</td>\n",
       "      <td>male</td>\n",
       "      <td>0</td>\n",
       "      <td>https://www.imdb.com/name/nm0452102/bio?ref_=n...</td>\n",
       "      <td>1</td>\n",
       "      <td>male</td>\n",
       "    </tr>\n",
       "  </tbody>\n",
       "</table>\n",
       "</div>"
      ],
      "text/plain": [
       "   photoimage                 actorname                            actorimdb  \\\n",
       "0         NaN           A.R. Murugadoss  http://www.imdb.com/name/nm1436693/   \n",
       "1         NaN                Aanand Rai  http://www.imdb.com/name/nm2399862/   \n",
       "2         NaN           Aaron Schneider  http://www.imdb.com/name/nm0773689/   \n",
       "3         NaN  Abbas Alibhai Burmawalla  http://www.imdb.com/name/nm0122216/   \n",
       "4         NaN          Abbas Kiarostami  http://www.imdb.com/name/nm0452102/   \n",
       "\n",
       "    dateofbirth  placeofbirth  \\\n",
       "0                               \n",
       "1                               \n",
       "2                               \n",
       "3                               \n",
       "4  June 22 1940  Tehran, Iran   \n",
       "\n",
       "                                             minibio  \\\n",
       "0  A.R. Murugadoss is a writer and director, know...   \n",
       "1  Aanand L. Rai is a Hindi film director and pro...   \n",
       "2  Aaron Schneider is known for his work onTwo So...   \n",
       "3  Abbas Alibhai Burmawalla is a director and pro...   \n",
       "4  Abbas Kiarostami was born in Tehran, Iran, in ...   \n",
       "\n",
       "                                              trivia  race gender  Domestic  \\\n",
       "0                                                      NaN    NaN         0   \n",
       "1                                                      NaN   male         0   \n",
       "2  Member of the American Society of Cinematograp...   NaN   male         1   \n",
       "3  The name Abbas-Mastan is used for films co-dir...   NaN   male         0   \n",
       "4  Received the UNESCO Fellini-Medal in Gold for ...   NaN   male         0   \n",
       "\n",
       "                                             bio_url  tell_gender_fromText  \\\n",
       "0  https://www.imdb.com/name/nm1436693/bio?ref_=n...                     0   \n",
       "1  https://www.imdb.com/name/nm2399862/bio?ref_=n...                     1   \n",
       "2  https://www.imdb.com/name/nm0773689/bio?ref_=n...                     1   \n",
       "3  https://www.imdb.com/name/nm0122216/bio?ref_=n...                     1   \n",
       "4  https://www.imdb.com/name/nm0452102/bio?ref_=n...                     1   \n",
       "\n",
       "  gender2  \n",
       "0     NaN  \n",
       "1    male  \n",
       "2    male  \n",
       "3    male  \n",
       "4    male  "
      ]
     },
     "execution_count": 10,
     "metadata": {},
     "output_type": "execute_result"
    }
   ],
   "source": [
    "bio_url_total = pd.read_csv('bio_url_total.csv')\n",
    "bio_url_total.head(5)"
   ]
  },
  {
   "cell_type": "markdown",
   "metadata": {},
   "source": [
    "## Deduce the gender information from previous columns - bio and trivia"
   ]
  },
  {
   "cell_type": "code",
   "execution_count": 11,
   "metadata": {},
   "outputs": [],
   "source": [
    "male_dic = ['him', 'his', 'he', 'himself']\n",
    "female_dic = ['her', 'she', 'hers', 'herself']\n",
    "# add tell_gender column\n",
    "# tell_gender = 1 if can be deduced from bio or trivia\n",
    "bio_url_total['gender'] = np.nan\n",
    "bio_url_total['tell_gender_fromText'] = 0"
   ]
  },
  {
   "cell_type": "code",
   "execution_count": 2,
   "metadata": {},
   "outputs": [],
   "source": [
    "# NLP packages\n",
    "import spacy\n",
    "# loading up the language model: English\n",
    "# nlp = spacy.load('en')\n",
    "import en_core_web_sm\n",
    "nlp = en_core_web_sm.load()\n",
    "# gender package\n",
    "import gender_guesser.detector as gender"
   ]
  },
  {
   "cell_type": "code",
   "execution_count": 13,
   "metadata": {},
   "outputs": [
    {
     "name": "stdout",
     "output_type": "stream",
     "text": [
      "male\n",
      "andy\n",
      "unknown\n"
     ]
    }
   ],
   "source": [
    "# d = gender.Detector()\n",
    "d = gender.Detector(case_sensitive=False)\n",
    "print(d.get_gender(\"Bob\"))\n",
    "print(d.get_gender(\"Pauley\")) # should be androgynous\n",
    "print(d.get_gender(\"Adam Shankman\"))"
   ]
  },
  {
   "cell_type": "code",
   "execution_count": 17,
   "metadata": {},
   "outputs": [],
   "source": [
    "punctuations = '''!()-[]{};:'\"\\,<>./?@#$%^&*_~''' # list of special characters you want to exclude\n",
    "def kick_out_special_char(sent):\n",
    "    done = \"\"\n",
    "    for char in sent:\n",
    "        if char not in punctuations:\n",
    "             done = done + char\n",
    "        else:\n",
    "            done = done + \" \"\n",
    "    return done\n",
    "\n",
    "def tell_gender(num):\n",
    "    # read text from two\n",
    "    bio_ = bio_url_total.minibio[num]\n",
    "    trivia_ = bio_url_total.trivia[num]  \n",
    "    # lower chars and store words into list\n",
    "    bio_ = str(bio_)\n",
    "    bio_temp = bio_.lower().split()\n",
    "    trivia_temp = kick_out_special_char(trivia_).split()\n",
    "    temp = bio_temp + trivia_temp\n",
    "    # check\n",
    "    find = 0\n",
    "    gender = np.nan\n",
    "    for item in male_dic:\n",
    "        if item in temp:\n",
    "            gender = \"male\"\n",
    "            find = 1\n",
    "            break\n",
    "    # not male the check female\n",
    "    if not find:\n",
    "        for item in female_dic:\n",
    "            if item in temp:\n",
    "                gender = \"female\"\n",
    "                find = 1\n",
    "                break\n",
    "    return find, gender"
   ]
  },
  {
   "cell_type": "code",
   "execution_count": null,
   "metadata": {},
   "outputs": [],
   "source": [
    "# fill in gender column\n",
    "length = len(bio_url_fill)\n",
    "for i in range(length):\n",
    "    find_or_not, gender_info = tell_gender(i)\n",
    "    bio_url_total['gender'][i] = gender_info\n",
    "    bio_url_total['tell_gender_fromText'][i] = find_or_not\n",
    "    if i%100 == 0:\n",
    "        print(i)"
   ]
  },
  {
   "cell_type": "code",
   "execution_count": null,
   "metadata": {},
   "outputs": [],
   "source": [
    "# need to double check to make sure\n",
    "def tell_gender_female_first(num):\n",
    "    # read text from two\n",
    "    bio_ = bio_url_total.minibio[num]\n",
    "    trivia_ = bio_url_total.trivia[num]  \n",
    "    # lower chars and store words into list\n",
    "    bio_ = str(bio_)\n",
    "    bio_temp = bio_.lower().split()\n",
    "    trivia_temp = kick_out_special_char(trivia_).split()\n",
    "    temp = bio_temp + trivia_temp\n",
    "    # check\n",
    "    find = 0\n",
    "    gender = np.nan\n",
    "    for item in female_dic:\n",
    "        if item in temp:\n",
    "            gender = \"female\"\n",
    "            find = 1\n",
    "            break\n",
    "    # not male the check female\n",
    "    if not find:\n",
    "        for item in male_dic:\n",
    "            if item in temp:\n",
    "                gender = \"male\"\n",
    "                find = 1\n",
    "                break\n",
    "    return find, gender\n",
    "\n",
    "bio_url_total['gender2'] = np.nan\n",
    "# double check\n",
    "# fill in gender2 column\n",
    "for i in range(length):\n",
    "    find_or_not, gender_info = tell_gender_female_first(i)\n",
    "    bio_url_total['gender2'][i] = gender_info\n",
    "    if i%100 == 0:\n",
    "        print(i)"
   ]
  },
  {
   "cell_type": "code",
   "execution_count": 24,
   "metadata": {},
   "outputs": [],
   "source": [
    "# write to csv\n",
    "bio_url_total.to_csv(\"bio_url_total.csv\", index=False)"
   ]
  },
  {
   "cell_type": "code",
   "execution_count": 14,
   "metadata": {},
   "outputs": [
    {
     "data": {
      "text/html": [
       "<div>\n",
       "<style scoped>\n",
       "    .dataframe tbody tr th:only-of-type {\n",
       "        vertical-align: middle;\n",
       "    }\n",
       "\n",
       "    .dataframe tbody tr th {\n",
       "        vertical-align: top;\n",
       "    }\n",
       "\n",
       "    .dataframe thead th {\n",
       "        text-align: right;\n",
       "    }\n",
       "</style>\n",
       "<table border=\"1\" class=\"dataframe\">\n",
       "  <thead>\n",
       "    <tr style=\"text-align: right;\">\n",
       "      <th></th>\n",
       "      <th>photoimage</th>\n",
       "      <th>actorname</th>\n",
       "      <th>actorimdb</th>\n",
       "      <th>dateofbirth</th>\n",
       "      <th>placeofbirth</th>\n",
       "      <th>minibio</th>\n",
       "      <th>trivia</th>\n",
       "      <th>race</th>\n",
       "      <th>gender</th>\n",
       "      <th>Domestic</th>\n",
       "      <th>bio_url</th>\n",
       "      <th>tell_gender_fromText</th>\n",
       "      <th>gender2</th>\n",
       "    </tr>\n",
       "  </thead>\n",
       "  <tbody>\n",
       "    <tr>\n",
       "      <th>0</th>\n",
       "      <td>NaN</td>\n",
       "      <td>A.R. Murugadoss</td>\n",
       "      <td>http://www.imdb.com/name/nm1436693/</td>\n",
       "      <td></td>\n",
       "      <td></td>\n",
       "      <td>A.R. Murugadoss is a writer and director, know...</td>\n",
       "      <td></td>\n",
       "      <td>NaN</td>\n",
       "      <td>NaN</td>\n",
       "      <td>0</td>\n",
       "      <td>https://www.imdb.com/name/nm1436693/bio?ref_=n...</td>\n",
       "      <td>0</td>\n",
       "      <td>NaN</td>\n",
       "    </tr>\n",
       "    <tr>\n",
       "      <th>1</th>\n",
       "      <td>NaN</td>\n",
       "      <td>Aanand Rai</td>\n",
       "      <td>http://www.imdb.com/name/nm2399862/</td>\n",
       "      <td></td>\n",
       "      <td></td>\n",
       "      <td>Aanand L. Rai is a Hindi film director and pro...</td>\n",
       "      <td></td>\n",
       "      <td>NaN</td>\n",
       "      <td>male</td>\n",
       "      <td>0</td>\n",
       "      <td>https://www.imdb.com/name/nm2399862/bio?ref_=n...</td>\n",
       "      <td>1</td>\n",
       "      <td>male</td>\n",
       "    </tr>\n",
       "    <tr>\n",
       "      <th>2</th>\n",
       "      <td>NaN</td>\n",
       "      <td>Aaron Schneider</td>\n",
       "      <td>http://www.imdb.com/name/nm0773689/</td>\n",
       "      <td></td>\n",
       "      <td></td>\n",
       "      <td>Aaron Schneider is known for his work onTwo So...</td>\n",
       "      <td>Member of the American Society of Cinematograp...</td>\n",
       "      <td>NaN</td>\n",
       "      <td>male</td>\n",
       "      <td>1</td>\n",
       "      <td>https://www.imdb.com/name/nm0773689/bio?ref_=n...</td>\n",
       "      <td>1</td>\n",
       "      <td>male</td>\n",
       "    </tr>\n",
       "  </tbody>\n",
       "</table>\n",
       "</div>"
      ],
      "text/plain": [
       "   photoimage        actorname                            actorimdb  \\\n",
       "0         NaN  A.R. Murugadoss  http://www.imdb.com/name/nm1436693/   \n",
       "1         NaN       Aanand Rai  http://www.imdb.com/name/nm2399862/   \n",
       "2         NaN  Aaron Schneider  http://www.imdb.com/name/nm0773689/   \n",
       "\n",
       "  dateofbirth placeofbirth                                            minibio  \\\n",
       "0                           A.R. Murugadoss is a writer and director, know...   \n",
       "1                           Aanand L. Rai is a Hindi film director and pro...   \n",
       "2                           Aaron Schneider is known for his work onTwo So...   \n",
       "\n",
       "                                              trivia  race gender  Domestic  \\\n",
       "0                                                      NaN    NaN         0   \n",
       "1                                                      NaN   male         0   \n",
       "2  Member of the American Society of Cinematograp...   NaN   male         1   \n",
       "\n",
       "                                             bio_url  tell_gender_fromText  \\\n",
       "0  https://www.imdb.com/name/nm1436693/bio?ref_=n...                     0   \n",
       "1  https://www.imdb.com/name/nm2399862/bio?ref_=n...                     1   \n",
       "2  https://www.imdb.com/name/nm0773689/bio?ref_=n...                     1   \n",
       "\n",
       "  gender2  \n",
       "0     NaN  \n",
       "1    male  \n",
       "2    male  "
      ]
     },
     "execution_count": 14,
     "metadata": {},
     "output_type": "execute_result"
    }
   ],
   "source": [
    "bio_url_total = pd.read_csv('bio_url_total.csv')\n",
    "bio_url_total.head(3)"
   ]
  },
  {
   "cell_type": "code",
   "execution_count": 15,
   "metadata": {},
   "outputs": [
    {
     "name": "stdout",
     "output_type": "stream",
     "text": [
      "don't match gender number:  416\n",
      "can't deduce gender number:  220\n"
     ]
    }
   ],
   "source": [
    "cant_deduce = len(bio_url_total[bio_url_total['tell_gender_fromText'] == 0])\n",
    "dont_match = len(bio_url_total[bio_url_total['gender'] != bio_url_total['gender2']])\n",
    "print(\"don't match gender number: \", dont_match)\n",
    "print(\"can't deduce gender number: \", cant_deduce)"
   ]
  },
  {
   "cell_type": "code",
   "execution_count": 16,
   "metadata": {},
   "outputs": [],
   "source": [
    "# filter out all these cant_deduce and dont_match information\n",
    "# re-estimate according to the majority of gender_dic appearance\n",
    "cant_deduce_set = bio_url_total[bio_url_total['tell_gender_fromText'] == 0]\n",
    "dont_match_set = bio_url_total[bio_url_total['gender'] != bio_url_total['gender2']]\n",
    "\n",
    "re_estimate_set = pd.concat([cant_deduce_set, dont_match_set], axis=0).drop_duplicates(keep='first')\n",
    "re_estimate_set = re_estimate_set[~re_estimate_set['bio_url'].isnull()].reset_index(drop=True)\n",
    "not_re_estimate_set = pd.concat([bio_url_total, re_estimate_set]).drop_duplicates(keep=False).reset_index(drop=True)"
   ]
  },
  {
   "cell_type": "code",
   "execution_count": 17,
   "metadata": {},
   "outputs": [
    {
     "name": "stdout",
     "output_type": "stream",
     "text": [
      "1096\n",
      "341\n"
     ]
    }
   ],
   "source": [
    "print(len(not_re_estimate_set))\n",
    "print(len(re_estimate_set))"
   ]
  },
  {
   "cell_type": "code",
   "execution_count": 18,
   "metadata": {},
   "outputs": [
    {
     "data": {
      "text/html": [
       "<div>\n",
       "<style scoped>\n",
       "    .dataframe tbody tr th:only-of-type {\n",
       "        vertical-align: middle;\n",
       "    }\n",
       "\n",
       "    .dataframe tbody tr th {\n",
       "        vertical-align: top;\n",
       "    }\n",
       "\n",
       "    .dataframe thead th {\n",
       "        text-align: right;\n",
       "    }\n",
       "</style>\n",
       "<table border=\"1\" class=\"dataframe\">\n",
       "  <thead>\n",
       "    <tr style=\"text-align: right;\">\n",
       "      <th></th>\n",
       "      <th>photoimage</th>\n",
       "      <th>actorname</th>\n",
       "      <th>actorimdb</th>\n",
       "      <th>dateofbirth</th>\n",
       "      <th>placeofbirth</th>\n",
       "      <th>minibio</th>\n",
       "      <th>trivia</th>\n",
       "      <th>race</th>\n",
       "      <th>gender</th>\n",
       "      <th>Domestic</th>\n",
       "      <th>bio_url</th>\n",
       "      <th>tell_gender_fromText</th>\n",
       "      <th>gender2</th>\n",
       "    </tr>\n",
       "  </thead>\n",
       "  <tbody>\n",
       "    <tr>\n",
       "      <th>0</th>\n",
       "      <td>NaN</td>\n",
       "      <td>A.R. Murugadoss</td>\n",
       "      <td>http://www.imdb.com/name/nm1436693/</td>\n",
       "      <td></td>\n",
       "      <td></td>\n",
       "      <td>A.R. Murugadoss is a writer and director, know...</td>\n",
       "      <td></td>\n",
       "      <td>NaN</td>\n",
       "      <td>NaN</td>\n",
       "      <td>0</td>\n",
       "      <td>https://www.imdb.com/name/nm1436693/bio?ref_=n...</td>\n",
       "      <td>0</td>\n",
       "      <td>NaN</td>\n",
       "    </tr>\n",
       "    <tr>\n",
       "      <th>1</th>\n",
       "      <td>NaN</td>\n",
       "      <td>Abhinav Kashyap</td>\n",
       "      <td>http://www.imdb.com/name/nm3508781/</td>\n",
       "      <td></td>\n",
       "      <td></td>\n",
       "      <td>Abhinav Kashyap is a writer and director, know...</td>\n",
       "      <td>Brother of noted director Anurag Kashyap.</td>\n",
       "      <td>NaN</td>\n",
       "      <td>NaN</td>\n",
       "      <td>0</td>\n",
       "      <td>https://www.imdb.com/name/nm3508781/bio?ref_=n...</td>\n",
       "      <td>0</td>\n",
       "      <td>NaN</td>\n",
       "    </tr>\n",
       "    <tr>\n",
       "      <th>2</th>\n",
       "      <td>NaN</td>\n",
       "      <td>Abhinay Deo</td>\n",
       "      <td>http://www.imdb.com/name/nm3218978/</td>\n",
       "      <td></td>\n",
       "      <td></td>\n",
       "      <td>Abhinay Deo is a director and producer, known ...</td>\n",
       "      <td>Brother of Ajinkya Deo./Son of Ramesh Deo and ...</td>\n",
       "      <td>NaN</td>\n",
       "      <td>NaN</td>\n",
       "      <td>0</td>\n",
       "      <td>https://www.imdb.com/name/nm3218978/bio?ref_=n...</td>\n",
       "      <td>0</td>\n",
       "      <td>NaN</td>\n",
       "    </tr>\n",
       "  </tbody>\n",
       "</table>\n",
       "</div>"
      ],
      "text/plain": [
       "   photoimage        actorname                            actorimdb  \\\n",
       "0         NaN  A.R. Murugadoss  http://www.imdb.com/name/nm1436693/   \n",
       "1         NaN  Abhinav Kashyap  http://www.imdb.com/name/nm3508781/   \n",
       "2         NaN      Abhinay Deo  http://www.imdb.com/name/nm3218978/   \n",
       "\n",
       "  dateofbirth placeofbirth                                            minibio  \\\n",
       "0                           A.R. Murugadoss is a writer and director, know...   \n",
       "1                           Abhinav Kashyap is a writer and director, know...   \n",
       "2                           Abhinay Deo is a director and producer, known ...   \n",
       "\n",
       "                                              trivia  race gender  Domestic  \\\n",
       "0                                                      NaN    NaN         0   \n",
       "1          Brother of noted director Anurag Kashyap.   NaN    NaN         0   \n",
       "2  Brother of Ajinkya Deo./Son of Ramesh Deo and ...   NaN    NaN         0   \n",
       "\n",
       "                                             bio_url  tell_gender_fromText  \\\n",
       "0  https://www.imdb.com/name/nm1436693/bio?ref_=n...                     0   \n",
       "1  https://www.imdb.com/name/nm3508781/bio?ref_=n...                     0   \n",
       "2  https://www.imdb.com/name/nm3218978/bio?ref_=n...                     0   \n",
       "\n",
       "  gender2  \n",
       "0     NaN  \n",
       "1     NaN  \n",
       "2     NaN  "
      ]
     },
     "execution_count": 18,
     "metadata": {},
     "output_type": "execute_result"
    }
   ],
   "source": [
    "re_estimate_set.head(3)"
   ]
  },
  {
   "cell_type": "code",
   "execution_count": 19,
   "metadata": {},
   "outputs": [
    {
     "data": {
      "text/html": [
       "<div>\n",
       "<style scoped>\n",
       "    .dataframe tbody tr th:only-of-type {\n",
       "        vertical-align: middle;\n",
       "    }\n",
       "\n",
       "    .dataframe tbody tr th {\n",
       "        vertical-align: top;\n",
       "    }\n",
       "\n",
       "    .dataframe thead th {\n",
       "        text-align: right;\n",
       "    }\n",
       "</style>\n",
       "<table border=\"1\" class=\"dataframe\">\n",
       "  <thead>\n",
       "    <tr style=\"text-align: right;\">\n",
       "      <th></th>\n",
       "      <th>photoimage</th>\n",
       "      <th>actorname</th>\n",
       "      <th>actorimdb</th>\n",
       "      <th>dateofbirth</th>\n",
       "      <th>placeofbirth</th>\n",
       "      <th>minibio</th>\n",
       "      <th>trivia</th>\n",
       "      <th>race</th>\n",
       "      <th>gender</th>\n",
       "      <th>Domestic</th>\n",
       "      <th>bio_url</th>\n",
       "      <th>tell_gender_fromText</th>\n",
       "      <th>gender2</th>\n",
       "    </tr>\n",
       "  </thead>\n",
       "  <tbody>\n",
       "    <tr>\n",
       "      <th>0</th>\n",
       "      <td>NaN</td>\n",
       "      <td>Aanand Rai</td>\n",
       "      <td>http://www.imdb.com/name/nm2399862/</td>\n",
       "      <td></td>\n",
       "      <td></td>\n",
       "      <td>Aanand L. Rai is a Hindi film director and pro...</td>\n",
       "      <td></td>\n",
       "      <td>NaN</td>\n",
       "      <td>male</td>\n",
       "      <td>0</td>\n",
       "      <td>https://www.imdb.com/name/nm2399862/bio?ref_=n...</td>\n",
       "      <td>1</td>\n",
       "      <td>male</td>\n",
       "    </tr>\n",
       "    <tr>\n",
       "      <th>1</th>\n",
       "      <td>NaN</td>\n",
       "      <td>Aaron Schneider</td>\n",
       "      <td>http://www.imdb.com/name/nm0773689/</td>\n",
       "      <td></td>\n",
       "      <td></td>\n",
       "      <td>Aaron Schneider is known for his work onTwo So...</td>\n",
       "      <td>Member of the American Society of Cinematograp...</td>\n",
       "      <td>NaN</td>\n",
       "      <td>male</td>\n",
       "      <td>1</td>\n",
       "      <td>https://www.imdb.com/name/nm0773689/bio?ref_=n...</td>\n",
       "      <td>1</td>\n",
       "      <td>male</td>\n",
       "    </tr>\n",
       "    <tr>\n",
       "      <th>2</th>\n",
       "      <td>NaN</td>\n",
       "      <td>Abbas Alibhai Burmawalla</td>\n",
       "      <td>http://www.imdb.com/name/nm0122216/</td>\n",
       "      <td></td>\n",
       "      <td></td>\n",
       "      <td>Abbas Alibhai Burmawalla is a director and pro...</td>\n",
       "      <td>The name Abbas-Mastan is used for films co-dir...</td>\n",
       "      <td>NaN</td>\n",
       "      <td>male</td>\n",
       "      <td>0</td>\n",
       "      <td>https://www.imdb.com/name/nm0122216/bio?ref_=n...</td>\n",
       "      <td>1</td>\n",
       "      <td>male</td>\n",
       "    </tr>\n",
       "  </tbody>\n",
       "</table>\n",
       "</div>"
      ],
      "text/plain": [
       "   photoimage                 actorname                            actorimdb  \\\n",
       "0         NaN                Aanand Rai  http://www.imdb.com/name/nm2399862/   \n",
       "1         NaN           Aaron Schneider  http://www.imdb.com/name/nm0773689/   \n",
       "2         NaN  Abbas Alibhai Burmawalla  http://www.imdb.com/name/nm0122216/   \n",
       "\n",
       "  dateofbirth placeofbirth                                            minibio  \\\n",
       "0                           Aanand L. Rai is a Hindi film director and pro...   \n",
       "1                           Aaron Schneider is known for his work onTwo So...   \n",
       "2                           Abbas Alibhai Burmawalla is a director and pro...   \n",
       "\n",
       "                                              trivia  race gender  Domestic  \\\n",
       "0                                                      NaN   male         0   \n",
       "1  Member of the American Society of Cinematograp...   NaN   male         1   \n",
       "2  The name Abbas-Mastan is used for films co-dir...   NaN   male         0   \n",
       "\n",
       "                                             bio_url  tell_gender_fromText  \\\n",
       "0  https://www.imdb.com/name/nm2399862/bio?ref_=n...                     1   \n",
       "1  https://www.imdb.com/name/nm0773689/bio?ref_=n...                     1   \n",
       "2  https://www.imdb.com/name/nm0122216/bio?ref_=n...                     1   \n",
       "\n",
       "  gender2  \n",
       "0    male  \n",
       "1    male  \n",
       "2    male  "
      ]
     },
     "execution_count": 19,
     "metadata": {},
     "output_type": "execute_result"
    }
   ],
   "source": [
    "not_re_estimate_set.head(3)"
   ]
  },
  {
   "cell_type": "code",
   "execution_count": 24,
   "metadata": {},
   "outputs": [],
   "source": [
    "# find the majority\n",
    "def tell_gender_majority(num):\n",
    "    # read text from two\n",
    "    bio_ = re_estimate_set['minibio'][num]\n",
    "    trivia_ = re_estimate_set['trivia'][num] \n",
    "    \n",
    "    # lower chars and store words into list\n",
    "    bio_ = str(bio_)\n",
    "    bio_temp = bio_.lower().split()\n",
    "    if trivia_ != \" \":\n",
    "        trivia_temp = kick_out_special_char(trivia_).split()\n",
    "        temp = bio_temp + trivia_temp\n",
    "    else:\n",
    "        temp = bio_temp\n",
    "    # check\n",
    "    find = 0\n",
    "    gender_male = 0\n",
    "    gender_female = 0\n",
    "    \n",
    "    for item in female_dic:\n",
    "        gender_female = gender_female + temp.count(item)\n",
    "    for item in male_dic:\n",
    "        gender_male = gender_male + temp.count(item)\n",
    "    \n",
    "    if gender_male > gender_female:\n",
    "        find = 1\n",
    "        gender = \"male\"\n",
    "    elif gender_male < gender_female:\n",
    "        find = 1\n",
    "        gender = \"female\"\n",
    "    else:\n",
    "        gender = np.nan\n",
    "    \n",
    "    return find, gender"
   ]
  },
  {
   "cell_type": "code",
   "execution_count": 107,
   "metadata": {},
   "outputs": [
    {
     "name": "stdout",
     "output_type": "stream",
     "text": [
      "0\n",
      "100\n",
      "200\n",
      "300\n"
     ]
    }
   ],
   "source": [
    "not_re_estimate_set['gender_majority'] = not_re_estimate_set['gender']\n",
    "re_estimate_set['gender_majority'] = np.nan\n",
    "\n",
    "for i in range(len(re_estimate_set)):\n",
    "    find_or_not, gender_info = tell_gender_majority(i)\n",
    "    re_estimate_set['gender_majority'][i] = gender_info\n",
    "    if i%100 == 0:\n",
    "        print(i)"
   ]
  },
  {
   "cell_type": "code",
   "execution_count": 110,
   "metadata": {},
   "outputs": [],
   "source": [
    "bio_url_total_gender = pd.concat([not_re_estimate_set, re_estimate_set]).drop_duplicates(keep='first').reset_index(drop=True)\n",
    "bio_url_total_gender.to_csv(\"bio_url_total_gender.csv\")"
   ]
  },
  {
   "cell_type": "code",
   "execution_count": 20,
   "metadata": {},
   "outputs": [
    {
     "data": {
      "text/html": [
       "<div>\n",
       "<style scoped>\n",
       "    .dataframe tbody tr th:only-of-type {\n",
       "        vertical-align: middle;\n",
       "    }\n",
       "\n",
       "    .dataframe tbody tr th {\n",
       "        vertical-align: top;\n",
       "    }\n",
       "\n",
       "    .dataframe thead th {\n",
       "        text-align: right;\n",
       "    }\n",
       "</style>\n",
       "<table border=\"1\" class=\"dataframe\">\n",
       "  <thead>\n",
       "    <tr style=\"text-align: right;\">\n",
       "      <th></th>\n",
       "      <th>photoimage</th>\n",
       "      <th>actorname</th>\n",
       "      <th>actorimdb</th>\n",
       "      <th>dateofbirth</th>\n",
       "      <th>placeofbirth</th>\n",
       "      <th>minibio</th>\n",
       "      <th>trivia</th>\n",
       "      <th>race</th>\n",
       "      <th>gender</th>\n",
       "      <th>Domestic</th>\n",
       "      <th>bio_url</th>\n",
       "      <th>tell_gender_fromText</th>\n",
       "      <th>gender2</th>\n",
       "      <th>gender_majority</th>\n",
       "    </tr>\n",
       "  </thead>\n",
       "  <tbody>\n",
       "    <tr>\n",
       "      <th>0</th>\n",
       "      <td>NaN</td>\n",
       "      <td>Aanand Rai</td>\n",
       "      <td>http://www.imdb.com/name/nm2399862/</td>\n",
       "      <td></td>\n",
       "      <td></td>\n",
       "      <td>Aanand L. Rai is a Hindi film director and pro...</td>\n",
       "      <td></td>\n",
       "      <td>NaN</td>\n",
       "      <td>male</td>\n",
       "      <td>0</td>\n",
       "      <td>https://www.imdb.com/name/nm2399862/bio?ref_=n...</td>\n",
       "      <td>1</td>\n",
       "      <td>male</td>\n",
       "      <td>male</td>\n",
       "    </tr>\n",
       "    <tr>\n",
       "      <th>1</th>\n",
       "      <td>NaN</td>\n",
       "      <td>Aaron Schneider</td>\n",
       "      <td>http://www.imdb.com/name/nm0773689/</td>\n",
       "      <td></td>\n",
       "      <td></td>\n",
       "      <td>Aaron Schneider is known for his work onTwo So...</td>\n",
       "      <td>Member of the American Society of Cinematograp...</td>\n",
       "      <td>NaN</td>\n",
       "      <td>male</td>\n",
       "      <td>1</td>\n",
       "      <td>https://www.imdb.com/name/nm0773689/bio?ref_=n...</td>\n",
       "      <td>1</td>\n",
       "      <td>male</td>\n",
       "      <td>male</td>\n",
       "    </tr>\n",
       "    <tr>\n",
       "      <th>2</th>\n",
       "      <td>NaN</td>\n",
       "      <td>Abbas Alibhai Burmawalla</td>\n",
       "      <td>http://www.imdb.com/name/nm0122216/</td>\n",
       "      <td></td>\n",
       "      <td></td>\n",
       "      <td>Abbas Alibhai Burmawalla is a director and pro...</td>\n",
       "      <td>The name Abbas-Mastan is used for films co-dir...</td>\n",
       "      <td>NaN</td>\n",
       "      <td>male</td>\n",
       "      <td>0</td>\n",
       "      <td>https://www.imdb.com/name/nm0122216/bio?ref_=n...</td>\n",
       "      <td>1</td>\n",
       "      <td>male</td>\n",
       "      <td>male</td>\n",
       "    </tr>\n",
       "  </tbody>\n",
       "</table>\n",
       "</div>"
      ],
      "text/plain": [
       "   photoimage                 actorname                            actorimdb  \\\n",
       "0         NaN                Aanand Rai  http://www.imdb.com/name/nm2399862/   \n",
       "1         NaN           Aaron Schneider  http://www.imdb.com/name/nm0773689/   \n",
       "2         NaN  Abbas Alibhai Burmawalla  http://www.imdb.com/name/nm0122216/   \n",
       "\n",
       "  dateofbirth placeofbirth                                            minibio  \\\n",
       "0                           Aanand L. Rai is a Hindi film director and pro...   \n",
       "1                           Aaron Schneider is known for his work onTwo So...   \n",
       "2                           Abbas Alibhai Burmawalla is a director and pro...   \n",
       "\n",
       "                                              trivia  race gender  Domestic  \\\n",
       "0                                                      NaN   male         0   \n",
       "1  Member of the American Society of Cinematograp...   NaN   male         1   \n",
       "2  The name Abbas-Mastan is used for films co-dir...   NaN   male         0   \n",
       "\n",
       "                                             bio_url  tell_gender_fromText  \\\n",
       "0  https://www.imdb.com/name/nm2399862/bio?ref_=n...                     1   \n",
       "1  https://www.imdb.com/name/nm0773689/bio?ref_=n...                     1   \n",
       "2  https://www.imdb.com/name/nm0122216/bio?ref_=n...                     1   \n",
       "\n",
       "  gender2 gender_majority  \n",
       "0    male            male  \n",
       "1    male            male  \n",
       "2    male            male  "
      ]
     },
     "execution_count": 20,
     "metadata": {},
     "output_type": "execute_result"
    }
   ],
   "source": [
    "bio_url_total_gender = pd.read_csv(\"bio_url_total_gender.csv\")\n",
    "bio_url_total_gender.head(3)"
   ]
  },
  {
   "cell_type": "markdown",
   "metadata": {},
   "source": [
    "## Scrap Book My Show website url address"
   ]
  },
  {
   "cell_type": "code",
   "execution_count": null,
   "metadata": {},
   "outputs": [],
   "source": [
    "# !pip install webdriver-manager"
   ]
  },
  {
   "cell_type": "code",
   "execution_count": 3,
   "metadata": {},
   "outputs": [],
   "source": [
    "# web driver\n",
    "from selenium import webdriver\n",
    "from selenium.webdriver.common.keys import Keys\n",
    "import time\n",
    "from webdriver_manager.chrome import ChromeDriverManager\n",
    "\n",
    "# automatic scrap\n",
    "import re\n",
    "from threading import Thread\n",
    "import requests\n",
    "\n",
    "# google search prepared for book my view\n",
    "import google\n",
    "from googlesearch import search"
   ]
  },
  {
   "cell_type": "code",
   "execution_count": null,
   "metadata": {},
   "outputs": [],
   "source": [
    "# set the url to the website and access the site with our requests library\n",
    "url = bio_url_total_domestic['actorimdb'][0]\n",
    "response = requests.get(url)\n",
    "soup = BeautifulSoup(response.text, \"html.parser\")\n",
    "# print soup to show the nested data structure\n",
    "# soup\n",
    "print(url)\n",
    "print(soup)\n",
    "print(soup.findAll('a'))\n",
    "# all_image = soup.find_all('img')\n",
    "# print(all_image)"
   ]
  },
  {
   "cell_type": "code",
   "execution_count": 25,
   "metadata": {},
   "outputs": [
    {
     "data": {
      "text/plain": [
       "[<input autocomplete=\"search-box\" class=\"search-box typeahead\" id=\"input-search-box\" name=\"inputSearchBox\" onfocus=\"BMS.Misc.fnTriggerQuickbook();\" placeholder=\"Search for Movies, Events, Plays, Sports and Activities\" type=\"text\">\n",
       " </input>,\n",
       " <input class=\"search-box typeahead\" placeholder=\"Search for Movies, Events, Plays, Sports, Activities\" type=\"text\">\n",
       " <span class=\"search-list-icon\" id=\"search-list-icon\">\n",
       " <svg enable-background=\"new 0 0 100 100\" version=\"1.1\" viewbox=\"0 0 100 100\" x=\"0px\" xml:space=\"preserve\" xmlns=\"http://www.w3.org/2000/svg\" xmlns:xlink=\"http://www.w3.org/1999/xlink\" y=\"0px\">\n",
       " <use xlink:href=\"/icons/common-icons.svg#icon-list\"></use>\n",
       " </svg>\n",
       " </span>\n",
       " <!-- <div class=\"qb-region none\">\n",
       " \t\t\t<a class=\"location\" id=\"qb-region-link\">\n",
       " \t          <span class=\"icon-location\">\n",
       " \t            <svg version=\"1.1\" xmlns=\"http://www.w3.org/2000/svg\" xmlns:xlink=\"http://www.w3.org/1999/xlink\" x=\"0px\" y=\"0px\" viewBox=\"0 0 100 100\" enable-background=\"new 0 0 100 100\" xml:space=\"preserve\">\n",
       " \t              <use xlink:href=\"/icons/common-icons.svg#icon-location\"></use>\n",
       " \t            </svg>\n",
       " \t          </span>\n",
       " \t          <span class=\"region-name\"></span>\n",
       " \t        </a>\n",
       " \t\t</div> -->\n",
       " </input>]"
      ]
     },
     "execution_count": 25,
     "metadata": {},
     "output_type": "execute_result"
    }
   ],
   "source": [
    "tar_url = \"https://in.bookmyshow.com/hyderabad#!quickbook\"\n",
    "# tar_url = \"https://email.itd.uts.edu.au/webapps/directory/byname/index.mason\"\n",
    "response = requests.get(tar_url)\n",
    "soup = BeautifulSoup(response.text, \"html.parser\")\n",
    "soup.find_all('input', {\"class\": {\"search-box typeahead\"}})"
   ]
  },
  {
   "cell_type": "code",
   "execution_count": 26,
   "metadata": {},
   "outputs": [
    {
     "data": {
      "text/plain": [
       "[<input id=\"searchstring\" name=\"searchstring\" size=\"30\" type=\"text\"/>,\n",
       " <input name=\".submit\" type=\"submit\" value=\"Search\"/>,\n",
       " <input name=\"search_within\" type=\"checkbox\" value=\"1\"/>,\n",
       " <input name=\"submittingsearch\" type=\"hidden\" value=\"1\"/>]"
      ]
     },
     "execution_count": 26,
     "metadata": {},
     "output_type": "execute_result"
    }
   ],
   "source": [
    "# example provide available url\n",
    "tar_url = \"https://email.itd.uts.edu.au/webapps/directory/byname/index.mason\"\n",
    "# provide all needed information to decide url-text information\n",
    "data = {'searchfield': 'cn',\n",
    "        'searchoption': 'Contains',\n",
    "        'searchstring': 'Michael',\n",
    "        '.submit': 'Search',\n",
    "        'submittingsearch': '1'}\n",
    "# page_content = requests.post(url=tar_url, data=data)\n",
    "\n",
    "response = requests.get(tar_url)\n",
    "soup = BeautifulSoup(response.text, \"html.parser\")\n",
    "soup.find_all('input')"
   ]
  },
  {
   "cell_type": "code",
   "execution_count": 104,
   "metadata": {},
   "outputs": [
    {
     "name": "stdout",
     "output_type": "stream",
     "text": [
      "Collecting google\n",
      "  Downloading https://files.pythonhosted.org/packages/34/4c/9bc51ae2611e5893ff45f8972f20dd7c8408eb5d706a541182ac2da3b0b7/google-2.0.2.tar.gz (45kB)\n",
      "Requirement already satisfied: beautifulsoup4 in c:\\users\\tk\\anaconda\\lib\\site-packages (from google)\n",
      "Building wheels for collected packages: google\n",
      "  Running setup.py bdist_wheel for google: started\n",
      "  Running setup.py bdist_wheel for google: finished with status 'done'\n",
      "  Stored in directory: C:\\Users\\TK\\AppData\\Local\\pip\\Cache\\wheels\\ac\\25\\a4\\837e13b998311f9824965755f86ecf69ef9ee1a7db10834cfc\n",
      "Successfully built google\n",
      "Installing collected packages: google\n",
      "Successfully installed google-2.0.2\n"
     ]
    },
    {
     "name": "stderr",
     "output_type": "stream",
     "text": [
      "You are using pip version 9.0.3, however version 19.0.3 is available.\n",
      "You should consider upgrading via the 'python -m pip install --upgrade pip' command.\n"
     ]
    }
   ],
   "source": [
    "# !pip install google"
   ]
  },
  {
   "cell_type": "code",
   "execution_count": 27,
   "metadata": {},
   "outputs": [
    {
     "data": {
      "text/html": [
       "<div>\n",
       "<style scoped>\n",
       "    .dataframe tbody tr th:only-of-type {\n",
       "        vertical-align: middle;\n",
       "    }\n",
       "\n",
       "    .dataframe tbody tr th {\n",
       "        vertical-align: top;\n",
       "    }\n",
       "\n",
       "    .dataframe thead th {\n",
       "        text-align: right;\n",
       "    }\n",
       "</style>\n",
       "<table border=\"1\" class=\"dataframe\">\n",
       "  <thead>\n",
       "    <tr style=\"text-align: right;\">\n",
       "      <th></th>\n",
       "      <th>photoimage</th>\n",
       "      <th>actorname</th>\n",
       "      <th>actorimdb</th>\n",
       "      <th>dateofbirth</th>\n",
       "      <th>placeofbirth</th>\n",
       "      <th>minibio</th>\n",
       "      <th>trivia</th>\n",
       "      <th>race</th>\n",
       "      <th>gender</th>\n",
       "      <th>Domestic</th>\n",
       "      <th>bio_url</th>\n",
       "    </tr>\n",
       "  </thead>\n",
       "  <tbody>\n",
       "    <tr>\n",
       "      <th>0</th>\n",
       "      <td>NaN</td>\n",
       "      <td>A.R. Murugadoss</td>\n",
       "      <td>http://www.imdb.com/name/nm1436693/</td>\n",
       "      <td>NaN</td>\n",
       "      <td>NaN</td>\n",
       "      <td>NaN</td>\n",
       "      <td>NaN</td>\n",
       "      <td>NaN</td>\n",
       "      <td>NaN</td>\n",
       "      <td>0</td>\n",
       "      <td>NaN</td>\n",
       "    </tr>\n",
       "    <tr>\n",
       "      <th>1</th>\n",
       "      <td>NaN</td>\n",
       "      <td>Aanand Rai</td>\n",
       "      <td>http://www.imdb.com/name/nm2399862/</td>\n",
       "      <td>NaN</td>\n",
       "      <td>NaN</td>\n",
       "      <td>NaN</td>\n",
       "      <td>NaN</td>\n",
       "      <td>NaN</td>\n",
       "      <td>NaN</td>\n",
       "      <td>0</td>\n",
       "      <td>NaN</td>\n",
       "    </tr>\n",
       "    <tr>\n",
       "      <th>2</th>\n",
       "      <td>NaN</td>\n",
       "      <td>Aaron Schneider</td>\n",
       "      <td>http://www.imdb.com/name/nm0773689/</td>\n",
       "      <td>NaN</td>\n",
       "      <td>NaN</td>\n",
       "      <td>NaN</td>\n",
       "      <td>NaN</td>\n",
       "      <td>NaN</td>\n",
       "      <td>NaN</td>\n",
       "      <td>1</td>\n",
       "      <td>NaN</td>\n",
       "    </tr>\n",
       "  </tbody>\n",
       "</table>\n",
       "</div>"
      ],
      "text/plain": [
       "   photoimage        actorname                            actorimdb  \\\n",
       "0         NaN  A.R. Murugadoss  http://www.imdb.com/name/nm1436693/   \n",
       "1         NaN       Aanand Rai  http://www.imdb.com/name/nm2399862/   \n",
       "2         NaN  Aaron Schneider  http://www.imdb.com/name/nm0773689/   \n",
       "\n",
       "   dateofbirth  placeofbirth  minibio  trivia  race  gender  Domestic  bio_url  \n",
       "0          NaN           NaN      NaN     NaN   NaN     NaN         0      NaN  \n",
       "1          NaN           NaN      NaN     NaN   NaN     NaN         0      NaN  \n",
       "2          NaN           NaN      NaN     NaN   NaN     NaN         1      NaN  "
      ]
     },
     "execution_count": 27,
     "metadata": {},
     "output_type": "execute_result"
    }
   ],
   "source": [
    "director_table.head(3)"
   ]
  },
  {
   "cell_type": "code",
   "execution_count": 28,
   "metadata": {},
   "outputs": [],
   "source": [
    "director_table_bookmyshow = copy.deepcopy(director_table)\n",
    "# initialize\n",
    "director_table_bookmyshow['keyword'] = np.nan\n",
    "# update keyword in google search\n",
    "director_table_bookmyshow['keyword'] = 'bookmyshow '+ director_table_bookmyshow['actorname']"
   ]
  },
  {
   "cell_type": "code",
   "execution_count": 29,
   "metadata": {},
   "outputs": [
    {
     "data": {
      "text/html": [
       "<div>\n",
       "<style scoped>\n",
       "    .dataframe tbody tr th:only-of-type {\n",
       "        vertical-align: middle;\n",
       "    }\n",
       "\n",
       "    .dataframe tbody tr th {\n",
       "        vertical-align: top;\n",
       "    }\n",
       "\n",
       "    .dataframe thead th {\n",
       "        text-align: right;\n",
       "    }\n",
       "</style>\n",
       "<table border=\"1\" class=\"dataframe\">\n",
       "  <thead>\n",
       "    <tr style=\"text-align: right;\">\n",
       "      <th></th>\n",
       "      <th>photoimage</th>\n",
       "      <th>actorname</th>\n",
       "      <th>actorimdb</th>\n",
       "      <th>dateofbirth</th>\n",
       "      <th>placeofbirth</th>\n",
       "      <th>minibio</th>\n",
       "      <th>trivia</th>\n",
       "      <th>race</th>\n",
       "      <th>gender</th>\n",
       "      <th>Domestic</th>\n",
       "      <th>bio_url</th>\n",
       "      <th>keyword</th>\n",
       "    </tr>\n",
       "  </thead>\n",
       "  <tbody>\n",
       "    <tr>\n",
       "      <th>0</th>\n",
       "      <td>NaN</td>\n",
       "      <td>A.R. Murugadoss</td>\n",
       "      <td>http://www.imdb.com/name/nm1436693/</td>\n",
       "      <td>NaN</td>\n",
       "      <td>NaN</td>\n",
       "      <td>NaN</td>\n",
       "      <td>NaN</td>\n",
       "      <td>NaN</td>\n",
       "      <td>NaN</td>\n",
       "      <td>0</td>\n",
       "      <td>NaN</td>\n",
       "      <td>bookmyshow A.R. Murugadoss</td>\n",
       "    </tr>\n",
       "    <tr>\n",
       "      <th>1</th>\n",
       "      <td>NaN</td>\n",
       "      <td>Aanand Rai</td>\n",
       "      <td>http://www.imdb.com/name/nm2399862/</td>\n",
       "      <td>NaN</td>\n",
       "      <td>NaN</td>\n",
       "      <td>NaN</td>\n",
       "      <td>NaN</td>\n",
       "      <td>NaN</td>\n",
       "      <td>NaN</td>\n",
       "      <td>0</td>\n",
       "      <td>NaN</td>\n",
       "      <td>bookmyshow Aanand Rai</td>\n",
       "    </tr>\n",
       "    <tr>\n",
       "      <th>2</th>\n",
       "      <td>NaN</td>\n",
       "      <td>Aaron Schneider</td>\n",
       "      <td>http://www.imdb.com/name/nm0773689/</td>\n",
       "      <td>NaN</td>\n",
       "      <td>NaN</td>\n",
       "      <td>NaN</td>\n",
       "      <td>NaN</td>\n",
       "      <td>NaN</td>\n",
       "      <td>NaN</td>\n",
       "      <td>1</td>\n",
       "      <td>NaN</td>\n",
       "      <td>bookmyshow Aaron Schneider</td>\n",
       "    </tr>\n",
       "  </tbody>\n",
       "</table>\n",
       "</div>"
      ],
      "text/plain": [
       "   photoimage        actorname                            actorimdb  \\\n",
       "0         NaN  A.R. Murugadoss  http://www.imdb.com/name/nm1436693/   \n",
       "1         NaN       Aanand Rai  http://www.imdb.com/name/nm2399862/   \n",
       "2         NaN  Aaron Schneider  http://www.imdb.com/name/nm0773689/   \n",
       "\n",
       "   dateofbirth  placeofbirth  minibio  trivia  race  gender  Domestic  \\\n",
       "0          NaN           NaN      NaN     NaN   NaN     NaN         0   \n",
       "1          NaN           NaN      NaN     NaN   NaN     NaN         0   \n",
       "2          NaN           NaN      NaN     NaN   NaN     NaN         1   \n",
       "\n",
       "   bio_url                     keyword  \n",
       "0      NaN  bookmyshow A.R. Murugadoss  \n",
       "1      NaN       bookmyshow Aanand Rai  \n",
       "2      NaN  bookmyshow Aaron Schneider  "
      ]
     },
     "execution_count": 29,
     "metadata": {},
     "output_type": "execute_result"
    }
   ],
   "source": [
    "director_table_bookmyshow.head(3)"
   ]
  },
  {
   "cell_type": "code",
   "execution_count": 30,
   "metadata": {},
   "outputs": [
    {
     "data": {
      "text/html": [
       "<div>\n",
       "<style scoped>\n",
       "    .dataframe tbody tr th:only-of-type {\n",
       "        vertical-align: middle;\n",
       "    }\n",
       "\n",
       "    .dataframe tbody tr th {\n",
       "        vertical-align: top;\n",
       "    }\n",
       "\n",
       "    .dataframe thead th {\n",
       "        text-align: right;\n",
       "    }\n",
       "</style>\n",
       "<table border=\"1\" class=\"dataframe\">\n",
       "  <thead>\n",
       "    <tr style=\"text-align: right;\">\n",
       "      <th></th>\n",
       "      <th>photoimage</th>\n",
       "      <th>actorname</th>\n",
       "      <th>actorbookmyshow</th>\n",
       "      <th>dateofbirth</th>\n",
       "      <th>placeofbirth</th>\n",
       "      <th>minibio</th>\n",
       "      <th>trivia</th>\n",
       "      <th>race</th>\n",
       "      <th>gender</th>\n",
       "      <th>Domestic</th>\n",
       "      <th>bio_url</th>\n",
       "      <th>keyword</th>\n",
       "    </tr>\n",
       "  </thead>\n",
       "  <tbody>\n",
       "    <tr>\n",
       "      <th>0</th>\n",
       "      <td>NaN</td>\n",
       "      <td>A.R. Murugadoss</td>\n",
       "      <td>http://www.imdb.com/name/nm1436693/</td>\n",
       "      <td>NaN</td>\n",
       "      <td>NaN</td>\n",
       "      <td>NaN</td>\n",
       "      <td>NaN</td>\n",
       "      <td>NaN</td>\n",
       "      <td>NaN</td>\n",
       "      <td>0</td>\n",
       "      <td>NaN</td>\n",
       "      <td>bookmyshow A.R. Murugadoss</td>\n",
       "    </tr>\n",
       "  </tbody>\n",
       "</table>\n",
       "</div>"
      ],
      "text/plain": [
       "   photoimage        actorname                      actorbookmyshow  \\\n",
       "0         NaN  A.R. Murugadoss  http://www.imdb.com/name/nm1436693/   \n",
       "\n",
       "   dateofbirth  placeofbirth  minibio  trivia  race  gender  Domestic  \\\n",
       "0          NaN           NaN      NaN     NaN   NaN     NaN         0   \n",
       "\n",
       "   bio_url                     keyword  \n",
       "0      NaN  bookmyshow A.R. Murugadoss  "
      ]
     },
     "execution_count": 30,
     "metadata": {},
     "output_type": "execute_result"
    }
   ],
   "source": [
    "# prepare -- change name\n",
    "director_table_bookmyshow.rename(columns={'actorimdb':'actorbookmyshow'}, inplace=True)\n",
    "director_table_bookmyshow.head(1)"
   ]
  },
  {
   "cell_type": "code",
   "execution_count": 149,
   "metadata": {},
   "outputs": [
    {
     "name": "stdout",
     "output_type": "stream",
     "text": [
      "0\n",
      "100\n",
      "200\n",
      "300\n",
      "400\n",
      "500\n",
      "600\n",
      "700\n",
      "800\n",
      "900\n",
      "1000\n",
      "1100\n",
      "1200\n",
      "1300\n",
      "1400\n"
     ]
    }
   ],
   "source": [
    "for i in range(len(director_table_bookmyshow)):\n",
    "    for url in search(director_table_bookmyshow['keyword'][i], tld='com.pk', lang='es', stop=1):\n",
    "        director_table_bookmyshow['actorbookmyshow'][i] = url\n",
    "    if i%100 == 0:\n",
    "        print(i)"
   ]
  },
  {
   "cell_type": "code",
   "execution_count": 150,
   "metadata": {},
   "outputs": [
    {
     "data": {
      "text/html": [
       "<div>\n",
       "<style scoped>\n",
       "    .dataframe tbody tr th:only-of-type {\n",
       "        vertical-align: middle;\n",
       "    }\n",
       "\n",
       "    .dataframe tbody tr th {\n",
       "        vertical-align: top;\n",
       "    }\n",
       "\n",
       "    .dataframe thead th {\n",
       "        text-align: right;\n",
       "    }\n",
       "</style>\n",
       "<table border=\"1\" class=\"dataframe\">\n",
       "  <thead>\n",
       "    <tr style=\"text-align: right;\">\n",
       "      <th></th>\n",
       "      <th>photoimage</th>\n",
       "      <th>actorname</th>\n",
       "      <th>actorbookmyshow</th>\n",
       "      <th>dateofbirth</th>\n",
       "      <th>placeofbirth</th>\n",
       "      <th>minibio</th>\n",
       "      <th>trivia</th>\n",
       "      <th>race</th>\n",
       "      <th>gender</th>\n",
       "      <th>Domestic</th>\n",
       "      <th>bio_url</th>\n",
       "      <th>keyword</th>\n",
       "    </tr>\n",
       "  </thead>\n",
       "  <tbody>\n",
       "    <tr>\n",
       "      <th>0</th>\n",
       "      <td>NaN</td>\n",
       "      <td>A.R. Murugadoss</td>\n",
       "      <td>https://in.bookmyshow.com/entertainment/movies...</td>\n",
       "      <td>NaN</td>\n",
       "      <td>NaN</td>\n",
       "      <td>NaN</td>\n",
       "      <td>NaN</td>\n",
       "      <td>NaN</td>\n",
       "      <td>NaN</td>\n",
       "      <td>0</td>\n",
       "      <td>NaN</td>\n",
       "      <td>bookmyshow A.R. Murugadoss</td>\n",
       "    </tr>\n",
       "    <tr>\n",
       "      <th>1</th>\n",
       "      <td>NaN</td>\n",
       "      <td>Aanand Rai</td>\n",
       "      <td>https://in.bookmyshow.com/person/aanand-l-rai/...</td>\n",
       "      <td>NaN</td>\n",
       "      <td>NaN</td>\n",
       "      <td>NaN</td>\n",
       "      <td>NaN</td>\n",
       "      <td>NaN</td>\n",
       "      <td>NaN</td>\n",
       "      <td>0</td>\n",
       "      <td>NaN</td>\n",
       "      <td>bookmyshow Aanand Rai</td>\n",
       "    </tr>\n",
       "    <tr>\n",
       "      <th>2</th>\n",
       "      <td>NaN</td>\n",
       "      <td>Aaron Schneider</td>\n",
       "      <td>https://en.wikipedia.org/wiki/Aaron_Schneider</td>\n",
       "      <td>NaN</td>\n",
       "      <td>NaN</td>\n",
       "      <td>NaN</td>\n",
       "      <td>NaN</td>\n",
       "      <td>NaN</td>\n",
       "      <td>NaN</td>\n",
       "      <td>1</td>\n",
       "      <td>NaN</td>\n",
       "      <td>bookmyshow Aaron Schneider</td>\n",
       "    </tr>\n",
       "  </tbody>\n",
       "</table>\n",
       "</div>"
      ],
      "text/plain": [
       "   photoimage        actorname  \\\n",
       "0         NaN  A.R. Murugadoss   \n",
       "1         NaN       Aanand Rai   \n",
       "2         NaN  Aaron Schneider   \n",
       "\n",
       "                                     actorbookmyshow  dateofbirth  \\\n",
       "0  https://in.bookmyshow.com/entertainment/movies...          NaN   \n",
       "1  https://in.bookmyshow.com/person/aanand-l-rai/...          NaN   \n",
       "2      https://en.wikipedia.org/wiki/Aaron_Schneider          NaN   \n",
       "\n",
       "   placeofbirth  minibio  trivia  race  gender  Domestic  bio_url  \\\n",
       "0           NaN      NaN     NaN   NaN     NaN         0      NaN   \n",
       "1           NaN      NaN     NaN   NaN     NaN         0      NaN   \n",
       "2           NaN      NaN     NaN   NaN     NaN         1      NaN   \n",
       "\n",
       "                      keyword  \n",
       "0  bookmyshow A.R. Murugadoss  \n",
       "1       bookmyshow Aanand Rai  \n",
       "2  bookmyshow Aaron Schneider  "
      ]
     },
     "execution_count": 150,
     "metadata": {},
     "output_type": "execute_result"
    }
   ],
   "source": [
    "director_table_bookmyshow.head(3)"
   ]
  },
  {
   "cell_type": "code",
   "execution_count": 151,
   "metadata": {},
   "outputs": [],
   "source": [
    "director_table_bookmyshow.to_csv(\"director_table_bookmyshow.csv\", index=False)"
   ]
  },
  {
   "cell_type": "code",
   "execution_count": 31,
   "metadata": {},
   "outputs": [],
   "source": [
    "director_table_bookmyshow = pd.read_csv('director_table_bookmyshow.csv')"
   ]
  },
  {
   "cell_type": "code",
   "execution_count": 32,
   "metadata": {},
   "outputs": [
    {
     "data": {
      "text/html": [
       "<div>\n",
       "<style scoped>\n",
       "    .dataframe tbody tr th:only-of-type {\n",
       "        vertical-align: middle;\n",
       "    }\n",
       "\n",
       "    .dataframe tbody tr th {\n",
       "        vertical-align: top;\n",
       "    }\n",
       "\n",
       "    .dataframe thead th {\n",
       "        text-align: right;\n",
       "    }\n",
       "</style>\n",
       "<table border=\"1\" class=\"dataframe\">\n",
       "  <thead>\n",
       "    <tr style=\"text-align: right;\">\n",
       "      <th></th>\n",
       "      <th>photoimage</th>\n",
       "      <th>actorname</th>\n",
       "      <th>actorbookmyshow</th>\n",
       "      <th>dateofbirth</th>\n",
       "      <th>placeofbirth</th>\n",
       "      <th>minibio</th>\n",
       "      <th>trivia</th>\n",
       "      <th>race</th>\n",
       "      <th>gender</th>\n",
       "      <th>Domestic</th>\n",
       "      <th>bio_url</th>\n",
       "      <th>keyword</th>\n",
       "    </tr>\n",
       "  </thead>\n",
       "  <tbody>\n",
       "    <tr>\n",
       "      <th>0</th>\n",
       "      <td>NaN</td>\n",
       "      <td>A.R. Murugadoss</td>\n",
       "      <td>https://in.bookmyshow.com/person/ar-murugadoss...</td>\n",
       "      <td>NaN</td>\n",
       "      <td>NaN</td>\n",
       "      <td>NaN</td>\n",
       "      <td>NaN</td>\n",
       "      <td>NaN</td>\n",
       "      <td>NaN</td>\n",
       "      <td>0</td>\n",
       "      <td>NaN</td>\n",
       "      <td>bookmyshow A.R. Murugadoss</td>\n",
       "    </tr>\n",
       "    <tr>\n",
       "      <th>1</th>\n",
       "      <td>NaN</td>\n",
       "      <td>Aanand Rai</td>\n",
       "      <td>https://in.bookmyshow.com/person/aanand-l-rai/...</td>\n",
       "      <td>NaN</td>\n",
       "      <td>NaN</td>\n",
       "      <td>NaN</td>\n",
       "      <td>NaN</td>\n",
       "      <td>NaN</td>\n",
       "      <td>NaN</td>\n",
       "      <td>0</td>\n",
       "      <td>NaN</td>\n",
       "      <td>bookmyshow Aanand Rai</td>\n",
       "    </tr>\n",
       "    <tr>\n",
       "      <th>2</th>\n",
       "      <td>NaN</td>\n",
       "      <td>Aaron Schneider</td>\n",
       "      <td>https://in.bookmyshow.com/person/aaron-schneid...</td>\n",
       "      <td>NaN</td>\n",
       "      <td>NaN</td>\n",
       "      <td>NaN</td>\n",
       "      <td>NaN</td>\n",
       "      <td>NaN</td>\n",
       "      <td>NaN</td>\n",
       "      <td>1</td>\n",
       "      <td>NaN</td>\n",
       "      <td>bookmyshow Aaron Schneider</td>\n",
       "    </tr>\n",
       "  </tbody>\n",
       "</table>\n",
       "</div>"
      ],
      "text/plain": [
       "   photoimage        actorname  \\\n",
       "0         NaN  A.R. Murugadoss   \n",
       "1         NaN       Aanand Rai   \n",
       "2         NaN  Aaron Schneider   \n",
       "\n",
       "                                     actorbookmyshow  dateofbirth  \\\n",
       "0  https://in.bookmyshow.com/person/ar-murugadoss...          NaN   \n",
       "1  https://in.bookmyshow.com/person/aanand-l-rai/...          NaN   \n",
       "2  https://in.bookmyshow.com/person/aaron-schneid...          NaN   \n",
       "\n",
       "   placeofbirth  minibio  trivia  race  gender  Domestic  bio_url  \\\n",
       "0           NaN      NaN     NaN   NaN     NaN         0      NaN   \n",
       "1           NaN      NaN     NaN   NaN     NaN         0      NaN   \n",
       "2           NaN      NaN     NaN   NaN     NaN         1      NaN   \n",
       "\n",
       "                      keyword  \n",
       "0  bookmyshow A.R. Murugadoss  \n",
       "1       bookmyshow Aanand Rai  \n",
       "2  bookmyshow Aaron Schneider  "
      ]
     },
     "execution_count": 32,
     "metadata": {},
     "output_type": "execute_result"
    }
   ],
   "source": [
    "director_table_bookmyshow.head(3)"
   ]
  },
  {
   "cell_type": "code",
   "execution_count": 33,
   "metadata": {},
   "outputs": [
    {
     "name": "stdout",
     "output_type": "stream",
     "text": [
      "can not find at the first url address:  684\n",
      "not exist in the book my show:  79\n",
      "updated book_doublecheck length:  605\n"
     ]
    }
   ],
   "source": [
    "# check whether all actorbookmyshow are correct url address to use\n",
    "\n",
    "# fail to fill in correct book my show url for the first time\n",
    "book_doublecheck = director_table_bookmyshow[~director_table_bookmyshow['actorbookmyshow'].str.\n",
    "                                  contains('https://in.bookmyshow.com/person/')]\n",
    "book_doublecheck = book_doublecheck[~book_doublecheck['actorbookmyshow'].str.\n",
    "                                  contains('https://id.bookmyshow.com/person/')]\n",
    "print(\"can not find at the first url address: \", len(book_doublecheck))\n",
    "\n",
    "# found book my show but no director information\n",
    "lack_part1 =  book_doublecheck[book_doublecheck['actorbookmyshow'].str.\n",
    "                                  contains('https://in.bookmyshow.com/')]\n",
    "# delete lack_part1 and update book_doublecheck\n",
    "book_doublecheck = pd.concat([book_doublecheck, lack_part1]).drop_duplicates(keep=False).reset_index(drop=True)\n",
    "\n",
    "print(\"not exist in the book my show: \", len(lack_part1))\n",
    "print(\"updated book_doublecheck length: \", len(book_doublecheck))"
   ]
  },
  {
   "cell_type": "code",
   "execution_count": 49,
   "metadata": {},
   "outputs": [
    {
     "name": "stdout",
     "output_type": "stream",
     "text": [
      "100\n",
      "200\n",
      "300\n",
      "400\n",
      "500\n",
      "600\n"
     ]
    }
   ],
   "source": [
    "# search again\n",
    "count_show = 0\n",
    "for keyword in book_doublecheck['keyword']:\n",
    "    count_show += 1\n",
    "    for url in search(keyword, tld='com.pk', lang='es', stop=1):\n",
    "        if 'https://in.bookmyshow.com/person/' in url:\n",
    "            index = director_table_bookmyshow[(director_table_bookmyshow['keyword'] \n",
    "                                               == keyword)].index.tolist()[0]\n",
    "            director_table_bookmyshow['actorbookmyshow'][index] = url\n",
    "        elif 'https://id.bookmyshow.com/person/' in url:\n",
    "            index = director_table_bookmyshow[(director_table_bookmyshow['keyword'] \n",
    "                                               == keyword)].index.tolist()[0]\n",
    "            director_table_bookmyshow['actorbookmyshow'][index] = url\n",
    "    if count_show % 100 == 0:\n",
    "        print(count_show)"
   ]
  },
  {
   "cell_type": "code",
   "execution_count": 34,
   "metadata": {},
   "outputs": [
    {
     "name": "stdout",
     "output_type": "stream",
     "text": [
      "can not find at the first url address:  684\n",
      "not exist in the book my show:  79\n",
      "updated book_doublecheck length:  605\n"
     ]
    }
   ],
   "source": [
    "# fail to fill in correct book my show url for the first time\n",
    "book_doublecheck = director_table_bookmyshow[~director_table_bookmyshow['actorbookmyshow'].str.\n",
    "                                  contains('https://in.bookmyshow.com/person/')]\n",
    "book_doublecheck = book_doublecheck[~book_doublecheck['actorbookmyshow'].str.\n",
    "                                  contains('https://id.bookmyshow.com/person/')]\n",
    "print(\"can not find at the first url address: \", len(book_doublecheck))\n",
    "\n",
    "# found book my show but no director information\n",
    "lack_part1 =  book_doublecheck[book_doublecheck['actorbookmyshow'].str.\n",
    "                                  contains('https://in.bookmyshow.com/')]\n",
    "# delete lack_part1 and update book_doublecheck\n",
    "book_doublecheck = pd.concat([book_doublecheck, lack_part1]).drop_duplicates(keep=False).reset_index(drop=True)\n",
    "\n",
    "print(\"not exist in the book my show: \", len(lack_part1))\n",
    "print(\"updated book_doublecheck length: \", len(book_doublecheck))"
   ]
  },
  {
   "cell_type": "code",
   "execution_count": 51,
   "metadata": {},
   "outputs": [],
   "source": [
    "director_table_bookmyshow.to_csv(\"director_table_bookmyshow.csv\", index=False)"
   ]
  },
  {
   "cell_type": "code",
   "execution_count": 5,
   "metadata": {},
   "outputs": [],
   "source": [
    "director_table_bookmyshow = pd.read_csv('director_table_bookmyshow.csv')\n",
    "director_table_bookmyshow_manu = pd.read_csv('director_table_bookmyshow_manu.csv')"
   ]
  },
  {
   "cell_type": "markdown",
   "metadata": {},
   "source": [
    "## Some problems in Book my show website\n",
    "- Part of these websites provide almost no information thus the first url may return IMDb sometimes even if the keywords have been set to book my show\n",
    "- There are some book my show websites that have been missed but most of them are missed because of too limited information and thus return to IMDb as well. Or IMDb may contain more information although book my show may be good as well\n",
    "- Sometimes the first url may be more reliable source then IMDb or book my show\n",
    "- book my show may provide wrong information sometimes -- born in year 2011\n",
    "- Definitely, IMDb contains almost all directors mentioned above but book my show may provide only part of them"
   ]
  },
  {
   "cell_type": "markdown",
   "metadata": {},
   "source": [
    "## Analysis of the first url source problem\n",
    "- Two available csv files to use: director_table_bookmyshow and director_table_bookmyshow_manu\n",
    "- Difference: manually check those addresses that don't contain 'https://in.bookmyshow.com/person/' or 'https://id.bookmyshow.com/person/'\n",
    "- After checking: the first source from Google Search may be the most reliable. \n",
    "    - Those find IMDb with keyword 'bookmyshow' mean that IMDb provides much more information - rely on IMDb\n",
    "    - Those find other than IMBb or bookmyshow with keyword 'bookmyshow' mean that neither IMDb and bookmyshow provide enough info - either IMDb or bookmyshow would be almost the same\n",
    "    - Those find bookmyshow would be good\n",
    "- Thus it won't influence too much if use director_table_bookmyshow directly. Here we use the updated manually version to continue."
   ]
  },
  {
   "cell_type": "code",
   "execution_count": 6,
   "metadata": {},
   "outputs": [],
   "source": [
    "book_doublecheck_1 = director_table_bookmyshow_manu[director_table_bookmyshow_manu['actorbookmyshow'].str.\n",
    "                                  contains('https://in.bookmyshow.com/person/')]\n",
    "book_doublecheck_2 = director_table_bookmyshow_manu[director_table_bookmyshow_manu['actorbookmyshow'].str.\n",
    "                                  contains('https://id.bookmyshow.com/person/')]"
   ]
  },
  {
   "cell_type": "code",
   "execution_count": 7,
   "metadata": {},
   "outputs": [
    {
     "name": "stdout",
     "output_type": "stream",
     "text": [
      "Found number:  913\n"
     ]
    }
   ],
   "source": [
    "print('Found number: ', len(book_doublecheck_2)+len(book_doublecheck_1))"
   ]
  },
  {
   "cell_type": "markdown",
   "metadata": {},
   "source": [
    "## Wikipedia url address scraping and html analysis"
   ]
  },
  {
   "cell_type": "code",
   "execution_count": 8,
   "metadata": {},
   "outputs": [],
   "source": [
    "director_table_wiki = copy.deepcopy(director_table_bookmyshow)\n",
    "director_table_wiki.rename(columns={'actorbookmyshow':'actorwiki'}, inplace=True)\n",
    "director_table_wiki['keyword'] = 'wikipedia ' + director_table_wiki['actorname'] + ' director'"
   ]
  },
  {
   "cell_type": "code",
   "execution_count": 10,
   "metadata": {},
   "outputs": [
    {
     "data": {
      "text/html": [
       "<div>\n",
       "<style scoped>\n",
       "    .dataframe tbody tr th:only-of-type {\n",
       "        vertical-align: middle;\n",
       "    }\n",
       "\n",
       "    .dataframe tbody tr th {\n",
       "        vertical-align: top;\n",
       "    }\n",
       "\n",
       "    .dataframe thead th {\n",
       "        text-align: right;\n",
       "    }\n",
       "</style>\n",
       "<table border=\"1\" class=\"dataframe\">\n",
       "  <thead>\n",
       "    <tr style=\"text-align: right;\">\n",
       "      <th></th>\n",
       "      <th>photoimage</th>\n",
       "      <th>actorname</th>\n",
       "      <th>actorwiki</th>\n",
       "      <th>dateofbirth</th>\n",
       "      <th>placeofbirth</th>\n",
       "      <th>minibio</th>\n",
       "      <th>trivia</th>\n",
       "      <th>race</th>\n",
       "      <th>gender</th>\n",
       "      <th>Domestic</th>\n",
       "      <th>bio_url</th>\n",
       "      <th>keyword</th>\n",
       "    </tr>\n",
       "  </thead>\n",
       "  <tbody>\n",
       "    <tr>\n",
       "      <th>0</th>\n",
       "      <td>NaN</td>\n",
       "      <td>A.R. Murugadoss</td>\n",
       "      <td>https://in.bookmyshow.com/person/ar-murugadoss...</td>\n",
       "      <td>NaN</td>\n",
       "      <td>NaN</td>\n",
       "      <td>NaN</td>\n",
       "      <td>NaN</td>\n",
       "      <td>NaN</td>\n",
       "      <td>NaN</td>\n",
       "      <td>0</td>\n",
       "      <td>NaN</td>\n",
       "      <td>wikipedia A.R. Murugadoss director</td>\n",
       "    </tr>\n",
       "    <tr>\n",
       "      <th>1</th>\n",
       "      <td>NaN</td>\n",
       "      <td>Aanand Rai</td>\n",
       "      <td>https://in.bookmyshow.com/person/aanand-l-rai/...</td>\n",
       "      <td>NaN</td>\n",
       "      <td>NaN</td>\n",
       "      <td>NaN</td>\n",
       "      <td>NaN</td>\n",
       "      <td>NaN</td>\n",
       "      <td>NaN</td>\n",
       "      <td>0</td>\n",
       "      <td>NaN</td>\n",
       "      <td>wikipedia Aanand Rai director</td>\n",
       "    </tr>\n",
       "    <tr>\n",
       "      <th>2</th>\n",
       "      <td>NaN</td>\n",
       "      <td>Aaron Schneider</td>\n",
       "      <td>https://in.bookmyshow.com/person/aaron-schneid...</td>\n",
       "      <td>NaN</td>\n",
       "      <td>NaN</td>\n",
       "      <td>NaN</td>\n",
       "      <td>NaN</td>\n",
       "      <td>NaN</td>\n",
       "      <td>NaN</td>\n",
       "      <td>1</td>\n",
       "      <td>NaN</td>\n",
       "      <td>wikipedia Aaron Schneider director</td>\n",
       "    </tr>\n",
       "  </tbody>\n",
       "</table>\n",
       "</div>"
      ],
      "text/plain": [
       "   photoimage        actorname  \\\n",
       "0         NaN  A.R. Murugadoss   \n",
       "1         NaN       Aanand Rai   \n",
       "2         NaN  Aaron Schneider   \n",
       "\n",
       "                                           actorwiki  dateofbirth  \\\n",
       "0  https://in.bookmyshow.com/person/ar-murugadoss...          NaN   \n",
       "1  https://in.bookmyshow.com/person/aanand-l-rai/...          NaN   \n",
       "2  https://in.bookmyshow.com/person/aaron-schneid...          NaN   \n",
       "\n",
       "   placeofbirth  minibio  trivia  race  gender  Domestic  bio_url  \\\n",
       "0           NaN      NaN     NaN   NaN     NaN         0      NaN   \n",
       "1           NaN      NaN     NaN   NaN     NaN         0      NaN   \n",
       "2           NaN      NaN     NaN   NaN     NaN         1      NaN   \n",
       "\n",
       "                              keyword  \n",
       "0  wikipedia A.R. Murugadoss director  \n",
       "1       wikipedia Aanand Rai director  \n",
       "2  wikipedia Aaron Schneider director  "
      ]
     },
     "execution_count": 10,
     "metadata": {},
     "output_type": "execute_result"
    }
   ],
   "source": [
    "director_table_wiki.head(3)"
   ]
  },
  {
   "cell_type": "code",
   "execution_count": null,
   "metadata": {},
   "outputs": [],
   "source": [
    "# update the actorwiki address\n",
    "for i in range(len(director_table_wiki)):\n",
    "    for url in search(director_table_wiki['keyword'][i], tld='com.pk', lang='es', stop=1):\n",
    "        director_table_wiki['actorwiki'][i] = url\n",
    "    if i%100 == 0:\n",
    "        print(i)"
   ]
  },
  {
   "cell_type": "code",
   "execution_count": 14,
   "metadata": {},
   "outputs": [
    {
     "data": {
      "text/html": [
       "<div>\n",
       "<style scoped>\n",
       "    .dataframe tbody tr th:only-of-type {\n",
       "        vertical-align: middle;\n",
       "    }\n",
       "\n",
       "    .dataframe tbody tr th {\n",
       "        vertical-align: top;\n",
       "    }\n",
       "\n",
       "    .dataframe thead th {\n",
       "        text-align: right;\n",
       "    }\n",
       "</style>\n",
       "<table border=\"1\" class=\"dataframe\">\n",
       "  <thead>\n",
       "    <tr style=\"text-align: right;\">\n",
       "      <th></th>\n",
       "      <th>photoimage</th>\n",
       "      <th>actorname</th>\n",
       "      <th>actorwiki</th>\n",
       "      <th>dateofbirth</th>\n",
       "      <th>placeofbirth</th>\n",
       "      <th>minibio</th>\n",
       "      <th>trivia</th>\n",
       "      <th>race</th>\n",
       "      <th>gender</th>\n",
       "      <th>Domestic</th>\n",
       "      <th>bio_url</th>\n",
       "      <th>keyword</th>\n",
       "    </tr>\n",
       "  </thead>\n",
       "  <tbody>\n",
       "    <tr>\n",
       "      <th>0</th>\n",
       "      <td>NaN</td>\n",
       "      <td>A.R. Murugadoss</td>\n",
       "      <td>https://en.wikipedia.org/wiki/AR_Murugadoss</td>\n",
       "      <td>NaN</td>\n",
       "      <td>NaN</td>\n",
       "      <td>NaN</td>\n",
       "      <td>NaN</td>\n",
       "      <td>NaN</td>\n",
       "      <td>NaN</td>\n",
       "      <td>0</td>\n",
       "      <td>NaN</td>\n",
       "      <td>wikipedia A.R. Murugadoss director</td>\n",
       "    </tr>\n",
       "    <tr>\n",
       "      <th>1</th>\n",
       "      <td>NaN</td>\n",
       "      <td>Aanand Rai</td>\n",
       "      <td>https://en.wikipedia.org/wiki/Aanand_L._Rai</td>\n",
       "      <td>NaN</td>\n",
       "      <td>NaN</td>\n",
       "      <td>NaN</td>\n",
       "      <td>NaN</td>\n",
       "      <td>NaN</td>\n",
       "      <td>NaN</td>\n",
       "      <td>0</td>\n",
       "      <td>NaN</td>\n",
       "      <td>wikipedia Aanand Rai director</td>\n",
       "    </tr>\n",
       "    <tr>\n",
       "      <th>2</th>\n",
       "      <td>NaN</td>\n",
       "      <td>Aaron Schneider</td>\n",
       "      <td>https://en.wikipedia.org/wiki/Aaron_Schneider</td>\n",
       "      <td>NaN</td>\n",
       "      <td>NaN</td>\n",
       "      <td>NaN</td>\n",
       "      <td>NaN</td>\n",
       "      <td>NaN</td>\n",
       "      <td>NaN</td>\n",
       "      <td>1</td>\n",
       "      <td>NaN</td>\n",
       "      <td>wikipedia Aaron Schneider director</td>\n",
       "    </tr>\n",
       "  </tbody>\n",
       "</table>\n",
       "</div>"
      ],
      "text/plain": [
       "   photoimage        actorname                                      actorwiki  \\\n",
       "0         NaN  A.R. Murugadoss    https://en.wikipedia.org/wiki/AR_Murugadoss   \n",
       "1         NaN       Aanand Rai    https://en.wikipedia.org/wiki/Aanand_L._Rai   \n",
       "2         NaN  Aaron Schneider  https://en.wikipedia.org/wiki/Aaron_Schneider   \n",
       "\n",
       "   dateofbirth  placeofbirth  minibio  trivia  race  gender  Domestic  \\\n",
       "0          NaN           NaN      NaN     NaN   NaN     NaN         0   \n",
       "1          NaN           NaN      NaN     NaN   NaN     NaN         0   \n",
       "2          NaN           NaN      NaN     NaN   NaN     NaN         1   \n",
       "\n",
       "   bio_url                             keyword  \n",
       "0      NaN  wikipedia A.R. Murugadoss director  \n",
       "1      NaN       wikipedia Aanand Rai director  \n",
       "2      NaN  wikipedia Aaron Schneider director  "
      ]
     },
     "execution_count": 14,
     "metadata": {},
     "output_type": "execute_result"
    }
   ],
   "source": [
    "director_table_wiki.head(3)"
   ]
  },
  {
   "cell_type": "code",
   "execution_count": 15,
   "metadata": {},
   "outputs": [],
   "source": [
    "director_table_wiki.to_csv(\"director_table_wiki.csv\", index=False)"
   ]
  },
  {
   "cell_type": "code",
   "execution_count": 108,
   "metadata": {},
   "outputs": [
    {
     "name": "stdout",
     "output_type": "stream",
     "text": [
      "wikipedia found length:  1334\n"
     ]
    }
   ],
   "source": [
    "# check the number of correct wiki url address\n",
    "director_table_wiki_found_en = director_table_wiki[director_table_wiki['actorwiki'].\n",
    "                              str.contains('https://en.wikipedia.org/wiki/')].reset_index(drop=True)\n",
    "director_table_wiki_found_es = director_table_wiki[director_table_wiki['actorwiki'].\n",
    "                              str.contains('https://es.wikipedia.org/wiki/')].reset_index(drop=True)\n",
    "print(\"wikipedia found length: \", len(director_table_wiki_found_en)+len(director_table_wiki_found_es))"
   ]
  },
  {
   "cell_type": "markdown",
   "metadata": {},
   "source": [
    "## Work on director_table_wiki_found_en/es websites"
   ]
  },
  {
   "cell_type": "code",
   "execution_count": 112,
   "metadata": {},
   "outputs": [
    {
     "name": "stdout",
     "output_type": "stream",
     "text": [
      "https://en.wikipedia.org/wiki/Aaron_Schneider\n",
      " \n",
      "['Aaron Schneider', 'Born', 'Occupation', 'Years active']\n",
      " \n",
      "['Aaron Schneider at the 2009 Toronto International Film Festival', 'Mossville, Illinois', 'Filmmaker, cinematographer', '1990 – present']\n",
      "4\n"
     ]
    }
   ],
   "source": [
    "# an example for text information in tables\n",
    "\n",
    "# scrap all the html information\n",
    "url = director_table_wiki_found_en['actorwiki'][2]\n",
    "print(url)\n",
    "response = requests.get(url)\n",
    "soup = BeautifulSoup(response.text, \"html.parser\")\n",
    "# print(soup.prettify())\n",
    "# print(soup)\n",
    "\n",
    "# find the correct table\n",
    "table=soup.find('table', {'class', 'infobox biography vcard'})\n",
    "# print(\" \")\n",
    "# print(table)\n",
    "\n",
    "# here \\xa0 should indicate one blank in html language\n",
    "# string = string.replace(u'\\xa0', u' ')\n",
    "# scrap headers of the table\n",
    "headers= [header.text.replace(u'\\xa0', u' ') for header in table.find_all('th')]\n",
    "print(\" \")\n",
    "print(headers)\n",
    "# scrap some row information\n",
    "rows = []\n",
    "for row in table.find_all('tr'):\n",
    "    rows.extend([val.text.replace(u'\\xa0', u' ') for val in row.find_all('td')])\n",
    "print(\" \")\n",
    "print(rows)\n",
    "print(len(rows))"
   ]
  },
  {
   "cell_type": "code",
   "execution_count": 110,
   "metadata": {},
   "outputs": [
    {
     "data": {
      "text/html": [
       "<div>\n",
       "<style scoped>\n",
       "    .dataframe tbody tr th:only-of-type {\n",
       "        vertical-align: middle;\n",
       "    }\n",
       "\n",
       "    .dataframe tbody tr th {\n",
       "        vertical-align: top;\n",
       "    }\n",
       "\n",
       "    .dataframe thead th {\n",
       "        text-align: right;\n",
       "    }\n",
       "</style>\n",
       "<table border=\"1\" class=\"dataframe\">\n",
       "  <thead>\n",
       "    <tr style=\"text-align: right;\">\n",
       "      <th></th>\n",
       "      <th>photoimage</th>\n",
       "      <th>actorname</th>\n",
       "      <th>actorwiki</th>\n",
       "      <th>dateofbirth</th>\n",
       "      <th>placeofbirth</th>\n",
       "      <th>minibio</th>\n",
       "      <th>trivia</th>\n",
       "      <th>race</th>\n",
       "      <th>gender</th>\n",
       "      <th>Domestic</th>\n",
       "      <th>bio_url</th>\n",
       "      <th>keyword</th>\n",
       "    </tr>\n",
       "  </thead>\n",
       "  <tbody>\n",
       "    <tr>\n",
       "      <th>0</th>\n",
       "      <td>NaN</td>\n",
       "      <td>Aaron Seltzer</td>\n",
       "      <td>https://es.wikipedia.org/wiki/Jason_Friedberg_...</td>\n",
       "      <td>NaN</td>\n",
       "      <td>NaN</td>\n",
       "      <td>NaN</td>\n",
       "      <td>NaN</td>\n",
       "      <td>NaN</td>\n",
       "      <td>NaN</td>\n",
       "      <td>1</td>\n",
       "      <td>NaN</td>\n",
       "      <td>wikipedia Aaron Seltzer director</td>\n",
       "    </tr>\n",
       "    <tr>\n",
       "      <th>1</th>\n",
       "      <td>NaN</td>\n",
       "      <td>Abdellatif Kechiche</td>\n",
       "      <td>https://es.wikipedia.org/wiki/Abdellatif_Kechiche</td>\n",
       "      <td>NaN</td>\n",
       "      <td>NaN</td>\n",
       "      <td>NaN</td>\n",
       "      <td>NaN</td>\n",
       "      <td>NaN</td>\n",
       "      <td>NaN</td>\n",
       "      <td>0</td>\n",
       "      <td>NaN</td>\n",
       "      <td>wikipedia Abdellatif Kechiche director</td>\n",
       "    </tr>\n",
       "    <tr>\n",
       "      <th>2</th>\n",
       "      <td>NaN</td>\n",
       "      <td>Adam McKay</td>\n",
       "      <td>https://es.wikipedia.org/wiki/Adam_McKay</td>\n",
       "      <td>NaN</td>\n",
       "      <td>NaN</td>\n",
       "      <td>NaN</td>\n",
       "      <td>NaN</td>\n",
       "      <td>NaN</td>\n",
       "      <td>NaN</td>\n",
       "      <td>1</td>\n",
       "      <td>NaN</td>\n",
       "      <td>wikipedia Adam McKay director</td>\n",
       "    </tr>\n",
       "  </tbody>\n",
       "</table>\n",
       "</div>"
      ],
      "text/plain": [
       "   photoimage            actorname  \\\n",
       "0         NaN        Aaron Seltzer   \n",
       "1         NaN  Abdellatif Kechiche   \n",
       "2         NaN           Adam McKay   \n",
       "\n",
       "                                           actorwiki  dateofbirth  \\\n",
       "0  https://es.wikipedia.org/wiki/Jason_Friedberg_...          NaN   \n",
       "1  https://es.wikipedia.org/wiki/Abdellatif_Kechiche          NaN   \n",
       "2           https://es.wikipedia.org/wiki/Adam_McKay          NaN   \n",
       "\n",
       "   placeofbirth  minibio  trivia  race  gender  Domestic  bio_url  \\\n",
       "0           NaN      NaN     NaN   NaN     NaN         1      NaN   \n",
       "1           NaN      NaN     NaN   NaN     NaN         0      NaN   \n",
       "2           NaN      NaN     NaN   NaN     NaN         1      NaN   \n",
       "\n",
       "                                  keyword  \n",
       "0        wikipedia Aaron Seltzer director  \n",
       "1  wikipedia Abdellatif Kechiche director  \n",
       "2           wikipedia Adam McKay director  "
      ]
     },
     "execution_count": 110,
     "metadata": {},
     "output_type": "execute_result"
    }
   ],
   "source": [
    "director_table_wiki_found_es.head(3)"
   ]
  },
  {
   "cell_type": "code",
   "execution_count": 111,
   "metadata": {},
   "outputs": [
    {
     "name": "stdout",
     "output_type": "stream",
     "text": [
      "https://es.wikipedia.org/wiki/Adam_Shankman\n",
      "False\n",
      " \n",
      "['Adam Shankman', 'Información personal', 'Nombre de nacimiento', 'Nacimiento', 'Nacionalidad', 'Educación', 'Educado en', 'Información profesional', 'Ocupación', 'Años activo']\n",
      " \n",
      "['\\nAdam Shankman', '\\nAdam Michael Shankman', '\\n27 de noviembre de 1964 (54 años) Los Ángeles, (California), Estados Unidos', '\\nEstadounidense ', '\\nEscuela Juilliard ', '\\nDirector de cine, productor de cine, coreógrafo, actor de cine, director de televisión, actor y bailarín ', '\\n1983–presente', '[editar datos en Wikidata]']\n",
      "8\n"
     ]
    }
   ],
   "source": [
    "# scrap all the html information\n",
    "url = director_table_wiki_found_es['actorwiki'][3]\n",
    "print(url)\n",
    "response = requests.get(url)\n",
    "soup = BeautifulSoup(response.text, \"html.parser\")\n",
    "# print(soup.prettify())\n",
    "# print(soup)\n",
    "\n",
    "# find the correct table\n",
    "table=soup.find('table', {'class', 'infobox biography vcard'})\n",
    "print(table == None)\n",
    "# here \\xa0 should indicate one blank in html language\n",
    "# string = string.replace(u'\\xa0', u' ')\n",
    "# scrap headers of the table\n",
    "headers= [header.text.replace(u'\\xa0', u' ').replace(u'\\n', u'') for header in table.find_all('th')]\n",
    "print(\" \")\n",
    "print(headers)\n",
    "# scrap some row information\n",
    "rows = []\n",
    "for row in table.find_all('tr'):\n",
    "    rows.extend([val.text.replace(u'\\xa0', u' ') for val in row.find_all('td')])\n",
    "print(\" \")\n",
    "print(rows)\n",
    "print(len(rows))"
   ]
  },
  {
   "cell_type": "code",
   "execution_count": 142,
   "metadata": {},
   "outputs": [],
   "source": [
    "director_table_wiki_found_en['birth_all'] = np.nan\n",
    "director_table_wiki_found_es['birth_all'] = np.nan\n",
    "\n",
    "# define function to scrap birth_all information\n",
    "def scrap_wiki_table(set_, header, num):\n",
    "    # get text whole\n",
    "    url = set_['actorwiki'][num]\n",
    "    response = requests.get(url)\n",
    "    soup = BeautifulSoup(response.text, \"html.parser\")\n",
    "    # get table\n",
    "    table=soup.find('table', {'class', 'infobox biography vcard'})\n",
    "    # no tables on the website\n",
    "    if table == None:\n",
    "        result = np.nan\n",
    "    else:\n",
    "        headers= [header.text.replace(u'\\xa0', u' ') for header in table.find_all('th')]\n",
    "        if header in headers:\n",
    "            # continue to search table headers' content\n",
    "            rows = []\n",
    "            for row in table.find_all('tr'):\n",
    "                rows.extend([val.text.replace(u'\\xa0', u' ') for val in row.find_all('td')])\n",
    "            # decide content index of rows\n",
    "            if str(set_).count('en') > 0:\n",
    "                if len(headers) == len(rows):\n",
    "                    index = headers.index(header)\n",
    "                else: # no photos then advance one\n",
    "                    index = headers.index(header)-1\n",
    "                    \n",
    "            elif str(set_).count('es') > 0:\n",
    "                index = headers.index(header)-1\n",
    "            result = rows[index]\n",
    "        else:\n",
    "            # not in the table\n",
    "            result = np.nan\n",
    "    return result"
   ]
  },
  {
   "cell_type": "code",
   "execution_count": 143,
   "metadata": {},
   "outputs": [
    {
     "data": {
      "text/plain": [
       "' (1963-06-24) 24 June 1963 (age 55)Bangkok, Thailand'"
      ]
     },
     "execution_count": 143,
     "metadata": {},
     "output_type": "execute_result"
    }
   ],
   "source": [
    "scrap_wiki_table(director_table_wiki_found_en, 'Born', 21)"
   ]
  },
  {
   "cell_type": "code",
   "execution_count": null,
   "metadata": {},
   "outputs": [],
   "source": [
    "# update director_table_wiki_found_en first\n",
    "for i in range(len(director_table_wiki_found_en)):\n",
    "    director_table_wiki_found_en['birth_all'][i] = scrap_wiki_table(director_table_wiki_found_en, 'Born', i)\n",
    "    if i%50 == 0:\n",
    "        print(i)\n",
    "director_table_wiki_found_en.head(3)"
   ]
  },
  {
   "cell_type": "code",
   "execution_count": 145,
   "metadata": {},
   "outputs": [],
   "source": [
    "director_table_wiki_found_en.to_csv('director_table_wiki_found_en.csv')"
   ]
  },
  {
   "cell_type": "code",
   "execution_count": 147,
   "metadata": {},
   "outputs": [
    {
     "data": {
      "text/html": [
       "<div>\n",
       "<style scoped>\n",
       "    .dataframe tbody tr th:only-of-type {\n",
       "        vertical-align: middle;\n",
       "    }\n",
       "\n",
       "    .dataframe tbody tr th {\n",
       "        vertical-align: top;\n",
       "    }\n",
       "\n",
       "    .dataframe thead th {\n",
       "        text-align: right;\n",
       "    }\n",
       "</style>\n",
       "<table border=\"1\" class=\"dataframe\">\n",
       "  <thead>\n",
       "    <tr style=\"text-align: right;\">\n",
       "      <th></th>\n",
       "      <th>Unnamed: 0</th>\n",
       "      <th>photoimage</th>\n",
       "      <th>actorname</th>\n",
       "      <th>actorwiki</th>\n",
       "      <th>dateofbirth</th>\n",
       "      <th>placeofbirth</th>\n",
       "      <th>minibio</th>\n",
       "      <th>trivia</th>\n",
       "      <th>race</th>\n",
       "      <th>gender</th>\n",
       "      <th>Domestic</th>\n",
       "      <th>bio_url</th>\n",
       "      <th>keyword</th>\n",
       "      <th>birth_all</th>\n",
       "    </tr>\n",
       "  </thead>\n",
       "  <tbody>\n",
       "    <tr>\n",
       "      <th>0</th>\n",
       "      <td>0</td>\n",
       "      <td>NaN</td>\n",
       "      <td>A.R. Murugadoss</td>\n",
       "      <td>https://en.wikipedia.org/wiki/AR_Murugadoss</td>\n",
       "      <td>NaN</td>\n",
       "      <td>NaN</td>\n",
       "      <td>NaN</td>\n",
       "      <td>NaN</td>\n",
       "      <td>NaN</td>\n",
       "      <td>NaN</td>\n",
       "      <td>0</td>\n",
       "      <td>NaN</td>\n",
       "      <td>wikipedia A.R. Murugadoss director</td>\n",
       "      <td>Murugadoss Arunasalam (1974-09-25) 25 Septembe...</td>\n",
       "    </tr>\n",
       "    <tr>\n",
       "      <th>1</th>\n",
       "      <td>1</td>\n",
       "      <td>NaN</td>\n",
       "      <td>Aanand Rai</td>\n",
       "      <td>https://en.wikipedia.org/wiki/Aanand_L._Rai</td>\n",
       "      <td>NaN</td>\n",
       "      <td>NaN</td>\n",
       "      <td>NaN</td>\n",
       "      <td>NaN</td>\n",
       "      <td>NaN</td>\n",
       "      <td>NaN</td>\n",
       "      <td>0</td>\n",
       "      <td>NaN</td>\n",
       "      <td>wikipedia Aanand Rai director</td>\n",
       "      <td>(1971-06-28) 28 June 1971 (age 47)Delhi</td>\n",
       "    </tr>\n",
       "    <tr>\n",
       "      <th>2</th>\n",
       "      <td>2</td>\n",
       "      <td>NaN</td>\n",
       "      <td>Aaron Schneider</td>\n",
       "      <td>https://en.wikipedia.org/wiki/Aaron_Schneider</td>\n",
       "      <td>NaN</td>\n",
       "      <td>NaN</td>\n",
       "      <td>NaN</td>\n",
       "      <td>NaN</td>\n",
       "      <td>NaN</td>\n",
       "      <td>NaN</td>\n",
       "      <td>1</td>\n",
       "      <td>NaN</td>\n",
       "      <td>wikipedia Aaron Schneider director</td>\n",
       "      <td>Mossville, Illinois</td>\n",
       "    </tr>\n",
       "  </tbody>\n",
       "</table>\n",
       "</div>"
      ],
      "text/plain": [
       "   Unnamed: 0  photoimage        actorname  \\\n",
       "0           0         NaN  A.R. Murugadoss   \n",
       "1           1         NaN       Aanand Rai   \n",
       "2           2         NaN  Aaron Schneider   \n",
       "\n",
       "                                       actorwiki  dateofbirth  placeofbirth  \\\n",
       "0    https://en.wikipedia.org/wiki/AR_Murugadoss          NaN           NaN   \n",
       "1    https://en.wikipedia.org/wiki/Aanand_L._Rai          NaN           NaN   \n",
       "2  https://en.wikipedia.org/wiki/Aaron_Schneider          NaN           NaN   \n",
       "\n",
       "   minibio  trivia  race  gender  Domestic  bio_url  \\\n",
       "0      NaN     NaN   NaN     NaN         0      NaN   \n",
       "1      NaN     NaN   NaN     NaN         0      NaN   \n",
       "2      NaN     NaN   NaN     NaN         1      NaN   \n",
       "\n",
       "                              keyword  \\\n",
       "0  wikipedia A.R. Murugadoss director   \n",
       "1       wikipedia Aanand Rai director   \n",
       "2  wikipedia Aaron Schneider director   \n",
       "\n",
       "                                           birth_all  \n",
       "0  Murugadoss Arunasalam (1974-09-25) 25 Septembe...  \n",
       "1            (1971-06-28) 28 June 1971 (age 47)Delhi  \n",
       "2                                Mossville, Illinois  "
      ]
     },
     "execution_count": 147,
     "metadata": {},
     "output_type": "execute_result"
    }
   ],
   "source": [
    "director_table_wiki_found_en = pd.read_csv('director_table_wiki_found_en.csv')\n",
    "director_table_wiki_found_en.head(3)"
   ]
  },
  {
   "cell_type": "code",
   "execution_count": null,
   "metadata": {},
   "outputs": [],
   "source": [
    "# update director_table_wiki_found_es then\n",
    "for i in range(len(director_table_wiki_found_es)):\n",
    "    director_table_wiki_found_es['birth_all'][i] = scrap_wiki_table(director_table_wiki_found_es, \n",
    "                                                                    'Nacimiento', i)\n",
    "    if i%50 == 0:\n",
    "        print(i)"
   ]
  },
  {
   "cell_type": "code",
   "execution_count": 224,
   "metadata": {},
   "outputs": [],
   "source": [
    "director_table_wiki_found_es.to_csv('director_table_wiki_found_es.csv', index=False)"
   ]
  },
  {
   "cell_type": "code",
   "execution_count": 225,
   "metadata": {},
   "outputs": [
    {
     "data": {
      "text/html": [
       "<div>\n",
       "<style scoped>\n",
       "    .dataframe tbody tr th:only-of-type {\n",
       "        vertical-align: middle;\n",
       "    }\n",
       "\n",
       "    .dataframe tbody tr th {\n",
       "        vertical-align: top;\n",
       "    }\n",
       "\n",
       "    .dataframe thead th {\n",
       "        text-align: right;\n",
       "    }\n",
       "</style>\n",
       "<table border=\"1\" class=\"dataframe\">\n",
       "  <thead>\n",
       "    <tr style=\"text-align: right;\">\n",
       "      <th></th>\n",
       "      <th>photoimage</th>\n",
       "      <th>actorname</th>\n",
       "      <th>actorwiki</th>\n",
       "      <th>dateofbirth</th>\n",
       "      <th>placeofbirth</th>\n",
       "      <th>minibio</th>\n",
       "      <th>trivia</th>\n",
       "      <th>race</th>\n",
       "      <th>gender</th>\n",
       "      <th>Domestic</th>\n",
       "      <th>bio_url</th>\n",
       "      <th>keyword</th>\n",
       "      <th>birth_all</th>\n",
       "    </tr>\n",
       "  </thead>\n",
       "  <tbody>\n",
       "    <tr>\n",
       "      <th>0</th>\n",
       "      <td>NaN</td>\n",
       "      <td>Aaron Seltzer</td>\n",
       "      <td>https://es.wikipedia.org/wiki/Jason_Friedberg_...</td>\n",
       "      <td>NaN</td>\n",
       "      <td>NaN</td>\n",
       "      <td>NaN</td>\n",
       "      <td>NaN</td>\n",
       "      <td>NaN</td>\n",
       "      <td>NaN</td>\n",
       "      <td>1</td>\n",
       "      <td>NaN</td>\n",
       "      <td>wikipedia Aaron Seltzer director</td>\n",
       "      <td>NaN</td>\n",
       "    </tr>\n",
       "    <tr>\n",
       "      <th>1</th>\n",
       "      <td>NaN</td>\n",
       "      <td>Abdellatif Kechiche</td>\n",
       "      <td>https://es.wikipedia.org/wiki/Abdellatif_Kechiche</td>\n",
       "      <td>NaN</td>\n",
       "      <td>NaN</td>\n",
       "      <td>NaN</td>\n",
       "      <td>NaN</td>\n",
       "      <td>NaN</td>\n",
       "      <td>NaN</td>\n",
       "      <td>0</td>\n",
       "      <td>NaN</td>\n",
       "      <td>wikipedia Abdellatif Kechiche director</td>\n",
       "      <td>\\n17 de diciembre de 1960 (58 años)Túnez,  Túnez</td>\n",
       "    </tr>\n",
       "    <tr>\n",
       "      <th>2</th>\n",
       "      <td>NaN</td>\n",
       "      <td>Adam McKay</td>\n",
       "      <td>https://es.wikipedia.org/wiki/Adam_McKay</td>\n",
       "      <td>NaN</td>\n",
       "      <td>NaN</td>\n",
       "      <td>NaN</td>\n",
       "      <td>NaN</td>\n",
       "      <td>NaN</td>\n",
       "      <td>NaN</td>\n",
       "      <td>1</td>\n",
       "      <td>NaN</td>\n",
       "      <td>wikipedia Adam McKay director</td>\n",
       "      <td>\\n17 de abril de 1968 (50 años)Filadelfia, Pen...</td>\n",
       "    </tr>\n",
       "  </tbody>\n",
       "</table>\n",
       "</div>"
      ],
      "text/plain": [
       "   photoimage            actorname  \\\n",
       "0         NaN        Aaron Seltzer   \n",
       "1         NaN  Abdellatif Kechiche   \n",
       "2         NaN           Adam McKay   \n",
       "\n",
       "                                           actorwiki  dateofbirth  \\\n",
       "0  https://es.wikipedia.org/wiki/Jason_Friedberg_...          NaN   \n",
       "1  https://es.wikipedia.org/wiki/Abdellatif_Kechiche          NaN   \n",
       "2           https://es.wikipedia.org/wiki/Adam_McKay          NaN   \n",
       "\n",
       "   placeofbirth  minibio  trivia  race  gender  Domestic  bio_url  \\\n",
       "0           NaN      NaN     NaN   NaN     NaN         1      NaN   \n",
       "1           NaN      NaN     NaN   NaN     NaN         0      NaN   \n",
       "2           NaN      NaN     NaN   NaN     NaN         1      NaN   \n",
       "\n",
       "                                  keyword  \\\n",
       "0        wikipedia Aaron Seltzer director   \n",
       "1  wikipedia Abdellatif Kechiche director   \n",
       "2           wikipedia Adam McKay director   \n",
       "\n",
       "                                           birth_all  \n",
       "0                                                NaN  \n",
       "1   \\n17 de diciembre de 1960 (58 años)Túnez,  Túnez  \n",
       "2  \\n17 de abril de 1968 (50 años)Filadelfia, Pen...  "
      ]
     },
     "execution_count": 225,
     "metadata": {},
     "output_type": "execute_result"
    }
   ],
   "source": [
    "director_table_wiki_found_es.head(3)"
   ]
  },
  {
   "cell_type": "code",
   "execution_count": 48,
   "metadata": {},
   "outputs": [
    {
     "data": {
      "text/plain": [
       "'1974'"
      ]
     },
     "execution_count": 48,
     "metadata": {},
     "output_type": "execute_result"
    }
   ],
   "source": [
    "def regular_exp_year(tosearch):\n",
    "    if str(tosearch) == 'nan':\n",
    "        result = np.nan\n",
    "    else:\n",
    "        temp = re.search('([0-9]{4})', tosearch)\n",
    "        if temp == None:\n",
    "            result = np.nan\n",
    "        else:\n",
    "            result = temp.group(0)\n",
    "    return result\n",
    "regular_exp_year(director_table_wiki_found_en['birth_all'][0])"
   ]
  },
  {
   "cell_type": "code",
   "execution_count": 51,
   "metadata": {},
   "outputs": [
    {
     "data": {
      "text/plain": [
       "'Kallakkurichi, Tamil Nadu, India'"
      ]
     },
     "execution_count": 51,
     "metadata": {},
     "output_type": "execute_result"
    }
   ],
   "source": [
    "def filter_placeOfBirth(dealt_string):\n",
    "    if str(dealt_string) != 'nan':\n",
    "        # replace all numbers with blanks\n",
    "        temp = re.sub('([0-9])', '', dealt_string)\n",
    "        # replace all [] and () with blanks\n",
    "        temp = temp.replace('[]', '').replace('()', '')\n",
    "\n",
    "        # kick out all words before '(age-num)' and keep the left\n",
    "        index = temp.rfind(')')\n",
    "        temp = temp[index+1:]\n",
    "    else:\n",
    "        temp = np.nan\n",
    "    return temp\n",
    "temp_string = \"Murugadoss Arunasalam (1974-09-25) 25 September 1974 (age 44)Kallakkurichi, Tamil Nadu, India\"\n",
    "filter_placeOfBirth(temp_string)"
   ]
  },
  {
   "cell_type": "code",
   "execution_count": 52,
   "metadata": {},
   "outputs": [
    {
     "name": "stdout",
     "output_type": "stream",
     "text": [
      "0\n",
      "100\n",
      "200\n",
      "300\n",
      "400\n",
      "500\n",
      "600\n"
     ]
    }
   ],
   "source": [
    "# regular expression to tell birth year information from 'birth_all' column and fill\n",
    "# fill in the place of birth information by 'birth_all' columns\n",
    "for i in range(len(director_table_wiki_found_en)):\n",
    "    director_table_wiki_found_en['dateofbirth'][i] = regular_exp_year(director_table_wiki_found_en['birth_all'][i])\n",
    "    director_table_wiki_found_en['placeofbirth'][i] = filter_placeOfBirth(director_table_wiki_found_en['birth_all'][i])\n",
    "    if i%100 == 0:\n",
    "        print(i)"
   ]
  },
  {
   "cell_type": "code",
   "execution_count": 53,
   "metadata": {},
   "outputs": [],
   "source": [
    "director_table_wiki_found_en.to_csv('director_table_wiki_found_en.csv', index=False)"
   ]
  },
  {
   "cell_type": "code",
   "execution_count": 17,
   "metadata": {},
   "outputs": [
    {
     "data": {
      "text/html": [
       "<div>\n",
       "<style scoped>\n",
       "    .dataframe tbody tr th:only-of-type {\n",
       "        vertical-align: middle;\n",
       "    }\n",
       "\n",
       "    .dataframe tbody tr th {\n",
       "        vertical-align: top;\n",
       "    }\n",
       "\n",
       "    .dataframe thead th {\n",
       "        text-align: right;\n",
       "    }\n",
       "</style>\n",
       "<table border=\"1\" class=\"dataframe\">\n",
       "  <thead>\n",
       "    <tr style=\"text-align: right;\">\n",
       "      <th></th>\n",
       "      <th>photoimage</th>\n",
       "      <th>actorname</th>\n",
       "      <th>actorwiki</th>\n",
       "      <th>dateofbirth</th>\n",
       "      <th>placeofbirth</th>\n",
       "      <th>minibio</th>\n",
       "      <th>trivia</th>\n",
       "      <th>race</th>\n",
       "      <th>gender</th>\n",
       "      <th>Domestic</th>\n",
       "      <th>bio_url</th>\n",
       "      <th>keyword</th>\n",
       "      <th>birth_all</th>\n",
       "    </tr>\n",
       "  </thead>\n",
       "  <tbody>\n",
       "    <tr>\n",
       "      <th>0</th>\n",
       "      <td>NaN</td>\n",
       "      <td>A.R. Murugadoss</td>\n",
       "      <td>https://en.wikipedia.org/wiki/AR_Murugadoss</td>\n",
       "      <td>1974.0</td>\n",
       "      <td>Kallakkurichi, Tamil Nadu, India</td>\n",
       "      <td>NaN</td>\n",
       "      <td>NaN</td>\n",
       "      <td>NaN</td>\n",
       "      <td>NaN</td>\n",
       "      <td>0</td>\n",
       "      <td>NaN</td>\n",
       "      <td>wikipedia A.R. Murugadoss director</td>\n",
       "      <td>Murugadoss Arunasalam (1974-09-25) 25 September 1974 (age 44)Kallakkurichi, Tamil Nadu, India</td>\n",
       "    </tr>\n",
       "    <tr>\n",
       "      <th>1</th>\n",
       "      <td>NaN</td>\n",
       "      <td>Aanand Rai</td>\n",
       "      <td>https://en.wikipedia.org/wiki/Aanand_L._Rai</td>\n",
       "      <td>1971.0</td>\n",
       "      <td>Delhi</td>\n",
       "      <td>NaN</td>\n",
       "      <td>NaN</td>\n",
       "      <td>NaN</td>\n",
       "      <td>NaN</td>\n",
       "      <td>0</td>\n",
       "      <td>NaN</td>\n",
       "      <td>wikipedia Aanand Rai director</td>\n",
       "      <td>(1971-06-28) 28 June 1971 (age 47)Delhi</td>\n",
       "    </tr>\n",
       "    <tr>\n",
       "      <th>2</th>\n",
       "      <td>NaN</td>\n",
       "      <td>Aaron Schneider</td>\n",
       "      <td>https://en.wikipedia.org/wiki/Aaron_Schneider</td>\n",
       "      <td>NaN</td>\n",
       "      <td>Mossville, Illinois</td>\n",
       "      <td>NaN</td>\n",
       "      <td>NaN</td>\n",
       "      <td>NaN</td>\n",
       "      <td>NaN</td>\n",
       "      <td>1</td>\n",
       "      <td>NaN</td>\n",
       "      <td>wikipedia Aaron Schneider director</td>\n",
       "      <td>Mossville, Illinois</td>\n",
       "    </tr>\n",
       "  </tbody>\n",
       "</table>\n",
       "</div>"
      ],
      "text/plain": [
       "   photoimage        actorname                                      actorwiki  \\\n",
       "0 NaN          A.R. Murugadoss  https://en.wikipedia.org/wiki/AR_Murugadoss     \n",
       "1 NaN          Aanand Rai       https://en.wikipedia.org/wiki/Aanand_L._Rai     \n",
       "2 NaN          Aaron Schneider  https://en.wikipedia.org/wiki/Aaron_Schneider   \n",
       "\n",
       "   dateofbirth                      placeofbirth  minibio  trivia  race  \\\n",
       "0  1974.0       Kallakkurichi, Tamil Nadu, India NaN      NaN     NaN     \n",
       "1  1971.0       Delhi                            NaN      NaN     NaN     \n",
       "2 NaN           Mossville, Illinois              NaN      NaN     NaN     \n",
       "\n",
       "   gender  Domestic  bio_url                             keyword  \\\n",
       "0 NaN      0        NaN       wikipedia A.R. Murugadoss director   \n",
       "1 NaN      0        NaN       wikipedia Aanand Rai director        \n",
       "2 NaN      1        NaN       wikipedia Aaron Schneider director   \n",
       "\n",
       "                                                                                       birth_all  \n",
       "0  Murugadoss Arunasalam (1974-09-25) 25 September 1974 (age 44)Kallakkurichi, Tamil Nadu, India  \n",
       "1   (1971-06-28) 28 June 1971 (age 47)Delhi                                                       \n",
       "2  Mossville, Illinois                                                                            "
      ]
     },
     "execution_count": 17,
     "metadata": {},
     "output_type": "execute_result"
    }
   ],
   "source": [
    "director_table_wiki_found_en = pd.read_csv('director_table_wiki_found_en.csv')\n",
    "director_table_wiki_found_en = director_table_wiki_found_en[['photoimage', 'actorname', 'actorwiki', 'dateofbirth', \n",
    "           'placeofbirth', 'minibio', 'trivia', 'race', 'gender', 'Domestic', \n",
    "           'bio_url', 'keyword', 'birth_all']]\n",
    "director_table_wiki_found_en.head(3)"
   ]
  },
  {
   "cell_type": "code",
   "execution_count": 58,
   "metadata": {},
   "outputs": [
    {
     "name": "stdout",
     "output_type": "stream",
     "text": [
      "0\n",
      "100\n",
      "200\n",
      "300\n",
      "400\n",
      "500\n",
      "600\n",
      "700\n"
     ]
    }
   ],
   "source": [
    "# regular expression to tell birth year information from 'birth_all' column and fill\n",
    "# fill in the place of birth information by 'birth_all' columns\n",
    "for i in range(len(director_table_wiki_found_es)):\n",
    "    director_table_wiki_found_es['dateofbirth'][i] = regular_exp_year(director_table_wiki_found_es['birth_all'][i])\n",
    "    director_table_wiki_found_es['placeofbirth'][i] = filter_placeOfBirth(director_table_wiki_found_es['birth_all'][i])\n",
    "    if i%100 == 0:\n",
    "        print(i)"
   ]
  },
  {
   "cell_type": "code",
   "execution_count": 59,
   "metadata": {},
   "outputs": [],
   "source": [
    "director_table_wiki_found_es.to_csv('director_table_wiki_found_es.csv', index=False)"
   ]
  },
  {
   "cell_type": "code",
   "execution_count": 16,
   "metadata": {},
   "outputs": [
    {
     "data": {
      "text/html": [
       "<div>\n",
       "<style scoped>\n",
       "    .dataframe tbody tr th:only-of-type {\n",
       "        vertical-align: middle;\n",
       "    }\n",
       "\n",
       "    .dataframe tbody tr th {\n",
       "        vertical-align: top;\n",
       "    }\n",
       "\n",
       "    .dataframe thead th {\n",
       "        text-align: right;\n",
       "    }\n",
       "</style>\n",
       "<table border=\"1\" class=\"dataframe\">\n",
       "  <thead>\n",
       "    <tr style=\"text-align: right;\">\n",
       "      <th></th>\n",
       "      <th>photoimage</th>\n",
       "      <th>actorname</th>\n",
       "      <th>actorwiki</th>\n",
       "      <th>dateofbirth</th>\n",
       "      <th>placeofbirth</th>\n",
       "      <th>minibio</th>\n",
       "      <th>trivia</th>\n",
       "      <th>race</th>\n",
       "      <th>gender</th>\n",
       "      <th>Domestic</th>\n",
       "      <th>bio_url</th>\n",
       "      <th>keyword</th>\n",
       "      <th>birth_all</th>\n",
       "    </tr>\n",
       "  </thead>\n",
       "  <tbody>\n",
       "    <tr>\n",
       "      <th>0</th>\n",
       "      <td>NaN</td>\n",
       "      <td>Aaron Seltzer</td>\n",
       "      <td>https://es.wikipedia.org/wiki/Jason_Friedberg_y_Aaron_Seltzer</td>\n",
       "      <td>NaN</td>\n",
       "      <td>NaN</td>\n",
       "      <td>NaN</td>\n",
       "      <td>NaN</td>\n",
       "      <td>NaN</td>\n",
       "      <td>NaN</td>\n",
       "      <td>1</td>\n",
       "      <td>NaN</td>\n",
       "      <td>wikipedia Aaron Seltzer director</td>\n",
       "      <td>NaN</td>\n",
       "    </tr>\n",
       "    <tr>\n",
       "      <th>1</th>\n",
       "      <td>NaN</td>\n",
       "      <td>Abdellatif Kechiche</td>\n",
       "      <td>https://es.wikipedia.org/wiki/Abdellatif_Kechiche</td>\n",
       "      <td>1960.0</td>\n",
       "      <td>Túnez,  Túnez</td>\n",
       "      <td>NaN</td>\n",
       "      <td>NaN</td>\n",
       "      <td>NaN</td>\n",
       "      <td>NaN</td>\n",
       "      <td>0</td>\n",
       "      <td>NaN</td>\n",
       "      <td>wikipedia Abdellatif Kechiche director</td>\n",
       "      <td>\\n17 de diciembre de 1960 (58 años)Túnez,  Túnez</td>\n",
       "    </tr>\n",
       "    <tr>\n",
       "      <th>2</th>\n",
       "      <td>NaN</td>\n",
       "      <td>Adam McKay</td>\n",
       "      <td>https://es.wikipedia.org/wiki/Adam_McKay</td>\n",
       "      <td>1968.0</td>\n",
       "      <td>Filadelfia, Pensilvania,Estados Unidos</td>\n",
       "      <td>NaN</td>\n",
       "      <td>NaN</td>\n",
       "      <td>NaN</td>\n",
       "      <td>NaN</td>\n",
       "      <td>1</td>\n",
       "      <td>NaN</td>\n",
       "      <td>wikipedia Adam McKay director</td>\n",
       "      <td>\\n17 de abril de 1968 (50 años)Filadelfia, Pensilvania,Estados Unidos</td>\n",
       "    </tr>\n",
       "  </tbody>\n",
       "</table>\n",
       "</div>"
      ],
      "text/plain": [
       "   photoimage            actorname  \\\n",
       "0 NaN          Aaron Seltzer         \n",
       "1 NaN          Abdellatif Kechiche   \n",
       "2 NaN          Adam McKay            \n",
       "\n",
       "                                                       actorwiki  dateofbirth  \\\n",
       "0  https://es.wikipedia.org/wiki/Jason_Friedberg_y_Aaron_Seltzer NaN            \n",
       "1  https://es.wikipedia.org/wiki/Abdellatif_Kechiche              1960.0        \n",
       "2  https://es.wikipedia.org/wiki/Adam_McKay                       1968.0        \n",
       "\n",
       "                             placeofbirth  minibio  trivia  race  gender  \\\n",
       "0  NaN                                    NaN      NaN     NaN   NaN       \n",
       "1  Túnez,  Túnez                          NaN      NaN     NaN   NaN       \n",
       "2  Filadelfia, Pensilvania,Estados Unidos NaN      NaN     NaN   NaN       \n",
       "\n",
       "   Domestic  bio_url                                 keyword  \\\n",
       "0  1        NaN       wikipedia Aaron Seltzer director         \n",
       "1  0        NaN       wikipedia Abdellatif Kechiche director   \n",
       "2  1        NaN       wikipedia Adam McKay director            \n",
       "\n",
       "                                                               birth_all  \n",
       "0  NaN                                                                    \n",
       "1  \\n17 de diciembre de 1960 (58 años)Túnez,  Túnez                       \n",
       "2  \\n17 de abril de 1968 (50 años)Filadelfia, Pensilvania,Estados Unidos  "
      ]
     },
     "execution_count": 16,
     "metadata": {},
     "output_type": "execute_result"
    }
   ],
   "source": [
    "director_table_wiki_found_es = pd.read_csv('director_table_wiki_found_es.csv')\n",
    "director_table_wiki_found_es = director_table_wiki_found_es[['photoimage', 'actorname', 'actorwiki', 'dateofbirth', \n",
    "           'placeofbirth', 'minibio', 'trivia', 'race', 'gender', 'Domestic', \n",
    "           'bio_url', 'keyword', 'birth_all']]\n",
    "director_table_wiki_found_es.head(3)"
   ]
  },
  {
   "cell_type": "markdown",
   "metadata": {},
   "source": [
    "## Fill blanks in bio_url_total_gender csv file by wikipedia information"
   ]
  },
  {
   "cell_type": "code",
   "execution_count": 78,
   "metadata": {},
   "outputs": [
    {
     "data": {
      "text/html": [
       "<div>\n",
       "<style scoped>\n",
       "    .dataframe tbody tr th:only-of-type {\n",
       "        vertical-align: middle;\n",
       "    }\n",
       "\n",
       "    .dataframe tbody tr th {\n",
       "        vertical-align: top;\n",
       "    }\n",
       "\n",
       "    .dataframe thead th {\n",
       "        text-align: right;\n",
       "    }\n",
       "</style>\n",
       "<table border=\"1\" class=\"dataframe\">\n",
       "  <thead>\n",
       "    <tr style=\"text-align: right;\">\n",
       "      <th></th>\n",
       "      <th>photoimage</th>\n",
       "      <th>actorname</th>\n",
       "      <th>actorimdb</th>\n",
       "      <th>dateofbirth</th>\n",
       "      <th>placeofbirth</th>\n",
       "      <th>minibio</th>\n",
       "      <th>trivia</th>\n",
       "      <th>race</th>\n",
       "      <th>gender</th>\n",
       "      <th>Domestic</th>\n",
       "      <th>bio_url</th>\n",
       "      <th>tell_gender_fromText</th>\n",
       "      <th>gender2</th>\n",
       "      <th>gender_majority</th>\n",
       "    </tr>\n",
       "  </thead>\n",
       "  <tbody>\n",
       "    <tr>\n",
       "      <th>0</th>\n",
       "      <td>NaN</td>\n",
       "      <td>Aanand Rai</td>\n",
       "      <td>http://www.imdb.com/name/nm2399862/</td>\n",
       "      <td></td>\n",
       "      <td></td>\n",
       "      <td>Aanand L. Rai is a Hindi film director and pro...</td>\n",
       "      <td></td>\n",
       "      <td>NaN</td>\n",
       "      <td>male</td>\n",
       "      <td>0</td>\n",
       "      <td>https://www.imdb.com/name/nm2399862/bio?ref_=n...</td>\n",
       "      <td>1</td>\n",
       "      <td>male</td>\n",
       "      <td>male</td>\n",
       "    </tr>\n",
       "  </tbody>\n",
       "</table>\n",
       "</div>"
      ],
      "text/plain": [
       "   photoimage   actorname                            actorimdb dateofbirth  \\\n",
       "0         NaN  Aanand Rai  http://www.imdb.com/name/nm2399862/               \n",
       "\n",
       "  placeofbirth                                            minibio trivia  \\\n",
       "0               Aanand L. Rai is a Hindi film director and pro...          \n",
       "\n",
       "   race gender  Domestic                                            bio_url  \\\n",
       "0   NaN   male         0  https://www.imdb.com/name/nm2399862/bio?ref_=n...   \n",
       "\n",
       "   tell_gender_fromText gender2 gender_majority  \n",
       "0                     1    male            male  "
      ]
     },
     "execution_count": 78,
     "metadata": {},
     "output_type": "execute_result"
    }
   ],
   "source": [
    "bio_url_total_gender = pd.read_csv(\"bio_url_total_gender.csv\")\n",
    "bio_url_total_gender.head(1)"
   ]
  },
  {
   "cell_type": "code",
   "execution_count": 85,
   "metadata": {},
   "outputs": [
    {
     "name": "stdout",
     "output_type": "stream",
     "text": [
      "date not filled length:  75\n",
      "date wrong filled length:  335\n"
     ]
    }
   ],
   "source": [
    "# filter all the columns that does not contain numbers in dateofbirth\n",
    "date_null_name = bio_url_total_gender[bio_url_total_gender['dateofbirth'].isnull()].actorname.tolist()\n",
    "print('date not filled length: ', len(date_null_name))\n",
    "notNull = bio_url_total_gender[bio_url_total_gender['dateofbirth'].notnull()]\n",
    "date_wrong_name = notNull[~notNull['dateofbirth'].str.contains('1')].actorname.tolist()\n",
    "print('date wrong filled length: ', len(date_wrong_name))\n",
    "date_need_fill = set(date_null_name + date_wrong_name)"
   ]
  },
  {
   "cell_type": "code",
   "execution_count": 113,
   "metadata": {},
   "outputs": [],
   "source": [
    "def find_birthInfo(set_, name):\n",
    "    birth_year = np.nan\n",
    "    birth_place = np.nan\n",
    "    temp_frame = set_[set_['actorname'].isin([name])].reset_index(drop=True)\n",
    "    if len(temp_frame) > 0:\n",
    "        birth_year = temp_frame['dateofbirth'][0]\n",
    "        birth_place = temp_frame['placeofbirth'][0]\n",
    "    return birth_year, birth_place"
   ]
  },
  {
   "cell_type": "code",
   "execution_count": 114,
   "metadata": {},
   "outputs": [],
   "source": [
    "for name in date_need_fill:\n",
    "    # find its row index\n",
    "    index = bio_url_total_gender[(bio_url_total_gender.actorname == name)].index.tolist()[0]\n",
    "    \n",
    "    en_birth_year, en_birth_place = find_birthInfo(director_table_wiki_found_en, name)\n",
    "    es_birth_year, es_birth_place = find_birthInfo(director_table_wiki_found_es, name)\n",
    "    # update birth date info\n",
    "    if en_birth_year != np.nan:\n",
    "        bio_url_total_gender['dateofbirth'][index] = en_birth_year\n",
    "    else:\n",
    "        bio_url_total_gender['dateofbirth'][index] = es_birth_year\n",
    "    # update birth place info\n",
    "    if en_birth_place != np.nan:\n",
    "        bio_url_total_gender['placeofbirth'][index] = en_birth_place\n",
    "    else:\n",
    "        bio_url_total_gender['placeofbirth'][index] = es_birth_place"
   ]
  },
  {
   "cell_type": "code",
   "execution_count": 121,
   "metadata": {},
   "outputs": [
    {
     "name": "stdout",
     "output_type": "stream",
     "text": [
      "place not filled length:  277\n",
      "place wrong filled length:  35\n"
     ]
    }
   ],
   "source": [
    "# check the blank place of birth information again\n",
    "place_null_name = bio_url_total_gender[bio_url_total_gender['placeofbirth'].isnull()].actorname.tolist()\n",
    "print('place not filled length: ', len(place_null_name))\n",
    "notNull = bio_url_total_gender[bio_url_total_gender['placeofbirth'].notnull()]\n",
    "place_wrong_name = notNull[~notNull['placeofbirth'].str.contains('[a-zA-Z]')].actorname.tolist()\n",
    "print('place wrong filled length: ', len(place_wrong_name))\n",
    "place_need_fill = set(place_null_name + place_wrong_name)"
   ]
  },
  {
   "cell_type": "code",
   "execution_count": 122,
   "metadata": {},
   "outputs": [],
   "source": [
    "for name in place_need_fill:\n",
    "    # find its row index\n",
    "    index = bio_url_total_gender[(bio_url_total_gender.actorname == name)].index.tolist()[0]\n",
    "    en_birth_year, en_birth_place = find_birthInfo(director_table_wiki_found_en, name)\n",
    "    es_birth_year, es_birth_place = find_birthInfo(director_table_wiki_found_es, name)\n",
    "    # update birth place info\n",
    "    if en_birth_place != np.nan:\n",
    "        bio_url_total_gender['placeofbirth'][index] = en_birth_place\n",
    "    else:\n",
    "        bio_url_total_gender['placeofbirth'][index] = es_birth_place"
   ]
  },
  {
   "cell_type": "code",
   "execution_count": 123,
   "metadata": {},
   "outputs": [],
   "source": [
    "bio_url_total_gender.to_csv(\"bio_url_total_gender.csv\")"
   ]
  },
  {
   "cell_type": "code",
   "execution_count": 6,
   "metadata": {},
   "outputs": [
    {
     "data": {
      "text/html": [
       "<div>\n",
       "<style scoped>\n",
       "    .dataframe tbody tr th:only-of-type {\n",
       "        vertical-align: middle;\n",
       "    }\n",
       "\n",
       "    .dataframe tbody tr th {\n",
       "        vertical-align: top;\n",
       "    }\n",
       "\n",
       "    .dataframe thead th {\n",
       "        text-align: right;\n",
       "    }\n",
       "</style>\n",
       "<table border=\"1\" class=\"dataframe\">\n",
       "  <thead>\n",
       "    <tr style=\"text-align: right;\">\n",
       "      <th></th>\n",
       "      <th>photoimage</th>\n",
       "      <th>actorname</th>\n",
       "      <th>actorimdb</th>\n",
       "      <th>dateofbirth</th>\n",
       "      <th>placeofbirth</th>\n",
       "      <th>minibio</th>\n",
       "      <th>trivia</th>\n",
       "      <th>race</th>\n",
       "      <th>gender</th>\n",
       "      <th>Domestic</th>\n",
       "      <th>bio_url</th>\n",
       "      <th>tell_gender_fromText</th>\n",
       "      <th>gender2</th>\n",
       "      <th>gender_majority</th>\n",
       "    </tr>\n",
       "  </thead>\n",
       "  <tbody>\n",
       "    <tr>\n",
       "      <th>0</th>\n",
       "      <td>NaN</td>\n",
       "      <td>Aanand Rai</td>\n",
       "      <td>http://www.imdb.com/name/nm2399862/</td>\n",
       "      <td>1971.0</td>\n",
       "      <td>Delhi</td>\n",
       "      <td>Aanand L. Rai is a Hindi film director and pro...</td>\n",
       "      <td></td>\n",
       "      <td>NaN</td>\n",
       "      <td>male</td>\n",
       "      <td>0</td>\n",
       "      <td>https://www.imdb.com/name/nm2399862/bio?ref_=n...</td>\n",
       "      <td>1</td>\n",
       "      <td>male</td>\n",
       "      <td>male</td>\n",
       "    </tr>\n",
       "    <tr>\n",
       "      <th>1</th>\n",
       "      <td>NaN</td>\n",
       "      <td>Aaron Schneider</td>\n",
       "      <td>http://www.imdb.com/name/nm0773689/</td>\n",
       "      <td>NaN</td>\n",
       "      <td>Mossville, Illinois</td>\n",
       "      <td>Aaron Schneider is known for his work onTwo So...</td>\n",
       "      <td>Member of the American Society of Cinematograp...</td>\n",
       "      <td>NaN</td>\n",
       "      <td>male</td>\n",
       "      <td>1</td>\n",
       "      <td>https://www.imdb.com/name/nm0773689/bio?ref_=n...</td>\n",
       "      <td>1</td>\n",
       "      <td>male</td>\n",
       "      <td>male</td>\n",
       "    </tr>\n",
       "  </tbody>\n",
       "</table>\n",
       "</div>"
      ],
      "text/plain": [
       "   photoimage        actorname                            actorimdb  \\\n",
       "0         NaN       Aanand Rai  http://www.imdb.com/name/nm2399862/   \n",
       "1         NaN  Aaron Schneider  http://www.imdb.com/name/nm0773689/   \n",
       "\n",
       "  dateofbirth         placeofbirth  \\\n",
       "0      1971.0                Delhi   \n",
       "1         NaN  Mossville, Illinois   \n",
       "\n",
       "                                             minibio  \\\n",
       "0  Aanand L. Rai is a Hindi film director and pro...   \n",
       "1  Aaron Schneider is known for his work onTwo So...   \n",
       "\n",
       "                                              trivia  race gender  Domestic  \\\n",
       "0                                                      NaN   male         0   \n",
       "1  Member of the American Society of Cinematograp...   NaN   male         1   \n",
       "\n",
       "                                             bio_url  tell_gender_fromText  \\\n",
       "0  https://www.imdb.com/name/nm2399862/bio?ref_=n...                     1   \n",
       "1  https://www.imdb.com/name/nm0773689/bio?ref_=n...                     1   \n",
       "\n",
       "  gender2 gender_majority  \n",
       "0    male            male  \n",
       "1    male            male  "
      ]
     },
     "execution_count": 6,
     "metadata": {},
     "output_type": "execute_result"
    }
   ],
   "source": [
    "bio_url_total_gender = pd.read_csv('bio_url_total_gender.csv')\n",
    "bio_url_total_gender = bio_url_total_gender[['photoimage', 'actorname', 'actorimdb', 'dateofbirth', \n",
    "                                             'placeofbirth', 'minibio', 'trivia', 'race', 'gender', 'Domestic', \n",
    "                                             'bio_url', 'tell_gender_fromText', 'gender2', 'gender_majority']]\n",
    "bio_url_total_gender.head(2)"
   ]
  },
  {
   "cell_type": "markdown",
   "metadata": {},
   "source": [
    "# Image Collection from IMDb first\n",
    "- collect their images to code their demographic background, possibly from IMDB by collecting data on observations that has a value of 1 on column 'Domestic' (1170 out of 1437). "
   ]
  },
  {
   "cell_type": "code",
   "execution_count": 130,
   "metadata": {},
   "outputs": [
    {
     "name": "stdout",
     "output_type": "stream",
     "text": [
      "length of domestic directors:  1170\n"
     ]
    }
   ],
   "source": [
    "print(\"length of domestic directors: \", len(bio_url_total_gender[bio_url_total_gender['Domestic'] == 1]))"
   ]
  },
  {
   "cell_type": "code",
   "execution_count": 131,
   "metadata": {},
   "outputs": [],
   "source": [
    "bio_url_total_domestic = bio_url_total_gender[bio_url_total_gender['Domestic'] == 1].reset_index(drop=True)\n",
    "bio_url_total_not_domestic = pd.concat([bio_url_total_gender, bio_url_total_domestic]).drop_duplicates(keep=False).reset_index(drop=True)"
   ]
  },
  {
   "cell_type": "code",
   "execution_count": 132,
   "metadata": {},
   "outputs": [
    {
     "name": "stdout",
     "output_type": "stream",
     "text": [
      "1170\n",
      "267\n"
     ]
    }
   ],
   "source": [
    "print(len(bio_url_total_domestic))\n",
    "print(len(bio_url_total_not_domestic))"
   ]
  },
  {
   "cell_type": "code",
   "execution_count": 134,
   "metadata": {},
   "outputs": [
    {
     "data": {
      "text/html": [
       "<div>\n",
       "<style scoped>\n",
       "    .dataframe tbody tr th:only-of-type {\n",
       "        vertical-align: middle;\n",
       "    }\n",
       "\n",
       "    .dataframe tbody tr th {\n",
       "        vertical-align: top;\n",
       "    }\n",
       "\n",
       "    .dataframe thead th {\n",
       "        text-align: right;\n",
       "    }\n",
       "</style>\n",
       "<table border=\"1\" class=\"dataframe\">\n",
       "  <thead>\n",
       "    <tr style=\"text-align: right;\">\n",
       "      <th></th>\n",
       "      <th>photoimage</th>\n",
       "      <th>actorname</th>\n",
       "      <th>actorimdb</th>\n",
       "      <th>dateofbirth</th>\n",
       "      <th>placeofbirth</th>\n",
       "      <th>minibio</th>\n",
       "      <th>trivia</th>\n",
       "      <th>race</th>\n",
       "      <th>gender</th>\n",
       "      <th>Domestic</th>\n",
       "      <th>bio_url</th>\n",
       "      <th>tell_gender_fromText</th>\n",
       "      <th>gender2</th>\n",
       "      <th>gender_majority</th>\n",
       "    </tr>\n",
       "  </thead>\n",
       "  <tbody>\n",
       "    <tr>\n",
       "      <th>0</th>\n",
       "      <td>NaN</td>\n",
       "      <td>Aaron Schneider</td>\n",
       "      <td>http://www.imdb.com/name/nm0773689/</td>\n",
       "      <td>NaN</td>\n",
       "      <td>Mossville, Illinois</td>\n",
       "      <td>Aaron Schneider is known for his work onTwo So...</td>\n",
       "      <td>Member of the American Society of Cinematograp...</td>\n",
       "      <td>NaN</td>\n",
       "      <td>male</td>\n",
       "      <td>1</td>\n",
       "      <td>https://www.imdb.com/name/nm0773689/bio?ref_=n...</td>\n",
       "      <td>1</td>\n",
       "      <td>male</td>\n",
       "      <td>male</td>\n",
       "    </tr>\n",
       "  </tbody>\n",
       "</table>\n",
       "</div>"
      ],
      "text/plain": [
       "   photoimage        actorname                            actorimdb  \\\n",
       "0         NaN  Aaron Schneider  http://www.imdb.com/name/nm0773689/   \n",
       "\n",
       "  dateofbirth         placeofbirth  \\\n",
       "0         NaN  Mossville, Illinois   \n",
       "\n",
       "                                             minibio  \\\n",
       "0  Aaron Schneider is known for his work onTwo So...   \n",
       "\n",
       "                                              trivia  race gender  Domestic  \\\n",
       "0  Member of the American Society of Cinematograp...   NaN   male         1   \n",
       "\n",
       "                                             bio_url  tell_gender_fromText  \\\n",
       "0  https://www.imdb.com/name/nm0773689/bio?ref_=n...                     1   \n",
       "\n",
       "  gender2 gender_majority  \n",
       "0    male            male  "
      ]
     },
     "execution_count": 134,
     "metadata": {},
     "output_type": "execute_result"
    }
   ],
   "source": [
    "bio_url_total_domestic.head(1)"
   ]
  },
  {
   "cell_type": "code",
   "execution_count": 151,
   "metadata": {},
   "outputs": [],
   "source": [
    "def domestic_image_src(address):\n",
    "    # scrap the whole information\n",
    "    response = requests.get(address)\n",
    "    soup = BeautifulSoup(response.text, \"html.parser\")\n",
    "    # find name-poster image's src if available to list\n",
    "    img = soup.find_all('img', {'id': \"name-poster\"})\n",
    "    if len(img) == 0:\n",
    "        # no available image to use\n",
    "        result = np.nan\n",
    "    else:\n",
    "        # default the first one\n",
    "        result = img[0].get('src')\n",
    "    return result"
   ]
  },
  {
   "cell_type": "code",
   "execution_count": null,
   "metadata": {},
   "outputs": [],
   "source": [
    "# fill in the image_src column\n",
    "bio_url_total_domestic['image_src'] = np.nan\n",
    "for i in range(len(bio_url_total_domestic)):\n",
    "    bio_url_total_domestic['image_src'][i] = domestic_image_src(bio_url_total_domestic['actorimdb'][i])\n",
    "    if i%100 == 0:\n",
    "        print(i)"
   ]
  },
  {
   "cell_type": "code",
   "execution_count": 153,
   "metadata": {},
   "outputs": [],
   "source": [
    "bio_url_total_domestic.to_csv('bio_url_total_domestic.csv', index=False)"
   ]
  },
  {
   "cell_type": "code",
   "execution_count": 3,
   "metadata": {},
   "outputs": [
    {
     "data": {
      "text/html": [
       "<div>\n",
       "<style scoped>\n",
       "    .dataframe tbody tr th:only-of-type {\n",
       "        vertical-align: middle;\n",
       "    }\n",
       "\n",
       "    .dataframe tbody tr th {\n",
       "        vertical-align: top;\n",
       "    }\n",
       "\n",
       "    .dataframe thead th {\n",
       "        text-align: right;\n",
       "    }\n",
       "</style>\n",
       "<table border=\"1\" class=\"dataframe\">\n",
       "  <thead>\n",
       "    <tr style=\"text-align: right;\">\n",
       "      <th></th>\n",
       "      <th>photoimage</th>\n",
       "      <th>actorname</th>\n",
       "      <th>actorimdb</th>\n",
       "      <th>dateofbirth</th>\n",
       "      <th>placeofbirth</th>\n",
       "      <th>minibio</th>\n",
       "      <th>trivia</th>\n",
       "      <th>race</th>\n",
       "      <th>gender</th>\n",
       "      <th>Domestic</th>\n",
       "      <th>bio_url</th>\n",
       "      <th>tell_gender_fromText</th>\n",
       "      <th>gender2</th>\n",
       "      <th>gender_majority</th>\n",
       "      <th>image_src</th>\n",
       "    </tr>\n",
       "  </thead>\n",
       "  <tbody>\n",
       "    <tr>\n",
       "      <th>0</th>\n",
       "      <td>NaN</td>\n",
       "      <td>Aaron Schneider</td>\n",
       "      <td>http://www.imdb.com/name/nm0773689/</td>\n",
       "      <td>NaN</td>\n",
       "      <td>Mossville, Illinois</td>\n",
       "      <td>Aaron Schneider is known for his work onTwo So...</td>\n",
       "      <td>Member of the American Society of Cinematograp...</td>\n",
       "      <td>NaN</td>\n",
       "      <td>male</td>\n",
       "      <td>1</td>\n",
       "      <td>https://www.imdb.com/name/nm0773689/bio?ref_=n...</td>\n",
       "      <td>1</td>\n",
       "      <td>male</td>\n",
       "      <td>male</td>\n",
       "      <td>https://m.media-amazon.com/images/M/MV5BMTY4ND...</td>\n",
       "    </tr>\n",
       "  </tbody>\n",
       "</table>\n",
       "</div>"
      ],
      "text/plain": [
       "   photoimage        actorname                            actorimdb  \\\n",
       "0         NaN  Aaron Schneider  http://www.imdb.com/name/nm0773689/   \n",
       "\n",
       "  dateofbirth         placeofbirth  \\\n",
       "0         NaN  Mossville, Illinois   \n",
       "\n",
       "                                             minibio  \\\n",
       "0  Aaron Schneider is known for his work onTwo So...   \n",
       "\n",
       "                                              trivia  race gender  Domestic  \\\n",
       "0  Member of the American Society of Cinematograp...   NaN   male         1   \n",
       "\n",
       "                                             bio_url  tell_gender_fromText  \\\n",
       "0  https://www.imdb.com/name/nm0773689/bio?ref_=n...                     1   \n",
       "\n",
       "  gender2 gender_majority                                          image_src  \n",
       "0    male            male  https://m.media-amazon.com/images/M/MV5BMTY4ND...  "
      ]
     },
     "execution_count": 3,
     "metadata": {},
     "output_type": "execute_result"
    }
   ],
   "source": [
    "bio_url_total_domestic = pd.read_csv('bio_url_total_domestic.csv')\n",
    "bio_url_total_domestic = bio_url_total_domestic[['photoimage', 'actorname', 'actorimdb', 'dateofbirth', \n",
    "                                                 'placeofbirth', 'minibio', 'trivia', 'race', 'gender', \n",
    "                                                 'Domestic', 'bio_url', 'tell_gender_fromText', \n",
    "                                                 'gender2', 'gender_majority', 'image_src']]\n",
    "bio_url_total_domestic.head(1)"
   ]
  },
  {
   "cell_type": "code",
   "execution_count": 4,
   "metadata": {},
   "outputs": [
    {
     "data": {
      "text/plain": [
       "('sample1.png', <http.client.HTTPMessage at 0x28565679a58>)"
      ]
     },
     "execution_count": 4,
     "metadata": {},
     "output_type": "execute_result"
    }
   ],
   "source": [
    "# download specific image\n",
    "urllib.request.urlretrieve(bio_url_total_domestic['image_src'][0], 'sample1.png')"
   ]
  },
  {
   "cell_type": "code",
   "execution_count": 14,
   "metadata": {},
   "outputs": [
    {
     "data": {
      "text/html": [
       "<table border=\"1\" class=\"dataframe\">\n",
       "  <thead>\n",
       "    <tr style=\"text-align: right;\">\n",
       "      <th></th>\n",
       "      <th>Code</th>\n",
       "      <th>Name</th>\n",
       "      <th>Price</th>\n",
       "      <th>Net</th>\n",
       "      <th>Sales</th>\n",
       "      <th>image</th>\n",
       "    </tr>\n",
       "  </thead>\n",
       "  <tbody>\n",
       "    <tr>\n",
       "      <th>0</th>\n",
       "      <td>A231</td>\n",
       "      <td>Book</td>\n",
       "      <td>5</td>\n",
       "      <td>3</td>\n",
       "      <td>150</td>\n",
       "      <td><img src=\"https://vignette.wikia.nocookie.net/2007scape/images/7/7a/Mage%27s_book_detail.png/revision/latest?cb=20180310083825\" width=\"60\" ></td>\n",
       "    </tr>\n",
       "    <tr>\n",
       "      <th>1</th>\n",
       "      <td>M441</td>\n",
       "      <td>Magic Staff</td>\n",
       "      <td>10</td>\n",
       "      <td>7</td>\n",
       "      <td>200</td>\n",
       "      <td><img src=\"https://i.pinimg.com/originals/d9/5c/9b/d95c9ba809aa9dd4cb519a225af40f2b.png\" width=\"60\" ></td>\n",
       "    </tr>\n",
       "  </tbody>\n",
       "</table>"
      ],
      "text/plain": [
       "<IPython.core.display.HTML object>"
      ]
     },
     "execution_count": 14,
     "metadata": {},
     "output_type": "execute_result"
    }
   ],
   "source": [
    "# one shown example\n",
    "df = pd.DataFrame([['A231', 'Book', 5, 3, 150], \n",
    "                   ['M441', 'Magic Staff', 10, 7, 200]],\n",
    "                   columns = ['Code', 'Name', 'Price', 'Net', 'Sales'])\n",
    "# your images\n",
    "images = ['https://vignette.wikia.nocookie.net/2007scape/images/7/7a/Mage%27s_book_detail.png/revision/latest?cb=20180310083825',\n",
    "          'https://i.pinimg.com/originals/d9/5c/9b/d95c9ba809aa9dd4cb519a225af40f2b.png'] \n",
    "df['image'] = images\n",
    "# convert your links to html tags \n",
    "def path_to_image_html(path):\n",
    "    return '<img src=\"'+ path + '\" width=\"60\" >'\n",
    "pd.set_option('display.max_colwidth', -1)\n",
    "HTML(df.to_html(escape=False ,formatters=dict(image=path_to_image_html)))"
   ]
  },
  {
   "cell_type": "code",
   "execution_count": 6,
   "metadata": {},
   "outputs": [
    {
     "name": "stdout",
     "output_type": "stream",
     "text": [
      "No image on IMDb:  144\n"
     ]
    }
   ],
   "source": [
    "print('No image on IMDb: ', len(bio_url_total_domestic[bio_url_total_domestic['image_src'].isnull()]))"
   ]
  },
  {
   "cell_type": "code",
   "execution_count": 5,
   "metadata": {},
   "outputs": [
    {
     "data": {
      "text/html": [
       "<img src=\"https://m.media-amazon.com/images/M/MV5BMTY4NDA1ODE1OF5BMl5BanBnXkFtZTYwMDU2NTA1._V1_UX214_CR0,0,214,317_AL_.jpg\" width=\"100\"/>"
      ],
      "text/plain": [
       "<IPython.core.display.Image object>"
      ]
     },
     "execution_count": 5,
     "metadata": {},
     "output_type": "execute_result"
    }
   ],
   "source": [
    "from IPython.display import Image\n",
    "Image(url= bio_url_total_domestic['image_src'][0],width=100)"
   ]
  },
  {
   "cell_type": "code",
   "execution_count": null,
   "metadata": {},
   "outputs": [],
   "source": [
    "# convert your links to html tags \n",
    "def path_to_image_html(path):\n",
    "    return '<img src=\"'+ path + '\" width=\"60\" >'\n",
    "pd.set_option('display.max_colwidth', -1)\n",
    "\n",
    "bio_url_total_domestic['photoimage'] = bio_url_total_domestic['image_src']\n",
    "HTML(bio_url_total_domestic.to_html(escape=False ,formatters=dict(image=path_to_image_html)))"
   ]
  },
  {
   "cell_type": "markdown",
   "metadata": {},
   "source": [
    "## Fill images src again by wikipedia"
   ]
  },
  {
   "cell_type": "code",
   "execution_count": null,
   "metadata": {},
   "outputs": [],
   "source": [
    "domestic_blank = bio_url_total_domestic[bio_url_total_domestic['image_src'].isnull()].reset_index(drop=True)\n",
    "# fill in those blank url address by wikipedia personal page\n",
    "domestic_blank['url_wiki'] = np.nan\n",
    "for i in range(len(domestic_blank)):\n",
    "    name = domestic_blank['actorname'][i]\n",
    "    url = np.nan\n",
    "    temp_frame_es = director_table_wiki_found_es[director_table_wiki_found_es['actorname'].isin([name])].reset_index(drop=True)\n",
    "    temp_frame_en = director_table_wiki_found_en[director_table_wiki_found_en['actorname'].isin([name])].reset_index(drop=True)\n",
    "    if len(temp_frame_es) > 0:\n",
    "        url = temp_frame_es['actorwiki'][0]\n",
    "    elif len(temp_frame_en) > 0:\n",
    "        url = temp_frame_en['actorwiki'][0]\n",
    "    domestic_blank['url_wiki'][i] = url\n",
    "    if i%20 == 0:\n",
    "        print(i)"
   ]
  },
  {
   "cell_type": "code",
   "execution_count": 27,
   "metadata": {},
   "outputs": [
    {
     "name": "stdout",
     "output_type": "stream",
     "text": [
      "number that can be found in wiki:  107\n"
     ]
    }
   ],
   "source": [
    "print('number that can be found in wiki: ', len(domestic_blank[domestic_blank['url_wiki'].notnull()]))"
   ]
  },
  {
   "cell_type": "code",
   "execution_count": 86,
   "metadata": {},
   "outputs": [
    {
     "name": "stdout",
     "output_type": "stream",
     "text": [
      "https://upload.wikimedia.org/wikipedia/commons/b/b7/Cheryl_Dunye_2.jpg\n"
     ]
    }
   ],
   "source": [
    "# input the index number of the domestic_blank\n",
    "# return possible wikipedia image download address if available\n",
    "def scrap_wiki_image(num):\n",
    "    url = domestic_blank['url_wiki'][num]\n",
    "    result_src = np.nan\n",
    "    # not blank wikipedia - possible available to fill\n",
    "    if str(url) != 'nan':\n",
    "        response = requests.get(url)\n",
    "        soup = BeautifulSoup(response.text, \"html.parser\")\n",
    "        # find the correct table \n",
    "        table=soup.find('table', {'class', 'infobox biography vcard'})\n",
    "        # check blank table\n",
    "        if table != None:\n",
    "            # scrap some row information\n",
    "            rows_temp = []\n",
    "            for row in table.find_all('tr'):\n",
    "                # extract images and find downloading images url address\n",
    "                rows_temp.extend([val['href'] for val in row.find_all('a', {'class': 'image'})])\n",
    "            # available pic to use\n",
    "            if len(rows_temp) > 0:\n",
    "                result_src = 'https://en.wikipedia.org'+rows_temp[0]\n",
    "                # enter the picture website to scrap download address\n",
    "                response = requests.get(result_src)\n",
    "                soup = BeautifulSoup(response.text, \"html.parser\")\n",
    "                # automatically scrap the first bio picture\n",
    "                # check interval image existance\n",
    "                if soup.find_all('a',{'class': \"internal\"}) != []:\n",
    "                    result_src = 'https:'+soup.find_all('a',{'class': \"internal\"})[0]['href']\n",
    "                # urllib.request.urlretrieve(result_src, 'sample.png') to download the image\n",
    "    return result_src\n",
    "# one example\n",
    "av = scrap_wiki_image(8)\n",
    "print(av)"
   ]
  },
  {
   "cell_type": "code",
   "execution_count": 87,
   "metadata": {},
   "outputs": [
    {
     "name": "stdout",
     "output_type": "stream",
     "text": [
      "0\n",
      "20\n",
      "40\n",
      "60\n",
      "80\n",
      "100\n",
      "120\n",
      "140\n",
      "No image on both:  126\n"
     ]
    }
   ],
   "source": [
    "# call domestic_blank's order to fill bio_url_total_domestic\n",
    "for i in range(len(domestic_blank)):\n",
    "    name = domestic_blank['actorname'][i]\n",
    "    result = scrap_wiki_image(i)\n",
    "    index = bio_url_total_domestic[(bio_url_total_domestic.actorname == name)].index.tolist()[0]\n",
    "    bio_url_total_domestic['image_src'][index] = result\n",
    "    if i%20 == 0:\n",
    "        print(i)\n",
    "print('No image on both: ', len(bio_url_total_domestic[bio_url_total_domestic['image_src'].isnull()]))"
   ]
  },
  {
   "cell_type": "code",
   "execution_count": 92,
   "metadata": {},
   "outputs": [],
   "source": [
    "bio_url_total_domestic['photoimage'] = np.nan\n",
    "bio_url_total_domestic.to_csv('bio_url_total_domestic.csv', index=False)"
   ]
  },
  {
   "cell_type": "code",
   "execution_count": 13,
   "metadata": {},
   "outputs": [],
   "source": [
    "bio_url_total_domestic = pd.read_csv('bio_url_total_domestic.csv')\n",
    "bio_url_total_domestic = bio_url_total_domestic[['photoimage', 'actorname', 'actorimdb', 'dateofbirth', \n",
    "                                                 'placeofbirth', 'minibio', 'trivia', 'race', 'gender', \n",
    "                                                 'Domestic', 'bio_url', 'tell_gender_fromText', \n",
    "                                                 'gender2', 'gender_majority', 'image_src']]\n",
    "# domestic_dic set up and fill\n",
    "domestic_dic = {}\n",
    "for i in range(len(bio_url_total_domestic)):\n",
    "    domestic_dic[bio_url_total_domestic['actorname'][i]] = bio_url_total_domestic['image_src'][i]"
   ]
  },
  {
   "cell_type": "code",
   "execution_count": 14,
   "metadata": {},
   "outputs": [],
   "source": [
    "# merge bio_url_total_gender and bio_url_total_domestic together\n",
    "bio_url_total_gender['image_src'] = np.nan\n",
    "for i in range(len(bio_url_total_gender)):\n",
    "    if bio_url_total_gender['actorname'][i] in domestic_dic:\n",
    "        bio_url_total_gender['image_src'][i] = domestic_dic[bio_url_total_gender['actorname'][i]]\n",
    "    else:\n",
    "        bio_url_total_gender['image_src'][i] = np.nan"
   ]
  },
  {
   "cell_type": "code",
   "execution_count": 19,
   "metadata": {},
   "outputs": [],
   "source": [
    "# add some other columns to fill in later\n",
    "bio_url_total_gender['Image_url'] = np.nan\n",
    "bio_url_total_gender['Birth_url'] = np.nan\n",
    "bio_url_total_gender['Bio_url'] = np.nan\n",
    "bio_url_total_gender['Image_manual'] = np.nan\n",
    "bio_url_total_gender['Birth_manual'] = np.nan\n",
    "bio_url_total_gender['Bio_manual'] = np.nan"
   ]
  },
  {
   "cell_type": "code",
   "execution_count": 20,
   "metadata": {},
   "outputs": [],
   "source": [
    "bio_url_total_gender.to_csv('bio_url_mergeAll.csv', index=False)"
   ]
  },
  {
   "cell_type": "code",
   "execution_count": 21,
   "metadata": {},
   "outputs": [
    {
     "data": {
      "text/html": [
       "<div>\n",
       "<style scoped>\n",
       "    .dataframe tbody tr th:only-of-type {\n",
       "        vertical-align: middle;\n",
       "    }\n",
       "\n",
       "    .dataframe tbody tr th {\n",
       "        vertical-align: top;\n",
       "    }\n",
       "\n",
       "    .dataframe thead th {\n",
       "        text-align: right;\n",
       "    }\n",
       "</style>\n",
       "<table border=\"1\" class=\"dataframe\">\n",
       "  <thead>\n",
       "    <tr style=\"text-align: right;\">\n",
       "      <th></th>\n",
       "      <th>photoimage</th>\n",
       "      <th>actorname</th>\n",
       "      <th>actorimdb</th>\n",
       "      <th>dateofbirth</th>\n",
       "      <th>placeofbirth</th>\n",
       "      <th>minibio</th>\n",
       "      <th>trivia</th>\n",
       "      <th>race</th>\n",
       "      <th>gender</th>\n",
       "      <th>Domestic</th>\n",
       "      <th>...</th>\n",
       "      <th>tell_gender_fromText</th>\n",
       "      <th>gender2</th>\n",
       "      <th>gender_majority</th>\n",
       "      <th>image_src</th>\n",
       "      <th>Image_url</th>\n",
       "      <th>Birth_url</th>\n",
       "      <th>Bio_url</th>\n",
       "      <th>Image_manual</th>\n",
       "      <th>Birth_manual</th>\n",
       "      <th>Bio_manual</th>\n",
       "    </tr>\n",
       "  </thead>\n",
       "  <tbody>\n",
       "    <tr>\n",
       "      <th>0</th>\n",
       "      <td>NaN</td>\n",
       "      <td>Aanand Rai</td>\n",
       "      <td>http://www.imdb.com/name/nm2399862/</td>\n",
       "      <td>1971.0</td>\n",
       "      <td>Delhi</td>\n",
       "      <td>Aanand L. Rai is a Hindi film director and pro...</td>\n",
       "      <td></td>\n",
       "      <td>NaN</td>\n",
       "      <td>male</td>\n",
       "      <td>0</td>\n",
       "      <td>...</td>\n",
       "      <td>1</td>\n",
       "      <td>male</td>\n",
       "      <td>male</td>\n",
       "      <td>NaN</td>\n",
       "      <td>NaN</td>\n",
       "      <td>NaN</td>\n",
       "      <td>NaN</td>\n",
       "      <td>NaN</td>\n",
       "      <td>NaN</td>\n",
       "      <td>NaN</td>\n",
       "    </tr>\n",
       "    <tr>\n",
       "      <th>1</th>\n",
       "      <td>NaN</td>\n",
       "      <td>Aaron Schneider</td>\n",
       "      <td>http://www.imdb.com/name/nm0773689/</td>\n",
       "      <td>NaN</td>\n",
       "      <td>Mossville, Illinois</td>\n",
       "      <td>Aaron Schneider is known for his work onTwo So...</td>\n",
       "      <td>Member of the American Society of Cinematograp...</td>\n",
       "      <td>NaN</td>\n",
       "      <td>male</td>\n",
       "      <td>1</td>\n",
       "      <td>...</td>\n",
       "      <td>1</td>\n",
       "      <td>male</td>\n",
       "      <td>male</td>\n",
       "      <td>https://m.media-amazon.com/images/M/MV5BMTY4ND...</td>\n",
       "      <td>NaN</td>\n",
       "      <td>NaN</td>\n",
       "      <td>NaN</td>\n",
       "      <td>NaN</td>\n",
       "      <td>NaN</td>\n",
       "      <td>NaN</td>\n",
       "    </tr>\n",
       "    <tr>\n",
       "      <th>2</th>\n",
       "      <td>NaN</td>\n",
       "      <td>Abbas Alibhai Burmawalla</td>\n",
       "      <td>http://www.imdb.com/name/nm0122216/</td>\n",
       "      <td>NaN</td>\n",
       "      <td>NaN</td>\n",
       "      <td>Abbas Alibhai Burmawalla is a director and pro...</td>\n",
       "      <td>The name Abbas-Mastan is used for films co-dir...</td>\n",
       "      <td>NaN</td>\n",
       "      <td>male</td>\n",
       "      <td>0</td>\n",
       "      <td>...</td>\n",
       "      <td>1</td>\n",
       "      <td>male</td>\n",
       "      <td>male</td>\n",
       "      <td>NaN</td>\n",
       "      <td>NaN</td>\n",
       "      <td>NaN</td>\n",
       "      <td>NaN</td>\n",
       "      <td>NaN</td>\n",
       "      <td>NaN</td>\n",
       "      <td>NaN</td>\n",
       "    </tr>\n",
       "  </tbody>\n",
       "</table>\n",
       "<p>3 rows × 21 columns</p>\n",
       "</div>"
      ],
      "text/plain": [
       "   photoimage                 actorname                            actorimdb  \\\n",
       "0         NaN                Aanand Rai  http://www.imdb.com/name/nm2399862/   \n",
       "1         NaN           Aaron Schneider  http://www.imdb.com/name/nm0773689/   \n",
       "2         NaN  Abbas Alibhai Burmawalla  http://www.imdb.com/name/nm0122216/   \n",
       "\n",
       "  dateofbirth         placeofbirth  \\\n",
       "0      1971.0                Delhi   \n",
       "1         NaN  Mossville, Illinois   \n",
       "2         NaN                  NaN   \n",
       "\n",
       "                                             minibio  \\\n",
       "0  Aanand L. Rai is a Hindi film director and pro...   \n",
       "1  Aaron Schneider is known for his work onTwo So...   \n",
       "2  Abbas Alibhai Burmawalla is a director and pro...   \n",
       "\n",
       "                                              trivia  race gender  Domestic  \\\n",
       "0                                                      NaN   male         0   \n",
       "1  Member of the American Society of Cinematograp...   NaN   male         1   \n",
       "2  The name Abbas-Mastan is used for films co-dir...   NaN   male         0   \n",
       "\n",
       "   ... tell_gender_fromText  gender2 gender_majority  \\\n",
       "0  ...                    1     male            male   \n",
       "1  ...                    1     male            male   \n",
       "2  ...                    1     male            male   \n",
       "\n",
       "                                           image_src Image_url  Birth_url  \\\n",
       "0                                                NaN       NaN        NaN   \n",
       "1  https://m.media-amazon.com/images/M/MV5BMTY4ND...       NaN        NaN   \n",
       "2                                                NaN       NaN        NaN   \n",
       "\n",
       "   Bio_url  Image_manual  Birth_manual  Bio_manual  \n",
       "0      NaN           NaN           NaN         NaN  \n",
       "1      NaN           NaN           NaN         NaN  \n",
       "2      NaN           NaN           NaN         NaN  \n",
       "\n",
       "[3 rows x 21 columns]"
      ]
     },
     "execution_count": 21,
     "metadata": {},
     "output_type": "execute_result"
    }
   ],
   "source": [
    "bio_url_total_gender.head(3)"
   ]
  },
  {
   "cell_type": "raw",
   "metadata": {},
   "source": [
    "Sub InsertPic()\n",
    "\n",
    "Dim productImageUrl As String\n",
    "Dim productImage As Picture     'Declare image picture object\n",
    "Dim productImageUrlRng As Range 'Declare range object to contain image URL\n",
    "Dim productImageRng As Range    'Location image will be placed\n",
    "'Delete any existing pictures:\n",
    "\n",
    "Set productImageUrlRng = Range(\"O2:O1167\")  'Cell containing image URL\n",
    "\n",
    "For Each cell In productImageUrlRng\n",
    "    If cell.Value <> \"\" Then\n",
    "        cell.Offset(0, -14).Select\n",
    "        Set productImage = ActiveSheet.Pictures.Insert(cell)\n",
    "        On Error Resume Next\n",
    "        With productImage\n",
    "            .ShapeRange.LockAspectRatio = msoTrue\n",
    "            .Width = 60\n",
    "            .Height = 60\n",
    "            \n",
    "            .Top = Rows(cell.Offset(0, -14).Row).Top\n",
    "            .Left = Columns(cell.Offset(0, -14).Column).Left\n",
    "        End With\n",
    "    End If\n",
    "    \n",
    "Next cell\n",
    "\n",
    "End Sub"
   ]
  },
  {
   "cell_type": "markdown",
   "metadata": {},
   "source": [
    "0. Download images onto an excel masterfile, using the links provided.\n",
    "1. Manual Filling of Bio, Birth, and Image Info that are left blank after webscraping.\n",
    "After M: Mengyao Until M: Jusang\n",
    "2. Fill in the info, Fill in the link that leads to the info, and fill in the dummy indicator that it has been collected manually.\n",
    "3. Fill in gender afterwards, using image downloaded on excel.\n",
    "4. Fill in race afterwards, using image, birthplace, and race/ethnicity description guideline."
   ]
  },
  {
   "cell_type": "code",
   "execution_count": 42,
   "metadata": {},
   "outputs": [
    {
     "name": "stdout",
     "output_type": "stream",
     "text": [
      "Collecting google-search-results\n",
      "  Downloading https://files.pythonhosted.org/packages/f2/fa/f3de021d374269688dcc4d959e92e2e19902a5b5e9ff679322407d0bc4df/google_search_results-1.4.0.tar.gz\n",
      "Requirement already satisfied: requests in c:\\users\\tk\\appdata\\roaming\\python\\python36\\site-packages (from google-search-results)\n",
      "Requirement already satisfied: idna<2.8,>=2.5 in c:\\users\\tk\\appdata\\roaming\\python\\python36\\site-packages (from requests->google-search-results)\n",
      "Requirement already satisfied: urllib3<1.24,>=1.21.1 in c:\\users\\tk\\appdata\\roaming\\python\\python36\\site-packages (from requests->google-search-results)\n",
      "Requirement already satisfied: chardet<3.1.0,>=3.0.2 in c:\\users\\tk\\appdata\\roaming\\python\\python36\\site-packages (from requests->google-search-results)\n",
      "Requirement already satisfied: certifi>=2017.4.17 in c:\\users\\tk\\appdata\\roaming\\python\\python36\\site-packages (from requests->google-search-results)\n",
      "Building wheels for collected packages: google-search-results\n",
      "  Running setup.py bdist_wheel for google-search-results: started\n",
      "  Running setup.py bdist_wheel for google-search-results: finished with status 'done'\n",
      "  Stored in directory: C:\\Users\\TK\\AppData\\Local\\pip\\Cache\\wheels\\0a\\6d\\64\\e8891e5e0ed7177486da4af7794e1adf60accaf92ba4936246\n",
      "Successfully built google-search-results\n",
      "Installing collected packages: google-search-results\n",
      "Successfully installed google-search-results-1.4.0\n"
     ]
    },
    {
     "name": "stderr",
     "output_type": "stream",
     "text": [
      "You are using pip version 9.0.3, however version 19.0.3 is available.\n",
      "You should consider upgrading via the 'python -m pip install --upgrade pip' command.\n"
     ]
    }
   ],
   "source": [
    "!pip install google-search-results"
   ]
  },
  {
   "cell_type": "code",
   "execution_count": 78,
   "metadata": {},
   "outputs": [],
   "source": [
    "from google_search_results import GoogleSearchResults\n",
    "params = {\n",
    "    \"q\" : \"Aanand Rai\",\n",
    "    \"location\" : 'United States',\n",
    "    \"hl\" : \"en\",\n",
    "    \"gl\" : \"us\",\n",
    "    \"google_domain\" : \"google.com\",\n",
    "}\n",
    "query = GoogleSearchResults(params)\n",
    "dictionary_results = query.get_dictionary()\n",
    "# return 'search_metadata', 'search_parameters','search_information','knowledge_graph'"
   ]
  },
  {
   "cell_type": "code",
   "execution_count": 75,
   "metadata": {},
   "outputs": [
    {
     "data": {
      "text/plain": [
       "{'error': 'You need a valid account to continue using our API. Sign up on SerpApi.com website.'}"
      ]
     },
     "execution_count": 75,
     "metadata": {},
     "output_type": "execute_result"
    }
   ],
   "source": [
    "dictionary_results"
   ]
  },
  {
   "cell_type": "code",
   "execution_count": null,
   "metadata": {},
   "outputs": [],
   "source": []
  },
  {
   "cell_type": "code",
   "execution_count": null,
   "metadata": {},
   "outputs": [],
   "source": []
  },
  {
   "cell_type": "markdown",
   "metadata": {},
   "source": [
    "## Deduce the race information from previous columns"
   ]
  },
  {
   "cell_type": "code",
   "execution_count": null,
   "metadata": {},
   "outputs": [],
   "source": []
  },
  {
   "cell_type": "code",
   "execution_count": null,
   "metadata": {},
   "outputs": [],
   "source": []
  },
  {
   "cell_type": "markdown",
   "metadata": {},
   "source": [
    "## Clean the data frame eventually"
   ]
  },
  {
   "cell_type": "code",
   "execution_count": null,
   "metadata": {},
   "outputs": [],
   "source": []
  },
  {
   "cell_type": "code",
   "execution_count": null,
   "metadata": {},
   "outputs": [],
   "source": []
  },
  {
   "cell_type": "code",
   "execution_count": null,
   "metadata": {},
   "outputs": [],
   "source": []
  }
 ],
 "metadata": {
  "kernelspec": {
   "display_name": "Python 3",
   "language": "python",
   "name": "python3"
  },
  "language_info": {
   "codemirror_mode": {
    "name": "ipython",
    "version": 3
   },
   "file_extension": ".py",
   "mimetype": "text/x-python",
   "name": "python",
   "nbconvert_exporter": "python",
   "pygments_lexer": "ipython3",
   "version": "3.6.5"
  }
 },
 "nbformat": 4,
 "nbformat_minor": 2
}
